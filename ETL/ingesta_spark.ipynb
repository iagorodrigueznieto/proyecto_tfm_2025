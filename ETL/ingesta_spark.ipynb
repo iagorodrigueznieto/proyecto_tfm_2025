{
  "cells": [
    {
      "cell_type": "markdown",
      "metadata": {
        "id": "UltQhUoITERO"
      },
      "source": [
        "# Imports y funciones"
      ]
    },
    {
      "cell_type": "code",
      "execution_count": 1,
      "metadata": {
        "id": "W_jnU4SCpqzA"
      },
      "outputs": [],
      "source": [
        "# # 📦 Importar librerías necesarias\n",
        "import pyspark\n",
        "import pandas as pd\n",
        "import numpy as np\n",
        "import seaborn as sns\n",
        "from pyspark.sql import SparkSession\n",
        "from pyspark.sql.functions import *\n",
        "from pyspark.sql.types import *\n",
        "\n",
        "import os"
      ]
    },
    {
      "cell_type": "code",
      "execution_count": 2,
      "metadata": {
        "colab": {
          "base_uri": "https://localhost:8080/"
        },
        "id": "AagrShNx7LVV",
        "outputId": "7d759d8e-1703-48fc-cc4e-4a6cd0c23d42"
      },
      "outputs": [
        {
          "name": "stderr",
          "output_type": "stream",
          "text": [
            "/home/santi/miniconda3/envs/futbol/lib/python3.13/site-packages/tqdm/auto.py:21: TqdmWarning: IProgress not found. Please update jupyter and ipywidgets. See https://ipywidgets.readthedocs.io/en/stable/user_install.html\n",
            "  from .autonotebook import tqdm as notebook_tqdm\n"
          ]
        },
        {
          "name": "stdout",
          "output_type": "stream",
          "text": [
            "Path to dataset files: /home/santi/.cache/kagglehub/datasets/davidcariboo/player-scores/versions/602\n",
            "/home/santi/.cache/kagglehub/datasets/davidcariboo/player-scores/versions/602/appearances.csv\n",
            "/home/santi/.cache/kagglehub/datasets/davidcariboo/player-scores/versions/602/game_lineups.csv\n",
            "/home/santi/.cache/kagglehub/datasets/davidcariboo/player-scores/versions/602/transfers.csv\n",
            "/home/santi/.cache/kagglehub/datasets/davidcariboo/player-scores/versions/602/players.csv\n",
            "/home/santi/.cache/kagglehub/datasets/davidcariboo/player-scores/versions/602/player_valuations.csv\n",
            "/home/santi/.cache/kagglehub/datasets/davidcariboo/player-scores/versions/602/competitions.csv\n",
            "/home/santi/.cache/kagglehub/datasets/davidcariboo/player-scores/versions/602/games.csv\n",
            "/home/santi/.cache/kagglehub/datasets/davidcariboo/player-scores/versions/602/game_events.csv\n",
            "/home/santi/.cache/kagglehub/datasets/davidcariboo/player-scores/versions/602/club_games.csv\n",
            "/home/santi/.cache/kagglehub/datasets/davidcariboo/player-scores/versions/602/clubs.csv\n"
          ]
        }
      ],
      "source": [
        "import kagglehub\n",
        "\n",
        "# Descargar el dataset desde Kaggle Hub\n",
        "path = kagglehub.dataset_download(\"davidcariboo/player-scores\")\n",
        "\n",
        "print(\"Path to dataset files:\", path)\n",
        "\n",
        "# Lista los archivos descargados\n",
        "for root, _, files in os.walk(path):\n",
        "    for file in files:\n",
        "        print(os.path.join(root, file))"
      ]
    },
    {
      "cell_type": "code",
      "execution_count": 3,
      "metadata": {
        "id": "32AZqecHSln9"
      },
      "outputs": [
        {
          "name": "stderr",
          "output_type": "stream",
          "text": [
            "WARNING: Using incubator modules: jdk.incubator.vector\n",
            "Using Spark's default log4j profile: org/apache/spark/log4j2-defaults.properties\n",
            "25/06/11 21:29:02 WARN Utils: Your hostname, santiagocp, resolves to a loopback address: 127.0.1.1; using 10.255.255.254 instead (on interface lo)\n",
            "25/06/11 21:29:02 WARN Utils: Set SPARK_LOCAL_IP if you need to bind to another address\n",
            "Using Spark's default log4j profile: org/apache/spark/log4j2-defaults.properties\n",
            "Setting default log level to \"WARN\".\n",
            "To adjust logging level use sc.setLogLevel(newLevel). For SparkR, use setLogLevel(newLevel).\n",
            "25/06/11 21:29:02 WARN NativeCodeLoader: Unable to load native-hadoop library for your platform... using builtin-java classes where applicable\n"
          ]
        }
      ],
      "source": [
        "spark = SparkSession.builder.appName('tfm_2025').config(\"spark.driver.memory\", \"8g\").config(\"spark.executor.memory\", \"8g\").getOrCreate()"
      ]
    },
    {
      "cell_type": "markdown",
      "metadata": {
        "id": "1LmEvdpCO7cd"
      },
      "source": [
        "Funciones utiles para la limpieza"
      ]
    },
    {
      "cell_type": "code",
      "execution_count": 4,
      "metadata": {
        "id": "beIlh6ExO568"
      },
      "outputs": [],
      "source": [
        "def mostrar_sumario(df):\n",
        "    \"\"\"\n",
        "    Muestra un sumario del dataset.\n",
        "    Explicacion:\n",
        "        - Usa la funcion 'describe()' para mostrar las siguientes metricas:\n",
        "            - El conteo de filas por columna.\n",
        "            - La media de los valores de las columnas numericas (muestra NULL si no es numerica).\n",
        "            - La desviacion  estandar de los valores de las columnas numericas (muestra NULL si no es numerica).\n",
        "            - El valor minimo de cada columna.\n",
        "            - El valor maximo de cada columna.\n",
        "        - Devuelve el DataFrame con las metricas.\n",
        "    Args:\n",
        "        df: DataFrame a analizar\n",
        "\n",
        "    Returns:\n",
        "        Un DataFrame con las métricas del dataset.\n",
        "    \"\"\"\n",
        "    return df.summary()"
      ]
    },
    {
      "cell_type": "code",
      "execution_count": 5,
      "metadata": {
        "id": "An_7Wu2LPClN"
      },
      "outputs": [],
      "source": [
        "def contar_nulos_por_columna(df):\n",
        "    \"\"\"\n",
        "    Calcula el numero de valores nulos en cada columna del DataFrame.\n",
        "    Explicacion:\n",
        "        - Itera sobre cada columna del DataFrame utilizando 'df.columns'.\n",
        "        - Usa la funcion 'expr()' que utiliza una expresion SQL para contar los valores nulos en cada columna.\n",
        "        - Asigna '1' si el valor es nulo y '0' si no es nulo.\n",
        "        - Renombra la columna con '.alias(c)' para mantener el nombre original.\n",
        "        - Selecciona y aplica la transformacion en todas las columnas dinamicamente con 'df.select([...])'.\n",
        "        - Devuelve el DataFrame con los conteos de nulos.\n",
        "    Args:\n",
        "        df: DataFrame a analizar\n",
        "\n",
        "    Returns:\n",
        "        Un DataFrame con las mismas columnas del DataFrame original\n",
        "        y una fila que indica el numero de valores nulos por columna.\n",
        "    \"\"\"\n",
        "    # df.select([count(when(col(c).isNull() | isnan(c), c)).alias(c) for c in df.columns]).show()\n",
        "    return df.select([expr(f\"sum(case when {c} is null then 1 else 0 end)\").alias(c) for c in df.columns])"
      ]
    },
    {
      "cell_type": "code",
      "execution_count": 6,
      "metadata": {
        "id": "AlqhQwBA33Bm"
      },
      "outputs": [],
      "source": [
        "def duplicados_por_columna(df, columna):\n",
        "    \"\"\"\n",
        "    Muestra los valores duplicados y su conteo para una columna especifica.\n",
        "    Explicacion:\n",
        "        - Agrupa el DataFrame por la columna especificada.\n",
        "        - Cuenta el numero de ocurrencias de cada valor en la columna.\n",
        "        - Filtra para ver los valores que aparecen mas de una vez.\n",
        "    Args:\n",
        "        df: DataFrame a analizar.\n",
        "        columna: Nombre de la columna a verificar.\n",
        "    \"\"\"\n",
        "    df.groupBy(columna).count().filter(col(\"count\") > 1).show(truncate=False)"
      ]
    },
    {
      "cell_type": "markdown",
      "metadata": {
        "id": "iBBPwepYmb75"
      },
      "source": [
        "# Archivo \"clubs.csv\""
      ]
    },
    {
      "cell_type": "code",
      "execution_count": 7,
      "metadata": {
        "id": "3MFHw0HMS0q1"
      },
      "outputs": [
        {
          "name": "stdout",
          "output_type": "stream",
          "text": [
            "+-------+-----------------+--------------------+-----------------------+------------------+----------+-----------+-----------------+---------------------+---------------------+--------------------+-------------+-------------------+----------+-----------+--------------------+--------------------+\n",
            "|club_id|        club_code|                name|domestic_competition_id|total_market_value|squad_size|average_age|foreigners_number|foreigners_percentage|national_team_players|        stadium_name|stadium_seats|net_transfer_record|coach_name|last_season|            filename|                 url|\n",
            "+-------+-----------------+--------------------+-----------------------+------------------+----------+-----------+-----------------+---------------------+---------------------+--------------------+-------------+-------------------+----------+-----------+--------------------+--------------------+\n",
            "|    105|  sv-darmstadt-98|     SV Darmstadt 98|                     L1|              NULL|        27|       25.6|               13|                 48.1|                    1|Merck-Stadion am ...|        17810|            +€3.05m|      NULL|       2023|../data/raw/trans...|https://www.trans...|\n",
            "|  11127|ural-ekaterinburg|  Ural Yekaterinburg|                    RU1|              NULL|        30|       26.5|               11|                 36.7|                    3| Yekaterinburg Arena|        23000|             +€880k|      NULL|       2023|../data/raw/trans...|https://www.trans...|\n",
            "|    114|besiktas-istanbul|Beşiktaş Jimnasti...|                    TR1|              NULL|        30|       26.6|               15|                 50.0|                    8|       Beşiktaş Park|        42445|           €-25.26m|      NULL|       2024|../data/raw/trans...|https://www.trans...|\n",
            "|     12|           as-rom|Associazione Spor...|                    IT1|              NULL|        26|       26.3|               18|                 69.2|                   17|    Olimpico di Roma|        70634|           €-76.90m|      NULL|       2024|../data/raw/trans...|https://www.trans...|\n",
            "|    148|tottenham-hotspur|Tottenham Hotspur...|                    GB1|              NULL|        30|       25.5|               21|                 70.0|                   18|Tottenham Hotspur...|        62850|          €-120.05m|      NULL|       2024|../data/raw/trans...|https://www.trans...|\n",
            "|    157|         kaa-gent|Koninklijke Atlet...|                    BE1|              NULL|        30|       25.2|               19|                 63.3|                    5|  Planet Group Arena|        20185|            +€5.63m|      NULL|       2024|../data/raw/trans...|https://www.trans...|\n",
            "|   1894|      hvidovre-if|         Hvidovre IF|                    DK1|              NULL|        25|       26.4|                3|                 12.0|                    2|PRO VENTILATION A...|        12000|             +€225k|      NULL|       2023|../data/raw/trans...|https://www.trans...|\n",
            "|    190|    fc-kopenhagen|Football Club Køb...|                    DK1|              NULL|        28|       26.1|               19|                 67.9|                    9|              Parken|        38065|           +€35.06m|      NULL|       2024|../data/raw/trans...|https://www.trans...|\n",
            "|    192| roda-jc-kerkrade|    Roda JC Kerkrade|                    NL1|              NULL|        25|       24.0|                9|                 36.0|                    0|Parkstad Limburg ...|        19979|            +€1.30m|      NULL|       2017|../data/raw/trans...|https://www.trans...|\n",
            "|  19789| yeni-malatyaspor|    Yeni Malatyaspor|                    TR1|              NULL|        10|       22.9|                1|                 10.0|                    0|Yeni Malatya Stad...|        25745|             +€778k|      NULL|       2021|../data/raw/trans...|https://www.trans...|\n",
            "+-------+-----------------+--------------------+-----------------------+------------------+----------+-----------+-----------------+---------------------+---------------------+--------------------+-------------+-------------------+----------+-----------+--------------------+--------------------+\n",
            "only showing top 10 rows\n",
            "root\n",
            " |-- club_id: integer (nullable = true)\n",
            " |-- club_code: string (nullable = true)\n",
            " |-- name: string (nullable = true)\n",
            " |-- domestic_competition_id: string (nullable = true)\n",
            " |-- total_market_value: string (nullable = true)\n",
            " |-- squad_size: integer (nullable = true)\n",
            " |-- average_age: double (nullable = true)\n",
            " |-- foreigners_number: integer (nullable = true)\n",
            " |-- foreigners_percentage: double (nullable = true)\n",
            " |-- national_team_players: integer (nullable = true)\n",
            " |-- stadium_name: string (nullable = true)\n",
            " |-- stadium_seats: integer (nullable = true)\n",
            " |-- net_transfer_record: string (nullable = true)\n",
            " |-- coach_name: string (nullable = true)\n",
            " |-- last_season: integer (nullable = true)\n",
            " |-- filename: string (nullable = true)\n",
            " |-- url: string (nullable = true)\n",
            "\n"
          ]
        },
        {
          "data": {
            "text/plain": [
              "['club_id',\n",
              " 'club_code',\n",
              " 'name',\n",
              " 'domestic_competition_id',\n",
              " 'total_market_value',\n",
              " 'squad_size',\n",
              " 'average_age',\n",
              " 'foreigners_number',\n",
              " 'foreigners_percentage',\n",
              " 'national_team_players',\n",
              " 'stadium_name',\n",
              " 'stadium_seats',\n",
              " 'net_transfer_record',\n",
              " 'coach_name',\n",
              " 'last_season',\n",
              " 'filename',\n",
              " 'url']"
            ]
          },
          "execution_count": 7,
          "metadata": {},
          "output_type": "execute_result"
        }
      ],
      "source": [
        "# Cargar el csv\n",
        "df_clubs = spark.read.csv(path+\"/clubs.csv\", header=True, inferSchema=True)\n",
        "\n",
        "# Ver las primeras filas\n",
        "df_clubs.show(10)\n",
        "df_clubs.printSchema()\n",
        "df_clubs.columns"
      ]
    },
    {
      "cell_type": "code",
      "execution_count": 8,
      "metadata": {
        "id": "i62dFf02UGBm"
      },
      "outputs": [
        {
          "name": "stderr",
          "output_type": "stream",
          "text": [
            "25/06/11 21:29:06 WARN SparkStringUtils: Truncated the string representation of a plan since it was too large. This behavior can be adjusted by setting 'spark.sql.debug.maxToStringFields'.\n",
            "[Stage 3:>                                                          (0 + 1) / 1]\r"
          ]
        },
        {
          "name": "stdout",
          "output_type": "stream",
          "text": [
            "+-------+------------------+--------------------+--------------------+-----------------------+------------------+------------------+------------------+------------------+---------------------+---------------------+--------------------+------------------+-------------------+----------+------------------+--------------------+--------------------+\n",
            "|summary|           club_id|           club_code|                name|domestic_competition_id|total_market_value|        squad_size|       average_age| foreigners_number|foreigners_percentage|national_team_players|        stadium_name|     stadium_seats|net_transfer_record|coach_name|       last_season|            filename|                 url|\n",
            "+-------+------------------+--------------------+--------------------+-----------------------+------------------+------------------+------------------+------------------+---------------------+---------------------+--------------------+------------------+-------------------+----------+------------------+--------------------+--------------------+\n",
            "|  count|               439|                 439|                 439|                    439|                 0|               439|               401|               439|                  390|                  439|                 439|               439|                439|         0|               439|                 439|                 439|\n",
            "|   mean| 6283.476082004556|                NULL|                NULL|                   NULL|              NULL|24.184510250569478|25.616458852867833|11.186788154897494|    46.58256410256409|    4.751708428246014|                NULL| 24204.09111617312|               NULL|      NULL|2021.5261958997721|                NULL|                NULL|\n",
            "| stddev|14588.760048798284|                NULL|                NULL|                   NULL|              NULL| 8.692364605919742|2.0594849911877686| 6.807644670652882|   20.274257199133096|      4.8966338775037|                NULL|17230.554383862418|               NULL|      NULL| 3.563977802805077|                NULL|                NULL|\n",
            "|    min|                 3|1-fc-heidenheim-1846|\"Футбольный клуб ...|                    BE1|              NULL|                 0|               0.0|                 0|                  2.4|                    0|\"Comunale Renzo B...|                 0|                +-0|      NULL|              2012|../data/raw/trans...|https://www.trans...|\n",
            "|    25%|               430|                NULL|                NULL|                   NULL|              NULL|                24|              24.6|                 6|                 30.8|                    1|                NULL|             10800|               NULL|      NULL|              2020|                NULL|                NULL|\n",
            "|    50%|              1158|                NULL|                NULL|                   NULL|              NULL|                26|              25.8|                12|                 48.0|                    3|                NULL|             20087|               NULL|      NULL|              2024|                NULL|                NULL|\n",
            "|    75%|              3592|                NULL|                NULL|                   NULL|              NULL|                29|              26.8|                16|                 62.5|                    7|                NULL|             32400|               NULL|      NULL|              2024|                NULL|                NULL|\n",
            "|    max|            110302|         zska-moskau|İstanbul Başakşeh...|                   UKR1|              NULL|                41|              29.9|                29|                100.0|                   22|Ümraniye Belediye...|             81365|           €-98.25m|      NULL|              2024|../data/raw/trans...|https://www.trans...|\n",
            "+-------+------------------+--------------------+--------------------+-----------------------+------------------+------------------+------------------+------------------+---------------------+---------------------+--------------------+------------------+-------------------+----------+------------------+--------------------+--------------------+\n",
            "\n"
          ]
        },
        {
          "name": "stderr",
          "output_type": "stream",
          "text": [
            "                                                                                \r"
          ]
        }
      ],
      "source": [
        "mostrar_sumario(df_clubs).show()"
      ]
    },
    {
      "cell_type": "code",
      "execution_count": 9,
      "metadata": {
        "id": "D8fK7zzrmb77"
      },
      "outputs": [
        {
          "name": "stdout",
          "output_type": "stream",
          "text": [
            "+-------+---------+----+-----------------------+------------------+----------+-----------+-----------------+---------------------+---------------------+------------+-------------+-------------------+----------+-----------+--------+---+\n",
            "|club_id|club_code|name|domestic_competition_id|total_market_value|squad_size|average_age|foreigners_number|foreigners_percentage|national_team_players|stadium_name|stadium_seats|net_transfer_record|coach_name|last_season|filename|url|\n",
            "+-------+---------+----+-----------------------+------------------+----------+-----------+-----------------+---------------------+---------------------+------------+-------------+-------------------+----------+-----------+--------+---+\n",
            "|      0|        0|   0|                      0|               439|         0|         38|                0|                   49|                    0|           0|            0|                  0|       439|          0|       0|  0|\n",
            "+-------+---------+----+-----------------------+------------------+----------+-----------+-----------------+---------------------+---------------------+------------+-------------+-------------------+----------+-----------+--------+---+\n",
            "\n"
          ]
        }
      ],
      "source": [
        "contar_nulos_por_columna(df_clubs).show()"
      ]
    },
    {
      "cell_type": "code",
      "execution_count": 10,
      "metadata": {
        "id": "UQjjXMQJ4LXi"
      },
      "outputs": [
        {
          "name": "stdout",
          "output_type": "stream",
          "text": [
            "+-------+-----+\n",
            "|club_id|count|\n",
            "+-------+-----+\n",
            "+-------+-----+\n",
            "\n"
          ]
        }
      ],
      "source": [
        "duplicados_por_columna(df_clubs, \"club_id\")"
      ]
    },
    {
      "cell_type": "code",
      "execution_count": 11,
      "metadata": {
        "id": "n_FpeFLlSoyC"
      },
      "outputs": [
        {
          "name": "stdout",
          "output_type": "stream",
          "text": [
            "Filas totales: 439\n",
            "Nulos en la columna 'total_market_value': 439\n"
          ]
        }
      ],
      "source": [
        "# Comparar numero de filas totales con numero de nulos en 'total_market_value'\n",
        "print(f\"Filas totales: {df_clubs.count()}\")\n",
        "print(f\"Nulos en la columna 'total_market_value': {contar_nulos_por_columna(df_clubs).select('total_market_value').first()[0]}\")"
      ]
    },
    {
      "cell_type": "code",
      "execution_count": 12,
      "metadata": {
        "id": "B9WVujkkUDms"
      },
      "outputs": [
        {
          "name": "stdout",
          "output_type": "stream",
          "text": [
            "+-------+-------------------+--------------------+-----------------------+----------+-----------+-----------------+---------------------+---------------------+--------------------+-------------+-------------------+----------+-----------+--------------------+--------------------+\n",
            "|club_id|          club_code|                name|domestic_competition_id|squad_size|average_age|foreigners_number|foreigners_percentage|national_team_players|        stadium_name|stadium_seats|net_transfer_record|coach_name|last_season|            filename|                 url|\n",
            "+-------+-------------------+--------------------+-----------------------+----------+-----------+-----------------+---------------------+---------------------+--------------------+-------------+-------------------+----------+-----------+--------------------+--------------------+\n",
            "|    105|    sv-darmstadt-98|     SV Darmstadt 98|                     L1|        27|       25.6|               13|                 48.1|                    1|Merck-Stadion am ...|        17810|            +€3.05m|      NULL|       2023|../data/raw/trans...|https://www.trans...|\n",
            "|  11127|  ural-ekaterinburg|  Ural Yekaterinburg|                    RU1|        30|       26.5|               11|                 36.7|                    3| Yekaterinburg Arena|        23000|             +€880k|      NULL|       2023|../data/raw/trans...|https://www.trans...|\n",
            "|    114|  besiktas-istanbul|Beşiktaş Jimnasti...|                    TR1|        30|       26.6|               15|                 50.0|                    8|       Beşiktaş Park|        42445|           €-25.26m|      NULL|       2024|../data/raw/trans...|https://www.trans...|\n",
            "|     12|             as-rom|Associazione Spor...|                    IT1|        26|       26.3|               18|                 69.2|                   17|    Olimpico di Roma|        70634|           €-76.90m|      NULL|       2024|../data/raw/trans...|https://www.trans...|\n",
            "|    148|  tottenham-hotspur|Tottenham Hotspur...|                    GB1|        30|       25.5|               21|                 70.0|                   18|Tottenham Hotspur...|        62850|          €-120.05m|      NULL|       2024|../data/raw/trans...|https://www.trans...|\n",
            "|    157|           kaa-gent|Koninklijke Atlet...|                    BE1|        30|       25.2|               19|                 63.3|                    5|  Planet Group Arena|        20185|            +€5.63m|      NULL|       2024|../data/raw/trans...|https://www.trans...|\n",
            "|   1894|        hvidovre-if|         Hvidovre IF|                    DK1|        25|       26.4|                3|                 12.0|                    2|PRO VENTILATION A...|        12000|             +€225k|      NULL|       2023|../data/raw/trans...|https://www.trans...|\n",
            "|    190|      fc-kopenhagen|Football Club Køb...|                    DK1|        28|       26.1|               19|                 67.9|                    9|              Parken|        38065|           +€35.06m|      NULL|       2024|../data/raw/trans...|https://www.trans...|\n",
            "|    192|   roda-jc-kerkrade|    Roda JC Kerkrade|                    NL1|        25|       24.0|                9|                 36.0|                    0|Parkstad Limburg ...|        19979|            +€1.30m|      NULL|       2017|../data/raw/trans...|https://www.trans...|\n",
            "|  19789|   yeni-malatyaspor|    Yeni Malatyaspor|                    TR1|        10|       22.9|                1|                 10.0|                    0|Yeni Malatya Stad...|        25745|             +€778k|      NULL|       2021|../data/raw/trans...|https://www.trans...|\n",
            "|   2079|          veria-nps|           Veria NPS|                    GR1|        29|       24.3|                4|                 13.8|                    0|Dimotiko Stadio V...|         6350|                +-0|      NULL|       2016|../data/raw/trans...|https://www.trans...|\n",
            "|  21957|       ao-platanias|        AO Platanias|                    GR1|         0|       NULL|                0|                 NULL|                    0|Dimotiko Gipedo P...|         3700|                +-0|      NULL|       2017|../data/raw/trans...|https://www.trans...|\n",
            "|   2414|         ac-horsens|          AC Horsens|                    DK1|        19|       25.1|                9|                 47.4|                    4|Nordstern Arena H...|        10400|                +-0|      NULL|       2022|../data/raw/trans...|https://www.trans...|\n",
            "|   2457|     belenenses-sad|               B SAD|                    PO1|        25|       24.2|               13|                 52.0|                    4|Estádio Nacional ...|        37593|            +€1.80m|      NULL|       2021|../data/raw/trans...|https://www.trans...|\n",
            "|   2578|    st-johnstone-fc|Saint Johnstone F...|                    SC1|        26|       26.2|               19|                 73.1|                    3|      McDiarmid Park|        10696|                +-0|      NULL|       2024|../data/raw/trans...|https://www.trans...|\n",
            "|    269|      holstein-kiel|Kieler Sportverei...|                     L1|        29|       26.3|               11|                 37.9|                    4|    Holstein-Stadion|        15034|            €-6.20m|      NULL|       2024|../data/raw/trans...|https://www.trans...|\n",
            "|   2727|oud-heverlee-leuven| Oud-Heverlee Leuven|                    BE1|        27|       24.9|               15|                 55.6|                    2|King Power at Den...|         9809|            +€7.80m|      NULL|       2024|../data/raw/trans...|https://www.trans...|\n",
            "|  28643|   waasland-beveren|          SK Beveren|                    BE1|        27|       26.8|               16|                 59.3|                    3|    Freethielstadion|        13290|             €-350k|      NULL|       2020|../data/raw/trans...|https://www.trans...|\n",
            "|   2990|  academica-coimbra|   Académica Coimbra|                    PO1|        26|       25.2|                6|                 23.1|                    0|Estádio Cidade de...|        29744|             +€150k|      NULL|       2015|../data/raw/trans...|https://www.trans...|\n",
            "|   3057|   standard-luttich|Royal Standard Cl...|                    BE1|        28|       24.1|               17|                 60.7|                    9|Maurice Dufrasne ...|        27221|           +€11.30m|      NULL|       2024|../data/raw/trans...|https://www.trans...|\n",
            "+-------+-------------------+--------------------+-----------------------+----------+-----------+-----------------+---------------------+---------------------+--------------------+-------------+-------------------+----------+-----------+--------------------+--------------------+\n",
            "only showing top 20 rows\n"
          ]
        }
      ],
      "source": [
        "# La columna 'total_market_value' esta completamente vacia, podemos eliminarla\n",
        "df_clubs = df_clubs.drop(\"total_market_value\")\n",
        "df_clubs.show()"
      ]
    },
    {
      "cell_type": "code",
      "execution_count": 13,
      "metadata": {
        "id": "ozXf2WfZmb79"
      },
      "outputs": [
        {
          "name": "stdout",
          "output_type": "stream",
          "text": [
            "+-------+--------------------+--------------------+-----------------------+----------+-----------+-----------------+---------------------+---------------------+--------------------+-------------+-------------------+----------+-----------+--------------------+--------------------+\n",
            "|club_id|           club_code|                name|domestic_competition_id|squad_size|average_age|foreigners_number|foreigners_percentage|national_team_players|        stadium_name|stadium_seats|net_transfer_record|coach_name|last_season|            filename|                 url|\n",
            "+-------+--------------------+--------------------+-----------------------+----------+-----------+-----------------+---------------------+---------------------+--------------------+-------------+-------------------+----------+-----------+--------------------+--------------------+\n",
            "|  21957|        ao-platanias|        AO Platanias|                    GR1|         0|       NULL|                0|                 NULL|                    0|Dimotiko Gipedo P...|         3700|                +-0|      NULL|       2017|../data/raw/trans...|https://www.trans...|\n",
            "|   6996|    goverla-uzhgorod|Goverla Uzhgorod ...|                   UKR1|         0|       NULL|                0|                 NULL|                    0|            Avangard|        10640|                +-0|      NULL|       2015|../data/raw/trans...|https://www.trans...|\n",
            "|   2477|        karpaty-lviv|Karpaty Lviv (-2021)|                   UKR1|         0|       NULL|                0|                 NULL|                    0|     Stadion Ukraina|        28051|                +-0|      NULL|       2019|../data/raw/trans...|https://www.trans...|\n",
            "|    566|        beerschot-ac|        Beerschot AC|                    BE1|         0|       NULL|                0|                 NULL|                    0|   Olympisch Stadion|        12771|                +-0|      NULL|       2012|../data/raw/trans...|https://www.trans...|\n",
            "|   1411|           raec-mons|  RAEC Mons (- 2015)|                    BE1|         0|       NULL|                0|                 NULL|                    0|Stade Charles Ton...|        12662|                +-0|      NULL|       2013|../data/raw/trans...|https://www.trans...|\n",
            "|  16239|     desna-chernigiv|     Desna Chernigiv|                   UKR1|         0|       NULL|                0|                 NULL|                    0|Stadion im. Yuriy...|        12060|                +-0|      NULL|       2021|../data/raw/trans...|https://www.trans...|\n",
            "|  28956|         ael-kalloni|         AEL Kalloni|                    GR1|         0|       NULL|                0|                 NULL|                    0|    Stadio Mytilinis|         4000|                +-0|      NULL|       2015|../data/raw/trans...|https://www.trans...|\n",
            "|  16247|  pfk-stal-kamyanske|PFK Stal Kamyansk...|                   UKR1|         0|       NULL|                0|                 NULL|                    0|              Obolon|         5100|                +-0|      NULL|       2017|../data/raw/trans...|https://www.trans...|\n",
            "|  20100|    fc-vestsjaelland|    FC Vestsjaelland|                    DK1|         0|       NULL|                0|                 NULL|                    0|        Harboe Arena|        10000|                +-0|      NULL|       2014|../data/raw/trans...|https://www.trans...|\n",
            "|   3691|           tom-tomsk|           Tom Tomsk|                    RU1|         0|       NULL|                0|                 NULL|                    0|                Trud|        10028|                +-0|      NULL|       2016|../data/raw/trans...|https://www.trans...|\n",
            "|    498|         ksc-lokeren|KSC Lokeren (- 2020)|                    BE1|         0|       NULL|                0|                 NULL|                    0|       Daknamstadion|        12000|                +-0|      NULL|       2018|../data/raw/trans...|https://www.trans...|\n",
            "|    524|       gaziantepspor|Gaziantepspor (- ...|                    TR1|         0|       NULL|                0|                 NULL|                    0|  Gaziantep Stadyumu|        33502|                +-0|      NULL|       2016|../data/raw/trans...|https://www.trans...|\n",
            "|    976|    cf-uniao-madeira|CF União Madeira ...|                    PO1|         0|       NULL|                0|                 NULL|                    0|Centro Desportivo...|         2500|                +-0|      NULL|       2015|../data/raw/trans...|https://www.trans...|\n",
            "|  11126|    mordovia-saransk|Mordovia Saransk ...|                    RU1|         0|       NULL|                0|                 NULL|                    0|      Mordovia Arena|        44442|                +-0|      NULL|       2015|../data/raw/trans...|https://www.trans...|\n",
            "|  12438|volga-nizhniy-nov...|Volga Nizhniy Nov...|                    RU1|         0|       NULL|                0|                 NULL|                    0|Zentralstadion Lo...|        17856|                +-0|      NULL|       2013|../data/raw/trans...|https://www.trans...|\n",
            "|   3336|     desportivo-aves|Desportivo Aves (...|                    PO1|         0|       NULL|                0|                 NULL|                    0| Estádio CD das Aves|         5441|                +-0|      NULL|       2019|../data/raw/trans...|https://www.trans...|\n",
            "|   6414|    metalist-kharkiv|Metalist Kharkiv ...|                   UKR1|         0|       NULL|                0|                 NULL|                    0|        OSK Metalist|        38685|                +-0|      NULL|       2015|../data/raw/trans...|https://www.trans...|\n",
            "|   6993|         fk-mariupol|         FK Mariupol|                   UKR1|         0|       NULL|                0|                 NULL|                    0|Stadion im. Volod...|        12680|             +€100k|      NULL|       2021|../data/raw/trans...|https://www.trans...|\n",
            "|    128|           ao-xanthi|           AO Xanthi|                    GR1|         0|       NULL|                0|                 NULL|                    0|        Xanthi Arena|         7361|                +-0|      NULL|       2019|../data/raw/trans...|https://www.trans...|\n",
            "|  29228|royal-excel-mouscron|Royal Excel Mousc...|                    BE1|         0|       NULL|                0|                 NULL|                    0|        Le Canonnier|        10830|              +€40k|      NULL|       2020|../data/raw/trans...|https://www.trans...|\n",
            "+-------+--------------------+--------------------+-----------------------+----------+-----------+-----------------+---------------------+---------------------+--------------------+-------------+-------------------+----------+-----------+--------------------+--------------------+\n",
            "only showing top 20 rows\n"
          ]
        }
      ],
      "source": [
        "# Ver nulos de la columna 'average_age'\n",
        "df_clubs.filter(col('average_age').isNull()).show()"
      ]
    },
    {
      "cell_type": "code",
      "execution_count": 14,
      "metadata": {
        "id": "9BcKFwW73Rn5"
      },
      "outputs": [
        {
          "name": "stdout",
          "output_type": "stream",
          "text": [
            "+-----------------------+-----------------+\n",
            "|domestic_competition_id|avg_age_by_league|\n",
            "+-----------------------+-----------------+\n",
            "|                     L1|             25.8|\n",
            "|                    RU1|             25.9|\n",
            "|                    TR1|             25.4|\n",
            "|                    IT1|             25.8|\n",
            "|                    GB1|             26.1|\n",
            "|                    BE1|             24.5|\n",
            "|                    DK1|             24.8|\n",
            "|                    DK1|             24.8|\n",
            "|                    NL1|             24.5|\n",
            "|                    TR1|             25.4|\n",
            "|                    GR1|             26.4|\n",
            "|                    GR1|             26.4|\n",
            "|                    DK1|             24.8|\n",
            "|                    PO1|             25.6|\n",
            "|                    SC1|             26.2|\n",
            "|                     L1|             25.8|\n",
            "|                    BE1|             24.5|\n",
            "|                    BE1|             24.5|\n",
            "|                    PO1|             25.6|\n",
            "|                    BE1|             24.5|\n",
            "+-----------------------+-----------------+\n",
            "only showing top 20 rows\n"
          ]
        }
      ],
      "source": [
        "# Calcular la media de 'average_age' por liga (excluyendo nulos) y redondear a 1 decimal\n",
        "avg_age_by_league_df = df_clubs.filter(col(\"average_age\").isNotNull()).groupBy(\"domestic_competition_id\").agg(round(avg(\"average_age\"), 1).alias(\"avg_age_by_league\"))\n",
        "\n",
        "# Unir la nueva columna al dataset\n",
        "df_clubs = df_clubs.join(avg_age_by_league_df, on=\"domestic_competition_id\", how=\"left_outer\")\n",
        "\n",
        "# Ver nueva columna\n",
        "df_clubs.select(\"domestic_competition_id\", \"avg_age_by_league\").show()"
      ]
    },
    {
      "cell_type": "code",
      "execution_count": 15,
      "metadata": {
        "id": "iPrjHQT-ypPr"
      },
      "outputs": [
        {
          "name": "stdout",
          "output_type": "stream",
          "text": [
            "+-----------------------+-------+---------+----+----------+-----------+-----------------+---------------------+---------------------+------------+-------------+-------------------+----------+-----------+--------+---+\n",
            "|domestic_competition_id|club_id|club_code|name|squad_size|average_age|foreigners_number|foreigners_percentage|national_team_players|stadium_name|stadium_seats|net_transfer_record|coach_name|last_season|filename|url|\n",
            "+-----------------------+-------+---------+----+----------+-----------+-----------------+---------------------+---------------------+------------+-------------+-------------------+----------+-----------+--------+---+\n",
            "+-----------------------+-------+---------+----+----------+-----------+-----------------+---------------------+---------------------+------------+-------------+-------------------+----------+-----------+--------+---+\n",
            "\n"
          ]
        }
      ],
      "source": [
        "# Sustituir nulos por 'avg_age_by_league'\n",
        "df_clubs = df_clubs.withColumn(\n",
        "    \"average_age\",\n",
        "    when(col(\"average_age\").isNull(), col(\"avg_age_by_league\")).otherwise(col(\"average_age\"))\n",
        ")\n",
        "\n",
        "# Eliminar columna de media por liga\n",
        "df_clubs = df_clubs.drop(\"avg_age_by_league\")\n",
        "\n",
        "# Comprobar de nuevo los nulos despues de la sustitucion\n",
        "df_clubs.filter(col('average_age').isNull()).show()"
      ]
    },
    {
      "cell_type": "code",
      "execution_count": 16,
      "metadata": {
        "id": "GhPDBmFF2cxW"
      },
      "outputs": [
        {
          "name": "stdout",
          "output_type": "stream",
          "text": [
            "+-----------------------+-------+------------------+--------------------+----------+-----------+-----------------+---------------------+---------------------+--------------------+-------------+-------------------+----------+-----------+--------------------+--------------------+\n",
            "|domestic_competition_id|club_id|         club_code|                name|squad_size|average_age|foreigners_number|foreigners_percentage|national_team_players|        stadium_name|stadium_seats|net_transfer_record|coach_name|last_season|            filename|                 url|\n",
            "+-----------------------+-------+------------------+--------------------+----------+-----------+-----------------+---------------------+---------------------+--------------------+-------------+-------------------+----------+-----------+--------------------+--------------------+\n",
            "|                    GR1|  21957|      ao-platanias|        AO Platanias|         0|       26.4|                0|                 NULL|                    0|Dimotiko Gipedo P...|         3700|                +-0|      NULL|       2017|../data/raw/trans...|https://www.trans...|\n",
            "|                   UKR1|  60551|       sk-dnipro-1|         SC Dnipro-1|         0|        0.0|                0|                 NULL|                    0|        Dnipro-Arena|        31003|            +€6.90m|      NULL|       2023|../data/raw/trans...|https://www.trans...|\n",
            "|                   UKR1|   6996|  goverla-uzhgorod|Goverla Uzhgorod ...|         0|       23.8|                0|                 NULL|                    0|            Avangard|        10640|                +-0|      NULL|       2015|../data/raw/trans...|https://www.trans...|\n",
            "|                   UKR1|   2477|      karpaty-lviv|Karpaty Lviv (-2021)|         0|       23.8|                0|                 NULL|                    0|     Stadion Ukraina|        28051|                +-0|      NULL|       2019|../data/raw/trans...|https://www.trans...|\n",
            "|                    RU1|   4128|        amkar-perm|          Amkar Perm|        26|       26.0|                0|                 NULL|                    0|              Zvezda|        17000|                +-0|      NULL|       2017|../data/raw/trans...|https://www.trans...|\n",
            "|                    BE1|    566|      beerschot-ac|        Beerschot AC|         0|       24.5|                0|                 NULL|                    0|   Olympisch Stadion|        12771|                +-0|      NULL|       2012|../data/raw/trans...|https://www.trans...|\n",
            "|                    BE1|   1411|         raec-mons|  RAEC Mons (- 2015)|         0|       24.5|                0|                 NULL|                    0|Stade Charles Ton...|        12662|                +-0|      NULL|       2013|../data/raw/trans...|https://www.trans...|\n",
            "|                   UKR1|  18105|          pfk-lviv|            PFK Lviv|         3|       18.3|                0|                 NULL|                    0|        Stadion SKIF|         3742|                +-0|      NULL|       2022|../data/raw/trans...|https://www.trans...|\n",
            "|                    GR1|   5220|      gs-ergotelis|        GS Ergotelis|         3|       23.3|                0|                 NULL|                    0|    Pankritio Stadio|        25780|                +-0|      NULL|       2014|../data/raw/trans...|https://www.trans...|\n",
            "|                   UKR1|  16239|   desna-chernigiv|     Desna Chernigiv|         0|       23.8|                0|                 NULL|                    0|Stadion im. Yuriy...|        12060|                +-0|      NULL|       2021|../data/raw/trans...|https://www.trans...|\n",
            "|                    GR1|  28956|       ael-kalloni|         AEL Kalloni|         0|       26.4|                0|                 NULL|                    0|    Stadio Mytilinis|         4000|                +-0|      NULL|       2015|../data/raw/trans...|https://www.trans...|\n",
            "|                   UKR1|  39097|    fk-obolon-kiew|      FK Obolon Kyiv|        26|       28.1|                0|                 NULL|                    0|        Obolon-Arena|         5103|             +€350k|      NULL|       2024|../data/raw/trans...|https://www.trans...|\n",
            "|                   UKR1|  16247|pfk-stal-kamyanske|PFK Stal Kamyansk...|         0|       23.8|                0|                 NULL|                    0|              Obolon|         5100|                +-0|      NULL|       2017|../data/raw/trans...|https://www.trans...|\n",
            "|                    DK1|  20100|  fc-vestsjaelland|    FC Vestsjaelland|         0|       24.8|                0|                 NULL|                    0|        Harboe Arena|        10000|                +-0|      NULL|       2014|../data/raw/trans...|https://www.trans...|\n",
            "|                    TR1|   2323|          orduspor|            Orduspor|         3|       20.0|                0|                 NULL|                    0|    19 Eylül Stadyum|        11024|                +-0|      NULL|       2012|../data/raw/trans...|https://www.trans...|\n",
            "|                    RU1|   3691|         tom-tomsk|           Tom Tomsk|         0|       25.9|                0|                 NULL|                    0|                Trud|        10028|                +-0|      NULL|       2016|../data/raw/trans...|https://www.trans...|\n",
            "|                   UKR1|  49364|  ingulets-petrove| FC Ingulets Petrove|        25|       23.3|                0|                 NULL|                    0|    Stadion Ingulets|         1869|                +-0|      NULL|       2024|../data/raw/trans...|https://www.trans...|\n",
            "|                    BE1|    498|       ksc-lokeren|KSC Lokeren (- 2020)|         0|       24.5|                0|                 NULL|                    0|       Daknamstadion|        12000|                +-0|      NULL|       2018|../data/raw/trans...|https://www.trans...|\n",
            "|                    TR1|    524|     gaziantepspor|Gaziantepspor (- ...|         0|       25.4|                0|                 NULL|                    0|  Gaziantep Stadyumu|        33502|                +-0|      NULL|       2016|../data/raw/trans...|https://www.trans...|\n",
            "|                    PO1|    976|  cf-uniao-madeira|CF União Madeira ...|         0|       25.6|                0|                 NULL|                    0|Centro Desportivo...|         2500|                +-0|      NULL|       2015|../data/raw/trans...|https://www.trans...|\n",
            "+-----------------------+-------+------------------+--------------------+----------+-----------+-----------------+---------------------+---------------------+--------------------+-------------+-------------------+----------+-----------+--------------------+--------------------+\n",
            "only showing top 20 rows\n"
          ]
        }
      ],
      "source": [
        "# Ver nulos de la columna 'foreigners_percentage'\n",
        "df_clubs.filter(col('foreigners_percentage').isNull()).show()"
      ]
    },
    {
      "cell_type": "code",
      "execution_count": 17,
      "metadata": {
        "id": "4YL9SsUb4jEK"
      },
      "outputs": [
        {
          "name": "stdout",
          "output_type": "stream",
          "text": [
            "+-----------------------+-----------------------------------+\n",
            "|domestic_competition_id|avg_foreigners_percentage_by_league|\n",
            "+-----------------------+-----------------------------------+\n",
            "|                     L1|                               46.7|\n",
            "|                    RU1|                               32.0|\n",
            "|                    TR1|                               34.7|\n",
            "|                    IT1|                               50.6|\n",
            "|                    GB1|                               61.2|\n",
            "|                    BE1|                               59.5|\n",
            "|                    DK1|                               42.3|\n",
            "|                    DK1|                               42.3|\n",
            "|                    NL1|                               42.6|\n",
            "|                    TR1|                               34.7|\n",
            "|                    GR1|                               46.6|\n",
            "|                    GR1|                               46.6|\n",
            "|                    DK1|                               42.3|\n",
            "|                    PO1|                               54.8|\n",
            "|                    SC1|                               58.7|\n",
            "|                     L1|                               46.7|\n",
            "|                    BE1|                               59.5|\n",
            "|                    BE1|                               59.5|\n",
            "|                    PO1|                               54.8|\n",
            "|                    BE1|                               59.5|\n",
            "+-----------------------+-----------------------------------+\n",
            "only showing top 20 rows\n"
          ]
        }
      ],
      "source": [
        "# Calcular la media de 'foreigners_percentage' por liga (excluyendo nulos) y redondear a 1 decimal\n",
        "avg_foreigners_percentage_df = df_clubs.filter(col(\"foreigners_percentage\").isNotNull()).groupBy(\"domestic_competition_id\").agg(round(avg(\"foreigners_percentage\"), 1).alias(\"avg_foreigners_percentage_by_league\"))\n",
        "\n",
        "# Unir la nueva columna al dataset\n",
        "df_clubs = df_clubs.join(avg_foreigners_percentage_df, on=\"domestic_competition_id\", how=\"left_outer\")\n",
        "\n",
        "# Ver nueva columna\n",
        "df_clubs.select(\"domestic_competition_id\", \"avg_foreigners_percentage_by_league\").show()"
      ]
    },
    {
      "cell_type": "code",
      "execution_count": 18,
      "metadata": {
        "id": "V7KCchB143P9"
      },
      "outputs": [
        {
          "name": "stdout",
          "output_type": "stream",
          "text": [
            "+-----------------------+-------+---------+----+----------+-----------+-----------------+---------------------+---------------------+------------+-------------+-------------------+----------+-----------+--------+---+\n",
            "|domestic_competition_id|club_id|club_code|name|squad_size|average_age|foreigners_number|foreigners_percentage|national_team_players|stadium_name|stadium_seats|net_transfer_record|coach_name|last_season|filename|url|\n",
            "+-----------------------+-------+---------+----+----------+-----------+-----------------+---------------------+---------------------+------------+-------------+-------------------+----------+-----------+--------+---+\n",
            "|                      0|      0|        0|   0|         0|          0|                0|                    0|                    0|           0|            0|                  0|       439|          0|       0|  0|\n",
            "+-----------------------+-------+---------+----+----------+-----------+-----------------+---------------------+---------------------+------------+-------------+-------------------+----------+-----------+--------+---+\n",
            "\n"
          ]
        }
      ],
      "source": [
        "# Sustituir nulos por 'avg_foreigners_percentage_by_league'\n",
        "df_clubs = df_clubs.withColumn(\n",
        "    \"foreigners_percentage\",\n",
        "    when(col(\"foreigners_percentage\").isNull(), col(\"avg_foreigners_percentage_by_league\")).otherwise(col(\"foreigners_percentage\"))\n",
        ")\n",
        "\n",
        "# Eliminar tabla de media por liga\n",
        "df_clubs = df_clubs.drop(\"avg_foreigners_percentage_by_league\")\n",
        "\n",
        "# Comprobar de nuevo los nulos despues de la sustitucion\n",
        "contar_nulos_por_columna(df_clubs).show()"
      ]
    },
    {
      "cell_type": "code",
      "execution_count": 19,
      "metadata": {
        "id": "9-6cI1jw5kWj"
      },
      "outputs": [
        {
          "name": "stdout",
          "output_type": "stream",
          "text": [
            "+-----------------------+-------+-----------------+--------------------+----------+-----------+-----------------+---------------------+---------------------+--------------------+-------------+-------------------+-----------+\n",
            "|domestic_competition_id|club_id|        club_code|                name|squad_size|average_age|foreigners_number|foreigners_percentage|national_team_players|        stadium_name|stadium_seats|net_transfer_record|last_season|\n",
            "+-----------------------+-------+-----------------+--------------------+----------+-----------+-----------------+---------------------+---------------------+--------------------+-------------+-------------------+-----------+\n",
            "|                     L1|    105|  sv-darmstadt-98|     SV Darmstadt 98|        27|       25.6|               13|                 48.1|                    1|Merck-Stadion am ...|        17810|            +€3.05m|       2023|\n",
            "|                    RU1|  11127|ural-ekaterinburg|  Ural Yekaterinburg|        30|       26.5|               11|                 36.7|                    3| Yekaterinburg Arena|        23000|             +€880k|       2023|\n",
            "|                    TR1|    114|besiktas-istanbul|Beşiktaş Jimnasti...|        30|       26.6|               15|                 50.0|                    8|       Beşiktaş Park|        42445|           €-25.26m|       2024|\n",
            "|                    IT1|     12|           as-rom|Associazione Spor...|        26|       26.3|               18|                 69.2|                   17|    Olimpico di Roma|        70634|           €-76.90m|       2024|\n",
            "|                    GB1|    148|tottenham-hotspur|Tottenham Hotspur...|        30|       25.5|               21|                 70.0|                   18|Tottenham Hotspur...|        62850|          €-120.05m|       2024|\n",
            "|                    BE1|    157|         kaa-gent|Koninklijke Atlet...|        30|       25.2|               19|                 63.3|                    5|  Planet Group Arena|        20185|            +€5.63m|       2024|\n",
            "|                    DK1|   1894|      hvidovre-if|         Hvidovre IF|        25|       26.4|                3|                 12.0|                    2|PRO VENTILATION A...|        12000|             +€225k|       2023|\n",
            "|                    DK1|    190|    fc-kopenhagen|Football Club Køb...|        28|       26.1|               19|                 67.9|                    9|              Parken|        38065|           +€35.06m|       2024|\n",
            "|                    NL1|    192| roda-jc-kerkrade|    Roda JC Kerkrade|        25|       24.0|                9|                 36.0|                    0|Parkstad Limburg ...|        19979|            +€1.30m|       2017|\n",
            "|                    TR1|  19789| yeni-malatyaspor|    Yeni Malatyaspor|        10|       22.9|                1|                 10.0|                    0|Yeni Malatya Stad...|        25745|             +€778k|       2021|\n",
            "+-----------------------+-------+-----------------+--------------------+----------+-----------+-----------------+---------------------+---------------------+--------------------+-------------+-------------------+-----------+\n",
            "only showing top 10 rows\n"
          ]
        }
      ],
      "source": [
        "# Eliminamos las columnas 'filename' y 'url' porque no son relevantes para nuestro analisis\n",
        "# Tambien eliminamos la columna 'coach_name' porque esa informacion ya esta en otra tabla\n",
        "df_clubs = df_clubs.drop(\"filename\", \"url\", \"coach_name\")\n",
        "df_clubs.show(10)"
      ]
    },
    {
      "cell_type": "markdown",
      "metadata": {
        "id": "_A_6fu4jbWDS"
      },
      "source": [
        "# Archivo \"competitions.csv\""
      ]
    },
    {
      "cell_type": "code",
      "execution_count": 20,
      "metadata": {
        "id": "Q_UomoPibV6y"
      },
      "outputs": [
        {
          "name": "stdout",
          "output_type": "stream",
          "text": [
            "+--------------+--------------------+--------------------+------------------+-----------------+----------+------------+--------------------+-------------+--------------------+------------------------+\n",
            "|competition_id|    competition_code|                name|          sub_type|             type|country_id|country_name|domestic_league_code|confederation|                 url|is_major_national_league|\n",
            "+--------------+--------------------+--------------------+------------------+-----------------+----------+------------+--------------------+-------------+--------------------+------------------------+\n",
            "|           CIT|           italy-cup|           italy-cup|      domestic_cup|     domestic_cup|        75|       Italy|                 IT1|       europa|https://www.trans...|                   false|\n",
            "|          NLSC|johan-cruijff-schaal|johan-cruijff-schaal|domestic_super_cup|            other|       122| Netherlands|                 NL1|       europa|https://www.trans...|                   false|\n",
            "|           GRP|     kypello-elladas|     kypello-elladas|      domestic_cup|     domestic_cup|        56|      Greece|                 GR1|       europa|https://www.trans...|                   false|\n",
            "|          POSU|supertaca-candido...|supertaca-candido...|domestic_super_cup|            other|       136|    Portugal|                 PO1|       europa|https://www.trans...|                   false|\n",
            "|          RUSS|   russian-super-cup|   russian-super-cup|domestic_super_cup|            other|       141|      Russia|                 RU1|       europa|https://www.trans...|                   false|\n",
            "|           SUC|           supercopa|           supercopa|domestic_super_cup|            other|       157|       Spain|                 ES1|       europa|https://www.trans...|                   false|\n",
            "|           USC|      uefa-super-cup|      uefa-super-cup|    uefa_super_cup|international_cup|        -1|        NULL|                NULL|       europa|https://www.trans...|                   false|\n",
            "|           DK1|         superligaen|         superligaen|        first_tier|  domestic_league|        39|     Denmark|                 DK1|       europa|https://www.trans...|                   false|\n",
            "|            EL|       europa-league|       europa-league|     europa_league|international_cup|        -1|        NULL|                NULL|       europa|https://www.trans...|                   false|\n",
            "|           ES1|              laliga|              laliga|        first_tier|  domestic_league|       157|       Spain|                 ES1|       europa|https://www.trans...|                    true|\n",
            "+--------------+--------------------+--------------------+------------------+-----------------+----------+------------+--------------------+-------------+--------------------+------------------------+\n",
            "only showing top 10 rows\n",
            "root\n",
            " |-- competition_id: string (nullable = true)\n",
            " |-- competition_code: string (nullable = true)\n",
            " |-- name: string (nullable = true)\n",
            " |-- sub_type: string (nullable = true)\n",
            " |-- type: string (nullable = true)\n",
            " |-- country_id: integer (nullable = true)\n",
            " |-- country_name: string (nullable = true)\n",
            " |-- domestic_league_code: string (nullable = true)\n",
            " |-- confederation: string (nullable = true)\n",
            " |-- url: string (nullable = true)\n",
            " |-- is_major_national_league: boolean (nullable = true)\n",
            "\n"
          ]
        },
        {
          "data": {
            "text/plain": [
              "['competition_id',\n",
              " 'competition_code',\n",
              " 'name',\n",
              " 'sub_type',\n",
              " 'type',\n",
              " 'country_id',\n",
              " 'country_name',\n",
              " 'domestic_league_code',\n",
              " 'confederation',\n",
              " 'url',\n",
              " 'is_major_national_league']"
            ]
          },
          "execution_count": 20,
          "metadata": {},
          "output_type": "execute_result"
        }
      ],
      "source": [
        "# Cargar el csv\n",
        "df_competitions = spark.read.csv(path+\"/competitions.csv\", header=True, inferSchema=True)\n",
        "\n",
        "# Ver las primeras filas\n",
        "df_competitions.show(10)\n",
        "df_competitions.printSchema()\n",
        "df_competitions.columns"
      ]
    },
    {
      "cell_type": "code",
      "execution_count": 21,
      "metadata": {
        "id": "FMS7IEBHb_9p"
      },
      "outputs": [
        {
          "name": "stdout",
          "output_type": "stream",
          "text": [
            "+-------+--------------+-------------------+-------------------+--------------+------------+-----------------+------------+--------------------+-------------+--------------------+\n",
            "|summary|competition_id|   competition_code|               name|      sub_type|        type|       country_id|country_name|domestic_league_code|confederation|                 url|\n",
            "+-------+--------------+-------------------+-------------------+--------------+------------+-----------------+------------+--------------------+-------------+--------------------+\n",
            "|  count|            44|                 44|                 44|            44|          44|               44|          36|                  36|           44|                  44|\n",
            "|   mean|          NULL|               NULL|               NULL|          NULL|        NULL|94.86363636363636|        NULL|                NULL|         NULL|                NULL|\n",
            "| stddev|          NULL|               NULL|               NULL|          NULL|        NULL|70.51887126914322|        NULL|                NULL|         NULL|                NULL|\n",
            "|    min|           BE1|        allianz-cup|        allianz-cup|  domestic_cup|domestic_cup|               -1|     Belgium|                 BE1|       europa|https://www.trans...|\n",
            "|    25%|          NULL|               NULL|               NULL|          NULL|        NULL|               39|        NULL|                NULL|         NULL|                NULL|\n",
            "|    50%|          NULL|               NULL|               NULL|          NULL|        NULL|               75|        NULL|                NULL|         NULL|                NULL|\n",
            "|    75%|          NULL|               NULL|               NULL|          NULL|        NULL|              157|        NULL|                NULL|         NULL|                NULL|\n",
            "|    max|           USC|ukrainian-super-cup|ukrainian-super-cup|uefa_super_cup|       other|              190|     Ukraine|                UKR1|       europa|https://www.trans...|\n",
            "+-------+--------------+-------------------+-------------------+--------------+------------+-----------------+------------+--------------------+-------------+--------------------+\n",
            "\n"
          ]
        }
      ],
      "source": [
        "mostrar_sumario(df_competitions).show()"
      ]
    },
    {
      "cell_type": "code",
      "execution_count": 22,
      "metadata": {
        "id": "cv4yCHIvcAHe"
      },
      "outputs": [
        {
          "name": "stdout",
          "output_type": "stream",
          "text": [
            "+--------------+----------------+----+--------+----+----------+------------+--------------------+-------------+---+------------------------+\n",
            "|competition_id|competition_code|name|sub_type|type|country_id|country_name|domestic_league_code|confederation|url|is_major_national_league|\n",
            "+--------------+----------------+----+--------+----+----------+------------+--------------------+-------------+---+------------------------+\n",
            "|             0|               0|   0|       0|   0|         0|           8|                   8|            0|  0|                       0|\n",
            "+--------------+----------------+----+--------+----+----------+------------+--------------------+-------------+---+------------------------+\n",
            "\n"
          ]
        }
      ],
      "source": [
        "contar_nulos_por_columna(df_competitions).show()"
      ]
    },
    {
      "cell_type": "code",
      "execution_count": 23,
      "metadata": {
        "id": "NgAh4hbQ4YFB"
      },
      "outputs": [
        {
          "name": "stdout",
          "output_type": "stream",
          "text": [
            "+--------------+-----+\n",
            "|competition_id|count|\n",
            "+--------------+-----+\n",
            "+--------------+-----+\n",
            "\n"
          ]
        }
      ],
      "source": [
        "duplicados_por_columna(df_competitions, \"competition_id\")"
      ]
    },
    {
      "cell_type": "code",
      "execution_count": 24,
      "metadata": {
        "id": "XtldsNZGcV7H"
      },
      "outputs": [
        {
          "name": "stdout",
          "output_type": "stream",
          "text": [
            "+--------------+--------------------+--------------------+--------------------+-----------------+----------+------------+--------------------+-------------+--------------------+------------------------+\n",
            "|competition_id|    competition_code|                name|            sub_type|             type|country_id|country_name|domestic_league_code|confederation|                 url|is_major_national_league|\n",
            "+--------------+--------------------+--------------------+--------------------+-----------------+----------+------------+--------------------+-------------+--------------------+------------------------+\n",
            "|           USC|      uefa-super-cup|      uefa-super-cup|      uefa_super_cup|international_cup|        -1|        NULL|                NULL|       europa|https://www.trans...|                   false|\n",
            "|            EL|       europa-league|       europa-league|       europa_league|international_cup|        -1|        NULL|                NULL|       europa|https://www.trans...|                   false|\n",
            "|          UCOL|uefa-conference-l...|uefa-conference-l...|uefa_europa_confe...|international_cup|        -1|        NULL|                NULL|       europa|https://www.trans...|                   false|\n",
            "|           ELQ|europa-league-qua...|europa-league-qua...|europa_league_qua...|international_cup|        -1|        NULL|                NULL|       europa|https://www.trans...|                   false|\n",
            "|          ECLQ|uefa-europa-confe...|uefa-europa-confe...|uefa_europa_confe...|international_cup|        -1|        NULL|                NULL|       europa|https://www.trans...|                   false|\n",
            "|            CL|uefa-champions-le...|uefa-champions-le...|uefa_champions_le...|international_cup|        -1|        NULL|                NULL|       europa|https://www.trans...|                   false|\n",
            "|          KLUB|        fifa-klub-wm|        fifa-klub-wm| fifa_club_world_cup|            other|        -1|        NULL|                NULL|       europa|https://www.trans...|                   false|\n",
            "|           CLQ|uefa-champions-le...|uefa-champions-le...|uefa_champions_le...|international_cup|        -1|        NULL|                NULL|       europa|https://www.trans...|                   false|\n",
            "+--------------+--------------------+--------------------+--------------------+-----------------+----------+------------+--------------------+-------------+--------------------+------------------------+\n",
            "\n"
          ]
        }
      ],
      "source": [
        "# Ver nulos en 'country_name'\n",
        "df_competitions.filter(col('country_name').isNull()).show()"
      ]
    },
    {
      "cell_type": "code",
      "execution_count": 25,
      "metadata": {
        "id": "EPVZWhPjc4ec"
      },
      "outputs": [
        {
          "name": "stdout",
          "output_type": "stream",
          "text": [
            "+--------------+----------------+----+--------+----+----------+------------+--------------------+-------------+---+------------------------+\n",
            "|competition_id|competition_code|name|sub_type|type|country_id|country_name|domestic_league_code|confederation|url|is_major_national_league|\n",
            "+--------------+----------------+----+--------+----+----------+------------+--------------------+-------------+---+------------------------+\n",
            "|             0|               0|   0|       0|   0|         0|           0|                   0|            0|  0|                       0|\n",
            "+--------------+----------------+----+--------+----+----------+------------+--------------------+-------------+---+------------------------+\n",
            "\n"
          ]
        }
      ],
      "source": [
        "# Las filas con 'country_id'= -1 y 'country_name'= null son de competiciones internacionales\n",
        "# Sustituimos 'country_name' por 'International', 'country_id' por '1' y 'domestic_league_code' por 'INT'\n",
        "df_competitions = df_competitions.withColumn(\n",
        "    \"country_name\",\n",
        "    when(col(\"country_id\") == -1, \"International\").otherwise(col(\"country_name\"))\n",
        ")\n",
        "\n",
        "df_competitions = df_competitions.withColumn(\n",
        "    \"country_id\",\n",
        "    when(col(\"country_id\") == -1, 1).otherwise(col(\"country_id\"))\n",
        ")\n",
        "\n",
        "df_competitions = df_competitions.withColumn(\n",
        "    \"domestic_league_code\",\n",
        "    when(col(\"country_id\") == 1, \"INT\").otherwise(col(\"domestic_league_code\"))\n",
        ")\n",
        "\n",
        "contar_nulos_por_columna(df_competitions).show()"
      ]
    },
    {
      "cell_type": "code",
      "execution_count": 26,
      "metadata": {
        "id": "IkEwl7nHenbJ"
      },
      "outputs": [
        {
          "name": "stdout",
          "output_type": "stream",
          "text": [
            "+--------------+--------------------+--------------------+--------------------+-----------------+----------+-------------+--------------------+-------------+------------------------+\n",
            "|competition_id|    competition_code|                name|            sub_type|             type|country_id| country_name|domestic_league_code|confederation|is_major_national_league|\n",
            "+--------------+--------------------+--------------------+--------------------+-----------------+----------+-------------+--------------------+-------------+------------------------+\n",
            "|           CIT|           italy-cup|           italy-cup|        domestic_cup|     domestic_cup|        75|        Italy|                 IT1|       europa|                   false|\n",
            "|          NLSC|johan-cruijff-schaal|johan-cruijff-schaal|  domestic_super_cup|            other|       122|  Netherlands|                 NL1|       europa|                   false|\n",
            "|           GRP|     kypello-elladas|     kypello-elladas|        domestic_cup|     domestic_cup|        56|       Greece|                 GR1|       europa|                   false|\n",
            "|          POSU|supertaca-candido...|supertaca-candido...|  domestic_super_cup|            other|       136|     Portugal|                 PO1|       europa|                   false|\n",
            "|          RUSS|   russian-super-cup|   russian-super-cup|  domestic_super_cup|            other|       141|       Russia|                 RU1|       europa|                   false|\n",
            "|           SUC|           supercopa|           supercopa|  domestic_super_cup|            other|       157|        Spain|                 ES1|       europa|                   false|\n",
            "|           USC|      uefa-super-cup|      uefa-super-cup|      uefa_super_cup|international_cup|         1|International|                 INT|       europa|                   false|\n",
            "|           DK1|         superligaen|         superligaen|          first_tier|  domestic_league|        39|      Denmark|                 DK1|       europa|                   false|\n",
            "|            EL|       europa-league|       europa-league|       europa_league|international_cup|         1|International|                 INT|       europa|                   false|\n",
            "|           ES1|              laliga|              laliga|          first_tier|  domestic_league|       157|        Spain|                 ES1|       europa|                    true|\n",
            "|           FR1|             ligue-1|             ligue-1|          first_tier|  domestic_league|        50|       France|                 FR1|       europa|                    true|\n",
            "|           IT1|             serie-a|             serie-a|          first_tier|  domestic_league|        75|        Italy|                 IT1|       europa|                    true|\n",
            "|           NL1|          eredivisie|          eredivisie|          first_tier|  domestic_league|       122|  Netherlands|                 NL1|       europa|                   false|\n",
            "|           RUP|         russian-cup|         russian-cup|        domestic_cup|     domestic_cup|       141|       Russia|                 RU1|       europa|                   false|\n",
            "|           PO1|  liga-portugal-bwin|  liga-portugal-bwin|          first_tier|  domestic_league|       136|     Portugal|                 PO1|       europa|                   false|\n",
            "|          BESC|    belgian-supercup|    belgian-supercup|  domestic_super_cup|            other|        19|      Belgium|                 BE1|       europa|                   false|\n",
            "|           GB1|      premier-league|      premier-league|          first_tier|  domestic_league|       189|      England|                 GB1|       europa|                    true|\n",
            "|          UCOL|uefa-conference-l...|uefa-conference-l...|uefa_europa_confe...|international_cup|         1|International|                 INT|       europa|                   false|\n",
            "|           ELQ|europa-league-qua...|europa-league-qua...|europa_league_qua...|international_cup|         1|International|                 INT|       europa|                   false|\n",
            "|           CGB|             efl-cup|             efl-cup|          league_cup|            other|       189|      England|                 GB1|       europa|                   false|\n",
            "+--------------+--------------------+--------------------+--------------------+-----------------+----------+-------------+--------------------+-------------+------------------------+\n",
            "only showing top 20 rows\n"
          ]
        }
      ],
      "source": [
        "# Eliminar la columna 'url' porque no es relevante para nuestro analisis\n",
        "df_competitions = df_competitions.drop(\"url\")\n",
        "df_competitions.show()"
      ]
    },
    {
      "cell_type": "markdown",
      "metadata": {
        "id": "n0Rk1i8vXu-A"
      },
      "source": [
        "# Archivo \"game_events.csv\""
      ]
    },
    {
      "cell_type": "code",
      "execution_count": 27,
      "metadata": {
        "id": "-uM_G74jYWy7"
      },
      "outputs": [
        {
          "name": "stdout",
          "output_type": "stream",
          "text": [
            "+--------------------+----------+-------+------+-------------+-------+---------+--------------------+------------+----------------+\n",
            "|       game_event_id|      date|game_id|minute|         type|club_id|player_id|         description|player_in_id|player_assist_id|\n",
            "+--------------------+----------+-------+------+-------------+-------+---------+--------------------+------------+----------------+\n",
            "|2f41da30c471492e7...|2012-08-05|2211607|    77|        Cards|    610|     4425|1. Yellow card  ,...|        NULL|            NULL|\n",
            "|a72f7186d132775f2...|2012-08-05|2211607|    77|        Cards|    383|    33210|1. Yellow card  ,...|        NULL|            NULL|\n",
            "|b2d721eaed4692a5c...|2012-08-05|2211607|     3|        Goals|    383|    36500|, Header, 1. Tour...|        NULL|           56416|\n",
            "|aef768899cedac0c9...|2012-08-05|2211607|    53|        Goals|    383|    36500|, Right-footed sh...|        NULL|          146258|\n",
            "|5d6d9533023057b66...|2012-08-05|2211607|    74|Substitutions|    383|    36500|      , Not reported|       49499|            NULL|\n",
            "|eef9c46dd75c3aa4c...|2012-08-05|2211607|    11|        Goals|    383|    38497|, Right-footed sh...|        NULL|           33210|\n",
            "|5d5aef7dedcd5dc9d...|2012-08-05|2211607|    90|        Cards|    610|    42710|      1. Yellow card|        NULL|            NULL|\n",
            "|7717860e3b0376b86...|2012-08-05|2211607|    44|        Goals|    610|    42710|, Header, 1. Tour...|        NULL|            4425|\n",
            "|02c708273f4fa2003...|2012-08-05|2211607|    79|        Cards|    610|    45509|      1. Yellow card|        NULL|            NULL|\n",
            "|d1be2ce4bd5f0ca09...|2012-08-05|2211607|    90|        Goals|    383|    49499|, Right-footed sh...|        NULL|          167850|\n",
            "+--------------------+----------+-------+------+-------------+-------+---------+--------------------+------------+----------------+\n",
            "only showing top 10 rows\n",
            "root\n",
            " |-- game_event_id: string (nullable = true)\n",
            " |-- date: date (nullable = true)\n",
            " |-- game_id: integer (nullable = true)\n",
            " |-- minute: integer (nullable = true)\n",
            " |-- type: string (nullable = true)\n",
            " |-- club_id: integer (nullable = true)\n",
            " |-- player_id: integer (nullable = true)\n",
            " |-- description: string (nullable = true)\n",
            " |-- player_in_id: integer (nullable = true)\n",
            " |-- player_assist_id: integer (nullable = true)\n",
            "\n"
          ]
        },
        {
          "name": "stderr",
          "output_type": "stream",
          "text": [
            "                                                                                \r"
          ]
        },
        {
          "data": {
            "text/plain": [
              "['game_event_id',\n",
              " 'date',\n",
              " 'game_id',\n",
              " 'minute',\n",
              " 'type',\n",
              " 'club_id',\n",
              " 'player_id',\n",
              " 'description',\n",
              " 'player_in_id',\n",
              " 'player_assist_id']"
            ]
          },
          "execution_count": 27,
          "metadata": {},
          "output_type": "execute_result"
        }
      ],
      "source": [
        "# Cargar el csv\n",
        "df_game_events = spark.read.csv(path+\"/game_events.csv\", header=True, inferSchema=True)\n",
        "\n",
        "# Ver las primeras filas\n",
        "df_game_events.show(10)\n",
        "df_game_events.printSchema()\n",
        "df_game_events.columns"
      ]
    },
    {
      "cell_type": "code",
      "execution_count": 28,
      "metadata": {
        "id": "RSrGDZKiZs0s"
      },
      "outputs": [
        {
          "name": "stderr",
          "output_type": "stream",
          "text": [
            "[Stage 72:====>                                                   (2 + 25) / 27]\r"
          ]
        },
        {
          "name": "stdout",
          "output_type": "stream",
          "text": [
            "+-------+--------------------+------------------+-----------------+-------------+------------------+------------------+--------------------+------------------+-----------------+\n",
            "|summary|       game_event_id|           game_id|           minute|         type|           club_id|         player_id|         description|      player_in_id| player_assist_id|\n",
            "+-------+--------------------+------------------+-----------------+-------------+------------------+------------------+--------------------+------------------+-----------------+\n",
            "|  count|             1035043|           1035043|          1035043|      1035043|           1035043|           1035043|              947716|            497678|           156759|\n",
            "|   mean|            Infinity|3232166.6426525274|61.82031857613645|         NULL| 4956.375424982344|234649.75911049105|                NULL| 281129.1353606147|211605.5213544358|\n",
            "| stddev|                 NaN| 680074.1692634815|23.58611694335326|         NULL|11822.249636871984| 212023.8692743104|                NULL|238853.11473006182|194396.3401437962|\n",
            "|    min|000002a281eef5854...|           2211607|               -1|        Cards|                 1|                10|, 1. Goal of the ...|                10|               10|\n",
            "|    25%|7.082884527139168E31|           2609666|               46|         NULL|               345|             66005|                NULL|             87143|            59561|\n",
            "|    50%|7.082884527139168E31|           3203631|               67|         NULL|               987|            175449|                NULL|            216662|           153198|\n",
            "|    75%|            Infinity|           3840070|               80|         NULL|              3070|            341051|                NULL|            400554|           313396|\n",
            "|    max|fffffded88d6e7e41...|           4572898|              120|Substitutions|            122422|           1378362|Yellow card  , Wa...|           1390649|          1340495|\n",
            "+-------+--------------------+------------------+-----------------+-------------+------------------+------------------+--------------------+------------------+-----------------+\n",
            "\n"
          ]
        },
        {
          "name": "stderr",
          "output_type": "stream",
          "text": [
            "                                                                                \r"
          ]
        }
      ],
      "source": [
        "mostrar_sumario(df_game_events).show()"
      ]
    },
    {
      "cell_type": "code",
      "execution_count": 29,
      "metadata": {
        "id": "ILvXSFqEZupq"
      },
      "outputs": [
        {
          "name": "stdout",
          "output_type": "stream",
          "text": [
            "+-------------+----+-------+------+----+-------+---------+-----------+------------+----------------+\n",
            "|game_event_id|date|game_id|minute|type|club_id|player_id|description|player_in_id|player_assist_id|\n",
            "+-------------+----+-------+------+----+-------+---------+-----------+------------+----------------+\n",
            "|            0|   0|      0|     0|   0|      0|        0|      87327|      537365|          878284|\n",
            "+-------------+----+-------+------+----+-------+---------+-----------+------------+----------------+\n",
            "\n"
          ]
        }
      ],
      "source": [
        "contar_nulos_por_columna(df_game_events).show()"
      ]
    },
    {
      "cell_type": "code",
      "execution_count": 30,
      "metadata": {
        "id": "JCKsEIHj4azZ"
      },
      "outputs": [
        {
          "name": "stdout",
          "output_type": "stream",
          "text": [
            "+-------------+-----+\n",
            "|game_event_id|count|\n",
            "+-------------+-----+\n",
            "+-------------+-----+\n",
            "\n"
          ]
        }
      ],
      "source": [
        "duplicados_por_columna(df_game_events, \"game_event_id\")"
      ]
    },
    {
      "cell_type": "code",
      "execution_count": 31,
      "metadata": {
        "id": "Ae5aBxh4hNTV"
      },
      "outputs": [
        {
          "name": "stdout",
          "output_type": "stream",
          "text": [
            "+-------------+\n",
            "|         type|\n",
            "+-------------+\n",
            "|        Goals|\n",
            "|        Cards|\n",
            "|Substitutions|\n",
            "|     Shootout|\n",
            "+-------------+\n",
            "\n"
          ]
        }
      ],
      "source": [
        "# Mostrar los diferentes tipos de eventos\n",
        "df_game_events.select(\"type\").distinct().show()"
      ]
    },
    {
      "cell_type": "code",
      "execution_count": 32,
      "metadata": {
        "id": "qt5HCjXhat7B"
      },
      "outputs": [
        {
          "name": "stdout",
          "output_type": "stream",
          "text": [
            "+--------------------+----------+-------+------+-------------+-------+---------+-----------+------------+----------------+\n",
            "|       game_event_id|      date|game_id|minute|         type|club_id|player_id|description|player_in_id|player_assist_id|\n",
            "+--------------------+----------+-------+------+-------------+-------+---------+-----------+------------+----------------+\n",
            "|e4d512124476ec941...|2012-08-22|2235964|    81|Substitutions|  10468|   121235|       NULL|      121027|            NULL|\n",
            "|ac641aeaaf272da2f...|2012-08-22|2235964|    66|Substitutions|  10468|   201284|       NULL|      113699|            NULL|\n",
            "|9e4d13d444aa9315f...|2013-02-17|2240152|    81|Substitutions|   1465|    17352|       NULL|      125700|            NULL|\n",
            "|4bc0bb78995d14303...|2013-02-17|2240152|    62|Substitutions|   1301|    24880|       NULL|      237663|            NULL|\n",
            "|b08ec33cbbcb9be73...|2013-02-17|2240152|    65|Substitutions|   1465|    42303|       NULL|      150535|            NULL|\n",
            "|2c3f355afc76f8ae2...|2013-02-17|2240152|    83|Substitutions|   1301|    70359|       NULL|      137710|            NULL|\n",
            "|82450db14bed2ac19...|2013-02-09|2240168|    80|Substitutions|   1465|    17352|       NULL|      125700|            NULL|\n",
            "|137462efc6fa6837b...|2013-02-09|2240168|    72|Substitutions|   2420|    61764|       NULL|      145692|            NULL|\n",
            "|bef07e30424d76ab5...|2013-02-09|2240168|    61|Substitutions|   1465|    72835|       NULL|      110078|            NULL|\n",
            "|c3d0673498c98b399...|2013-02-09|2240168|    57|Substitutions|   2420|   122498|       NULL|      174842|            NULL|\n",
            "|349906e967cce93b5...|2013-02-10|2240172|    58|Substitutions|   2424|    23265|       NULL|       32567|            NULL|\n",
            "|8cded27c84db7eebd...|2013-02-10|2240172|    28|Substitutions|   1085|    33739|       NULL|       25175|            NULL|\n",
            "|405a52802873b09f6...|2013-02-10|2240172|    81|Substitutions|   1085|   112985|       NULL|        5518|            NULL|\n",
            "|ec4ce9b48ddcf6e31...|2013-02-10|2240172|    62|Substitutions|   2424|   204453|       NULL|      124286|            NULL|\n",
            "|1efa86f7cf91e9a4e...|2012-08-22|2240524|    72|Substitutions|   2821|   327021|       NULL|      327025|            NULL|\n",
            "|71623922e95dfda9b...|2012-08-22|2240524|    87|Substitutions|   2821|   327028|       NULL|      327037|            NULL|\n",
            "|db1d488ab901c7c8c...|2012-08-22|2240524|    68|Substitutions|   2821|   327031|       NULL|      327029|            NULL|\n",
            "|92c536d8a2534c6a4...|2012-08-04|2253909|    78|Substitutions|  15374|    18914|       NULL|      167889|            NULL|\n",
            "|20664a970277c5230...|2012-08-04|2253909|    70|Substitutions|  15374|    61789|       NULL|      249590|            NULL|\n",
            "|2767ee42b2d092737...|2012-08-04|2253909|    77|Substitutions|   4031|   160882|       NULL|      497168|            NULL|\n",
            "+--------------------+----------+-------+------+-------------+-------+---------+-----------+------------+----------------+\n",
            "only showing top 20 rows\n"
          ]
        }
      ],
      "source": [
        "# Ver nulos de la columna 'description'\n",
        "df_game_events.filter(col('description').isNull()).show()"
      ]
    },
    {
      "cell_type": "code",
      "execution_count": 33,
      "metadata": {
        "id": "02dCJYkfd-M1"
      },
      "outputs": [
        {
          "name": "stdout",
          "output_type": "stream",
          "text": [
            "+------------------------------------------------------------------------------------------+\n",
            "|description                                                                               |\n",
            "+------------------------------------------------------------------------------------------+\n",
            "|, Own-goal Assist: , Header, 3. Assist of the Season                                      |\n",
            "|, Header, 12. Goal of the Season Assist: , Cross, 3. Assist of the Season                 |\n",
            "|, Header, 9. Goal of the Season Assist: , Shot on goal, 7. Assist of the Season           |\n",
            "|, Right-footed shot, 13. Goal of the Season Assist: , Pass, 11. Assist of the Season      |\n",
            "|, Header, 10. Goal of the Season Assist: , Cross, 3. Assist of the Season                 |\n",
            "|, Left-footed shot, 9. Goal of the Season Assist: , Cross, 5. Assist of the Season        |\n",
            "|, Tap-in, 1. Goal of the Season Assist: , Pass, 1. Assist of the Season                   |\n",
            "|, Tap-in, 3. Goal of the Season Assist: , Header, 3. Assist of the Season                 |\n",
            "|, Right-footed shot, 1. Goal of the Season Assist: , Shot on goal, 5. Assist of the Season|\n",
            "|4. Yellow card  , Mass confrontation                                                      |\n",
            "|, Right-footed shot, 1. Tournament Goal Assist: , Free kick, 1. Tournament Assist         |\n",
            "|12. Yellow card  , Shooting ball                                                          |\n",
            "|, Direct free kick, 1. Goal of the Season Assist:                                         |\n",
            "|, Tap-in, 2. Goal of the Season Assist: , Free kick, 9. Assist of the Season              |\n",
            "|, Header, 3. Goal of the Season Assist:                                                   |\n",
            "|, Left-footed shot, 6. Goal of the Season Assist: , Corner, 1. Assist of the Season       |\n",
            "|, Header, 2. Goal of the Season Assist: , Free kick, 4. Assist of the Season              |\n",
            "|, Right-footed shot, 12. Goal of the Season Assist: , Pass, 4. Assist of the Season       |\n",
            "|, Left-footed shot, 4. Goal of the Season Assist: , Cross, 3. Assist of the Season        |\n",
            "|, Deflected shot on goal, 5. Goal of the Season Assist: , Pass, 7. Assist of the Season   |\n",
            "+------------------------------------------------------------------------------------------+\n",
            "only showing top 20 rows\n"
          ]
        }
      ],
      "source": [
        "# Ver valores unicos de 'description'\n",
        "df_game_events.select(\"description\").distinct().show(truncate=False)"
      ]
    },
    {
      "cell_type": "code",
      "execution_count": 34,
      "metadata": {
        "id": "bFMa87h9eYEH"
      },
      "outputs": [
        {
          "name": "stdout",
          "output_type": "stream",
          "text": [
            "+--------------------+----------+-------+------+-------------+-------+---------+------------+----------------+\n",
            "|       game_event_id|      date|game_id|minute|         type|club_id|player_id|player_in_id|player_assist_id|\n",
            "+--------------------+----------+-------+------+-------------+-------+---------+------------+----------------+\n",
            "|2f41da30c471492e7...|2012-08-05|2211607|    77|        Cards|    610|     4425|        NULL|            NULL|\n",
            "|a72f7186d132775f2...|2012-08-05|2211607|    77|        Cards|    383|    33210|        NULL|            NULL|\n",
            "|b2d721eaed4692a5c...|2012-08-05|2211607|     3|        Goals|    383|    36500|        NULL|           56416|\n",
            "|aef768899cedac0c9...|2012-08-05|2211607|    53|        Goals|    383|    36500|        NULL|          146258|\n",
            "|5d6d9533023057b66...|2012-08-05|2211607|    74|Substitutions|    383|    36500|       49499|            NULL|\n",
            "|eef9c46dd75c3aa4c...|2012-08-05|2211607|    11|        Goals|    383|    38497|        NULL|           33210|\n",
            "|5d5aef7dedcd5dc9d...|2012-08-05|2211607|    90|        Cards|    610|    42710|        NULL|            NULL|\n",
            "|7717860e3b0376b86...|2012-08-05|2211607|    44|        Goals|    610|    42710|        NULL|            4425|\n",
            "|02c708273f4fa2003...|2012-08-05|2211607|    79|        Cards|    610|    45509|        NULL|            NULL|\n",
            "|d1be2ce4bd5f0ca09...|2012-08-05|2211607|    90|        Goals|    383|    49499|        NULL|          167850|\n",
            "|f0dfb41b779ad8efb...|2012-08-05|2211607|    76|Substitutions|    610|    52246|      182932|            NULL|\n",
            "|06d75371c9a8f3a8d...|2012-08-05|2211607|    75|        Goals|    610|    52920|        NULL|          124891|\n",
            "|6ab3a43a37e3b264d...|2012-08-05|2211607|    37|        Cards|    383|    68864|        NULL|            NULL|\n",
            "|e67340caefbf1cbe1...|2012-08-05|2211607|    84|Substitutions|    383|    72462|      167850|            NULL|\n",
            "|ac69368250666fd5e...|2012-08-05|2211607|    65|Substitutions|    610|    95755|       34784|            NULL|\n",
            "|874987f117bca7459...|2012-08-05|2211607|    -1|        Cards|    610|   124883|        NULL|            NULL|\n",
            "|c7273eb67de6f9ba9...|2012-08-05|2211607|    31|        Cards|    610|   187245|        NULL|            NULL|\n",
            "|584282a7024a5a6da...|2012-08-05|2211607|    76|Substitutions|    610|   187245|      111184|            NULL|\n",
            "|ed9bded6064e693d9...|2012-08-11|2218677|    76|        Cards|    506|     2865|        NULL|            NULL|\n",
            "|fead616bb25013d5c...|2012-08-11|2218677|    89|Substitutions|    506|     2865|       56703|            NULL|\n",
            "+--------------------+----------+-------+------+-------------+-------+---------+------------+----------------+\n",
            "only showing top 20 rows\n"
          ]
        }
      ],
      "source": [
        "# Debido a la gran cantidad de valores nulos y formatos confusos,\n",
        "# consideramos que es mejor eliminar la columna 'description', pues ya tenemos el tipo de jugada en la columna 'type'\n",
        "df_game_events = df_game_events.drop(\"description\")\n",
        "df_game_events.show()"
      ]
    },
    {
      "cell_type": "markdown",
      "metadata": {
        "id": "lhrCywMGgudj"
      },
      "source": [
        "Los valores vacíos en las columnas 'player_in_id' y 'player_assist_id' tienen sentido ya que dependen del tipo de evento; si el evento es 'Substitutions', sólo hace falta el 'player_in_id'; si el evento es 'Goals', sólo hace falta el 'player_assist_id'."
      ]
    },
    {
      "cell_type": "markdown",
      "metadata": {
        "id": "uADxF-7wh5IS"
      },
      "source": [
        "# Archivo \"game_lineups.csv\""
      ]
    },
    {
      "cell_type": "code",
      "execution_count": 35,
      "metadata": {
        "id": "4HzAG3uyh5i8"
      },
      "outputs": [
        {
          "name": "stdout",
          "output_type": "stream",
          "text": [
            "+--------------------+----------+-------+---------+-------+-----------------+---------------+------------------+------+------------+\n",
            "|     game_lineups_id|      date|game_id|player_id|club_id|      player_name|           type|          position|number|team_captain|\n",
            "+--------------------+----------+-------+---------+-------+-----------------+---------------+------------------+------+------------+\n",
            "|b2dbe01c3656b06c8...|2013-07-27|2317258|     1443|    610|Christian Poulsen|    substitutes|Defensive Midfield|     5|           0|\n",
            "|b50a3ec6d52fd1490...|2013-07-27|2317258|     5017|    610| Niklas Moisander|starting_lineup|       Centre-Back|     4|           0|\n",
            "|7d890e6d0ff8af84b...|2013-07-27|2317258|     9602|   1090|  Maarten Martens|    substitutes|       Left Winger|    11|           0|\n",
            "|8c355268678b9bbc7...|2013-07-27|2317258|    12282|    610|      Daley Blind|starting_lineup|         Left-Back|    17|           0|\n",
            "|76193074d549e5fdc...|2013-07-27|2317258|    25427|   1090|      Roy Beerens|starting_lineup|      Right Winger|    23|           0|\n",
            "|e5684d3b01123e27e...|2013-07-27|2317258|    28815|   1090|      Jan Wuytens|starting_lineup|       Centre-Back|    29|           0|\n",
            "|d196e3ec2f03110a5...|2013-07-27|2317258|    30290|    610|  Kenneth Vermeer|starting_lineup|        Goalkeeper|     1|           0|\n",
            "|e9e1212e3ba0dabdf...|2013-07-27|2317258|    34784|    610|     Lasse Schöne|starting_lineup|Defensive Midfield|    20|           0|\n",
            "|53ca254113ffc1b2f...|2013-07-27|2317258|    36391|   1090|       Viktor Elm|starting_lineup|Defensive Midfield|    12|           0|\n",
            "|03fe553a31b7cc907...|2013-07-27|2317258|    42266|   1090|   Yves De Winter|    substitutes|        Goalkeeper|    16|           0|\n",
            "+--------------------+----------+-------+---------+-------+-----------------+---------------+------------------+------+------------+\n",
            "only showing top 10 rows\n",
            "root\n",
            " |-- game_lineups_id: string (nullable = true)\n",
            " |-- date: date (nullable = true)\n",
            " |-- game_id: integer (nullable = true)\n",
            " |-- player_id: integer (nullable = true)\n",
            " |-- club_id: integer (nullable = true)\n",
            " |-- player_name: string (nullable = true)\n",
            " |-- type: string (nullable = true)\n",
            " |-- position: string (nullable = true)\n",
            " |-- number: string (nullable = true)\n",
            " |-- team_captain: integer (nullable = true)\n",
            "\n"
          ]
        },
        {
          "data": {
            "text/plain": [
              "['game_lineups_id',\n",
              " 'date',\n",
              " 'game_id',\n",
              " 'player_id',\n",
              " 'club_id',\n",
              " 'player_name',\n",
              " 'type',\n",
              " 'position',\n",
              " 'number',\n",
              " 'team_captain']"
            ]
          },
          "execution_count": 35,
          "metadata": {},
          "output_type": "execute_result"
        }
      ],
      "source": [
        "# Este archivo tiene problemas cargando el esquema, decidimos crear un esquema personalizado para este archivo\n",
        "custom_schema = StructType([\n",
        "    StructField(\"game_lineups_id\", StringType(), True),\n",
        "    StructField(\"date\", DateType(), True),\n",
        "    StructField(\"game_id\", IntegerType(), True),\n",
        "    StructField(\"player_id\", IntegerType(), True),\n",
        "    StructField(\"club_id\", IntegerType(), True),\n",
        "    StructField(\"player_name\", StringType(), True),\n",
        "    StructField(\"type\", StringType(), True),\n",
        "    StructField(\"position\", StringType(), True),\n",
        "    StructField(\"number\", StringType(), True),\n",
        "    StructField(\"team_captain\", IntegerType(), True)\n",
        "])\n",
        "# Cargar el csv\n",
        "df_game_lineups = spark.read.csv(path+\"/game_lineups.csv\", header=True, schema=custom_schema)\n",
        "\n",
        "# Ver las primeras filas\n",
        "df_game_lineups.show(10)\n",
        "df_game_lineups.printSchema()\n",
        "df_game_lineups.columns"
      ]
    },
    {
      "cell_type": "code",
      "execution_count": 36,
      "metadata": {
        "id": "SNXuPMO4iHz4"
      },
      "outputs": [
        {
          "name": "stderr",
          "output_type": "stream",
          "text": [
            "[Stage 99:>                                                         (0 + 1) / 1]\r"
          ]
        },
        {
          "name": "stdout",
          "output_type": "stream",
          "text": [
            "+-------+--------------------+------------------+------------------+------------------+-----------+---------------+--------+------------------+-------------------+\n",
            "|summary|     game_lineups_id|           game_id|         player_id|           club_id|player_name|           type|position|            number|       team_captain|\n",
            "+-------+--------------------+------------------+------------------+------------------+-----------+---------------+--------+------------------+-------------------+\n",
            "|  count|             2285289|           2191911|           2191911|           2191911|    2191911|        2191911| 2191908|           2191911|            2145222|\n",
            "|   mean|8.497272360538228E48| 3079740.595638235|213736.30504979444| 4394.989995031732|       NULL|           NULL|    NULL| 20.89627818164177|0.04718579242614517|\n",
            "| stddev|1.833895644341363...|511107.19825176045|188289.50989901272|10173.590350246237|       NULL|           NULL|    NULL|19.952314721741896|0.21203611573773506|\n",
            "|    min|                   -|           2317258|                10|                 1|  ? Broutas|starting_lineup|  Attack|                 \"|                  0|\n",
            "|    25%|                 8.0|           2611308|             62920|               339|       NULL|           NULL|    NULL|               8.0|                  0|\n",
            "|    50%|                18.0|           3063684|            163401|               985|       NULL|           NULL|    NULL|              16.0|                  0|\n",
            "|    75%|                28.0|           3484182|            312407|              2999|       NULL|           NULL|    NULL|              26.0|                  0|\n",
            "|    max|fffffe7eb72e4d576...|           4300789|           1244435|            102251|Αbdul Razak|    substitutes|midfield|                99|                  1|\n",
            "+-------+--------------------+------------------+------------------+------------------+-----------+---------------+--------+------------------+-------------------+\n",
            "\n"
          ]
        },
        {
          "name": "stderr",
          "output_type": "stream",
          "text": [
            "                                                                                \r"
          ]
        }
      ],
      "source": [
        "mostrar_sumario(df_game_lineups).show()"
      ]
    },
    {
      "cell_type": "code",
      "execution_count": 37,
      "metadata": {
        "id": "auzTJGUSiJpr"
      },
      "outputs": [
        {
          "name": "stdout",
          "output_type": "stream",
          "text": [
            "+---------------+-----+-------+---------+-------+-----------+-----+--------+------+------------+\n",
            "|game_lineups_id| date|game_id|player_id|club_id|player_name| type|position|number|team_captain|\n",
            "+---------------+-----+-------+---------+-------+-----------+-----+--------+------+------------+\n",
            "|              0|93378|  93378|    93378|  93378|      93378|93378|   93381| 93378|      140067|\n",
            "+---------------+-----+-------+---------+-------+-----------+-----+--------+------+------------+\n",
            "\n"
          ]
        }
      ],
      "source": [
        "contar_nulos_por_columna(df_game_lineups).show()"
      ]
    },
    {
      "cell_type": "code",
      "execution_count": 38,
      "metadata": {
        "id": "B2H4lT3L1l5f"
      },
      "outputs": [
        {
          "name": "stdout",
          "output_type": "stream",
          "text": [
            "+--------------------+-----+\n",
            "|game_lineups_id     |count|\n",
            "+--------------------+-----+\n",
            "|                  77|401  |\n",
            "|                  92|55   |\n",
            "|                  91|132  |\n",
            "|                  96|18   |\n",
            "|                  74|37   |\n",
            "|                  45|217  |\n",
            "|                  69|57   |\n",
            "|                  99|386  |\n",
            "|                  68|40   |\n",
            "|                  54|79   |\n",
            "|                  29|799  |\n",
            "|                  26|700  |\n",
            "|                  55|195  |\n",
            "|                  37|341  |\n",
            "|                  17|1430 |\n",
            "|                  24|880  |\n",
            "|                  44|369  |\n",
            "|                  90|149  |\n",
            "|                  38|262  |\n",
            "|                  63|59   |\n",
            "+--------------------+-----+\n",
            "only showing top 20 rows\n"
          ]
        }
      ],
      "source": [
        "duplicados_por_columna(df_game_lineups, \"game_lineups_id\")"
      ]
    },
    {
      "cell_type": "code",
      "execution_count": 39,
      "metadata": {},
      "outputs": [
        {
          "name": "stdout",
          "output_type": "stream",
          "text": [
            "+--------------------+----+-------+---------+-------+-----------+----+--------+------+------------+\n",
            "|     game_lineups_id|date|game_id|player_id|club_id|player_name|type|position|number|team_captain|\n",
            "+--------------------+----+-------+---------+-------+-----------+----+--------+------+------------+\n",
            "|                  77|NULL|   NULL|     NULL|   NULL|       NULL|NULL|    NULL|  NULL|        NULL|\n",
            "|                  77|NULL|   NULL|     NULL|   NULL|       NULL|NULL|    NULL|  NULL|        NULL|\n",
            "|                  77|NULL|   NULL|     NULL|   NULL|       NULL|NULL|    NULL|  NULL|        NULL|\n",
            "|                  77|NULL|   NULL|     NULL|   NULL|       NULL|NULL|    NULL|  NULL|        NULL|\n",
            "|                  77|NULL|   NULL|     NULL|   NULL|       NULL|NULL|    NULL|  NULL|        NULL|\n",
            "|                  77|NULL|   NULL|     NULL|   NULL|       NULL|NULL|    NULL|  NULL|        NULL|\n",
            "|                  77|NULL|   NULL|     NULL|   NULL|       NULL|NULL|    NULL|  NULL|        NULL|\n",
            "|                  77|NULL|   NULL|     NULL|   NULL|       NULL|NULL|    NULL|  NULL|        NULL|\n",
            "|                  77|NULL|   NULL|     NULL|   NULL|       NULL|NULL|    NULL|  NULL|        NULL|\n",
            "|                  77|NULL|   NULL|     NULL|   NULL|       NULL|NULL|    NULL|  NULL|        NULL|\n",
            "|                  77|NULL|   NULL|     NULL|   NULL|       NULL|NULL|    NULL|  NULL|        NULL|\n",
            "|                  77|NULL|   NULL|     NULL|   NULL|       NULL|NULL|    NULL|  NULL|        NULL|\n",
            "|                  77|NULL|   NULL|     NULL|   NULL|       NULL|NULL|    NULL|  NULL|        NULL|\n",
            "|                  77|NULL|   NULL|     NULL|   NULL|       NULL|NULL|    NULL|  NULL|        NULL|\n",
            "|                  77|NULL|   NULL|     NULL|   NULL|       NULL|NULL|    NULL|  NULL|        NULL|\n",
            "|                  77|NULL|   NULL|     NULL|   NULL|       NULL|NULL|    NULL|  NULL|        NULL|\n",
            "|                  77|NULL|   NULL|     NULL|   NULL|       NULL|NULL|    NULL|  NULL|        NULL|\n",
            "|                  77|NULL|   NULL|     NULL|   NULL|       NULL|NULL|    NULL|  NULL|        NULL|\n",
            "|                  77|NULL|   NULL|     NULL|   NULL|       NULL|NULL|    NULL|  NULL|        NULL|\n",
            "|                  77|NULL|   NULL|     NULL|   NULL|       NULL|NULL|    NULL|  NULL|        NULL|\n",
            "+--------------------+----+-------+---------+-------+-----------+----+--------+------+------------+\n",
            "only showing top 20 rows\n"
          ]
        }
      ],
      "source": [
        "from pyspark.sql.functions import trim\n",
        "\n",
        "df_game_lineups.filter(trim(col(\"game_lineups_id\")) == \"77\").show()"
      ]
    },
    {
      "cell_type": "code",
      "execution_count": 40,
      "metadata": {
        "id": "WmyRFUmj5R-q"
      },
      "outputs": [
        {
          "name": "stdout",
          "output_type": "stream",
          "text": [
            "Filas antes de eliminar duplicados: 2285289\n",
            "Filas despues de eliminar duplicados: 2191911\n"
          ]
        }
      ],
      "source": [
        "# Parece que algunas filas se introdujeron incorrectamente y no tienen valores\n",
        "# Eliminaremos esas filas\n",
        "\n",
        "duplicated_ids_df = df_game_lineups.groupBy(\"game_lineups_id\").count().filter(col(\"count\") > 1).select(\"game_lineups_id\")\n",
        "\n",
        "# Convertir el DataFrame de IDs duplicados a una lista de strings\n",
        "# Esto es necesario para usarlo en una operacion de filtrado\n",
        "duplicated_ids_list = [row.game_lineups_id for row in duplicated_ids_df.collect()]\n",
        "\n",
        "# Eliminar las filas con IDs duplicados del DataFrame original\n",
        "df_game_lineups_cleaned = df_game_lineups.filter(~col(\"game_lineups_id\").isin(duplicated_ids_list))\n",
        "\n",
        "# Mostrar el conteo de filas antes y despues para verificar la eliminacion\n",
        "print(f\"Filas antes de eliminar duplicados: {df_game_lineups.count()}\")\n",
        "print(f\"Filas despues de eliminar duplicados: {df_game_lineups_cleaned.count()}\")"
      ]
    },
    {
      "cell_type": "code",
      "execution_count": 41,
      "metadata": {
        "id": "beGLUK7gDx_D"
      },
      "outputs": [
        {
          "name": "stdout",
          "output_type": "stream",
          "text": [
            "+---------------+----+-------+---------+-------+-----------+----+--------+------+------------+\n",
            "|game_lineups_id|date|game_id|player_id|club_id|player_name|type|position|number|team_captain|\n",
            "+---------------+----+-------+---------+-------+-----------+----+--------+------+------------+\n",
            "|              0|   0|      0|        0|      0|          0|   0|       3|     0|       46689|\n",
            "+---------------+----+-------+---------+-------+-----------+----+--------+------+------------+\n",
            "\n"
          ]
        }
      ],
      "source": [
        "# Ver nulos despues de eliminar duplicados\n",
        "contar_nulos_por_columna(df_game_lineups_cleaned).show()"
      ]
    },
    {
      "cell_type": "code",
      "execution_count": 42,
      "metadata": {
        "id": "0vCHslPYECIV"
      },
      "outputs": [
        {
          "name": "stdout",
          "output_type": "stream",
          "text": [
            "+--------------------+----------+-------+---------+-------+--------------------+---------------+------------------+------+------------+\n",
            "|     game_lineups_id|      date|game_id|player_id|club_id|         player_name|           type|          position|number|team_captain|\n",
            "+--------------------+----------+-------+---------+-------+--------------------+---------------+------------------+------+------------+\n",
            "|4615138f1f610cad5...|2024-02-18|4090243|    23523|    206|    Thomas Mikkelsen|    substitutes|        Goalkeeper|     \"|        NULL|\n",
            "|6e93292ea722d3665...|2024-02-18|4090243|    48870|    865|         Jonas Lössl|starting_lineup|        Goalkeeper|     \"|        NULL|\n",
            "|b010f792720e1c3cd...|2024-02-18|4090243|    63463|    206|         Daniel Wass|starting_lineup|  Central Midfield|     \"|        NULL|\n",
            "|e5751e0f3439a7a57...|2024-02-18|4090243|    68983|    206|        Kevin Mensah|    substitutes|        Right-Back|     \"|        NULL|\n",
            "|f886eb307ccf0a92d...|2024-02-18|4090243|    93315|    865|    Henrik Dalsgaard|starting_lineup|        Right-Back|     \"|        NULL|\n",
            "|0b59ec54080a96e7e...|2024-02-18|4090243|   137648|    865|Sverrir Ingi Ingason|starting_lineup|       Centre-Back|     \"|        NULL|\n",
            "|934c1e4672b10a4a4...|2024-02-18|4090243|   160506|    206|     Josip Radosevic|    substitutes|Defensive Midfield|     \"|        NULL|\n",
            "|6f258b4f2e0994863...|2024-02-18|4090243|   169368|    206|      Ohi Omoijuanfo|starting_lineup|    Centre-Forward|     \"|        NULL|\n",
            "|d1eb916336575d637...|2024-02-18|4090243|   218085|    865|         André Römer|starting_lineup|  Central Midfield|     \"|        NULL|\n",
            "|e42ab9f83aa95b812...|2024-02-18|4090243|   223972|    206|       Patrick Pentz|starting_lineup|        Goalkeeper|     \"|        NULL|\n",
            "|c9834cb7067c505ff...|2024-02-18|4090243|   235355|    865|       Alhaji Kamara|    substitutes|    Centre-Forward|     \"|        NULL|\n",
            "|c9b20f8c2f29d3b4f...|2024-02-18|4090243|   237436|    206|       Mathias Greve|starting_lineup|  Central Midfield|     \"|        NULL|\n",
            "|7e12f0ccd18d2e03c...|2024-02-18|4090243|   268113|    206|        Sean Klaiber|starting_lineup|    Right Midfield|     \"|        NULL|\n",
            "|dd11ab2724d81ec34...|2024-02-18|4090243|   277607|    865|       Martin Fraisl|    substitutes|        Goalkeeper|     \"|        NULL|\n",
            "|397d404f8bc2feeaa...|2024-02-18|4090243|   283233|    206|     Jacob Rasmussen|starting_lineup|       Centre-Back|     \"|        NULL|\n",
            "|7ef1863bd26c2543a...|2024-02-18|4090243|   325994|    206|    Rasmus Lauritsen|starting_lineup|       Centre-Back|     \"|        NULL|\n",
            "|7d981a2438fd72350...|2024-02-18|4090243|   372240|    865|  Mads Bech Sörensen|starting_lineup|       Centre-Back|     \"|        NULL|\n",
            "|f86e7aca7400e0696...|2024-02-18|4090243|   383638|    865|             Juninho|    substitutes|    Centre-Forward|     \"|        NULL|\n",
            "|453e6ed9b798d7a46...|2024-02-18|4090243|   499759|    865|     Ola Brynhildsen|starting_lineup|    Centre-Forward|     \"|        NULL|\n",
            "|710a25d73e4cf059e...|2024-02-18|4090243|   514887|    865|         Aral Şimşir|starting_lineup|     Left Midfield|     \"|        NULL|\n",
            "+--------------------+----------+-------+---------+-------+--------------------+---------------+------------------+------+------------+\n",
            "only showing top 20 rows\n"
          ]
        }
      ],
      "source": [
        "# Ver nulos de la columna 'team_captain'\n",
        "df_game_lineups_cleaned.filter(col('team_captain').isNull()).show()"
      ]
    },
    {
      "cell_type": "code",
      "execution_count": 43,
      "metadata": {
        "id": "itFo0PVlGf9l"
      },
      "outputs": [
        {
          "name": "stdout",
          "output_type": "stream",
          "text": [
            "+--------------------+----------+-------+---------+-------+--------------------+---------------+------------------+------+------------+\n",
            "|     game_lineups_id|      date|game_id|player_id|club_id|         player_name|           type|          position|number|team_captain|\n",
            "+--------------------+----------+-------+---------+-------+--------------------+---------------+------------------+------+------------+\n",
            "|4615138f1f610cad5...|2024-02-18|4090243|    23523|    206|    Thomas Mikkelsen|    substitutes|        Goalkeeper|     \"|        NULL|\n",
            "|6e93292ea722d3665...|2024-02-18|4090243|    48870|    865|         Jonas Lössl|starting_lineup|        Goalkeeper|     \"|        NULL|\n",
            "|b010f792720e1c3cd...|2024-02-18|4090243|    63463|    206|         Daniel Wass|starting_lineup|  Central Midfield|     \"|        NULL|\n",
            "|e5751e0f3439a7a57...|2024-02-18|4090243|    68983|    206|        Kevin Mensah|    substitutes|        Right-Back|     \"|        NULL|\n",
            "|f886eb307ccf0a92d...|2024-02-18|4090243|    93315|    865|    Henrik Dalsgaard|starting_lineup|        Right-Back|     \"|        NULL|\n",
            "|0b59ec54080a96e7e...|2024-02-18|4090243|   137648|    865|Sverrir Ingi Ingason|starting_lineup|       Centre-Back|     \"|        NULL|\n",
            "|934c1e4672b10a4a4...|2024-02-18|4090243|   160506|    206|     Josip Radosevic|    substitutes|Defensive Midfield|     \"|        NULL|\n",
            "|6f258b4f2e0994863...|2024-02-18|4090243|   169368|    206|      Ohi Omoijuanfo|starting_lineup|    Centre-Forward|     \"|        NULL|\n",
            "|d1eb916336575d637...|2024-02-18|4090243|   218085|    865|         André Römer|starting_lineup|  Central Midfield|     \"|        NULL|\n",
            "|e42ab9f83aa95b812...|2024-02-18|4090243|   223972|    206|       Patrick Pentz|starting_lineup|        Goalkeeper|     \"|        NULL|\n",
            "|c9834cb7067c505ff...|2024-02-18|4090243|   235355|    865|       Alhaji Kamara|    substitutes|    Centre-Forward|     \"|        NULL|\n",
            "|c9b20f8c2f29d3b4f...|2024-02-18|4090243|   237436|    206|       Mathias Greve|starting_lineup|  Central Midfield|     \"|        NULL|\n",
            "|7e12f0ccd18d2e03c...|2024-02-18|4090243|   268113|    206|        Sean Klaiber|starting_lineup|    Right Midfield|     \"|        NULL|\n",
            "|dd11ab2724d81ec34...|2024-02-18|4090243|   277607|    865|       Martin Fraisl|    substitutes|        Goalkeeper|     \"|        NULL|\n",
            "|397d404f8bc2feeaa...|2024-02-18|4090243|   283233|    206|     Jacob Rasmussen|starting_lineup|       Centre-Back|     \"|        NULL|\n",
            "|7ef1863bd26c2543a...|2024-02-18|4090243|   325994|    206|    Rasmus Lauritsen|starting_lineup|       Centre-Back|     \"|        NULL|\n",
            "|7d981a2438fd72350...|2024-02-18|4090243|   372240|    865|  Mads Bech Sörensen|starting_lineup|       Centre-Back|     \"|        NULL|\n",
            "|f86e7aca7400e0696...|2024-02-18|4090243|   383638|    865|             Juninho|    substitutes|    Centre-Forward|     \"|        NULL|\n",
            "|453e6ed9b798d7a46...|2024-02-18|4090243|   499759|    865|     Ola Brynhildsen|starting_lineup|    Centre-Forward|     \"|        NULL|\n",
            "|710a25d73e4cf059e...|2024-02-18|4090243|   514887|    865|         Aral Şimşir|starting_lineup|     Left Midfield|     \"|        NULL|\n",
            "+--------------------+----------+-------+---------+-------+--------------------+---------------+------------------+------+------------+\n",
            "only showing top 20 rows\n"
          ]
        }
      ],
      "source": [
        "# ver valores vacios de number\n",
        "df_game_lineups_cleaned.filter(col('number') == '\"').show()"
      ]
    },
    {
      "cell_type": "code",
      "execution_count": 44,
      "metadata": {},
      "outputs": [
        {
          "name": "stdout",
          "output_type": "stream",
          "text": [
            "+------+\n",
            "|number|\n",
            "+------+\n",
            "|-     |\n",
            "|\"     |\n",
            "+------+\n",
            "\n"
          ]
        }
      ],
      "source": [
        "from pyspark.sql.functions import col, isnan, trim\n",
        "\n",
        "# Filtrar valores no numéricos (con guiones, letras, vacíos, etc.)\n",
        "df_no_convertibles = df_game_lineups_cleaned.filter(\n",
        "    ~trim(col(\"number\")).rlike(\"^[0-9]+$\") | col(\"number\").isNull() | isnan(col(\"number\"))\n",
        ")\n",
        "\n",
        "df_no_convertibles.select(\"number\").distinct().show(100, truncate=False)\n"
      ]
    },
    {
      "cell_type": "code",
      "execution_count": 45,
      "metadata": {
        "id": "D8bZnbDIFq5Q"
      },
      "outputs": [
        {
          "name": "stdout",
          "output_type": "stream",
          "text": [
            "+---------------+----+-------+---------+-------+-----------+----+--------+------+------------+\n",
            "|game_lineups_id|date|game_id|player_id|club_id|player_name|type|position|number|team_captain|\n",
            "+---------------+----+-------+---------+-------+-----------+----+--------+------+------------+\n",
            "|              0|   0|      0|        0|      0|          0|   0|       3|     0|           0|\n",
            "+---------------+----+-------+---------+-------+-----------+----+--------+------+------------+\n",
            "\n"
          ]
        }
      ],
      "source": [
        "# Algunos valores de 'team_captain' estan nulos y 'number' tiene varios vacios\n",
        "# Sustituimos los nulos de 'team_captain' y los vacios de 'number' por 0\n",
        "df_game_lineups_cleaned = df_game_lineups_cleaned.withColumn(\n",
        "    \"team_captain\",\n",
        "    when(col(\"team_captain\").isNull(), 0).otherwise(col(\"team_captain\"))\n",
        ")\n",
        "from pyspark.sql.functions import col, trim, when\n",
        "\n",
        "df_game_lineups_cleaned = df_game_lineups_cleaned.withColumn(\n",
        "    \"number\",\n",
        "    when(trim(col(\"number\")).rlike(\"^[0-9]+$\"), col(\"number\").cast(\"int\")).otherwise(0)\n",
        ")\n",
        "\n",
        "# Ver nulos de nuevo\n",
        "contar_nulos_por_columna(df_game_lineups_cleaned).show()"
      ]
    },
    {
      "cell_type": "code",
      "execution_count": 46,
      "metadata": {
        "id": "k9gfR-W-HE1g"
      },
      "outputs": [
        {
          "name": "stdout",
          "output_type": "stream",
          "text": [
            "+--------------------+----------+-------+---------+-------+----------------+---------------+--------+------+------------+\n",
            "|     game_lineups_id|      date|game_id|player_id|club_id|     player_name|           type|position|number|team_captain|\n",
            "+--------------------+----------+-------+---------+-------+----------------+---------------+--------+------+------------+\n",
            "|efbdeff16a683e068...|2014-08-16|2469561|   336850|  25418|    Shaun Dunion|starting_lineup|    NULL|     0|           0|\n",
            "|8e0d3d1774f12f52c...|2015-08-26|2597514|   415060|   6601|   Jimmy Theelen|starting_lineup|    NULL|     0|           0|\n",
            "|22014173b77618f43...|2015-08-26|2597514|   415063|   6601|Bart Zeevenhoven|    substitutes|    NULL|     0|           0|\n",
            "+--------------------+----------+-------+---------+-------+----------------+---------------+--------+------+------------+\n",
            "\n"
          ]
        }
      ],
      "source": [
        "# Ver nulos en la columna 'position'\n",
        "df_game_lineups_cleaned.filter(col('position').isNull()).show()"
      ]
    },
    {
      "cell_type": "code",
      "execution_count": 47,
      "metadata": {
        "id": "p21kFdHQHKtc"
      },
      "outputs": [
        {
          "name": "stdout",
          "output_type": "stream",
          "text": [
            "+--------------------+----------+-------+---------+-------+--------------------+---------------+------------------+------+------------+\n",
            "|     game_lineups_id|      date|game_id|player_id|club_id|         player_name|           type|          position|number|team_captain|\n",
            "+--------------------+----------+-------+---------+-------+--------------------+---------------+------------------+------+------------+\n",
            "|b2dbe01c3656b06c8...|2013-07-27|2317258|     1443|    610|   Christian Poulsen|    substitutes|Defensive Midfield|     5|           0|\n",
            "|b50a3ec6d52fd1490...|2013-07-27|2317258|     5017|    610|    Niklas Moisander|starting_lineup|       Centre-Back|     4|           0|\n",
            "|7d890e6d0ff8af84b...|2013-07-27|2317258|     9602|   1090|     Maarten Martens|    substitutes|       Left Winger|    11|           0|\n",
            "|8c355268678b9bbc7...|2013-07-27|2317258|    12282|    610|         Daley Blind|starting_lineup|         Left-Back|    17|           0|\n",
            "|76193074d549e5fdc...|2013-07-27|2317258|    25427|   1090|         Roy Beerens|starting_lineup|      Right Winger|    23|           0|\n",
            "|e5684d3b01123e27e...|2013-07-27|2317258|    28815|   1090|         Jan Wuytens|starting_lineup|       Centre-Back|    29|           0|\n",
            "|d196e3ec2f03110a5...|2013-07-27|2317258|    30290|    610|     Kenneth Vermeer|starting_lineup|        Goalkeeper|     1|           0|\n",
            "|e9e1212e3ba0dabdf...|2013-07-27|2317258|    34784|    610|        Lasse Schöne|starting_lineup|Defensive Midfield|    20|           0|\n",
            "|53ca254113ffc1b2f...|2013-07-27|2317258|    36391|   1090|          Viktor Elm|starting_lineup|Defensive Midfield|    12|           0|\n",
            "|03fe553a31b7cc907...|2013-07-27|2317258|    42266|   1090|      Yves De Winter|    substitutes|        Goalkeeper|    16|           0|\n",
            "|1412e8a9285378507...|2013-07-27|2317258|    42710|    610|   Toby Alderweireld|starting_lineup|       Centre-Back|     3|           0|\n",
            "|55159dbf91561a01b...|2013-07-27|2317258|    44675|    610|         Bojan Krkic|starting_lineup|      Right Winger|    11|           0|\n",
            "|be9fbdcde744131e2...|2013-07-27|2317258|    45509|    610|        Siem de Jong|starting_lineup|Attacking Midfield|    10|           1|\n",
            "|d25d1f3a4bd28e3b9...|2013-07-27|2317258|    52246|    610|Kolbeinn Sigthórsson|starting_lineup|    Centre-Forward|     9|           0|\n",
            "|d51bc97b0db40f004...|2013-07-27|2317258|    56534|   1090|        Donny Gorter|    substitutes|         Left-Back|     5|           0|\n",
            "|ac1c4c90cf314ad3f...|2013-07-27|2317258|    69633|    610|   Christian Eriksen|starting_lineup|  Central Midfield|     8|           0|\n",
            "|091c126bd4e71488d...|2013-07-27|2317258|    69642|    610|    Nicolai Boilesen|    substitutes|         Left-Back|    15|           0|\n",
            "|37f4184cf76506a50...|2013-07-27|2317258|    74294|   1090|      Nemanja Gudelj|starting_lineup|  Central Midfield|    27|           0|\n",
            "|d4c2262dc4bacc63d...|2013-07-27|2317258|    80709|   1090|     Willie Overtoom|    substitutes|Attacking Midfield|    10|           0|\n",
            "|4c0ba30ea80ef6c58...|2013-07-27|2317258|    81163|    610|        Danny Hoesen|    substitutes|    Centre-Forward|    23|           0|\n",
            "+--------------------+----------+-------+---------+-------+--------------------+---------------+------------------+------+------------+\n",
            "only showing top 20 rows\n"
          ]
        }
      ],
      "source": [
        "# Sustituir posiciones nulas por 'Unkown'\n",
        "df_game_lineups_cleaned = df_game_lineups_cleaned.withColumn(\n",
        "    \"position\",\n",
        "    when(col(\"position\").isNull(), \"Unknown\").otherwise(col(\"position\"))\n",
        ")\n",
        "df_game_lineups_cleaned.show()"
      ]
    },
    {
      "cell_type": "markdown",
      "metadata": {
        "id": "0XzaYOSaaQ8C"
      },
      "source": [
        "# Archivo \"appearances.csv\""
      ]
    },
    {
      "cell_type": "code",
      "execution_count": 48,
      "metadata": {
        "id": "5KfdG2RJaRJN"
      },
      "outputs": [
        {
          "name": "stdout",
          "output_type": "stream",
          "text": [
            "+--------------+-------+---------+--------------+----------------------+----------+----------------+--------------+------------+---------+-----+-------+--------------+\n",
            "| appearance_id|game_id|player_id|player_club_id|player_current_club_id|      date|     player_name|competition_id|yellow_cards|red_cards|goals|assists|minutes_played|\n",
            "+--------------+-------+---------+--------------+----------------------+----------+----------------+--------------+------------+---------+-----+-------+--------------+\n",
            "| 2231978_38004|2231978|    38004|           853|                   235|2012-07-03|Aurélien Joachim|           CLQ|           0|        0|    2|      0|            90|\n",
            "| 2233748_79232|2233748|    79232|          8841|                  2698|2012-07-05|  Ruslan Abyshov|           ELQ|           0|        0|    0|      0|            90|\n",
            "| 2234413_42792|2234413|    42792|          6251|                   465|2012-07-05|     Sander Puri|           ELQ|           0|        0|    0|      0|            45|\n",
            "| 2234418_73333|2234418|    73333|          1274|                  6646|2012-07-05| Vegar Hedenstad|           ELQ|           0|        0|    0|      0|            90|\n",
            "|2234421_122011|2234421|   122011|           195|                  3008|2012-07-05|Markus Henriksen|           ELQ|           0|        0|    0|      1|            90|\n",
            "|2234421_146889|2234421|   146889|           195|                  2778|2012-07-05|  Peter Ankersen|           ELQ|           1|        0|    0|      0|            90|\n",
            "| 2235539_28716|2235539|    28716|           282|                  7185|2012-07-05|    Adi Adilovic|           ELQ|           0|        0|    0|      0|            90|\n",
            "| 2235539_69445|2235539|    69445|           282|                 19771|2012-07-05|      Ivan Sesar|           ELQ|           1|        0|    0|      1|            90|\n",
            "| 2235545_19409|2235545|    19409|           317|                   200|2012-07-05|  Willem Janssen|           ELQ|           0|        0|    0|      0|            45|\n",
            "| 2235545_30003|2235545|    30003|           317|                   317|2012-07-05|      Wout Brama|           ELQ|           0|        0|    0|      0|            90|\n",
            "+--------------+-------+---------+--------------+----------------------+----------+----------------+--------------+------------+---------+-----+-------+--------------+\n",
            "only showing top 10 rows\n",
            "root\n",
            " |-- appearance_id: string (nullable = true)\n",
            " |-- game_id: integer (nullable = true)\n",
            " |-- player_id: integer (nullable = true)\n",
            " |-- player_club_id: integer (nullable = true)\n",
            " |-- player_current_club_id: integer (nullable = true)\n",
            " |-- date: date (nullable = true)\n",
            " |-- player_name: string (nullable = true)\n",
            " |-- competition_id: string (nullable = true)\n",
            " |-- yellow_cards: integer (nullable = true)\n",
            " |-- red_cards: integer (nullable = true)\n",
            " |-- goals: integer (nullable = true)\n",
            " |-- assists: integer (nullable = true)\n",
            " |-- minutes_played: integer (nullable = true)\n",
            "\n"
          ]
        },
        {
          "data": {
            "text/plain": [
              "['appearance_id',\n",
              " 'game_id',\n",
              " 'player_id',\n",
              " 'player_club_id',\n",
              " 'player_current_club_id',\n",
              " 'date',\n",
              " 'player_name',\n",
              " 'competition_id',\n",
              " 'yellow_cards',\n",
              " 'red_cards',\n",
              " 'goals',\n",
              " 'assists',\n",
              " 'minutes_played']"
            ]
          },
          "execution_count": 48,
          "metadata": {},
          "output_type": "execute_result"
        }
      ],
      "source": [
        "# Cargar el csv\n",
        "df_appearances = spark.read.csv(path + \"/appearances.csv\", header=True, inferSchema=True)\n",
        "\n",
        "# Ver las primeras filas\n",
        "df_appearances.show(10)\n",
        "df_appearances.printSchema()\n",
        "df_appearances.columns"
      ]
    },
    {
      "cell_type": "code",
      "execution_count": 49,
      "metadata": {
        "id": "plnn2J9Sf7_i"
      },
      "outputs": [
        {
          "name": "stderr",
          "output_type": "stream",
          "text": [
            "[Stage 150:>                                                        (0 + 1) / 1]\r"
          ]
        },
        {
          "name": "stdout",
          "output_type": "stream",
          "text": [
            "+-------+--------------+-----------------+------------------+------------------+----------------------+-----------+--------------+-------------------+--------------------+-------------------+-------------------+-----------------+\n",
            "|summary| appearance_id|          game_id|         player_id|    player_club_id|player_current_club_id|player_name|competition_id|       yellow_cards|           red_cards|              goals|            assists|   minutes_played|\n",
            "+-------+--------------+-----------------+------------------+------------------+----------------------+-----------+--------------+-------------------+--------------------+-------------------+-------------------+-----------------+\n",
            "|  count|       1706806|          1706806|           1706806|           1706806|               1706806|    1706800|       1706806|            1706806|             1706806|            1706806|            1706806|          1706806|\n",
            "|   mean|          NULL|3166096.010632726|209974.54851283625|3138.2895976461296|     3991.235146818092|       NULL|          NULL|0.14723290168888556|0.003783089583701...|0.09589431956531674|0.07549539900844032|69.06124539051304|\n",
            "| stddev|          NULL|665119.6214195183| 194400.8137060094| 8315.815390318292|    10847.056601033748|       NULL|          NULL|0.36537988452870984| 0.06139039033100314| 0.3309348787594954|0.28556141705005694|29.99313060789702|\n",
            "|    min|2211607_111184|          2211607|                10|                 1|                    -1|A.J. Soares|           BE1|                  0|                   0|                  0|                  0|                1|\n",
            "|    25%|          NULL|          2589008|             58396|               289|                   331|       NULL|          NULL|                  0|                   0|                  0|                  0|               45|\n",
            "|    50%|          NULL|          3080786|            149551|               826|                   903|       NULL|          NULL|                  0|                   0|                  0|                  0|               90|\n",
            "|    75%|          NULL|          3621600|            306609|              2439|                  2696|       NULL|          NULL|                  0|                   0|                  0|                  0|               90|\n",
            "|    max|4572898_996897|          4572898|           1380876|            110302|                110302|Αbdul Razak|           USC|                  2|                   1|                  6|                  6|              148|\n",
            "+-------+--------------+-----------------+------------------+------------------+----------------------+-----------+--------------+-------------------+--------------------+-------------------+-------------------+-----------------+\n",
            "\n"
          ]
        },
        {
          "name": "stderr",
          "output_type": "stream",
          "text": [
            "                                                                                \r"
          ]
        }
      ],
      "source": [
        "mostrar_sumario(df_appearances).show()"
      ]
    },
    {
      "cell_type": "code",
      "execution_count": 50,
      "metadata": {
        "id": "e-TL8-gqf9Ua"
      },
      "outputs": [
        {
          "name": "stdout",
          "output_type": "stream",
          "text": [
            "+-------------+-------+---------+--------------+----------------------+----+-----------+--------------+------------+---------+-----+-------+--------------+\n",
            "|appearance_id|game_id|player_id|player_club_id|player_current_club_id|date|player_name|competition_id|yellow_cards|red_cards|goals|assists|minutes_played|\n",
            "+-------------+-------+---------+--------------+----------------------+----+-----------+--------------+------------+---------+-----+-------+--------------+\n",
            "|            0|      0|        0|             0|                     0|   0|          6|             0|           0|        0|    0|      0|             0|\n",
            "+-------------+-------+---------+--------------+----------------------+----+-----------+--------------+------------+---------+-----+-------+--------------+\n",
            "\n"
          ]
        }
      ],
      "source": [
        "contar_nulos_por_columna(df_appearances).show()"
      ]
    },
    {
      "cell_type": "code",
      "execution_count": 51,
      "metadata": {
        "id": "nESB0ZH8f-Xh"
      },
      "outputs": [
        {
          "name": "stdout",
          "output_type": "stream",
          "text": [
            "+-------------+-----+\n",
            "|appearance_id|count|\n",
            "+-------------+-----+\n",
            "+-------------+-----+\n",
            "\n"
          ]
        }
      ],
      "source": [
        "duplicados_por_columna(df_appearances, \"appearance_id\")"
      ]
    },
    {
      "cell_type": "code",
      "execution_count": 52,
      "metadata": {
        "id": "iuH2hxtkga0Z"
      },
      "outputs": [
        {
          "name": "stdout",
          "output_type": "stream",
          "text": [
            "+--------------+-------+---------+--------------+----------------------+----------+-----------+--------------+------------+---------+-----+-------+--------------+\n",
            "| appearance_id|game_id|player_id|player_club_id|player_current_club_id|      date|player_name|competition_id|yellow_cards|red_cards|goals|assists|minutes_played|\n",
            "+--------------+-------+---------+--------------+----------------------+----------+-----------+--------------+------------+---------+-----+-------+--------------+\n",
            "|3084062_380365|3084062|   380365|         16486|                    -1|2018-09-05|       NULL|           CDR|           1|        0|    0|      0|            90|\n",
            "|3084059_411294|3084059|   411294|          3302|                    -1|2018-09-11|       NULL|           CDR|           0|        0|    0|      0|            90|\n",
            "|3084057_255495|3084057|   255495|         11596|                    -1|2018-09-12|       NULL|           CDR|           0|        0|    0|      0|            90|\n",
            "|3102749_380365|3102749|   380365|         16486|                    -1|2018-09-12|       NULL|           CDR|           0|        0|    0|      0|           120|\n",
            "|3106648_255495|3106648|   255495|         11596|                    -1|2018-10-17|       NULL|           CDR|           0|        0|    0|      0|            90|\n",
            "|3118604_411294|3118604|   411294|          3302|                    -1|2018-12-05|       NULL|           CDR|           0|        0|    0|      0|            49|\n",
            "+--------------+-------+---------+--------------+----------------------+----------+-----------+--------------+------------+---------+-----+-------+--------------+\n",
            "\n"
          ]
        }
      ],
      "source": [
        "# Ver nulos de la columna 'player_name'\n",
        "df_appearances.filter(col('player_name').isNull()).show()"
      ]
    },
    {
      "cell_type": "code",
      "execution_count": 53,
      "metadata": {
        "id": "chZmaFkQhMIp"
      },
      "outputs": [
        {
          "name": "stdout",
          "output_type": "stream",
          "text": [
            "+--------------+-------+---------+--------------+----------------------+----------+-----------+--------------+------------+---------+-----+-------+--------------+\n",
            "| appearance_id|game_id|player_id|player_club_id|player_current_club_id|      date|player_name|competition_id|yellow_cards|red_cards|goals|assists|minutes_played|\n",
            "+--------------+-------+---------+--------------+----------------------+----------+-----------+--------------+------------+---------+-----+-------+--------------+\n",
            "|3084062_380365|3084062|   380365|         16486|                    -1|2018-09-05|       NULL|           CDR|           1|        0|    0|      0|            90|\n",
            "|3084059_411294|3084059|   411294|          3302|                    -1|2018-09-11|       NULL|           CDR|           0|        0|    0|      0|            90|\n",
            "|3084057_255495|3084057|   255495|         11596|                    -1|2018-09-12|       NULL|           CDR|           0|        0|    0|      0|            90|\n",
            "|3102749_380365|3102749|   380365|         16486|                    -1|2018-09-12|       NULL|           CDR|           0|        0|    0|      0|           120|\n",
            "|3106648_255495|3106648|   255495|         11596|                    -1|2018-10-17|       NULL|           CDR|           0|        0|    0|      0|            90|\n",
            "|3118604_411294|3118604|   411294|          3302|                    -1|2018-12-05|       NULL|           CDR|           0|        0|    0|      0|            49|\n",
            "+--------------+-------+---------+--------------+----------------------+----------+-----------+--------------+------------+---------+-----+-------+--------------+\n",
            "\n"
          ]
        }
      ],
      "source": [
        "# Ver valores en 'player_current_club_id'= -1\n",
        "df_appearances.filter(col('player_current_club_id') == -1).show()"
      ]
    },
    {
      "cell_type": "code",
      "execution_count": 54,
      "metadata": {
        "id": "t7CoJ0sAhnLF"
      },
      "outputs": [
        {
          "name": "stdout",
          "output_type": "stream",
          "text": [
            "+-------------+-------+---------+--------------+----------------------+----+-----------+--------------+------------+---------+-----+-------+--------------+\n",
            "|appearance_id|game_id|player_id|player_club_id|player_current_club_id|date|player_name|competition_id|yellow_cards|red_cards|goals|assists|minutes_played|\n",
            "+-------------+-------+---------+--------------+----------------------+----+-----------+--------------+------------+---------+-----+-------+--------------+\n",
            "|            0|      0|        0|             0|                     0|   0|          0|             0|           0|        0|    0|      0|             0|\n",
            "+-------------+-------+---------+--------------+----------------------+----+-----------+--------------+------------+---------+-----+-------+--------------+\n",
            "\n",
            "+--------------+-------+---------+--------------+----------------------+----------+----------------+--------------+------------+---------+-----+-------+--------------+\n",
            "| appearance_id|game_id|player_id|player_club_id|player_current_club_id|      date|     player_name|competition_id|yellow_cards|red_cards|goals|assists|minutes_played|\n",
            "+--------------+-------+---------+--------------+----------------------+----------+----------------+--------------+------------+---------+-----+-------+--------------+\n",
            "| 2231978_38004|2231978|    38004|           853|                   235|2012-07-03|Aurélien Joachim|           CLQ|           0|        0|    2|      0|            90|\n",
            "| 2233748_79232|2233748|    79232|          8841|                  2698|2012-07-05|  Ruslan Abyshov|           ELQ|           0|        0|    0|      0|            90|\n",
            "| 2234413_42792|2234413|    42792|          6251|                   465|2012-07-05|     Sander Puri|           ELQ|           0|        0|    0|      0|            45|\n",
            "| 2234418_73333|2234418|    73333|          1274|                  6646|2012-07-05| Vegar Hedenstad|           ELQ|           0|        0|    0|      0|            90|\n",
            "|2234421_122011|2234421|   122011|           195|                  3008|2012-07-05|Markus Henriksen|           ELQ|           0|        0|    0|      1|            90|\n",
            "|2234421_146889|2234421|   146889|           195|                  2778|2012-07-05|  Peter Ankersen|           ELQ|           1|        0|    0|      0|            90|\n",
            "| 2235539_28716|2235539|    28716|           282|                  7185|2012-07-05|    Adi Adilovic|           ELQ|           0|        0|    0|      0|            90|\n",
            "| 2235539_69445|2235539|    69445|           282|                 19771|2012-07-05|      Ivan Sesar|           ELQ|           1|        0|    0|      1|            90|\n",
            "| 2235545_19409|2235545|    19409|           317|                   200|2012-07-05|  Willem Janssen|           ELQ|           0|        0|    0|      0|            45|\n",
            "| 2235545_30003|2235545|    30003|           317|                   317|2012-07-05|      Wout Brama|           ELQ|           0|        0|    0|      0|            90|\n",
            "| 2235545_30667|2235545|    30667|           317|                   317|2012-07-05|Robbert Schilder|           ELQ|           0|        0|    2|      1|            90|\n",
            "| 2235545_34129|2235545|    34129|           317|                  1435|2012-07-05|  Wesley Verhoek|           ELQ|           0|        0|    0|      0|            90|\n",
            "| 2235545_36139|2235545|    36139|           317|                    36|2012-07-05|     Dušan Tadić|           ELQ|           0|        0|    1|      0|            45|\n",
            "|  2235545_4520|2235545|     4520|           317|                   317|2012-07-05| Peter Wisgerhof|           ELQ|           0|        0|    0|      0|            90|\n",
            "|  2235545_4582|2235545|     4582|           317|                   317|2012-07-05| Sander Boschker|           ELQ|           0|        0|    0|      0|            90|\n",
            "| 2235545_47740|2235545|    47740|           317|                  1426|2012-07-05|    Nils Röseler|           ELQ|           0|        0|    0|      0|            90|\n",
            "| 2235545_59631|2235545|    59631|           317|                  6890|2012-07-05|    Nacer Chadli|           ELQ|           0|        0|    0|      3|            45|\n",
            "| 2235545_60312|2235545|    60312|           317|                  1426|2012-07-05|     Joshua John|           ELQ|           0|        0|    1|      1|            45|\n",
            "| 2235545_63342|2235545|    63342|           317|                 11282|2012-07-05|       Leroy Fer|           ELQ|           0|        0|    0|      0|            26|\n",
            "| 2235545_63356|2235545|    63356|           317|                  1304|2012-07-05|    Tim Breukers|           ELQ|           0|        0|    0|      0|            90|\n",
            "+--------------+-------+---------+--------------+----------------------+----------+----------------+--------------+------------+---------+-----+-------+--------------+\n",
            "only showing top 20 rows\n"
          ]
        }
      ],
      "source": [
        "# Existen 6 jugadores sin nombre y con 'player_current_club_id'= -1, son los unicos valores con este id\n",
        "# Creemos que es un fallo y decidimos eliminarlos\n",
        "df_appearances = df_appearances.filter(col('player_current_club_id') != -1)\n",
        "# Ver nulos de nuevo\n",
        "contar_nulos_por_columna(df_appearances).show()\n",
        "df_appearances.show()"
      ]
    },
    {
      "cell_type": "markdown",
      "metadata": {
        "id": "kBZA7ENsiACH"
      },
      "source": [
        "# Archivo \"player_valuations.csv\""
      ]
    },
    {
      "cell_type": "code",
      "execution_count": 55,
      "metadata": {
        "id": "bKodh7QLiF9e"
      },
      "outputs": [
        {
          "name": "stderr",
          "output_type": "stream",
          "text": [
            "25/06/11 21:29:32 WARN FileStreamSink: Assume no metadata directory. Error while looking for metadata directory in the path: /kaggle/input/player-scores/player_valuations.csv.\n",
            "java.io.FileNotFoundException: File /kaggle/input/player-scores/player_valuations.csv does not exist\n",
            "\tat org.apache.hadoop.fs.RawLocalFileSystem.deprecatedGetFileStatus(RawLocalFileSystem.java:917)\n",
            "\tat org.apache.hadoop.fs.RawLocalFileSystem.getFileLinkStatusInternal(RawLocalFileSystem.java:1238)\n",
            "\tat org.apache.hadoop.fs.RawLocalFileSystem.getFileStatus(RawLocalFileSystem.java:907)\n",
            "\tat org.apache.hadoop.fs.FilterFileSystem.getFileStatus(FilterFileSystem.java:462)\n",
            "\tat org.apache.spark.sql.execution.streaming.FileStreamSink$.hasMetadata(FileStreamSink.scala:56)\n",
            "\tat org.apache.spark.sql.execution.datasources.DataSource.resolveRelation(DataSource.scala:381)\n",
            "\tat org.apache.spark.sql.catalyst.analysis.ResolveDataSource.org$apache$spark$sql$catalyst$analysis$ResolveDataSource$$loadV1BatchSource(ResolveDataSource.scala:143)\n",
            "\tat org.apache.spark.sql.catalyst.analysis.ResolveDataSource$$anonfun$apply$1.$anonfun$applyOrElse$2(ResolveDataSource.scala:61)\n",
            "\tat scala.Option.getOrElse(Option.scala:201)\n",
            "\tat org.apache.spark.sql.catalyst.analysis.ResolveDataSource$$anonfun$apply$1.applyOrElse(ResolveDataSource.scala:61)\n",
            "\tat org.apache.spark.sql.catalyst.analysis.ResolveDataSource$$anonfun$apply$1.applyOrElse(ResolveDataSource.scala:45)\n",
            "\tat org.apache.spark.sql.catalyst.plans.logical.AnalysisHelper.$anonfun$resolveOperatorsUpWithPruning$3(AnalysisHelper.scala:139)\n",
            "\tat org.apache.spark.sql.catalyst.trees.CurrentOrigin$.withOrigin(origin.scala:86)\n",
            "\tat org.apache.spark.sql.catalyst.plans.logical.AnalysisHelper.$anonfun$resolveOperatorsUpWithPruning$1(AnalysisHelper.scala:139)\n",
            "\tat org.apache.spark.sql.catalyst.plans.logical.AnalysisHelper$.allowInvokingTransformsInAnalyzer(AnalysisHelper.scala:416)\n",
            "\tat org.apache.spark.sql.catalyst.plans.logical.AnalysisHelper.resolveOperatorsUpWithPruning(AnalysisHelper.scala:135)\n",
            "\tat org.apache.spark.sql.catalyst.plans.logical.AnalysisHelper.resolveOperatorsUpWithPruning$(AnalysisHelper.scala:131)\n",
            "\tat org.apache.spark.sql.catalyst.plans.logical.LogicalPlan.resolveOperatorsUpWithPruning(LogicalPlan.scala:37)\n",
            "\tat org.apache.spark.sql.catalyst.plans.logical.AnalysisHelper.resolveOperatorsUp(AnalysisHelper.scala:112)\n",
            "\tat org.apache.spark.sql.catalyst.plans.logical.AnalysisHelper.resolveOperatorsUp$(AnalysisHelper.scala:111)\n",
            "\tat org.apache.spark.sql.catalyst.plans.logical.LogicalPlan.resolveOperatorsUp(LogicalPlan.scala:37)\n",
            "\tat org.apache.spark.sql.catalyst.analysis.ResolveDataSource.apply(ResolveDataSource.scala:45)\n",
            "\tat org.apache.spark.sql.catalyst.analysis.ResolveDataSource.apply(ResolveDataSource.scala:43)\n",
            "\tat org.apache.spark.sql.catalyst.rules.RuleExecutor.$anonfun$execute$2(RuleExecutor.scala:242)\n",
            "\tat scala.collection.LinearSeqOps.foldLeft(LinearSeq.scala:183)\n",
            "\tat scala.collection.LinearSeqOps.foldLeft$(LinearSeq.scala:179)\n",
            "\tat scala.collection.immutable.List.foldLeft(List.scala:79)\n",
            "\tat org.apache.spark.sql.catalyst.rules.RuleExecutor.$anonfun$execute$1(RuleExecutor.scala:239)\n",
            "\tat org.apache.spark.sql.catalyst.rules.RuleExecutor.$anonfun$execute$1$adapted(RuleExecutor.scala:231)\n",
            "\tat scala.collection.immutable.List.foreach(List.scala:334)\n",
            "\tat org.apache.spark.sql.catalyst.rules.RuleExecutor.execute(RuleExecutor.scala:231)\n",
            "\tat org.apache.spark.sql.catalyst.analysis.Analyzer.org$apache$spark$sql$catalyst$analysis$Analyzer$$executeSameContext(Analyzer.scala:290)\n",
            "\tat org.apache.spark.sql.catalyst.analysis.Analyzer.$anonfun$execute$1(Analyzer.scala:286)\n",
            "\tat org.apache.spark.sql.catalyst.analysis.AnalysisContext$.withNewAnalysisContext(Analyzer.scala:234)\n",
            "\tat org.apache.spark.sql.catalyst.analysis.Analyzer.execute(Analyzer.scala:286)\n",
            "\tat org.apache.spark.sql.catalyst.analysis.Analyzer.execute(Analyzer.scala:249)\n",
            "\tat org.apache.spark.sql.catalyst.rules.RuleExecutor.$anonfun$executeAndTrack$1(RuleExecutor.scala:201)\n",
            "\tat org.apache.spark.sql.catalyst.QueryPlanningTracker$.withTracker(QueryPlanningTracker.scala:89)\n",
            "\tat org.apache.spark.sql.catalyst.rules.RuleExecutor.executeAndTrack(RuleExecutor.scala:201)\n",
            "\tat org.apache.spark.sql.catalyst.analysis.resolver.HybridAnalyzer.resolveInFixedPoint(HybridAnalyzer.scala:190)\n",
            "\tat org.apache.spark.sql.catalyst.analysis.resolver.HybridAnalyzer.$anonfun$apply$1(HybridAnalyzer.scala:76)\n",
            "\tat org.apache.spark.sql.catalyst.analysis.resolver.HybridAnalyzer.withTrackedAnalyzerBridgeState(HybridAnalyzer.scala:111)\n",
            "\tat org.apache.spark.sql.catalyst.analysis.resolver.HybridAnalyzer.apply(HybridAnalyzer.scala:71)\n",
            "\tat org.apache.spark.sql.catalyst.analysis.Analyzer.$anonfun$executeAndCheck$1(Analyzer.scala:280)\n",
            "\tat org.apache.spark.sql.catalyst.plans.logical.AnalysisHelper$.markInAnalyzer(AnalysisHelper.scala:423)\n",
            "\tat org.apache.spark.sql.catalyst.analysis.Analyzer.executeAndCheck(Analyzer.scala:280)\n",
            "\tat org.apache.spark.sql.execution.QueryExecution.$anonfun$lazyAnalyzed$2(QueryExecution.scala:110)\n",
            "\tat org.apache.spark.sql.catalyst.QueryPlanningTracker.measurePhase(QueryPlanningTracker.scala:148)\n",
            "\tat org.apache.spark.sql.execution.QueryExecution.$anonfun$executePhase$2(QueryExecution.scala:278)\n",
            "\tat org.apache.spark.sql.execution.QueryExecution$.withInternalError(QueryExecution.scala:654)\n",
            "\tat org.apache.spark.sql.execution.QueryExecution.$anonfun$executePhase$1(QueryExecution.scala:278)\n",
            "\tat org.apache.spark.sql.SparkSession.withActive(SparkSession.scala:804)\n",
            "\tat org.apache.spark.sql.execution.QueryExecution.executePhase(QueryExecution.scala:277)\n",
            "\tat org.apache.spark.sql.execution.QueryExecution.$anonfun$lazyAnalyzed$1(QueryExecution.scala:110)\n",
            "\tat scala.util.Try$.apply(Try.scala:217)\n",
            "\tat org.apache.spark.util.Utils$.doTryWithCallerStacktrace(Utils.scala:1378)\n",
            "\tat org.apache.spark.util.LazyTry.tryT$lzycompute(LazyTry.scala:46)\n",
            "\tat org.apache.spark.util.LazyTry.tryT(LazyTry.scala:46)\n",
            "\tat org.apache.spark.util.LazyTry.get(LazyTry.scala:58)\n",
            "\tat org.apache.spark.sql.execution.QueryExecution.analyzed(QueryExecution.scala:121)\n",
            "\tat org.apache.spark.sql.execution.QueryExecution.assertAnalyzed(QueryExecution.scala:80)\n",
            "\tat org.apache.spark.sql.classic.Dataset$.$anonfun$ofRows$1(Dataset.scala:115)\n",
            "\tat org.apache.spark.sql.SparkSession.withActive(SparkSession.scala:804)\n",
            "\tat org.apache.spark.sql.classic.Dataset$.ofRows(Dataset.scala:113)\n",
            "\tat org.apache.spark.sql.classic.DataFrameReader.load(DataFrameReader.scala:109)\n",
            "\tat org.apache.spark.sql.classic.DataFrameReader.load(DataFrameReader.scala:58)\n",
            "\tat org.apache.spark.sql.DataFrameReader.csv(DataFrameReader.scala:392)\n",
            "\tat org.apache.spark.sql.classic.DataFrameReader.csv(DataFrameReader.scala:259)\n",
            "\tat org.apache.spark.sql.classic.DataFrameReader.csv(DataFrameReader.scala:58)\n",
            "\tat java.base/jdk.internal.reflect.NativeMethodAccessorImpl.invoke0(Native Method)\n",
            "\tat java.base/jdk.internal.reflect.NativeMethodAccessorImpl.invoke(NativeMethodAccessorImpl.java:77)\n",
            "\tat java.base/jdk.internal.reflect.DelegatingMethodAccessorImpl.invoke(DelegatingMethodAccessorImpl.java:43)\n",
            "\tat java.base/java.lang.reflect.Method.invoke(Method.java:569)\n",
            "\tat py4j.reflection.MethodInvoker.invoke(MethodInvoker.java:244)\n",
            "\tat py4j.reflection.ReflectionEngine.invoke(ReflectionEngine.java:374)\n",
            "\tat py4j.Gateway.invoke(Gateway.java:282)\n",
            "\tat py4j.commands.AbstractCommand.invokeMethod(AbstractCommand.java:132)\n",
            "\tat py4j.commands.CallCommand.execute(CallCommand.java:79)\n",
            "\tat py4j.ClientServerConnection.waitForCommands(ClientServerConnection.java:184)\n",
            "\tat py4j.ClientServerConnection.run(ClientServerConnection.java:108)\n",
            "\tat java.base/java.lang.Thread.run(Thread.java:840)\n"
          ]
        },
        {
          "ename": "AnalysisException",
          "evalue": "[PATH_NOT_FOUND] Path does not exist: file:/kaggle/input/player-scores/player_valuations.csv. SQLSTATE: 42K03",
          "output_type": "error",
          "traceback": [
            "\u001b[31m---------------------------------------------------------------------------\u001b[39m",
            "\u001b[31mAnalysisException\u001b[39m                         Traceback (most recent call last)",
            "\u001b[36mCell\u001b[39m\u001b[36m \u001b[39m\u001b[32mIn[55]\u001b[39m\u001b[32m, line 2\u001b[39m\n\u001b[32m      1\u001b[39m \u001b[38;5;66;03m# Cargar el csv\u001b[39;00m\n\u001b[32m----> \u001b[39m\u001b[32m2\u001b[39m df_player_valuations = \u001b[43mspark\u001b[49m\u001b[43m.\u001b[49m\u001b[43mread\u001b[49m\u001b[43m.\u001b[49m\u001b[43mcsv\u001b[49m\u001b[43m(\u001b[49m\u001b[33;43m\"\u001b[39;49m\u001b[33;43m/kaggle/input/player-scores/player_valuations.csv\u001b[39;49m\u001b[33;43m\"\u001b[39;49m\u001b[43m,\u001b[49m\u001b[43m \u001b[49m\u001b[43mheader\u001b[49m\u001b[43m=\u001b[49m\u001b[38;5;28;43;01mTrue\u001b[39;49;00m\u001b[43m,\u001b[49m\u001b[43m \u001b[49m\u001b[43minferSchema\u001b[49m\u001b[43m=\u001b[49m\u001b[38;5;28;43;01mTrue\u001b[39;49;00m\u001b[43m)\u001b[49m\n\u001b[32m      4\u001b[39m \u001b[38;5;66;03m# Ver las primeras filas\u001b[39;00m\n\u001b[32m      5\u001b[39m df_player_valuations.show(\u001b[32m10\u001b[39m)\n",
            "\u001b[36mFile \u001b[39m\u001b[32m~/miniconda3/envs/futbol/lib/python3.13/site-packages/pyspark/sql/readwriter.py:838\u001b[39m, in \u001b[36mDataFrameReader.csv\u001b[39m\u001b[34m(self, path, schema, sep, encoding, quote, escape, comment, header, inferSchema, ignoreLeadingWhiteSpace, ignoreTrailingWhiteSpace, nullValue, nanValue, positiveInf, negativeInf, dateFormat, timestampFormat, maxColumns, maxCharsPerColumn, maxMalformedLogPerPartition, mode, columnNameOfCorruptRecord, multiLine, charToEscapeQuoteEscaping, samplingRatio, enforceSchema, emptyValue, locale, lineSep, pathGlobFilter, recursiveFileLookup, modifiedBefore, modifiedAfter, unescapedQuoteHandling)\u001b[39m\n\u001b[32m    836\u001b[39m \u001b[38;5;28;01mif\u001b[39;00m \u001b[38;5;28mtype\u001b[39m(path) == \u001b[38;5;28mlist\u001b[39m:\n\u001b[32m    837\u001b[39m     \u001b[38;5;28;01massert\u001b[39;00m \u001b[38;5;28mself\u001b[39m._spark._sc._jvm \u001b[38;5;129;01mis\u001b[39;00m \u001b[38;5;129;01mnot\u001b[39;00m \u001b[38;5;28;01mNone\u001b[39;00m\n\u001b[32m--> \u001b[39m\u001b[32m838\u001b[39m     \u001b[38;5;28;01mreturn\u001b[39;00m \u001b[38;5;28mself\u001b[39m._df(\u001b[38;5;28;43mself\u001b[39;49m\u001b[43m.\u001b[49m\u001b[43m_jreader\u001b[49m\u001b[43m.\u001b[49m\u001b[43mcsv\u001b[49m\u001b[43m(\u001b[49m\u001b[38;5;28;43mself\u001b[39;49m\u001b[43m.\u001b[49m\u001b[43m_spark\u001b[49m\u001b[43m.\u001b[49m\u001b[43m_sc\u001b[49m\u001b[43m.\u001b[49m\u001b[43m_jvm\u001b[49m\u001b[43m.\u001b[49m\u001b[43mPythonUtils\u001b[49m\u001b[43m.\u001b[49m\u001b[43mtoSeq\u001b[49m\u001b[43m(\u001b[49m\u001b[43mpath\u001b[49m\u001b[43m)\u001b[49m\u001b[43m)\u001b[49m)\n\u001b[32m    840\u001b[39m \u001b[38;5;28;01mif\u001b[39;00m \u001b[38;5;129;01mnot\u001b[39;00m is_remote_only():\n\u001b[32m    841\u001b[39m     \u001b[38;5;28;01mfrom\u001b[39;00m\u001b[38;5;250m \u001b[39m\u001b[34;01mpyspark\u001b[39;00m\u001b[34;01m.\u001b[39;00m\u001b[34;01mcore\u001b[39;00m\u001b[34;01m.\u001b[39;00m\u001b[34;01mrdd\u001b[39;00m\u001b[38;5;250m \u001b[39m\u001b[38;5;28;01mimport\u001b[39;00m RDD  \u001b[38;5;66;03m# noqa: F401\u001b[39;00m\n",
            "\u001b[36mFile \u001b[39m\u001b[32m~/miniconda3/envs/futbol/lib/python3.13/site-packages/py4j/java_gateway.py:1362\u001b[39m, in \u001b[36mJavaMember.__call__\u001b[39m\u001b[34m(self, *args)\u001b[39m\n\u001b[32m   1356\u001b[39m command = proto.CALL_COMMAND_NAME +\\\n\u001b[32m   1357\u001b[39m     \u001b[38;5;28mself\u001b[39m.command_header +\\\n\u001b[32m   1358\u001b[39m     args_command +\\\n\u001b[32m   1359\u001b[39m     proto.END_COMMAND_PART\n\u001b[32m   1361\u001b[39m answer = \u001b[38;5;28mself\u001b[39m.gateway_client.send_command(command)\n\u001b[32m-> \u001b[39m\u001b[32m1362\u001b[39m return_value = \u001b[43mget_return_value\u001b[49m\u001b[43m(\u001b[49m\n\u001b[32m   1363\u001b[39m \u001b[43m    \u001b[49m\u001b[43manswer\u001b[49m\u001b[43m,\u001b[49m\u001b[43m \u001b[49m\u001b[38;5;28;43mself\u001b[39;49m\u001b[43m.\u001b[49m\u001b[43mgateway_client\u001b[49m\u001b[43m,\u001b[49m\u001b[43m \u001b[49m\u001b[38;5;28;43mself\u001b[39;49m\u001b[43m.\u001b[49m\u001b[43mtarget_id\u001b[49m\u001b[43m,\u001b[49m\u001b[43m \u001b[49m\u001b[38;5;28;43mself\u001b[39;49m\u001b[43m.\u001b[49m\u001b[43mname\u001b[49m\u001b[43m)\u001b[49m\n\u001b[32m   1365\u001b[39m \u001b[38;5;28;01mfor\u001b[39;00m temp_arg \u001b[38;5;129;01min\u001b[39;00m temp_args:\n\u001b[32m   1366\u001b[39m     \u001b[38;5;28;01mif\u001b[39;00m \u001b[38;5;28mhasattr\u001b[39m(temp_arg, \u001b[33m\"\u001b[39m\u001b[33m_detach\u001b[39m\u001b[33m\"\u001b[39m):\n",
            "\u001b[36mFile \u001b[39m\u001b[32m~/miniconda3/envs/futbol/lib/python3.13/site-packages/pyspark/errors/exceptions/captured.py:288\u001b[39m, in \u001b[36mcapture_sql_exception.<locals>.deco\u001b[39m\u001b[34m(*a, **kw)\u001b[39m\n\u001b[32m    284\u001b[39m converted = convert_exception(e.java_exception)\n\u001b[32m    285\u001b[39m \u001b[38;5;28;01mif\u001b[39;00m \u001b[38;5;129;01mnot\u001b[39;00m \u001b[38;5;28misinstance\u001b[39m(converted, UnknownException):\n\u001b[32m    286\u001b[39m     \u001b[38;5;66;03m# Hide where the exception came from that shows a non-Pythonic\u001b[39;00m\n\u001b[32m    287\u001b[39m     \u001b[38;5;66;03m# JVM exception message.\u001b[39;00m\n\u001b[32m--> \u001b[39m\u001b[32m288\u001b[39m     \u001b[38;5;28;01mraise\u001b[39;00m converted \u001b[38;5;28;01mfrom\u001b[39;00m\u001b[38;5;250m \u001b[39m\u001b[38;5;28;01mNone\u001b[39;00m\n\u001b[32m    289\u001b[39m \u001b[38;5;28;01melse\u001b[39;00m:\n\u001b[32m    290\u001b[39m     \u001b[38;5;28;01mraise\u001b[39;00m\n",
            "\u001b[31mAnalysisException\u001b[39m: [PATH_NOT_FOUND] Path does not exist: file:/kaggle/input/player-scores/player_valuations.csv. SQLSTATE: 42K03"
          ]
        }
      ],
      "source": [
        "# Cargar el csv\n",
        "df_player_valuations = spark.read.csv(\"/kaggle/input/player-scores/player_valuations.csv\", header=True, inferSchema=True)\n",
        "\n",
        "# Ver las primeras filas\n",
        "df_player_valuations.show(10)\n",
        "df_player_valuations.printSchema()\n",
        "df_player_valuations.columns"
      ]
    },
    {
      "cell_type": "code",
      "execution_count": null,
      "metadata": {
        "id": "RAhqPnpDikrz"
      },
      "outputs": [],
      "source": [
        "mostrar_sumario(df_player_valuations).show()"
      ]
    },
    {
      "cell_type": "code",
      "execution_count": null,
      "metadata": {
        "id": "V2hSHun2io_C"
      },
      "outputs": [],
      "source": [
        "contar_nulos_por_columna(df_player_valuations).show()"
      ]
    },
    {
      "cell_type": "code",
      "execution_count": null,
      "metadata": {
        "id": "zO9BtaBSiw53"
      },
      "outputs": [],
      "source": [
        "duplicados_por_columna(df_player_valuations, \"date\")"
      ]
    },
    {
      "cell_type": "markdown",
      "metadata": {
        "id": "LP-HB1JMmb79"
      },
      "source": [
        "# Archivo \"games.csv\""
      ]
    },
    {
      "cell_type": "code",
      "execution_count": null,
      "metadata": {
        "id": "f7MwHYWjmb79"
      },
      "outputs": [],
      "source": [
        "# Cargar el csv\n",
        "df_games = spark.read.csv(\"/kaggle/input/player-scores/games.csv\", header=True, inferSchema=True)\n",
        "\n",
        "# Ver las primeras filas\n",
        "df_games.show(10)\n",
        "df_games.printSchema()\n",
        "df_games.columns"
      ]
    },
    {
      "cell_type": "code",
      "execution_count": null,
      "metadata": {
        "id": "gzjjjxewojU1"
      },
      "outputs": [],
      "source": [
        "mostrar_sumario(df_games).show()"
      ]
    },
    {
      "cell_type": "code",
      "execution_count": null,
      "metadata": {
        "id": "FfJrD5tX7uy5"
      },
      "outputs": [],
      "source": [
        "contar_nulos_por_columna(df_games).show()"
      ]
    },
    {
      "cell_type": "code",
      "execution_count": null,
      "metadata": {
        "id": "kk56z45HIG6v"
      },
      "outputs": [],
      "source": [
        "duplicados_por_columna(df_games, \"game_id\")"
      ]
    },
    {
      "cell_type": "code",
      "execution_count": null,
      "metadata": {
        "id": "o0ncC8Uf7xHg"
      },
      "outputs": [],
      "source": [
        "# Ver nulos de la tablas 'home_club_id' y 'away_club_id'\n",
        "df_games.filter(col('home_club_id').isNull()).show()\n",
        "df_games.filter(col('away_club_id').isNull()).show()"
      ]
    },
    {
      "cell_type": "code",
      "execution_count": null,
      "metadata": {
        "id": "lBNUuEsZL8np"
      },
      "outputs": [],
      "source": [
        "# Parece que los partidos sin club_id son de fechas futuras, deberian de eliminarse\n",
        "df_games = df_games.withColumn('date', to_date(col('date'), 'yyyy-MM-dd')).filter(col('date') <= current_date())\n",
        "# Ver nulos de nuevo\n",
        "contar_nulos_por_columna(df_games).show()"
      ]
    },
    {
      "cell_type": "code",
      "execution_count": null,
      "metadata": {
        "id": "iAJ60N8u8xDg"
      },
      "outputs": [],
      "source": [
        "# Ver nulos columnas de 'club_position'\n",
        "df_games.filter(col('home_club_position').isNull()).show()\n",
        "df_games.filter(col('away_club_position').isNull()).show()"
      ]
    },
    {
      "cell_type": "code",
      "execution_count": null,
      "metadata": {
        "id": "_hhuvK9UJqg6"
      },
      "outputs": [],
      "source": [
        "# Parece que cuando la competicion es algun tipo de copa, los valores de posicion estan nulos porque las copas no usan ese tipo de ranking\n",
        "\n",
        "# Convertimos las columnas a string y le añadimos un valor 'Sin Ranking' para estos casos\n",
        "df_games = df_games.withColumn(\"home_club_position\", col(\"home_club_position\").cast(StringType()))\n",
        "df_games = df_games.withColumn(\"away_club_position\", col(\"away_club_position\").cast(StringType()))\n",
        "\n",
        "# La logica toma los casos en los que la position sea nulo y la competicion contenga 'cup' sin tener en cuenta mayusculas, o sea de tipo 'other'\n",
        "df_games = df_games.withColumn(\n",
        "    \"home_club_position\",\n",
        "    when((lower(col(\"competition_type\")).contains(\"cup\") | (col(\"competition_type\") == \"other\")) & col(\"home_club_position\").isNull(), \"Sin Ranking\")\n",
        "    .otherwise(col(\"home_club_position\"))\n",
        ")\n",
        "df_games = df_games.withColumn(\n",
        "    \"away_club_position\",\n",
        "    when((lower(col(\"competition_type\")).contains(\"cup\") | (col(\"competition_type\") == \"other\")) & col(\"away_club_position\").isNull(), \"Sin Ranking\")\n",
        "    .otherwise(col(\"away_club_position\"))\n",
        ")\n",
        "\n",
        "# Ver nulos despues de la sustitucion\n",
        "df_games.filter(col('home_club_position').isNull()).show()\n",
        "df_games.filter(col('away_club_position').isNull()).show()"
      ]
    },
    {
      "cell_type": "code",
      "execution_count": null,
      "metadata": {
        "id": "ljv7OpYRLnlp"
      },
      "outputs": [],
      "source": [
        "# Parece que aun quedan nulos en position que no son de copas\n",
        "# Sustituimos los valores nulos restantes por 'Unkown'\n",
        "df_games = df_games.withColumn(\n",
        "    \"home_club_position\",\n",
        "    when(col(\"home_club_position\").isNull(), \"Unknown\").otherwise(col(\"home_club_position\"))\n",
        ")\n",
        "df_games = df_games.withColumn(\n",
        "    \"away_club_position\",\n",
        "    when(col(\"away_club_position\").isNull(), \"Unknown\").otherwise(col(\"away_club_position\"))\n",
        ")\n",
        "# Ver todos los nulos\n",
        "contar_nulos_por_columna(df_games).show()"
      ]
    },
    {
      "cell_type": "code",
      "execution_count": null,
      "metadata": {
        "id": "QTIzyiEJUMKB"
      },
      "outputs": [],
      "source": [
        "# Sustituir valores nulos en 'home_club_manager_name', 'away_club_manager_name', 'stadium' y 'referee' por 'Unkown'\n",
        "df_games = df_games.fillna({\n",
        "    \"home_club_manager_name\": \"Unknown\",\n",
        "    \"away_club_manager_name\": \"Unknown\",\n",
        "    \"stadium\": \"Unknown\",\n",
        "    \"referee\": \"Unknown\"\n",
        "})\n",
        "# Comprobar de nuevo los nulos despues de la sustitucion\n",
        "contar_nulos_por_columna(df_games).show()"
      ]
    },
    {
      "cell_type": "code",
      "execution_count": null,
      "metadata": {
        "id": "cwHI9YS-VPyw"
      },
      "outputs": [],
      "source": [
        "# Ver nulos en columnas 'attendance'\n",
        "df_games.filter(col('attendance').isNull()).show()"
      ]
    },
    {
      "cell_type": "code",
      "execution_count": null,
      "metadata": {
        "id": "OZVhaT07kvOR"
      },
      "outputs": [],
      "source": [
        "# Sustituir los valores nulos por la capacidad del estadio\n",
        "# La capacidad del estadio esta en 'df_clubs'\n",
        "df_clubs_capacity = df_clubs.select(\"stadium_name\", \"stadium_seats\")\n",
        "\n",
        "# Unir la nueva columna al dataset\n",
        "df_games = df_games.join(df_clubs_capacity, df_games.stadium == df_clubs_capacity.stadium_name, \"left\")\n",
        "\n",
        "# Mostrar dataframe despues de la union\n",
        "df_games.show()"
      ]
    },
    {
      "cell_type": "code",
      "execution_count": null,
      "metadata": {
        "id": "5fwu8oYvlr9m"
      },
      "outputs": [],
      "source": [
        "# Rellenar los nulos en 'attendance' usando la capacidad del estadio correspondiente\n",
        "df_games = df_games.withColumn(\n",
        "    \"attendance\",\n",
        "    when(col(\"attendance\").isNull(), col(\"stadium_seats\")).otherwise(col(\"attendance\"))\n",
        ")\n",
        "\n",
        "# Eliminar las columna temporales\n",
        "df_games = df_games.drop(\"stadium_name\", \"stadium_seats\")\n",
        "\n",
        "# Comprobar los nulos en 'attendance' despues de la sustitucion\n",
        "df_games.filter(col('attendance').isNull()).show()"
      ]
    },
    {
      "cell_type": "code",
      "execution_count": null,
      "metadata": {
        "id": "oNUTFstKuKwI"
      },
      "outputs": [],
      "source": [
        "# Aun quedan valores nulos en 'attendance', probablemente sean de estadios que tengan de nombre 'Unkown'\n",
        "# Sustituir esos valores de 'attendance' por 0\n",
        "df_games = df_games.withColumn(\n",
        "    \"attendance\",\n",
        "    when(col(\"attendance\").isNull(), 0).otherwise(col(\"attendance\"))\n",
        ")\n",
        "# Ver nulos en todas las columnas\n",
        "contar_nulos_por_columna(df_games).show()"
      ]
    },
    {
      "cell_type": "code",
      "execution_count": null,
      "metadata": {
        "id": "CdiOdQyjxyb2"
      },
      "outputs": [],
      "source": [
        "# Ver valores nulos en las columnas de formaciones\n",
        "df_games.filter(col('home_club_formation').isNull()).show()\n",
        "df_games.filter(col('away_club_formation').isNull()).show()"
      ]
    },
    {
      "cell_type": "code",
      "execution_count": null,
      "metadata": {
        "id": "g3tupelZyELx"
      },
      "outputs": [],
      "source": [
        "# Ver valores unicos de las columnas de formaciones\n",
        "df_games.select(\"home_club_formation\").distinct().show(truncate=False)\n",
        "df_games.select(\"away_club_formation\").distinct().show(truncate=False)"
      ]
    },
    {
      "cell_type": "markdown",
      "metadata": {
        "id": "i63Jpb7y1Kut"
      },
      "source": [
        "Las columnas de 'home_club_formation' y 'home_club_formation' tienen muchos nulos y no tienen todas el formato correcto.\n",
        "\n",
        "Decidimos definir una funcion para aplicarles a todas un formato uniforme."
      ]
    },
    {
      "cell_type": "code",
      "execution_count": null,
      "metadata": {
        "id": "FUBsY_Ua03x-"
      },
      "outputs": [],
      "source": [
        "def formatear_formaciones(column_name):\n",
        "    \"\"\"\n",
        "    Construye una expresion Spark SQL para limpiar, validar el formato, y formatear una columna de formacion,\n",
        "    reemplazando con \"Unknown\" si no cumple el formato.\n",
        "    Explicacion:\n",
        "      - Limpia caracteres no deseados en los valores (solo admite numeros y guiones).\n",
        "      - Usa regexp_extract() para verificar el formato: de 3 a 4 digitos separados por guiones.\n",
        "      - Si el patron coincide, usa la cadena limpiada; de lo contrario, usa \"Unknown\".\n",
        "    Args:\n",
        "        column_name (str): Nombre de la columna a formatear.\n",
        "\n",
        "    Returns:\n",
        "        Expresion Spark SQL para formatear la columna.\n",
        "    \"\"\"\n",
        "\n",
        "    cleaned_formation = regexp_replace(col(column_name), \"[^0-9-]\", \"\")\n",
        "\n",
        "    pattern = r\"^(\\d+)-(\\d+)-(\\d+)$|^(\\d+)-(\\d+)-(\\d+)-(\\d+)$\"\n",
        "    matches_pattern = regexp_extract(cleaned_formation, pattern, 0) != \"\"\n",
        "\n",
        "    final_formation = when(matches_pattern, cleaned_formation).otherwise(\"Unknown\")\n",
        "\n",
        "    return final_formation"
      ]
    },
    {
      "cell_type": "code",
      "execution_count": null,
      "metadata": {
        "id": "obKYaqddyMnU"
      },
      "outputs": [],
      "source": [
        "# Aplicar la funcion de formateo\n",
        "df_games = df_games.withColumn(\"home_club_formation\", formatear_formaciones(\"home_club_formation\"))\n",
        "df_games = df_games.withColumn(\"away_club_formation\", formatear_formaciones(\"away_club_formation\"))\n",
        "\n",
        "# Verificar nulos de nuevo\n",
        "contar_nulos_por_columna(df_games).show()\n",
        "\n",
        "# Ver si el formato se aplico correctamente\n",
        "df_games.select(\"home_club_formation\").distinct().show(truncate=False)\n",
        "df_games.select(\"away_club_formation\").distinct().show(truncate=False)"
      ]
    },
    {
      "cell_type": "code",
      "execution_count": null,
      "metadata": {
        "id": "Gjdc7X35Q9Fx"
      },
      "outputs": [],
      "source": [
        "# Hay valores nulos en 'home_club_name' y 'away_club_name', como ya tenemos el 'club_id' decidimos eliminar los nombres de esta tabla\n",
        "df_games = df_games.drop(\"home_club_name\", \"away_club_name\")\n",
        "contar_nulos_por_columna(df_games).show()"
      ]
    },
    {
      "cell_type": "code",
      "execution_count": null,
      "metadata": {
        "id": "jTHnq02YTH0r"
      },
      "outputs": [],
      "source": [
        "# Eliminamos tambien las columnas 'url' y 'aggregate' porque no son relevantes para nuestro analisis\n",
        "df_games = df_games.drop(\"url\", \"aggregate\")\n",
        "df_games.show()"
      ]
    },
    {
      "cell_type": "markdown",
      "metadata": {
        "id": "ZWYuFLSTkC6b"
      },
      "source": [
        "# Archivo \"players.csv\""
      ]
    },
    {
      "cell_type": "code",
      "execution_count": null,
      "metadata": {
        "colab": {
          "base_uri": "https://localhost:8080/"
        },
        "id": "0V_HuHtOkCwU",
        "outputId": "82e0be00-4963-47a5-b18e-eb4bfe95d961"
      },
      "outputs": [],
      "source": [
        "# Cargar el csv\n",
        "df_players = spark.read.csv(\"/kaggle/input/player-scores/players.csv\", header=True, inferSchema=True)\n",
        "\n",
        "# Ver las primeras filas\n",
        "df_players.show(10)\n",
        "df_players.printSchema()\n",
        "df_players.columns"
      ]
    },
    {
      "cell_type": "code",
      "execution_count": null,
      "metadata": {
        "colab": {
          "base_uri": "https://localhost:8080/"
        },
        "id": "f6Zk4W_SkL_M",
        "outputId": "287a0cbc-c91a-4b1d-baa5-301bac5383c5"
      },
      "outputs": [],
      "source": [
        "mostrar_sumario(df_players).show()"
      ]
    },
    {
      "cell_type": "code",
      "execution_count": null,
      "metadata": {
        "colab": {
          "base_uri": "https://localhost:8080/"
        },
        "id": "4w9JpGI8kOTc",
        "outputId": "fe47f4f3-ff82-4eac-ec7f-dd849cb684f6"
      },
      "outputs": [],
      "source": [
        "contar_nulos_por_columna(df_players).show()"
      ]
    },
    {
      "cell_type": "code",
      "execution_count": null,
      "metadata": {
        "colab": {
          "base_uri": "https://localhost:8080/"
        },
        "id": "lS2B7OjTkPhY",
        "outputId": "1f0337ed-3b51-4558-c60e-5234ed1beae7"
      },
      "outputs": [],
      "source": [
        "duplicados_por_columna(df_players, \"player_id\")"
      ]
    },
    {
      "cell_type": "code",
      "execution_count": null,
      "metadata": {
        "colab": {
          "base_uri": "https://localhost:8080/"
        },
        "id": "qamlbtbqkUU8",
        "outputId": "8035cbbd-8651-40b5-baad-43e473d6c7e6"
      },
      "outputs": [],
      "source": [
        "# Ver nulos de la columna 'contract_expiration_date'\n",
        "df_players.filter(col('contract_expiration_date').isNull()).show()"
      ]
    },
    {
      "cell_type": "code",
      "execution_count": null,
      "metadata": {
        "colab": {
          "base_uri": "https://localhost:8080/"
        },
        "id": "8u6qGLQdz-8r",
        "outputId": "ec268f9a-3698-460c-f59f-36e7ab2d18a8"
      },
      "outputs": [],
      "source": [
        "# Ver valores unicos de la columna 'last_season'\n",
        "df_players.select('last_season').distinct().show()"
      ]
    },
    {
      "cell_type": "code",
      "execution_count": null,
      "metadata": {
        "colab": {
          "base_uri": "https://localhost:8080/"
        },
        "id": "iIAO2r1q3w2V",
        "outputId": "3de5c9da-11ea-4f79-804a-5b6c6dd84b05"
      },
      "outputs": [],
      "source": [
        "# A primera vista, parece que los valores nulos de la columna 'contract_expiration_date' representan contratos que siguen en vigor\n",
        "# Pero tras corroborar con Internet, vimos que tambien hay nulos contratos que ya finalizaron\n",
        "# Decidimos eliminar la columna 'contract_expiration_date' por no tener informacion fiable y tambien la columna 'agent_name' que esta relacionada con ella\n",
        "df_players = df_players.drop(\"contract_expiration_date\")\n",
        "df_players = df_players.drop(\"agent_name\")\n",
        "df_players.show(10)"
      ]
    },
    {
      "cell_type": "code",
      "execution_count": null,
      "metadata": {
        "colab": {
          "base_uri": "https://localhost:8080/"
        },
        "id": "3Tf5gLIV4pWL",
        "outputId": "e3189bc4-1068-4700-853b-eca7c350a90e"
      },
      "outputs": [],
      "source": [
        "# Ver todos los valores de la columna 'foot'\n",
        "df_players.select('foot').distinct().show()"
      ]
    },
    {
      "cell_type": "code",
      "execution_count": null,
      "metadata": {
        "id": "pl4g-Xmi4_b1"
      },
      "outputs": [],
      "source": [
        "# Sustituir valores nulos de 'foot' por 'sin especificar'\n",
        "df_players = df_players.withColumn(\n",
        "    \"foot\",\n",
        "    when(col(\"foot\").isNull(), \"sin especificar\").otherwise(col(\"foot\"))\n",
        ")"
      ]
    },
    {
      "cell_type": "code",
      "execution_count": null,
      "metadata": {
        "colab": {
          "base_uri": "https://localhost:8080/"
        },
        "id": "FeU8xVZe5bj6",
        "outputId": "650b64b0-d0c5-40ef-ddf4-e39d9498c72d"
      },
      "outputs": [],
      "source": [
        "# Ver valores nulos de la columna 'market_value_in_eur'\n",
        "df_players.filter(col('market_value_in_eur').isNull()).show()"
      ]
    },
    {
      "cell_type": "code",
      "execution_count": null,
      "metadata": {
        "colab": {
          "base_uri": "https://localhost:8080/"
        },
        "id": "MdpCvPSeJ49e",
        "outputId": "1118ce0c-342e-4555-e838-47723a33f879"
      },
      "outputs": [],
      "source": [
        "# Calcular la mediana del valor de mercado (excluyendo nulos y ceros)\n",
        "mediana_market_value = df_players.filter(\n",
        "    col(\"market_value_in_eur\").isNotNull() & (col(\"market_value_in_eur\") > 0)\n",
        ").approxQuantile(\"market_value_in_eur\", [0.5], 0.01)[0]  # 0.01 es la precisión\n",
        "\n",
        "print(f\"Mediana del valor de mercado (excluyendo valores 0): {mediana_market_value}\")\n",
        "\n",
        "# Sustituir nulos y ceros por 'mediana_market_value'\n",
        "df_players = df_players.withColumn(\n",
        "    \"market_value_in_eur\",\n",
        "    when(col(\"market_value_in_eur\").isNull() | (col(\"market_value_in_eur\") == 0), mediana_market_value)\n",
        "    .otherwise(col(\"market_value_in_eur\"))\n",
        ")\n",
        "\n",
        "# Comprobar de nuevo los nulos y valores minimos despues de la sustitucion\n",
        "contar_nulos_por_columna(df_players).show()\n",
        "df_players.select('market_value_in_eur').summary('min').show()"
      ]
    },
    {
      "cell_type": "code",
      "execution_count": null,
      "metadata": {
        "colab": {
          "base_uri": "https://localhost:8080/"
        },
        "id": "_XDN_PFWdtUD",
        "outputId": "63262258-b971-4775-db1f-2a21ac94e897"
      },
      "outputs": [],
      "source": [
        "# Repetimos el proceso para la columna 'highest_market_value_in_eur'\n",
        "\n",
        "# Calcular la mediana del valor de mercado (excluyendo nulos y ceros)\n",
        "mediana_market_value = df_players.filter(\n",
        "    col(\"highest_market_value_in_eur\").isNotNull() & (col(\"highest_market_value_in_eur\") > 0)\n",
        ").approxQuantile(\"highest_market_value_in_eur\", [0.5], 0.01)[0]  # 0.01 es la precisión\n",
        "\n",
        "print(f\"Mediana del valor máximo de mercado (excluyendo valores 0): {mediana_market_value}\")\n",
        "\n",
        "# Sustituir nulos y ceros por 'mediana_market_value'\n",
        "df_players = df_players.withColumn(\n",
        "    \"highest_market_value_in_eur\",\n",
        "    when(col(\"highest_market_value_in_eur\").isNull() | (col(\"highest_market_value_in_eur\") == 0), mediana_market_value)\n",
        "    .otherwise(col(\"highest_market_value_in_eur\"))\n",
        ")\n",
        "\n",
        "# Comprobar de nuevo los nulos y valores minimos despues de la sustitucion\n",
        "contar_nulos_por_columna(df_players).show()\n",
        "df_players.select('highest_market_value_in_eur').summary('min').show()"
      ]
    },
    {
      "cell_type": "code",
      "execution_count": null,
      "metadata": {
        "colab": {
          "base_uri": "https://localhost:8080/"
        },
        "id": "vPvz3Ry7exdW",
        "outputId": "c44df33a-376f-450e-b780-57c063e60236"
      },
      "outputs": [],
      "source": [
        "# Ver nulos en la columna 'height_in_cm'\n",
        "df_players.filter(col('height_in_cm').isNull()).show()"
      ]
    },
    {
      "cell_type": "code",
      "execution_count": null,
      "metadata": {
        "colab": {
          "base_uri": "https://localhost:8080/"
        },
        "id": "_V1koblTfQDR",
        "outputId": "1330a1b2-c231-4100-fe98-bd90f7312d21"
      },
      "outputs": [],
      "source": [
        "# Ver el valor minimo de la columna 'height_in_cm'\n",
        "df_players.select('height_in_cm').summary('min').show()"
      ]
    },
    {
      "cell_type": "code",
      "execution_count": null,
      "metadata": {
        "colab": {
          "base_uri": "https://localhost:8080/"
        },
        "id": "kdDwFcTAfX5D",
        "outputId": "78631e0c-d8af-4058-881c-788e083e510f"
      },
      "outputs": [],
      "source": [
        "# El valor minimo de altura es 17cm, lo cual es imposible\n",
        "# Sustituimos los valores nulos y minimos por la media de altura\n",
        "\n",
        "# Calcular la media de altura (excluyendo nulos y valores <= 100)\n",
        "avg_height = df_players.filter(col(\"height_in_cm\").isNotNull()).filter(col(\"height_in_cm\") > 100).agg(avg(\"height_in_cm\")).collect()[0][0]\n",
        "print(f\"Media de la altura (excluyendo valores <= 100): {avg_height}\")\n",
        "\n",
        "# Sustituimos los valores nulos y minimos por 'avg_height'\n",
        "df_players = df_players.withColumn(\n",
        "    \"height_in_cm\",\n",
        "    when(col(\"height_in_cm\").isNull() | (col(\"height_in_cm\") <= 100), avg_height).otherwise(col(\"height_in_cm\"))\n",
        ")\n",
        "\n",
        "# Comprobar de nuevo los nulos y valores minimos despues de la sustitucion\n",
        "contar_nulos_por_columna(df_players).show()\n",
        "df_players.select('height_in_cm').summary('min').show()"
      ]
    },
    {
      "cell_type": "code",
      "execution_count": null,
      "metadata": {
        "colab": {
          "base_uri": "https://localhost:8080/"
        },
        "id": "M2WuaED9gv5z",
        "outputId": "27ba5bb5-50e4-401b-9d60-b5d219b80505"
      },
      "outputs": [],
      "source": [
        "# Ver nulos en la columna 'first_name'\n",
        "df_players.filter(col('first_name').isNull()).show()"
      ]
    },
    {
      "cell_type": "code",
      "execution_count": null,
      "metadata": {
        "colab": {
          "base_uri": "https://localhost:8080/"
        },
        "id": "JAtbrA27gkq3",
        "outputId": "f5547b7e-f8f9-428e-c601-80df01eb6eb6"
      },
      "outputs": [],
      "source": [
        "# Parece que los nulos de la columna 'first_name' se deben a que el jugador aparece con su apodo\n",
        "# Sustituir los first_name nulos por 'Desconocido'\n",
        "\n",
        "df_players = df_players.withColumn(\n",
        "    \"first_name\",\n",
        "    when(col(\"first_name\").isNull(), \"desconocido\").otherwise(col(\"first_name\"))\n",
        ")\n",
        "# Ver nulos de nuevo\n",
        "contar_nulos_por_columna(df_players).show()"
      ]
    },
    {
      "cell_type": "code",
      "execution_count": null,
      "metadata": {
        "colab": {
          "base_uri": "https://localhost:8080/"
        },
        "id": "ZIPjZ7JoilYu",
        "outputId": "8c0e47d8-756e-4c8d-b609-dc11c690d0c2"
      },
      "outputs": [],
      "source": [
        "# Ver nulos de la columna 'date_of_birth'\n",
        "df_players.filter(col('date_of_birth').isNull()).show()"
      ]
    },
    {
      "cell_type": "code",
      "execution_count": null,
      "metadata": {
        "colab": {
          "base_uri": "https://localhost:8080/"
        },
        "id": "u4tkclUcja1r",
        "outputId": "4c2065c5-e9f0-41ee-c570-8daf453e3b2a"
      },
      "outputs": [],
      "source": [
        "# Sustituimos las fechas de nacimiento nulas por un valor por defecto\n",
        "# para indicar que la fecha es desconocida (no deberia ser una fecha que pueda aparecer en otros registros)\n",
        "default_timestamp = to_timestamp(lit('1900-01-01 00:00:00'))\n",
        "\n",
        "df_players = df_players.withColumn(\n",
        "    \"date_of_birth\",\n",
        "    when(col(\"date_of_birth\").isNull(), default_timestamp).otherwise(col(\"date_of_birth\"))\n",
        ")\n",
        "# Ver nulos de nuevo\n",
        "contar_nulos_por_columna(df_players).show()"
      ]
    },
    {
      "cell_type": "code",
      "execution_count": null,
      "metadata": {
        "colab": {
          "base_uri": "https://localhost:8080/"
        },
        "id": "rxINFuuGkQwl",
        "outputId": "dc2a0a5c-0ce4-41c3-f1fc-4d072894dfa0"
      },
      "outputs": [],
      "source": [
        "# Ver nulos de la columna 'sub_position'\n",
        "df_players.filter(col('sub_position').isNull()).show()"
      ]
    },
    {
      "cell_type": "code",
      "execution_count": null,
      "metadata": {
        "colab": {
          "base_uri": "https://localhost:8080/"
        },
        "id": "tL2ZajhVkcd7",
        "outputId": "e9b99e2b-382e-4a2a-a677-099b2774212a"
      },
      "outputs": [],
      "source": [
        "# En la columna 'position' ya existe un valor 'Missing' que podemos usar para corregir los nulos\n",
        "df_players = df_players.withColumn(\n",
        "    \"sub_position\",\n",
        "    when(col(\"sub_position\").isNull(), \"Missing\").otherwise(col(\"sub_position\"))\n",
        ")\n",
        "# Ver nulos de nuevo\n",
        "contar_nulos_por_columna(df_players).show()"
      ]
    },
    {
      "cell_type": "code",
      "execution_count": null,
      "metadata": {
        "colab": {
          "base_uri": "https://localhost:8080/"
        },
        "id": "R8zApfu8Zajv",
        "outputId": "17f4f717-471a-43a3-fcd6-365f572e95fb"
      },
      "outputs": [],
      "source": [
        "# Ver nulos de las columnas 'country_of_birth' y 'city_of_birth'\n",
        "df_players.filter(col('country_of_birth').isNull()).show()\n",
        "df_players.filter(col('city_of_birth').isNull()).show()"
      ]
    },
    {
      "cell_type": "markdown",
      "metadata": {
        "id": "MsIpoToSk3aY"
      },
      "source": [
        "En las columnas 'country_of_birth' y 'city_of_birth' hay varios casos donde no hay valor para el país pero si para la ciudad. Para recuperar esos datos perdidos, definimos una función que mapea ciudad a país usando `geopy`"
      ]
    },
    {
      "cell_type": "code",
      "execution_count": null,
      "metadata": {
        "colab": {
          "base_uri": "https://localhost:8080/"
        },
        "id": "pZh5b862ZSXS",
        "outputId": "84aab476-a294-45cb-e193-6e0db64ca97b"
      },
      "outputs": [],
      "source": [
        "from geopy.geocoders import Nominatim\n",
        "from geopy.exc import GeocoderTimedOut, GeocoderServiceError\n",
        "import time\n",
        "\n",
        "# Instanciamos el geolocalizador\n",
        "geolocator = Nominatim(user_agent=\"city_to_country_mapper\")\n",
        "\n",
        "# Función para mapear ciudad a país\n",
        "def get_country(city):\n",
        "    try:\n",
        "        location = geolocator.geocode(city, language=\"en\", timeout=10)\n",
        "        if location and location.address:\n",
        "            address_parts = location.address.split(\", \")\n",
        "            for part in reversed(address_parts):\n",
        "                if len(part) > 2 and not any(char.isdigit() for char in part):\n",
        "                    return part\n",
        "        return None\n",
        "    except (GeocoderTimedOut, GeocoderServiceError) as e:\n",
        "        print(f\"Error geocoding {city}: {e}\")\n",
        "        return None\n",
        "    except Exception as e:\n",
        "        print(f\"Unexpected error for {city}: {e}\")\n",
        "        return None\n",
        "\n",
        "# Crea una UDF para usar en Spark\n",
        "get_country_udf = udf(get_country, StringType())\n",
        "\n",
        "# Filtra las ciudades donde no hay pais pero hay ciudad\n",
        "cities_df = df_players.filter(col(\"country_of_birth\").isNull() & col(\"city_of_birth\").isNotNull()) \\\n",
        "                   .select(\"city_of_birth\").distinct()\n",
        "\n",
        "# Collect para traerlas al driver (Cuidado si hay muchas)\n",
        "cities = [row['city_of_birth'] for row in cities_df.collect() if row['city_of_birth'] is not None]\n",
        "\n",
        "# Diccionario ciudad-país\n",
        "city_country_map = {}\n",
        "\n",
        "for city in cities:\n",
        "    country = get_country(city)\n",
        "    if country:\n",
        "        city_country_map[city] = country\n",
        "        print(f\"Mapped {city} to {country}\")\n",
        "    else:\n",
        "        city_country_map[city] = None\n",
        "        print(f\"Could not map {city}\")\n",
        "    time.sleep(1)  # No bombardees el server como un cavernícola\n",
        "\n",
        "# Transforma el diccionario a un DataFrame para hacer join\n",
        "mapping_rows = [(k, v) for k, v in city_country_map.items()]\n",
        "mapping_df = spark.createDataFrame(mapping_rows, [\"city_of_birth\", \"mapped_country\"])\n",
        "\n",
        "# Une el mapping con el DataFrame original\n",
        "df_players_mapped = df_players.join(mapping_df, on=\"city_of_birth\", how=\"left\")\n",
        "\n",
        "# Actualiza la columna 'country_of_birth' donde sea NULL\n",
        "df_players_mapped = df_players_mapped.withColumn(\"country_of_birth\",\n",
        "    when(col(\"country_of_birth\").isNull() & col(\"mapped_country\").isNotNull(), col(\"mapped_country\"))\n",
        "    .otherwise(col(\"country_of_birth\"))\n",
        ")\n",
        "\n",
        "# (Opcional) Quita la columna de mapeo\n",
        "df_players_mapped = df_players_mapped.drop(\"mapped_country\")"
      ]
    },
    {
      "cell_type": "code",
      "execution_count": null,
      "metadata": {
        "colab": {
          "base_uri": "https://localhost:8080/"
        },
        "id": "igk0851wcRy-",
        "outputId": "e685a76a-7bd8-4e44-9cf9-5937a27dea0d"
      },
      "outputs": [],
      "source": [
        "# Comprobar si el mapeo se ha realizado correctamente\n",
        "print(f\"Valores nulos en 'country_of_birth' antes del mapeo:\", df_players.filter(col('country_of_birth').isNull()).count())\n",
        "print(f\"Valores nulos en 'country_of_birth' despues del mapeo:\", df_players_mapped.filter(col('country_of_birth').isNull()).count())"
      ]
    },
    {
      "cell_type": "code",
      "execution_count": null,
      "metadata": {
        "colab": {
          "base_uri": "https://localhost:8080/"
        },
        "id": "lIEV91VihZri",
        "outputId": "6b68ac13-fe77-4501-d54a-256a7931f51e"
      },
      "outputs": [],
      "source": [
        "# El resto de valores nulos son de filas donde no hay ni pais ni ciudad\n",
        "# Sustituimos esos valores por un valor 'Desconocido'\n",
        "df_players_mapped = df_players_mapped.withColumn(\n",
        "    \"country_of_birth\",\n",
        "    when(col(\"country_of_birth\").isNull(), \"Desconocido\").otherwise(col(\"country_of_birth\"))\n",
        ")\n",
        "df_players_mapped = df_players_mapped.withColumn(\n",
        "    \"city_of_birth\",\n",
        "    when(col(\"city_of_birth\").isNull(), \"Desconocida\").otherwise(col(\"city_of_birth\"))\n",
        ")\n",
        "# Ver nulos de nuevo\n",
        "contar_nulos_por_columna(df_players_mapped).show()"
      ]
    },
    {
      "cell_type": "code",
      "execution_count": null,
      "metadata": {
        "colab": {
          "base_uri": "https://localhost:8080/"
        },
        "id": "iVu42QgpktU0",
        "outputId": "eb314e32-80e8-49a0-eadd-3da646a8aa99"
      },
      "outputs": [],
      "source": [
        "# Eliminamos las columnas 'country_of_citizenship', 'image_url' y 'url' porque no son utiles para nuestro analisis\n",
        "df_players_mapped = df_players_mapped.drop(\"country_of_citizenship\",\"image_url\", \"url\")\n",
        "df_players_mapped.show()"
      ]
    },
    {
      "cell_type": "markdown",
      "metadata": {
        "id": "yNumnjKePq0W"
      },
      "source": [
        "# Archivo \"transfers.csv\""
      ]
    },
    {
      "cell_type": "code",
      "execution_count": null,
      "metadata": {
        "id": "krM5AILEPuoN"
      },
      "outputs": [],
      "source": [
        "# Cargar el csv\n",
        "df_transfers = spark.read.csv(\"/root/.cache/kagglehub/datasets/davidcariboo/player-scores/versions/602/transfers.csv\", header=True, inferSchema=True)\n",
        "\n",
        "# Ver las primeras filas\n",
        "df_transfers.show(10)\n",
        "df_transfers.printSchema()\n",
        "df_transfers.columns"
      ]
    },
    {
      "cell_type": "code",
      "execution_count": null,
      "metadata": {
        "id": "8Sff4L1gPz8y"
      },
      "outputs": [],
      "source": [
        "mostrar_sumario(df_transfers).show()"
      ]
    },
    {
      "cell_type": "code",
      "execution_count": null,
      "metadata": {
        "id": "uIQ-de4wP2R2"
      },
      "outputs": [],
      "source": [
        "contar_nulos_por_columna(df_transfers).show()"
      ]
    },
    {
      "cell_type": "code",
      "execution_count": null,
      "metadata": {
        "id": "SjSVo062P3UL"
      },
      "outputs": [],
      "source": [
        "duplicados_por_columna(df_transfers, \"player_id\")"
      ]
    },
    {
      "cell_type": "code",
      "execution_count": null,
      "metadata": {
        "id": "r7c8M8Dqbis5"
      },
      "outputs": [],
      "source": [
        "# Sustituir los nulos de la columna transfer_fee por 0\n",
        "\n",
        "df_transfers = df_transfers.withColumn(\n",
        "    \"transfer_fee\",\n",
        "    when(col(\"transfer_fee\").isNull(), 0).otherwise(col(\"transfer_fee\"))\n",
        ")\n",
        "\n",
        "# Comprobar de nuevo los nulos despues de la sustitucion\n",
        "contar_nulos_por_columna(df_transfers).show()\n"
      ]
    },
    {
      "cell_type": "code",
      "execution_count": null,
      "metadata": {
        "id": "VQpEblsXbvMb"
      },
      "outputs": [],
      "source": [
        "# Sustituir los nulos de market_value_in_eur por la mediana del equipo que procede\n",
        "\n",
        "# Calcular la mediana del valor de mercado por jugador (excluyendo nulos y ceros)\n",
        "mediana_market_value_por_jugador = df_transfers.filter(\n",
        "    col(\"market_value_in_eur\").isNotNull() & (col(\"market_value_in_eur\") > 0)\n",
        ").groupBy(\"player_id\").agg(\n",
        "    approx_percentile(\"market_value_in_eur\", 0.5).alias(\"mediana_mv_por_jugador\")\n",
        ")\n",
        "\n",
        "# Unir la mediana por club al DataFrame original\n",
        "df_transfers = df_transfers.join(mediana_market_value_por_jugador, on=\"player_id\", how=\"left_outer\")\n",
        "\n",
        "# Sustituir nulos en 'market_value_in_eur' por la mediana del jugador\n",
        "df_transfers = df_transfers.withColumn(\n",
        "    \"market_value_in_eur\",\n",
        "    when(col(\"market_value_in_eur\").isNull(), col(\"mediana_mv_por_jugador\")).otherwise(col(\"market_value_in_eur\"))\n",
        ")\n",
        "\n",
        "# Eliminar la columna temporal de la mediana por club\n",
        "df_transfers = df_transfers.drop(\"mediana_mv_por_jugador\")\n",
        "\n",
        "# Comprobar de nuevo los nulos despues de la sustitucion\n",
        "contar_nulos_por_columna(df_transfers).show()\n",
        "df_transfers.select(\"player_id\", \"market_value_in_eur\", \"transfer_fee\").show(20)"
      ]
    },
    {
      "cell_type": "code",
      "execution_count": null,
      "metadata": {},
      "outputs": [],
      "source": [
        "# Aun quedan nulos en 'market_value_in_eur', estos son de jugadores que no estaban en 'df_players' o no tenían market_value > 0\n",
        "# Podemos rellenarlos con la mediana general\n",
        "mediana_market_value = df_transfers.filter(\n",
        "    col(\"market_value_in_eur\").isNotNull()\n",
        ").agg(approx_percentile(\"market_value_in_eur\", 0.5)).collect()[0][0]\n",
        "\n",
        "df_transfers = df_transfers.withColumn(\n",
        "    \"market_value_in_eur\",\n",
        "    when(col(\"market_value_in_eur\").isNull(), mediana_market_value).otherwise(col(\"market_value_in_eur\"))\n",
        ")\n",
        "# Comprobar de nuevo los nulos despues de la sustitucion\n",
        "contar_nulos_por_columna(df_transfers).show()\n",
        "df_transfers.select(\"player_id\", \"market_value_in_eur\", \"transfer_fee\").show(20)"
      ]
    },
    {
      "cell_type": "markdown",
      "metadata": {
        "id": "GDYAe_Lu4pna"
      },
      "source": [
        "# Guardar las tablas limpias"
      ]
    },
    {
      "cell_type": "code",
      "execution_count": null,
      "metadata": {
        "id": "CI6eb_BZYX0t"
      },
      "outputs": [],
      "source": [
        "# Ruta donde guardar el archivo CSV\n",
        "output_path = \"../Data\"\n",
        "\n",
        "# Guardar cada DataFrame en formato CSV\n",
        "# Spark por defecto guarda en particiones\n",
        "# Para guardarlo en un solo archivo, usar repartition(1) antes de 'write'\n",
        "df_clubs.repartition(1).write.csv(output_path + \"/clubs\", header=True, mode=\"overwrite\")\n",
        "df_competitions.repartition(1).write.csv(output_path + \"/competitions\", header=True, mode=\"overwrite\")\n",
        "df_game_events.repartition(1).write.csv(output_path + \"/game_events\", header=True, mode=\"overwrite\")\n",
        "df_game_lineups_cleaned.repartition(1).write.csv(output_path + \"/game_lineups\", header=True, mode=\"overwrite\")\n",
        "df_appearances.repartition(1).write.csv(output_path + \"/appearances\", header=True, mode=\"overwrite\")\n",
        "df_player_valuations.repartition(1).write.csv(output_path + \"/player_valuations\", header=True, mode=\"overwrite\")\n",
        "df_games.repartition(1).write.csv(output_path + \"/games\", header=True, mode=\"overwrite\")\n",
        "df_players_mapped.repartition(1).write.csv(output_path + \"/players\", header=True, mode=\"overwrite\")\n",
        "df_transfers.repartition(1).write.csv(output_path + \"/transfers\", header=True, mode=\"overwrite\")"
      ]
    },
    {
      "cell_type": "code",
      "execution_count": null,
      "metadata": {
        "id": "a8TjweTTYv2W"
      },
      "outputs": [
        {
          "ename": "ConnectionRefusedError",
          "evalue": "[Errno 111] Connection refused",
          "output_type": "error",
          "traceback": [
            "\u001b[31m---------------------------------------------------------------------------\u001b[39m",
            "\u001b[31mConnectionRefusedError\u001b[39m                    Traceback (most recent call last)",
            "\u001b[36mCell\u001b[39m\u001b[36m \u001b[39m\u001b[32mIn[66]\u001b[39m\u001b[32m, line 2\u001b[39m\n\u001b[32m      1\u001b[39m \u001b[38;5;66;03m# Importante cerrar la sesion de spark\u001b[39;00m\n\u001b[32m----> \u001b[39m\u001b[32m2\u001b[39m \u001b[43mspark\u001b[49m\u001b[43m.\u001b[49m\u001b[43mstop\u001b[49m\u001b[43m(\u001b[49m\u001b[43m)\u001b[49m\n",
            "\u001b[36mFile \u001b[39m\u001b[32m~/miniconda3/envs/futbol/lib/python3.13/site-packages/pyspark/sql/session.py:2023\u001b[39m, in \u001b[36mSparkSession.stop\u001b[39m\u001b[34m(self)\u001b[39m\n\u001b[32m   2009\u001b[39m \u001b[38;5;250m\u001b[39m\u001b[33;03m\"\"\"\u001b[39;00m\n\u001b[32m   2010\u001b[39m \u001b[33;03mStop the underlying :class:`SparkContext`.\u001b[39;00m\n\u001b[32m   2011\u001b[39m \n\u001b[32m   (...)\u001b[39m\u001b[32m   2019\u001b[39m \u001b[33;03m>>> spark.stop()  # doctest: +SKIP\u001b[39;00m\n\u001b[32m   2020\u001b[39m \u001b[33;03m\"\"\"\u001b[39;00m\n\u001b[32m   2021\u001b[39m \u001b[38;5;28;01mfrom\u001b[39;00m\u001b[38;5;250m \u001b[39m\u001b[34;01mpyspark\u001b[39;00m\u001b[34;01m.\u001b[39;00m\u001b[34;01msql\u001b[39;00m\u001b[34;01m.\u001b[39;00m\u001b[34;01mcontext\u001b[39;00m\u001b[38;5;250m \u001b[39m\u001b[38;5;28;01mimport\u001b[39;00m SQLContext\n\u001b[32m-> \u001b[39m\u001b[32m2023\u001b[39m \u001b[38;5;28;43mself\u001b[39;49m\u001b[43m.\u001b[49m\u001b[43m_sc\u001b[49m\u001b[43m.\u001b[49m\u001b[43mstop\u001b[49m\u001b[43m(\u001b[49m\u001b[43m)\u001b[49m\n\u001b[32m   2024\u001b[39m \u001b[38;5;66;03m# We should clean the default session up. See SPARK-23228.\u001b[39;00m\n\u001b[32m   2025\u001b[39m \u001b[38;5;28;01massert\u001b[39;00m \u001b[38;5;28mself\u001b[39m._jvm \u001b[38;5;129;01mis\u001b[39;00m \u001b[38;5;129;01mnot\u001b[39;00m \u001b[38;5;28;01mNone\u001b[39;00m\n",
            "\u001b[36mFile \u001b[39m\u001b[32m~/miniconda3/envs/futbol/lib/python3.13/site-packages/pyspark/core/context.py:684\u001b[39m, in \u001b[36mSparkContext.stop\u001b[39m\u001b[34m(self)\u001b[39m\n\u001b[32m    682\u001b[39m \u001b[38;5;28;01mif\u001b[39;00m \u001b[38;5;28mgetattr\u001b[39m(\u001b[38;5;28mself\u001b[39m, \u001b[33m\"\u001b[39m\u001b[33m_jsc\u001b[39m\u001b[33m\"\u001b[39m, \u001b[38;5;28;01mNone\u001b[39;00m):\n\u001b[32m    683\u001b[39m     \u001b[38;5;28;01mtry\u001b[39;00m:\n\u001b[32m--> \u001b[39m\u001b[32m684\u001b[39m         \u001b[38;5;28;43mself\u001b[39;49m\u001b[43m.\u001b[49m\u001b[43m_jsc\u001b[49m\u001b[43m.\u001b[49m\u001b[43mstop\u001b[49m\u001b[43m(\u001b[49m\u001b[43m)\u001b[49m\n\u001b[32m    685\u001b[39m     \u001b[38;5;28;01mexcept\u001b[39;00m Py4JError:\n\u001b[32m    686\u001b[39m         \u001b[38;5;66;03m# Case: SPARK-18523\u001b[39;00m\n\u001b[32m    687\u001b[39m         warnings.warn(\n\u001b[32m    688\u001b[39m             \u001b[33m\"\u001b[39m\u001b[33mUnable to cleanly shutdown Spark JVM process.\u001b[39m\u001b[33m\"\u001b[39m\n\u001b[32m    689\u001b[39m             \u001b[33m\"\u001b[39m\u001b[33m It is possible that the process has crashed,\u001b[39m\u001b[33m\"\u001b[39m\n\u001b[32m    690\u001b[39m             \u001b[33m\"\u001b[39m\u001b[33m been killed or may also be in a zombie state.\u001b[39m\u001b[33m\"\u001b[39m,\n\u001b[32m    691\u001b[39m             \u001b[38;5;167;01mRuntimeWarning\u001b[39;00m,\n\u001b[32m    692\u001b[39m         )\n",
            "\u001b[36mFile \u001b[39m\u001b[32m~/miniconda3/envs/futbol/lib/python3.13/site-packages/py4j/java_gateway.py:1361\u001b[39m, in \u001b[36mJavaMember.__call__\u001b[39m\u001b[34m(self, *args)\u001b[39m\n\u001b[32m   1354\u001b[39m args_command, temp_args = \u001b[38;5;28mself\u001b[39m._build_args(*args)\n\u001b[32m   1356\u001b[39m command = proto.CALL_COMMAND_NAME +\\\n\u001b[32m   1357\u001b[39m     \u001b[38;5;28mself\u001b[39m.command_header +\\\n\u001b[32m   1358\u001b[39m     args_command +\\\n\u001b[32m   1359\u001b[39m     proto.END_COMMAND_PART\n\u001b[32m-> \u001b[39m\u001b[32m1361\u001b[39m answer = \u001b[38;5;28;43mself\u001b[39;49m\u001b[43m.\u001b[49m\u001b[43mgateway_client\u001b[49m\u001b[43m.\u001b[49m\u001b[43msend_command\u001b[49m\u001b[43m(\u001b[49m\u001b[43mcommand\u001b[49m\u001b[43m)\u001b[49m\n\u001b[32m   1362\u001b[39m return_value = get_return_value(\n\u001b[32m   1363\u001b[39m     answer, \u001b[38;5;28mself\u001b[39m.gateway_client, \u001b[38;5;28mself\u001b[39m.target_id, \u001b[38;5;28mself\u001b[39m.name)\n\u001b[32m   1365\u001b[39m \u001b[38;5;28;01mfor\u001b[39;00m temp_arg \u001b[38;5;129;01min\u001b[39;00m temp_args:\n",
            "\u001b[36mFile \u001b[39m\u001b[32m~/miniconda3/envs/futbol/lib/python3.13/site-packages/py4j/java_gateway.py:1036\u001b[39m, in \u001b[36mGatewayClient.send_command\u001b[39m\u001b[34m(self, command, retry, binary)\u001b[39m\n\u001b[32m   1015\u001b[39m \u001b[38;5;28;01mdef\u001b[39;00m\u001b[38;5;250m \u001b[39m\u001b[34msend_command\u001b[39m(\u001b[38;5;28mself\u001b[39m, command, retry=\u001b[38;5;28;01mTrue\u001b[39;00m, binary=\u001b[38;5;28;01mFalse\u001b[39;00m):\n\u001b[32m   1016\u001b[39m \u001b[38;5;250m    \u001b[39m\u001b[33;03m\"\"\"Sends a command to the JVM. This method is not intended to be\u001b[39;00m\n\u001b[32m   1017\u001b[39m \u001b[33;03m       called directly by Py4J users. It is usually called by\u001b[39;00m\n\u001b[32m   1018\u001b[39m \u001b[33;03m       :class:`JavaMember` instances.\u001b[39;00m\n\u001b[32m   (...)\u001b[39m\u001b[32m   1034\u001b[39m \u001b[33;03m     if `binary` is `True`.\u001b[39;00m\n\u001b[32m   1035\u001b[39m \u001b[33;03m    \"\"\"\u001b[39;00m\n\u001b[32m-> \u001b[39m\u001b[32m1036\u001b[39m     connection = \u001b[38;5;28;43mself\u001b[39;49m\u001b[43m.\u001b[49m\u001b[43m_get_connection\u001b[49m\u001b[43m(\u001b[49m\u001b[43m)\u001b[49m\n\u001b[32m   1037\u001b[39m     \u001b[38;5;28;01mtry\u001b[39;00m:\n\u001b[32m   1038\u001b[39m         response = connection.send_command(command)\n",
            "\u001b[36mFile \u001b[39m\u001b[32m~/miniconda3/envs/futbol/lib/python3.13/site-packages/py4j/clientserver.py:284\u001b[39m, in \u001b[36mJavaClient._get_connection\u001b[39m\u001b[34m(self)\u001b[39m\n\u001b[32m    281\u001b[39m     \u001b[38;5;28;01mpass\u001b[39;00m\n\u001b[32m    283\u001b[39m \u001b[38;5;28;01mif\u001b[39;00m connection \u001b[38;5;129;01mis\u001b[39;00m \u001b[38;5;28;01mNone\u001b[39;00m \u001b[38;5;129;01mor\u001b[39;00m connection.socket \u001b[38;5;129;01mis\u001b[39;00m \u001b[38;5;28;01mNone\u001b[39;00m:\n\u001b[32m--> \u001b[39m\u001b[32m284\u001b[39m     connection = \u001b[38;5;28;43mself\u001b[39;49m\u001b[43m.\u001b[49m\u001b[43m_create_new_connection\u001b[49m\u001b[43m(\u001b[49m\u001b[43m)\u001b[49m\n\u001b[32m    285\u001b[39m \u001b[38;5;28;01mreturn\u001b[39;00m connection\n",
            "\u001b[36mFile \u001b[39m\u001b[32m~/miniconda3/envs/futbol/lib/python3.13/site-packages/py4j/clientserver.py:291\u001b[39m, in \u001b[36mJavaClient._create_new_connection\u001b[39m\u001b[34m(self)\u001b[39m\n\u001b[32m    287\u001b[39m \u001b[38;5;28;01mdef\u001b[39;00m\u001b[38;5;250m \u001b[39m\u001b[34m_create_new_connection\u001b[39m(\u001b[38;5;28mself\u001b[39m):\n\u001b[32m    288\u001b[39m     connection = ClientServerConnection(\n\u001b[32m    289\u001b[39m         \u001b[38;5;28mself\u001b[39m.java_parameters, \u001b[38;5;28mself\u001b[39m.python_parameters,\n\u001b[32m    290\u001b[39m         \u001b[38;5;28mself\u001b[39m.gateway_property, \u001b[38;5;28mself\u001b[39m)\n\u001b[32m--> \u001b[39m\u001b[32m291\u001b[39m     \u001b[43mconnection\u001b[49m\u001b[43m.\u001b[49m\u001b[43mconnect_to_java_server\u001b[49m\u001b[43m(\u001b[49m\u001b[43m)\u001b[49m\n\u001b[32m    292\u001b[39m     \u001b[38;5;28mself\u001b[39m.set_thread_connection(connection)\n\u001b[32m    293\u001b[39m     \u001b[38;5;28;01mreturn\u001b[39;00m connection\n",
            "\u001b[36mFile \u001b[39m\u001b[32m~/miniconda3/envs/futbol/lib/python3.13/site-packages/py4j/clientserver.py:438\u001b[39m, in \u001b[36mClientServerConnection.connect_to_java_server\u001b[39m\u001b[34m(self)\u001b[39m\n\u001b[32m    435\u001b[39m \u001b[38;5;28;01mif\u001b[39;00m \u001b[38;5;28mself\u001b[39m.ssl_context:\n\u001b[32m    436\u001b[39m     \u001b[38;5;28mself\u001b[39m.socket = \u001b[38;5;28mself\u001b[39m.ssl_context.wrap_socket(\n\u001b[32m    437\u001b[39m         \u001b[38;5;28mself\u001b[39m.socket, server_hostname=\u001b[38;5;28mself\u001b[39m.java_address)\n\u001b[32m--> \u001b[39m\u001b[32m438\u001b[39m \u001b[38;5;28;43mself\u001b[39;49m\u001b[43m.\u001b[49m\u001b[43msocket\u001b[49m\u001b[43m.\u001b[49m\u001b[43mconnect\u001b[49m\u001b[43m(\u001b[49m\u001b[43m(\u001b[49m\u001b[38;5;28;43mself\u001b[39;49m\u001b[43m.\u001b[49m\u001b[43mjava_address\u001b[49m\u001b[43m,\u001b[49m\u001b[43m \u001b[49m\u001b[38;5;28;43mself\u001b[39;49m\u001b[43m.\u001b[49m\u001b[43mjava_port\u001b[49m\u001b[43m)\u001b[49m\u001b[43m)\u001b[49m\n\u001b[32m    439\u001b[39m \u001b[38;5;28mself\u001b[39m.stream = \u001b[38;5;28mself\u001b[39m.socket.makefile(\u001b[33m\"\u001b[39m\u001b[33mrb\u001b[39m\u001b[33m\"\u001b[39m)\n\u001b[32m    440\u001b[39m \u001b[38;5;28mself\u001b[39m.is_connected = \u001b[38;5;28;01mTrue\u001b[39;00m\n",
            "\u001b[31mConnectionRefusedError\u001b[39m: [Errno 111] Connection refused"
          ]
        }
      ],
      "source": [
        "# Importante cerrar la sesion de spark\n",
        "spark.stop()"
      ]
    }
  ],
  "metadata": {
    "colab": {
      "provenance": [],
      "toc_visible": true
    },
    "kernelspec": {
      "display_name": "futbol",
      "language": "python",
      "name": "python3"
    },
    "language_info": {
      "codemirror_mode": {
        "name": "ipython",
        "version": 3
      },
      "file_extension": ".py",
      "mimetype": "text/x-python",
      "name": "python",
      "nbconvert_exporter": "python",
      "pygments_lexer": "ipython3",
      "version": "3.13.3"
    }
  },
  "nbformat": 4,
  "nbformat_minor": 0
}
