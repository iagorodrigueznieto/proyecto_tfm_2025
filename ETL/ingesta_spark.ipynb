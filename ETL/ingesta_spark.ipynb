{
  "cells": [
    {
      "cell_type": "markdown",
      "metadata": {
        "id": "UltQhUoITERO"
      },
      "source": [
        "# Imports y funciones"
      ]
    },
    {
      "cell_type": "code",
      "execution_count": null,
      "metadata": {
        "id": "W_jnU4SCpqzA"
      },
      "outputs": [],
      "source": [
        "# # 📦 Importar librerías necesarias\n",
        "import pyspark\n",
        "import pandas as pd\n",
        "import numpy as np\n",
        "import seaborn as sns\n",
        "from pyspark.sql import SparkSession\n",
        "from pyspark.sql.functions import *\n",
        "from pyspark.sql.types import *\n",
        "\n",
        "import os"
      ]
    },
    {
      "cell_type": "code",
      "execution_count": null,
      "metadata": {
        "colab": {
          "base_uri": "https://localhost:8080/"
        },
        "id": "AagrShNx7LVV",
        "outputId": "7d759d8e-1703-48fc-cc4e-4a6cd0c23d42"
      },
      "outputs": [],
      "source": [
        "import kagglehub\n",
        "\n",
        "# Descargar el dataset desde Kaggle Hub\n",
        "path = kagglehub.dataset_download(\"davidcariboo/player-scores\")\n",
        "\n",
        "print(\"Path to dataset files:\", path)\n",
        "\n",
        "# Lista los archivos descargados\n",
        "for root, _, files in os.walk(path):\n",
        "    for file in files:\n",
        "        print(os.path.join(root, file))"
      ]
    },
    {
      "cell_type": "code",
      "execution_count": null,
      "metadata": {
        "id": "32AZqecHSln9"
      },
      "outputs": [],
      "source": [
        "spark = SparkSession.builder.appName('tfm_2025').getOrCreate()"
      ]
    },
    {
      "cell_type": "markdown",
      "metadata": {
        "id": "1LmEvdpCO7cd"
      },
      "source": [
        "Funciones utiles para la limpieza"
      ]
    },
    {
      "cell_type": "code",
      "execution_count": null,
      "metadata": {
        "id": "beIlh6ExO568"
      },
      "outputs": [],
      "source": [
        "def mostrar_sumario(df):\n",
        "    \"\"\"\n",
        "    Muestra un sumario del dataset.\n",
        "    Explicacion:\n",
        "        - Usa la funcion 'describe()' para mostrar las siguientes metricas:\n",
        "            - El conteo de filas por columna.\n",
        "            - La media de los valores de las columnas numericas (muestra NULL si no es numerica).\n",
        "            - La desviacion  estandar de los valores de las columnas numericas (muestra NULL si no es numerica).\n",
        "            - El valor minimo de cada columna.\n",
        "            - El valor maximo de cada columna.\n",
        "        - Devuelve el DataFrame con las metricas.\n",
        "    Args:\n",
        "        df: DataFrame a analizar\n",
        "\n",
        "    Returns:\n",
        "        Un DataFrame con las métricas del dataset.\n",
        "    \"\"\"\n",
        "    return df.summary()"
      ]
    },
    {
      "cell_type": "code",
      "execution_count": null,
      "metadata": {
        "id": "An_7Wu2LPClN"
      },
      "outputs": [],
      "source": [
        "def contar_nulos_por_columna(df):\n",
        "    \"\"\"\n",
        "    Calcula el numero de valores nulos en cada columna del DataFrame.\n",
        "    Explicacion:\n",
        "        - Itera sobre cada columna del DataFrame utilizando 'df.columns'.\n",
        "        - Usa la funcion 'expr()' que utiliza una expresion SQL para contar los valores nulos en cada columna.\n",
        "        - Asigna '1' si el valor es nulo y '0' si no es nulo.\n",
        "        - Renombra la columna con '.alias(c)' para mantener el nombre original.\n",
        "        - Selecciona y aplica la transformacion en todas las columnas dinamicamente con 'df.select([...])'.\n",
        "        - Devuelve el DataFrame con los conteos de nulos.\n",
        "    Args:\n",
        "        df: DataFrame a analizar\n",
        "\n",
        "    Returns:\n",
        "        Un DataFrame con las mismas columnas del DataFrame original\n",
        "        y una fila que indica el numero de valores nulos por columna.\n",
        "    \"\"\"\n",
        "    # df.select([count(when(col(c).isNull() | isnan(c), c)).alias(c) for c in df.columns]).show()\n",
        "    return df.select([expr(f\"sum(case when {c} is null then 1 else 0 end)\").alias(c) for c in df.columns])"
      ]
    },
    {
      "cell_type": "code",
      "execution_count": null,
      "metadata": {
        "id": "AlqhQwBA33Bm"
      },
      "outputs": [],
      "source": [
        "def duplicados_por_columna(df, columna):\n",
        "    \"\"\"\n",
        "    Muestra los valores duplicados y su conteo para una columna especifica.\n",
        "    Explicacion:\n",
        "        - Agrupa el DataFrame por la columna especificada.\n",
        "        - Cuenta el numero de ocurrencias de cada valor en la columna.\n",
        "        - Filtra para ver los valores que aparecen mas de una vez.\n",
        "    Args:\n",
        "        df: DataFrame a analizar.\n",
        "        columna: Nombre de la columna a verificar.\n",
        "    \"\"\"\n",
        "    df.groupBy(columna).count().filter(col(\"count\") > 1).show(truncate=False)"
      ]
    },
    {
      "cell_type": "markdown",
      "metadata": {
        "id": "iBBPwepYmb75"
      },
      "source": [
        "# Archivo \"clubs.csv\""
      ]
    },
    {
      "cell_type": "code",
      "execution_count": null,
      "metadata": {
        "id": "3MFHw0HMS0q1"
      },
      "outputs": [],
      "source": [
        "# Cargar el csv\n",
        "df_clubs = spark.read.csv(\"/root/.cache/kagglehub/datasets/davidcariboo/player-scores/versions/602/clubs.csv\", header=True, inferSchema=True)\n",
        "\n",
        "# Ver las primeras filas\n",
        "df_clubs.show(10)\n",
        "df_clubs.printSchema()\n",
        "df_clubs.columns"
      ]
    },
    {
      "cell_type": "code",
      "execution_count": null,
      "metadata": {
        "id": "i62dFf02UGBm"
      },
      "outputs": [],
      "source": [
        "mostrar_sumario(df_clubs).show()"
      ]
    },
    {
      "cell_type": "code",
      "execution_count": null,
      "metadata": {
        "id": "D8fK7zzrmb77"
      },
      "outputs": [],
      "source": [
        "contar_nulos_por_columna(df_clubs).show()"
      ]
    },
    {
      "cell_type": "code",
      "execution_count": null,
      "metadata": {
        "id": "UQjjXMQJ4LXi"
      },
      "outputs": [],
      "source": [
        "duplicados_por_columna(df_clubs, \"club_id\")"
      ]
    },
    {
      "cell_type": "code",
      "execution_count": null,
      "metadata": {
        "id": "n_FpeFLlSoyC"
      },
      "outputs": [],
      "source": [
        "# Comparar numero de filas totales con numero de nulos en 'total_market_value'\n",
        "print(f\"Filas totales: {df_clubs.count()}\")\n",
        "print(f\"Nulos en la columna 'total_market_value': {contar_nulos_por_columna(df_clubs).select('total_market_value').first()[0]}\")"
      ]
    },
    {
      "cell_type": "code",
      "execution_count": null,
      "metadata": {
        "id": "B9WVujkkUDms"
      },
      "outputs": [],
      "source": [
        "# La columna 'total_market_value' esta completamente vacia, podemos eliminarla\n",
        "df_clubs = df_clubs.drop(\"total_market_value\")\n",
        "df_clubs.show()"
      ]
    },
    {
      "cell_type": "code",
      "execution_count": null,
      "metadata": {
        "id": "ozXf2WfZmb79"
      },
      "outputs": [],
      "source": [
        "# Ver nulos de la columna 'average_age'\n",
        "df_clubs.filter(col('average_age').isNull()).show()"
      ]
    },
    {
      "cell_type": "code",
      "execution_count": null,
      "metadata": {
        "id": "9BcKFwW73Rn5"
      },
      "outputs": [],
      "source": [
        "# Calcular la media de 'average_age' por liga (excluyendo nulos) y redondear a 1 decimal\n",
        "avg_age_by_league_df = df_clubs.filter(col(\"average_age\").isNotNull()).groupBy(\"domestic_competition_id\").agg(round(avg(\"average_age\"), 1).alias(\"avg_age_by_league\"))\n",
        "\n",
        "# Unir la nueva columna al dataset\n",
        "df_clubs = df_clubs.join(avg_age_by_league_df, on=\"domestic_competition_id\", how=\"left_outer\")\n",
        "\n",
        "# Ver nueva columna\n",
        "df_clubs.select(\"domestic_competition_id\", \"avg_age_by_league\").show()"
      ]
    },
    {
      "cell_type": "code",
      "execution_count": null,
      "metadata": {
        "id": "iPrjHQT-ypPr"
      },
      "outputs": [],
      "source": [
        "# Sustituir nulos por 'avg_age_by_league'\n",
        "df_clubs = df_clubs.withColumn(\n",
        "    \"average_age\",\n",
        "    when(col(\"average_age\").isNull(), col(\"avg_age_by_league\")).otherwise(col(\"average_age\"))\n",
        ")\n",
        "\n",
        "# Eliminar columna de media por liga\n",
        "df_clubs = df_clubs.drop(\"avg_age_by_league\")\n",
        "\n",
        "# Comprobar de nuevo los nulos despues de la sustitucion\n",
        "df_clubs.filter(col('average_age').isNull()).show()"
      ]
    },
    {
      "cell_type": "code",
      "execution_count": null,
      "metadata": {
        "id": "GhPDBmFF2cxW"
      },
      "outputs": [],
      "source": [
        "# Ver nulos de la columna 'foreigners_percentage'\n",
        "df_clubs.filter(col('foreigners_percentage').isNull()).show()"
      ]
    },
    {
      "cell_type": "code",
      "execution_count": null,
      "metadata": {
        "id": "4YL9SsUb4jEK"
      },
      "outputs": [],
      "source": [
        "# Calcular la media de 'foreigners_percentage' por liga (excluyendo nulos) y redondear a 1 decimal\n",
        "avg_foreigners_percentage_df = df_clubs.filter(col(\"foreigners_percentage\").isNotNull()).groupBy(\"domestic_competition_id\").agg(round(avg(\"foreigners_percentage\"), 1).alias(\"avg_foreigners_percentage_by_league\"))\n",
        "\n",
        "# Unir la nueva columna al dataset\n",
        "df_clubs = df_clubs.join(avg_foreigners_percentage_df, on=\"domestic_competition_id\", how=\"left_outer\")\n",
        "\n",
        "# Ver nueva columna\n",
        "df_clubs.select(\"domestic_competition_id\", \"avg_foreigners_percentage_by_league\").show()"
      ]
    },
    {
      "cell_type": "code",
      "execution_count": null,
      "metadata": {
        "id": "V7KCchB143P9"
      },
      "outputs": [],
      "source": [
        "# Sustituir nulos por 'avg_foreigners_percentage_by_league'\n",
        "df_clubs = df_clubs.withColumn(\n",
        "    \"foreigners_percentage\",\n",
        "    when(col(\"foreigners_percentage\").isNull(), col(\"avg_foreigners_percentage_by_league\")).otherwise(col(\"foreigners_percentage\"))\n",
        ")\n",
        "\n",
        "# Eliminar tabla de media por liga\n",
        "df_clubs = df_clubs.drop(\"avg_foreigners_percentage_by_league\")\n",
        "\n",
        "# Comprobar de nuevo los nulos despues de la sustitucion\n",
        "contar_nulos_por_columna(df_clubs).show()"
      ]
    },
    {
      "cell_type": "code",
      "execution_count": null,
      "metadata": {
        "id": "9-6cI1jw5kWj"
      },
      "outputs": [],
      "source": [
        "# Eliminamos las columnas 'filename' y 'url' porque no son relevantes para nuestro analisis\n",
        "# Tambien eliminamos la columna 'coach_name' porque esa informacion ya esta en otra tabla\n",
        "df_clubs = df_clubs.drop(\"filename\", \"url\", \"coach_name\")\n",
        "df_clubs.show(10)"
      ]
    },
    {
      "cell_type": "markdown",
      "metadata": {
        "id": "_A_6fu4jbWDS"
      },
      "source": [
        "# Archivo \"competitions.csv\""
      ]
    },
    {
      "cell_type": "code",
      "execution_count": null,
      "metadata": {
        "id": "Q_UomoPibV6y"
      },
      "outputs": [],
      "source": [
        "# Cargar el csv\n",
        "df_competitions = spark.read.csv(\"/root/.cache/kagglehub/datasets/davidcariboo/player-scores/versions/602/competitions.csv\", header=True, inferSchema=True)\n",
        "\n",
        "# Ver las primeras filas\n",
        "df_competitions.show(10)\n",
        "df_competitions.printSchema()\n",
        "df_competitions.columns"
      ]
    },
    {
      "cell_type": "code",
      "execution_count": null,
      "metadata": {
        "id": "FMS7IEBHb_9p"
      },
      "outputs": [],
      "source": [
        "mostrar_sumario(df_competitions).show()"
      ]
    },
    {
      "cell_type": "code",
      "execution_count": null,
      "metadata": {
        "id": "cv4yCHIvcAHe"
      },
      "outputs": [],
      "source": [
        "contar_nulos_por_columna(df_competitions).show()"
      ]
    },
    {
      "cell_type": "code",
      "execution_count": null,
      "metadata": {
        "id": "NgAh4hbQ4YFB"
      },
      "outputs": [],
      "source": [
        "duplicados_por_columna(df_competitions, \"competition_id\")"
      ]
    },
    {
      "cell_type": "code",
      "execution_count": null,
      "metadata": {
        "id": "XtldsNZGcV7H"
      },
      "outputs": [],
      "source": [
        "# Ver nulos en 'country_name'\n",
        "df_competitions.filter(col('country_name').isNull()).show()"
      ]
    },
    {
      "cell_type": "code",
      "execution_count": null,
      "metadata": {
        "id": "EPVZWhPjc4ec"
      },
      "outputs": [],
      "source": [
        "# Las filas con 'country_id'= -1 y 'country_name'= null son de competiciones internacionales\n",
        "# Sustituimos 'country_name' por 'International', 'country_id' por '1' y 'domestic_league_code' por 'INT'\n",
        "df_competitions = df_competitions.withColumn(\n",
        "    \"country_name\",\n",
        "    when(col(\"country_id\") == -1, \"International\").otherwise(col(\"country_name\"))\n",
        ")\n",
        "\n",
        "df_competitions = df_competitions.withColumn(\n",
        "    \"country_id\",\n",
        "    when(col(\"country_id\") == -1, 1).otherwise(col(\"country_id\"))\n",
        ")\n",
        "\n",
        "df_competitions = df_competitions.withColumn(\n",
        "    \"domestic_league_code\",\n",
        "    when(col(\"country_id\") == 1, \"INT\").otherwise(col(\"domestic_league_code\"))\n",
        ")\n",
        "\n",
        "contar_nulos_por_columna(df_competitions).show()"
      ]
    },
    {
      "cell_type": "code",
      "execution_count": null,
      "metadata": {
        "id": "IkEwl7nHenbJ"
      },
      "outputs": [],
      "source": [
        "# Eliminar la columna 'url' porque no es relevante para nuestro analisis\n",
        "df_competitions = df_competitions.drop(\"url\")\n",
        "df_competitions.show()"
      ]
    },
    {
      "cell_type": "markdown",
      "metadata": {
        "id": "n0Rk1i8vXu-A"
      },
      "source": [
        "# Archivo \"game_events.csv\""
      ]
    },
    {
      "cell_type": "code",
      "execution_count": null,
      "metadata": {
        "id": "-uM_G74jYWy7"
      },
      "outputs": [],
      "source": [
        "# Cargar el csv\n",
        "df_game_events = spark.read.csv(\"/kaggle/input/player-scores/game_events.csv\", header=True, inferSchema=True)\n",
        "\n",
        "# Ver las primeras filas\n",
        "df_game_events.show(10)\n",
        "df_game_events.printSchema()\n",
        "df_game_events.columns"
      ]
    },
    {
      "cell_type": "code",
      "execution_count": null,
      "metadata": {
        "id": "RSrGDZKiZs0s"
      },
      "outputs": [],
      "source": [
        "mostrar_sumario(df_game_events).show()"
      ]
    },
    {
      "cell_type": "code",
      "execution_count": null,
      "metadata": {
        "id": "ILvXSFqEZupq"
      },
      "outputs": [],
      "source": [
        "contar_nulos_por_columna(df_game_events).show()"
      ]
    },
    {
      "cell_type": "code",
      "execution_count": null,
      "metadata": {
        "id": "JCKsEIHj4azZ"
      },
      "outputs": [],
      "source": [
        "duplicados_por_columna(df_game_events, \"game_event_id\")"
      ]
    },
    {
      "cell_type": "code",
      "execution_count": null,
      "metadata": {
        "id": "Ae5aBxh4hNTV"
      },
      "outputs": [],
      "source": [
        "# Mostrar los diferentes tipos de eventos\n",
        "df_game_events.select(\"type\").distinct().show()"
      ]
    },
    {
      "cell_type": "code",
      "execution_count": null,
      "metadata": {
        "id": "qt5HCjXhat7B"
      },
      "outputs": [],
      "source": [
        "# Ver nulos de la columna 'description'\n",
        "df_game_events.filter(col('description').isNull()).show()"
      ]
    },
    {
      "cell_type": "code",
      "execution_count": null,
      "metadata": {
        "id": "02dCJYkfd-M1"
      },
      "outputs": [],
      "source": [
        "# Ver valores unicos de 'description'\n",
        "df_game_events.select(\"description\").distinct().show(truncate=False)"
      ]
    },
    {
      "cell_type": "code",
      "execution_count": null,
      "metadata": {
        "id": "bFMa87h9eYEH"
      },
      "outputs": [],
      "source": [
        "# Debido a la gran cantidad de valores nulos y formatos confusos,\n",
        "# consideramos que es mejor eliminar la columna 'description', pues ya tenemos el tipo de jugada en la columna 'type'\n",
        "df_game_events = df_game_events.drop(\"description\")\n",
        "df_game_events.show()"
      ]
    },
    {
      "cell_type": "markdown",
      "metadata": {
        "id": "lhrCywMGgudj"
      },
      "source": [
        "Los valores vacíos en las columnas 'player_in_id' y 'player_assist_id' tienen sentido ya que dependen del tipo de evento; si el evento es 'Substitutions', sólo hace falta el 'player_in_id'; si el evento es 'Goals', sólo hace falta el 'player_assist_id'."
      ]
    },
    {
      "cell_type": "markdown",
      "metadata": {
        "id": "uADxF-7wh5IS"
      },
      "source": [
        "# Archivo \"game_lineups.csv\""
      ]
    },
    {
      "cell_type": "code",
      "execution_count": null,
      "metadata": {
        "id": "4HzAG3uyh5i8"
      },
      "outputs": [],
      "source": [
        "# Este archivo tiene problemas cargando el esquema, decidimos crear un esquema personalizado para este archivo\n",
        "custom_schema = StructType([\n",
        "    StructField(\"game_lineups_id\", StringType(), True),\n",
        "    StructField(\"date\", DateType(), True),\n",
        "    StructField(\"game_id\", IntegerType(), True),\n",
        "    StructField(\"player_id\", IntegerType(), True),\n",
        "    StructField(\"club_id\", IntegerType(), True),\n",
        "    StructField(\"player_name\", StringType(), True),\n",
        "    StructField(\"type\", StringType(), True),\n",
        "    StructField(\"position\", StringType(), True),\n",
        "    StructField(\"number\", StringType(), True),\n",
        "    StructField(\"team_captain\", IntegerType(), True)\n",
        "])\n",
        "# Cargar el csv\n",
        "df_game_lineups = spark.read.csv(\"/kaggle/input/player-scores/game_lineups.csv\", header=True, schema=custom_schema)\n",
        "\n",
        "# Ver las primeras filas\n",
        "df_game_lineups.show(10)\n",
        "df_game_lineups.printSchema()\n",
        "df_game_lineups.columns"
      ]
    },
    {
      "cell_type": "code",
      "execution_count": null,
      "metadata": {
        "id": "SNXuPMO4iHz4"
      },
      "outputs": [],
      "source": [
        "mostrar_sumario(df_game_lineups).show()"
      ]
    },
    {
      "cell_type": "code",
      "execution_count": null,
      "metadata": {
        "id": "auzTJGUSiJpr"
      },
      "outputs": [],
      "source": [
        "contar_nulos_por_columna(df_game_lineups).show()"
      ]
    },
    {
      "cell_type": "code",
      "execution_count": null,
      "metadata": {
        "id": "B2H4lT3L1l5f"
      },
      "outputs": [],
      "source": [
        "duplicados_por_columna(df_game_lineups, \"game_lineups_id\")"
      ]
    },
    {
      "cell_type": "code",
      "execution_count": null,
      "metadata": {
        "id": "5N3QadmU413m"
      },
      "outputs": [],
      "source": [
        "# ver filas con game_lineups_id = 77\n",
        "df_game_lineups.filter(col('game_lineups_id') == 77).show()"
      ]
    },
    {
      "cell_type": "code",
      "execution_count": null,
      "metadata": {
        "id": "WmyRFUmj5R-q"
      },
      "outputs": [],
      "source": [
        "# Parece que algunas filas se introdujeron incorrectamente y no tienen valores\n",
        "# Eliminaremos esas filas\n",
        "\n",
        "duplicated_ids_df = df_game_lineups.groupBy(\"game_lineups_id\").count().filter(col(\"count\") > 1).select(\"game_lineups_id\")\n",
        "\n",
        "# Convertir el DataFrame de IDs duplicados a una lista de strings\n",
        "# Esto es necesario para usarlo en una operacion de filtrado\n",
        "duplicated_ids_list = [row.game_lineups_id for row in duplicated_ids_df.collect()]\n",
        "\n",
        "# Eliminar las filas con IDs duplicados del DataFrame original\n",
        "df_game_lineups_cleaned = df_game_lineups.filter(~col(\"game_lineups_id\").isin(duplicated_ids_list))\n",
        "\n",
        "# Mostrar el conteo de filas antes y despues para verificar la eliminacion\n",
        "print(f\"Filas antes de eliminar duplicados: {df_game_lineups.count()}\")\n",
        "print(f\"Filas despues de eliminar duplicados: {df_game_lineups_cleaned.count()}\")"
      ]
    },
    {
      "cell_type": "code",
      "execution_count": null,
      "metadata": {
        "id": "beGLUK7gDx_D"
      },
      "outputs": [],
      "source": [
        "# Ver nulos despues de eliminar duplicados\n",
        "contar_nulos_por_columna(df_game_lineups_cleaned).show()"
      ]
    },
    {
      "cell_type": "code",
      "execution_count": null,
      "metadata": {
        "id": "0vCHslPYECIV"
      },
      "outputs": [],
      "source": [
        "# Ver nulos de la columna 'team_captain'\n",
        "df_game_lineups_cleaned.filter(col('team_captain').isNull()).show()"
      ]
    },
    {
      "cell_type": "code",
      "execution_count": null,
      "metadata": {
        "id": "itFo0PVlGf9l"
      },
      "outputs": [],
      "source": [
        "# ver valores vacios de number\n",
        "df_game_lineups_cleaned.filter(col('number') == '\"').show()"
      ]
    },
    {
      "cell_type": "code",
      "execution_count": null,
      "metadata": {
        "id": "D8bZnbDIFq5Q"
      },
      "outputs": [],
      "source": [
        "# Algunos valores de 'team_captain' estan nulos y 'number' tiene varios vacios\n",
        "# Sustituimos los nulos de 'team_captain' y los vacios de 'number' por 0\n",
        "df_game_lineups_cleaned = df_game_lineups_cleaned.withColumn(\n",
        "    \"team_captain\",\n",
        "    when(col(\"team_captain\").isNull(), 0).otherwise(col(\"team_captain\"))\n",
        ")\n",
        "df_game_lineups_cleaned = df_game_lineups_cleaned.withColumn(\n",
        "    \"number\",\n",
        "    when(col(\"number\") == '\"', 0).otherwise(col(\"number\"))\n",
        ")\n",
        "# Ver nulos de nuevo\n",
        "contar_nulos_por_columna(df_game_lineups_cleaned).show()"
      ]
    },
    {
      "cell_type": "code",
      "execution_count": null,
      "metadata": {
        "id": "k9gfR-W-HE1g"
      },
      "outputs": [],
      "source": [
        "# Ver nulos en la columna 'position'\n",
        "df_game_lineups_cleaned.filter(col('position').isNull()).show()"
      ]
    },
    {
      "cell_type": "code",
      "execution_count": null,
      "metadata": {
        "id": "p21kFdHQHKtc"
      },
      "outputs": [],
      "source": [
        "# Sustituir posiciones nulas por 'Unkown'\n",
        "df_game_lineups_cleaned = df_game_lineups_cleaned.withColumn(\n",
        "    \"position\",\n",
        "    when(col(\"position\").isNull(), \"Unknown\").otherwise(col(\"position\"))\n",
        ")\n",
        "df_game_lineups_cleaned.show()"
      ]
    },
    {
      "cell_type": "markdown",
      "metadata": {
        "id": "0XzaYOSaaQ8C"
      },
      "source": [
        "# Archivo \"appearances.csv\""
      ]
    },
    {
      "cell_type": "code",
      "execution_count": null,
      "metadata": {
        "id": "5KfdG2RJaRJN"
      },
      "outputs": [],
      "source": [
        "# Cargar el csv\n",
        "df_appearances = spark.read.csv(\"/kaggle/input/player-scores/appearances.csv\", header=True, inferSchema=True)\n",
        "\n",
        "# Ver las primeras filas\n",
        "df_appearances.show(10)\n",
        "df_appearances.printSchema()\n",
        "df_appearances.columns"
      ]
    },
    {
      "cell_type": "code",
      "execution_count": null,
      "metadata": {
        "id": "plnn2J9Sf7_i"
      },
      "outputs": [],
      "source": [
        "mostrar_sumario(df_appearances).show()"
      ]
    },
    {
      "cell_type": "code",
      "execution_count": null,
      "metadata": {
        "id": "e-TL8-gqf9Ua"
      },
      "outputs": [],
      "source": [
        "contar_nulos_por_columna(df_appearances).show()"
      ]
    },
    {
      "cell_type": "code",
      "execution_count": null,
      "metadata": {
        "id": "nESB0ZH8f-Xh"
      },
      "outputs": [],
      "source": [
        "duplicados_por_columna(df_appearances, \"appearance_id\")"
      ]
    },
    {
      "cell_type": "code",
      "execution_count": null,
      "metadata": {
        "id": "iuH2hxtkga0Z"
      },
      "outputs": [],
      "source": [
        "# Ver nulos de la columna 'player_name'\n",
        "df_appearances.filter(col('player_name').isNull()).show()"
      ]
    },
    {
      "cell_type": "code",
      "execution_count": null,
      "metadata": {
        "id": "chZmaFkQhMIp"
      },
      "outputs": [],
      "source": [
        "# Ver valores en 'player_current_club_id'= -1\n",
        "df_appearances.filter(col('player_current_club_id') == -1).show()"
      ]
    },
    {
      "cell_type": "code",
      "execution_count": null,
      "metadata": {
        "id": "t7CoJ0sAhnLF"
      },
      "outputs": [],
      "source": [
        "# Existen 6 jugadores sin nombre y con 'player_current_club_id'= -1, son los unicos valores con este id\n",
        "# Creemos que es un fallo y decidimos eliminarlos\n",
        "df_appearances = df_appearances.filter(col('player_current_club_id') != -1)\n",
        "# Ver nulos de nuevo\n",
        "contar_nulos_por_columna(df_appearances).show()\n",
        "df_appearances.show()"
      ]
    },
    {
      "cell_type": "markdown",
      "metadata": {
        "id": "kBZA7ENsiACH"
      },
      "source": [
        "# Archivo \"player_valuations.csv\""
      ]
    },
    {
      "cell_type": "code",
      "execution_count": null,
      "metadata": {
        "id": "bKodh7QLiF9e"
      },
      "outputs": [],
      "source": [
        "# Cargar el csv\n",
        "df_player_valuations = spark.read.csv(\"/kaggle/input/player-scores/player_valuations.csv\", header=True, inferSchema=True)\n",
        "\n",
        "# Ver las primeras filas\n",
        "df_player_valuations.show(10)\n",
        "df_player_valuations.printSchema()\n",
        "df_player_valuations.columns"
      ]
    },
    {
      "cell_type": "code",
      "execution_count": null,
      "metadata": {
        "id": "RAhqPnpDikrz"
      },
      "outputs": [],
      "source": [
        "mostrar_sumario(df_player_valuations).show()"
      ]
    },
    {
      "cell_type": "code",
      "execution_count": null,
      "metadata": {
        "id": "V2hSHun2io_C"
      },
      "outputs": [],
      "source": [
        "contar_nulos_por_columna(df_player_valuations).show()"
      ]
    },
    {
      "cell_type": "code",
      "execution_count": null,
      "metadata": {
        "id": "zO9BtaBSiw53"
      },
      "outputs": [],
      "source": [
        "duplicados_por_columna(df_player_valuations, \"date\")"
      ]
    },
    {
      "cell_type": "markdown",
      "metadata": {
        "id": "LP-HB1JMmb79"
      },
      "source": [
        "# Archivo \"games.csv\""
      ]
    },
    {
      "cell_type": "code",
      "execution_count": null,
      "metadata": {
        "id": "f7MwHYWjmb79"
      },
      "outputs": [],
      "source": [
        "# Cargar el csv\n",
        "df_games = spark.read.csv(\"/kaggle/input/player-scores/games.csv\", header=True, inferSchema=True)\n",
        "\n",
        "# Ver las primeras filas\n",
        "df_games.show(10)\n",
        "df_games.printSchema()\n",
        "df_games.columns"
      ]
    },
    {
      "cell_type": "code",
      "execution_count": null,
      "metadata": {
        "id": "gzjjjxewojU1"
      },
      "outputs": [],
      "source": [
        "mostrar_sumario(df_games).show()"
      ]
    },
    {
      "cell_type": "code",
      "execution_count": null,
      "metadata": {
        "id": "FfJrD5tX7uy5"
      },
      "outputs": [],
      "source": [
        "contar_nulos_por_columna(df_games).show()"
      ]
    },
    {
      "cell_type": "code",
      "execution_count": null,
      "metadata": {
        "id": "kk56z45HIG6v"
      },
      "outputs": [],
      "source": [
        "duplicados_por_columna(df_games, \"game_id\")"
      ]
    },
    {
      "cell_type": "code",
      "execution_count": null,
      "metadata": {
        "id": "o0ncC8Uf7xHg"
      },
      "outputs": [],
      "source": [
        "# Ver nulos de la tablas 'home_club_id' y 'away_club_id'\n",
        "df_games.filter(col('home_club_id').isNull()).show()\n",
        "df_games.filter(col('away_club_id').isNull()).show()"
      ]
    },
    {
      "cell_type": "code",
      "execution_count": null,
      "metadata": {
        "id": "lBNUuEsZL8np"
      },
      "outputs": [],
      "source": [
        "# Parece que los partidos sin club_id son de fechas futuras, deberian de eliminarse\n",
        "df_games = df_games.withColumn('date', to_date(col('date'), 'yyyy-MM-dd')).filter(col('date') <= current_date())\n",
        "# Ver nulos de nuevo\n",
        "contar_nulos_por_columna(df_games).show()"
      ]
    },
    {
      "cell_type": "code",
      "execution_count": null,
      "metadata": {
        "id": "iAJ60N8u8xDg"
      },
      "outputs": [],
      "source": [
        "# Ver nulos columnas de 'club_position'\n",
        "df_games.filter(col('home_club_position').isNull()).show()\n",
        "df_games.filter(col('away_club_position').isNull()).show()"
      ]
    },
    {
      "cell_type": "code",
      "execution_count": null,
      "metadata": {
        "id": "_hhuvK9UJqg6"
      },
      "outputs": [],
      "source": [
        "# Parece que cuando la competicion es algun tipo de copa, los valores de posicion estan nulos porque las copas no usan ese tipo de ranking\n",
        "\n",
        "# Convertimos las columnas a string y le añadimos un valor 'Sin Ranking' para estos casos\n",
        "df_games = df_games.withColumn(\"home_club_position\", col(\"home_club_position\").cast(StringType()))\n",
        "df_games = df_games.withColumn(\"away_club_position\", col(\"away_club_position\").cast(StringType()))\n",
        "\n",
        "# La logica toma los casos en los que la position sea nulo y la competicion contenga 'cup' sin tener en cuenta mayusculas, o sea de tipo 'other'\n",
        "df_games = df_games.withColumn(\n",
        "    \"home_club_position\",\n",
        "    when((lower(col(\"competition_type\")).contains(\"cup\") | (col(\"competition_type\") == \"other\")) & col(\"home_club_position\").isNull(), \"Sin Ranking\")\n",
        "    .otherwise(col(\"home_club_position\"))\n",
        ")\n",
        "df_games = df_games.withColumn(\n",
        "    \"away_club_position\",\n",
        "    when((lower(col(\"competition_type\")).contains(\"cup\") | (col(\"competition_type\") == \"other\")) & col(\"away_club_position\").isNull(), \"Sin Ranking\")\n",
        "    .otherwise(col(\"away_club_position\"))\n",
        ")\n",
        "\n",
        "# Ver nulos despues de la sustitucion\n",
        "df_games.filter(col('home_club_position').isNull()).show()\n",
        "df_games.filter(col('away_club_position').isNull()).show()"
      ]
    },
    {
      "cell_type": "code",
      "execution_count": null,
      "metadata": {
        "id": "ljv7OpYRLnlp"
      },
      "outputs": [],
      "source": [
        "# Parece que aun quedan nulos en position que no son de copas\n",
        "# Sustituimos los valores nulos restantes por 'Unkown'\n",
        "df_games = df_games.withColumn(\n",
        "    \"home_club_position\",\n",
        "    when(col(\"home_club_position\").isNull(), \"Unknown\").otherwise(col(\"home_club_position\"))\n",
        ")\n",
        "df_games = df_games.withColumn(\n",
        "    \"away_club_position\",\n",
        "    when(col(\"away_club_position\").isNull(), \"Unknown\").otherwise(col(\"away_club_position\"))\n",
        ")\n",
        "# Ver todos los nulos\n",
        "contar_nulos_por_columna(df_games).show()"
      ]
    },
    {
      "cell_type": "code",
      "execution_count": null,
      "metadata": {
        "id": "QTIzyiEJUMKB"
      },
      "outputs": [],
      "source": [
        "# Sustituir valores nulos en 'home_club_manager_name', 'away_club_manager_name', 'stadium' y 'referee' por 'Unkown'\n",
        "df_games = df_games.fillna({\n",
        "    \"home_club_manager_name\": \"Unknown\",\n",
        "    \"away_club_manager_name\": \"Unknown\",\n",
        "    \"stadium\": \"Unknown\",\n",
        "    \"referee\": \"Unknown\"\n",
        "})\n",
        "# Comprobar de nuevo los nulos despues de la sustitucion\n",
        "contar_nulos_por_columna(df_games).show()"
      ]
    },
    {
      "cell_type": "code",
      "execution_count": null,
      "metadata": {
        "id": "cwHI9YS-VPyw"
      },
      "outputs": [],
      "source": [
        "# Ver nulos en columnas 'attendance'\n",
        "df_games.filter(col('attendance').isNull()).show()"
      ]
    },
    {
      "cell_type": "code",
      "execution_count": null,
      "metadata": {
        "id": "OZVhaT07kvOR"
      },
      "outputs": [],
      "source": [
        "# Sustituir los valores nulos por la capacidad del estadio\n",
        "# La capacidad del estadio esta en 'df_clubs'\n",
        "df_clubs_capacity = df_clubs.select(\"stadium_name\", \"stadium_seats\")\n",
        "\n",
        "# Unir la nueva columna al dataset\n",
        "df_games = df_games.join(df_clubs_capacity, df_games.stadium == df_clubs_capacity.stadium_name, \"left\")\n",
        "\n",
        "# Mostrar dataframe despues de la union\n",
        "df_games.show()"
      ]
    },
    {
      "cell_type": "code",
      "execution_count": null,
      "metadata": {
        "id": "5fwu8oYvlr9m"
      },
      "outputs": [],
      "source": [
        "# Rellenar los nulos en 'attendance' usando la capacidad del estadio correspondiente\n",
        "df_games = df_games.withColumn(\n",
        "    \"attendance\",\n",
        "    when(col(\"attendance\").isNull(), col(\"stadium_seats\")).otherwise(col(\"attendance\"))\n",
        ")\n",
        "\n",
        "# Eliminar las columna temporales\n",
        "df_games = df_games.drop(\"stadium_name\", \"stadium_seats\")\n",
        "\n",
        "# Comprobar los nulos en 'attendance' despues de la sustitucion\n",
        "df_games.filter(col('attendance').isNull()).show()"
      ]
    },
    {
      "cell_type": "code",
      "execution_count": null,
      "metadata": {
        "id": "oNUTFstKuKwI"
      },
      "outputs": [],
      "source": [
        "# Aun quedan valores nulos en 'attendance', probablemente sean de estadios que tengan de nombre 'Unkown'\n",
        "# Sustituir esos valores de 'attendance' por 0\n",
        "df_games = df_games.withColumn(\n",
        "    \"attendance\",\n",
        "    when(col(\"attendance\").isNull(), 0).otherwise(col(\"attendance\"))\n",
        ")\n",
        "# Ver nulos en todas las columnas\n",
        "contar_nulos_por_columna(df_games).show()"
      ]
    },
    {
      "cell_type": "code",
      "execution_count": null,
      "metadata": {
        "id": "CdiOdQyjxyb2"
      },
      "outputs": [],
      "source": [
        "# Ver valores nulos en las columnas de formaciones\n",
        "df_games.filter(col('home_club_formation').isNull()).show()\n",
        "df_games.filter(col('away_club_formation').isNull()).show()"
      ]
    },
    {
      "cell_type": "code",
      "execution_count": null,
      "metadata": {
        "id": "g3tupelZyELx"
      },
      "outputs": [],
      "source": [
        "# Ver valores unicos de las columnas de formaciones\n",
        "df_games.select(\"home_club_formation\").distinct().show(truncate=False)\n",
        "df_games.select(\"away_club_formation\").distinct().show(truncate=False)"
      ]
    },
    {
      "cell_type": "markdown",
      "metadata": {
        "id": "i63Jpb7y1Kut"
      },
      "source": [
        "Las columnas de 'home_club_formation' y 'home_club_formation' tienen muchos nulos y no tienen todas el formato correcto.\n",
        "\n",
        "Decidimos definir una funcion para aplicarles a todas un formato uniforme."
      ]
    },
    {
      "cell_type": "code",
      "execution_count": null,
      "metadata": {
        "id": "FUBsY_Ua03x-"
      },
      "outputs": [],
      "source": [
        "def formatear_formaciones(column_name):\n",
        "    \"\"\"\n",
        "    Construye una expresion Spark SQL para limpiar, validar el formato, y formatear una columna de formacion,\n",
        "    reemplazando con \"Unknown\" si no cumple el formato.\n",
        "    Explicacion:\n",
        "      - Limpia caracteres no deseados en los valores (solo admite numeros y guiones).\n",
        "      - Usa regexp_extract() para verificar el formato: de 3 a 4 digitos separados por guiones.\n",
        "      - Si el patron coincide, usa la cadena limpiada; de lo contrario, usa \"Unknown\".\n",
        "    Args:\n",
        "        column_name (str): Nombre de la columna a formatear.\n",
        "\n",
        "    Returns:\n",
        "        Expresion Spark SQL para formatear la columna.\n",
        "    \"\"\"\n",
        "\n",
        "    cleaned_formation = regexp_replace(col(column_name), \"[^0-9-]\", \"\")\n",
        "\n",
        "    pattern = r\"^(\\d+)-(\\d+)-(\\d+)$|^(\\d+)-(\\d+)-(\\d+)-(\\d+)$\"\n",
        "    matches_pattern = regexp_extract(cleaned_formation, pattern, 0) != \"\"\n",
        "\n",
        "    final_formation = when(matches_pattern, cleaned_formation).otherwise(\"Unknown\")\n",
        "\n",
        "    return final_formation"
      ]
    },
    {
      "cell_type": "code",
      "execution_count": null,
      "metadata": {
        "id": "obKYaqddyMnU"
      },
      "outputs": [],
      "source": [
        "# Aplicar la funcion de formateo\n",
        "df_games = df_games.withColumn(\"home_club_formation\", formatear_formaciones(\"home_club_formation\"))\n",
        "df_games = df_games.withColumn(\"away_club_formation\", formatear_formaciones(\"away_club_formation\"))\n",
        "\n",
        "# Verificar nulos de nuevo\n",
        "contar_nulos_por_columna(df_games).show()\n",
        "\n",
        "# Ver si el formato se aplico correctamente\n",
        "df_games.select(\"home_club_formation\").distinct().show(truncate=False)\n",
        "df_games.select(\"away_club_formation\").distinct().show(truncate=False)"
      ]
    },
    {
      "cell_type": "code",
      "execution_count": null,
      "metadata": {
        "id": "Gjdc7X35Q9Fx"
      },
      "outputs": [],
      "source": [
        "# Hay valores nulos en 'home_club_name' y 'away_club_name', como ya tenemos el 'club_id' decidimos eliminar los nombres de esta tabla\n",
        "df_games = df_games.drop(\"home_club_name\", \"away_club_name\")\n",
        "contar_nulos_por_columna(df_games).show()"
      ]
    },
    {
      "cell_type": "code",
      "execution_count": null,
      "metadata": {
        "id": "jTHnq02YTH0r"
      },
      "outputs": [],
      "source": [
        "# Eliminamos tambien las columnas 'url' y 'aggregate' porque no son relevantes para nuestro analisis\n",
        "df_games = df_games.drop(\"url\", \"aggregate\")\n",
        "df_games.show()"
      ]
    },
    {
      "cell_type": "markdown",
      "metadata": {
        "id": "ZWYuFLSTkC6b"
      },
      "source": [
        "# Archivo \"players.csv\""
      ]
    },
    {
      "cell_type": "code",
      "execution_count": null,
      "metadata": {
        "colab": {
          "base_uri": "https://localhost:8080/"
        },
        "id": "0V_HuHtOkCwU",
        "outputId": "82e0be00-4963-47a5-b18e-eb4bfe95d961"
      },
      "outputs": [],
      "source": [
        "# Cargar el csv\n",
        "df_players = spark.read.csv(\"/kaggle/input/player-scores/players.csv\", header=True, inferSchema=True)\n",
        "\n",
        "# Ver las primeras filas\n",
        "df_players.show(10)\n",
        "df_players.printSchema()\n",
        "df_players.columns"
      ]
    },
    {
      "cell_type": "code",
      "execution_count": null,
      "metadata": {
        "colab": {
          "base_uri": "https://localhost:8080/"
        },
        "id": "f6Zk4W_SkL_M",
        "outputId": "287a0cbc-c91a-4b1d-baa5-301bac5383c5"
      },
      "outputs": [],
      "source": [
        "mostrar_sumario(df_players).show()"
      ]
    },
    {
      "cell_type": "code",
      "execution_count": null,
      "metadata": {
        "colab": {
          "base_uri": "https://localhost:8080/"
        },
        "id": "4w9JpGI8kOTc",
        "outputId": "fe47f4f3-ff82-4eac-ec7f-dd849cb684f6"
      },
      "outputs": [],
      "source": [
        "contar_nulos_por_columna(df_players).show()"
      ]
    },
    {
      "cell_type": "code",
      "execution_count": null,
      "metadata": {
        "colab": {
          "base_uri": "https://localhost:8080/"
        },
        "id": "lS2B7OjTkPhY",
        "outputId": "1f0337ed-3b51-4558-c60e-5234ed1beae7"
      },
      "outputs": [],
      "source": [
        "duplicados_por_columna(df_players, \"player_id\")"
      ]
    },
    {
      "cell_type": "code",
      "execution_count": null,
      "metadata": {
        "colab": {
          "base_uri": "https://localhost:8080/"
        },
        "id": "qamlbtbqkUU8",
        "outputId": "8035cbbd-8651-40b5-baad-43e473d6c7e6"
      },
      "outputs": [],
      "source": [
        "# Ver nulos de la columna 'contract_expiration_date'\n",
        "df_players.filter(col('contract_expiration_date').isNull()).show()"
      ]
    },
    {
      "cell_type": "code",
      "execution_count": null,
      "metadata": {
        "colab": {
          "base_uri": "https://localhost:8080/"
        },
        "id": "8u6qGLQdz-8r",
        "outputId": "ec268f9a-3698-460c-f59f-36e7ab2d18a8"
      },
      "outputs": [],
      "source": [
        "# Ver valores unicos de la columna 'last_season'\n",
        "df_players.select('last_season').distinct().show()"
      ]
    },
    {
      "cell_type": "code",
      "execution_count": null,
      "metadata": {
        "colab": {
          "base_uri": "https://localhost:8080/"
        },
        "id": "iIAO2r1q3w2V",
        "outputId": "3de5c9da-11ea-4f79-804a-5b6c6dd84b05"
      },
      "outputs": [],
      "source": [
        "# A primera vista, parece que los valores nulos de la columna 'contract_expiration_date' representan contratos que siguen en vigor\n",
        "# Pero tras corroborar con Internet, vimos que tambien hay nulos contratos que ya finalizaron\n",
        "# Decidimos eliminar la columna 'contract_expiration_date' por no tener informacion fiable y tambien la columna 'agent_name' que esta relacionada con ella\n",
        "df_players = df_players.drop(\"contract_expiration_date\")\n",
        "df_players = df_players.drop(\"agent_name\")\n",
        "df_players.show(10)"
      ]
    },
    {
      "cell_type": "code",
      "execution_count": null,
      "metadata": {
        "colab": {
          "base_uri": "https://localhost:8080/"
        },
        "id": "3Tf5gLIV4pWL",
        "outputId": "e3189bc4-1068-4700-853b-eca7c350a90e"
      },
      "outputs": [],
      "source": [
        "# Ver todos los valores de la columna 'foot'\n",
        "df_players.select('foot').distinct().show()"
      ]
    },
    {
      "cell_type": "code",
      "execution_count": null,
      "metadata": {
        "id": "pl4g-Xmi4_b1"
      },
      "outputs": [],
      "source": [
        "# Sustituir valores nulos de 'foot' por 'sin especificar'\n",
        "df_players = df_players.withColumn(\n",
        "    \"foot\",\n",
        "    when(col(\"foot\").isNull(), \"sin especificar\").otherwise(col(\"foot\"))\n",
        ")"
      ]
    },
    {
      "cell_type": "code",
      "execution_count": null,
      "metadata": {
        "colab": {
          "base_uri": "https://localhost:8080/"
        },
        "id": "FeU8xVZe5bj6",
        "outputId": "650b64b0-d0c5-40ef-ddf4-e39d9498c72d"
      },
      "outputs": [],
      "source": [
        "# Ver valores nulos de la columna 'market_value_in_eur'\n",
        "df_players.filter(col('market_value_in_eur').isNull()).show()"
      ]
    },
    {
      "cell_type": "code",
      "execution_count": null,
      "metadata": {
        "colab": {
          "base_uri": "https://localhost:8080/"
        },
        "id": "MdpCvPSeJ49e",
        "outputId": "1118ce0c-342e-4555-e838-47723a33f879"
      },
      "outputs": [],
      "source": [
        "# Calcular la mediana del valor de mercado (excluyendo nulos y ceros)\n",
        "mediana_market_value = df_players.filter(\n",
        "    col(\"market_value_in_eur\").isNotNull() & (col(\"market_value_in_eur\") > 0)\n",
        ").approxQuantile(\"market_value_in_eur\", [0.5], 0.01)[0]  # 0.01 es la precisión\n",
        "\n",
        "print(f\"Mediana del valor de mercado (excluyendo valores 0): {mediana_market_value}\")\n",
        "\n",
        "# Sustituir nulos y ceros por 'mediana_market_value'\n",
        "df_players = df_players.withColumn(\n",
        "    \"market_value_in_eur\",\n",
        "    when(col(\"market_value_in_eur\").isNull() | (col(\"market_value_in_eur\") == 0), mediana_market_value)\n",
        "    .otherwise(col(\"market_value_in_eur\"))\n",
        ")\n",
        "\n",
        "# Comprobar de nuevo los nulos y valores minimos despues de la sustitucion\n",
        "contar_nulos_por_columna(df_players).show()\n",
        "df_players.select('market_value_in_eur').summary('min').show()"
      ]
    },
    {
      "cell_type": "code",
      "execution_count": null,
      "metadata": {
        "colab": {
          "base_uri": "https://localhost:8080/"
        },
        "id": "_XDN_PFWdtUD",
        "outputId": "63262258-b971-4775-db1f-2a21ac94e897"
      },
      "outputs": [],
      "source": [
        "# Repetimos el proceso para la columna 'highest_market_value_in_eur'\n",
        "\n",
        "# Calcular la mediana del valor de mercado (excluyendo nulos y ceros)\n",
        "mediana_market_value = df_players.filter(\n",
        "    col(\"highest_market_value_in_eur\").isNotNull() & (col(\"highest_market_value_in_eur\") > 0)\n",
        ").approxQuantile(\"highest_market_value_in_eur\", [0.5], 0.01)[0]  # 0.01 es la precisión\n",
        "\n",
        "print(f\"Mediana del valor máximo de mercado (excluyendo valores 0): {mediana_market_value}\")\n",
        "\n",
        "# Sustituir nulos y ceros por 'mediana_market_value'\n",
        "df_players = df_players.withColumn(\n",
        "    \"highest_market_value_in_eur\",\n",
        "    when(col(\"highest_market_value_in_eur\").isNull() | (col(\"highest_market_value_in_eur\") == 0), mediana_market_value)\n",
        "    .otherwise(col(\"highest_market_value_in_eur\"))\n",
        ")\n",
        "\n",
        "# Comprobar de nuevo los nulos y valores minimos despues de la sustitucion\n",
        "contar_nulos_por_columna(df_players).show()\n",
        "df_players.select('highest_market_value_in_eur').summary('min').show()"
      ]
    },
    {
      "cell_type": "code",
      "execution_count": null,
      "metadata": {
        "colab": {
          "base_uri": "https://localhost:8080/"
        },
        "id": "vPvz3Ry7exdW",
        "outputId": "c44df33a-376f-450e-b780-57c063e60236"
      },
      "outputs": [],
      "source": [
        "# Ver nulos en la columna 'height_in_cm'\n",
        "df_players.filter(col('height_in_cm').isNull()).show()"
      ]
    },
    {
      "cell_type": "code",
      "execution_count": null,
      "metadata": {
        "colab": {
          "base_uri": "https://localhost:8080/"
        },
        "id": "_V1koblTfQDR",
        "outputId": "1330a1b2-c231-4100-fe98-bd90f7312d21"
      },
      "outputs": [],
      "source": [
        "# Ver el valor minimo de la columna 'height_in_cm'\n",
        "df_players.select('height_in_cm').summary('min').show()"
      ]
    },
    {
      "cell_type": "code",
      "execution_count": null,
      "metadata": {
        "colab": {
          "base_uri": "https://localhost:8080/"
        },
        "id": "kdDwFcTAfX5D",
        "outputId": "78631e0c-d8af-4058-881c-788e083e510f"
      },
      "outputs": [],
      "source": [
        "# El valor minimo de altura es 17cm, lo cual es imposible\n",
        "# Sustituimos los valores nulos y minimos por la media de altura\n",
        "\n",
        "# Calcular la media de altura (excluyendo nulos y valores <= 100)\n",
        "avg_height = df_players.filter(col(\"height_in_cm\").isNotNull()).filter(col(\"height_in_cm\") > 100).agg(avg(\"height_in_cm\")).collect()[0][0]\n",
        "print(f\"Media de la altura (excluyendo valores <= 100): {avg_height}\")\n",
        "\n",
        "# Sustituimos los valores nulos y minimos por 'avg_height'\n",
        "df_players = df_players.withColumn(\n",
        "    \"height_in_cm\",\n",
        "    when(col(\"height_in_cm\").isNull() | (col(\"height_in_cm\") <= 100), avg_height).otherwise(col(\"height_in_cm\"))\n",
        ")\n",
        "\n",
        "# Comprobar de nuevo los nulos y valores minimos despues de la sustitucion\n",
        "contar_nulos_por_columna(df_players).show()\n",
        "df_players.select('height_in_cm').summary('min').show()"
      ]
    },
    {
      "cell_type": "code",
      "execution_count": null,
      "metadata": {
        "colab": {
          "base_uri": "https://localhost:8080/"
        },
        "id": "M2WuaED9gv5z",
        "outputId": "27ba5bb5-50e4-401b-9d60-b5d219b80505"
      },
      "outputs": [],
      "source": [
        "# Ver nulos en la columna 'first_name'\n",
        "df_players.filter(col('first_name').isNull()).show()"
      ]
    },
    {
      "cell_type": "code",
      "execution_count": null,
      "metadata": {
        "colab": {
          "base_uri": "https://localhost:8080/"
        },
        "id": "JAtbrA27gkq3",
        "outputId": "f5547b7e-f8f9-428e-c601-80df01eb6eb6"
      },
      "outputs": [],
      "source": [
        "# Parece que los nulos de la columna 'first_name' se deben a que el jugador aparece con su apodo\n",
        "# Sustituir los first_name nulos por 'Desconocido'\n",
        "\n",
        "df_players = df_players.withColumn(\n",
        "    \"first_name\",\n",
        "    when(col(\"first_name\").isNull(), \"desconocido\").otherwise(col(\"first_name\"))\n",
        ")\n",
        "# Ver nulos de nuevo\n",
        "contar_nulos_por_columna(df_players).show()"
      ]
    },
    {
      "cell_type": "code",
      "execution_count": null,
      "metadata": {
        "colab": {
          "base_uri": "https://localhost:8080/"
        },
        "id": "ZIPjZ7JoilYu",
        "outputId": "8c0e47d8-756e-4c8d-b609-dc11c690d0c2"
      },
      "outputs": [],
      "source": [
        "# Ver nulos de la columna 'date_of_birth'\n",
        "df_players.filter(col('date_of_birth').isNull()).show()"
      ]
    },
    {
      "cell_type": "code",
      "execution_count": null,
      "metadata": {
        "colab": {
          "base_uri": "https://localhost:8080/"
        },
        "id": "u4tkclUcja1r",
        "outputId": "4c2065c5-e9f0-41ee-c570-8daf453e3b2a"
      },
      "outputs": [],
      "source": [
        "# Sustituimos las fechas de nacimiento nulas por un valor por defecto\n",
        "# para indicar que la fecha es desconocida (no deberia ser una fecha que pueda aparecer en otros registros)\n",
        "default_timestamp = to_timestamp(lit('1900-01-01 00:00:00'))\n",
        "\n",
        "df_players = df_players.withColumn(\n",
        "    \"date_of_birth\",\n",
        "    when(col(\"date_of_birth\").isNull(), default_timestamp).otherwise(col(\"date_of_birth\"))\n",
        ")\n",
        "# Ver nulos de nuevo\n",
        "contar_nulos_por_columna(df_players).show()"
      ]
    },
    {
      "cell_type": "code",
      "execution_count": null,
      "metadata": {
        "colab": {
          "base_uri": "https://localhost:8080/"
        },
        "id": "rxINFuuGkQwl",
        "outputId": "dc2a0a5c-0ce4-41c3-f1fc-4d072894dfa0"
      },
      "outputs": [],
      "source": [
        "# Ver nulos de la columna 'sub_position'\n",
        "df_players.filter(col('sub_position').isNull()).show()"
      ]
    },
    {
      "cell_type": "code",
      "execution_count": null,
      "metadata": {
        "colab": {
          "base_uri": "https://localhost:8080/"
        },
        "id": "tL2ZajhVkcd7",
        "outputId": "e9b99e2b-382e-4a2a-a677-099b2774212a"
      },
      "outputs": [],
      "source": [
        "# En la columna 'position' ya existe un valor 'Missing' que podemos usar para corregir los nulos\n",
        "df_players = df_players.withColumn(\n",
        "    \"sub_position\",\n",
        "    when(col(\"sub_position\").isNull(), \"Missing\").otherwise(col(\"sub_position\"))\n",
        ")\n",
        "# Ver nulos de nuevo\n",
        "contar_nulos_por_columna(df_players).show()"
      ]
    },
    {
      "cell_type": "code",
      "execution_count": null,
      "metadata": {
        "colab": {
          "base_uri": "https://localhost:8080/"
        },
        "id": "R8zApfu8Zajv",
        "outputId": "17f4f717-471a-43a3-fcd6-365f572e95fb"
      },
      "outputs": [],
      "source": [
        "# Ver nulos de las columnas 'country_of_birth' y 'city_of_birth'\n",
        "df_players.filter(col('country_of_birth').isNull()).show()\n",
        "df_players.filter(col('city_of_birth').isNull()).show()"
      ]
    },
    {
      "cell_type": "markdown",
      "metadata": {
        "id": "MsIpoToSk3aY"
      },
      "source": [
        "En las columnas 'country_of_birth' y 'city_of_birth' hay varios casos donde no hay valor para el país pero si para la ciudad. Para recuperar esos datos perdidos, definimos una función que mapea ciudad a país usando `geopy`"
      ]
    },
    {
      "cell_type": "code",
      "execution_count": null,
      "metadata": {
        "colab": {
          "base_uri": "https://localhost:8080/"
        },
        "id": "pZh5b862ZSXS",
        "outputId": "84aab476-a294-45cb-e193-6e0db64ca97b"
      },
      "outputs": [],
      "source": [
        "from geopy.geocoders import Nominatim\n",
        "from geopy.exc import GeocoderTimedOut, GeocoderServiceError\n",
        "import time\n",
        "\n",
        "# Instanciamos el geolocalizador\n",
        "geolocator = Nominatim(user_agent=\"city_to_country_mapper\")\n",
        "\n",
        "# Función para mapear ciudad a país\n",
        "def get_country(city):\n",
        "    try:\n",
        "        location = geolocator.geocode(city, language=\"en\", timeout=10)\n",
        "        if location and location.address:\n",
        "            address_parts = location.address.split(\", \")\n",
        "            for part in reversed(address_parts):\n",
        "                if len(part) > 2 and not any(char.isdigit() for char in part):\n",
        "                    return part\n",
        "        return None\n",
        "    except (GeocoderTimedOut, GeocoderServiceError) as e:\n",
        "        print(f\"Error geocoding {city}: {e}\")\n",
        "        return None\n",
        "    except Exception as e:\n",
        "        print(f\"Unexpected error for {city}: {e}\")\n",
        "        return None\n",
        "\n",
        "# Crea una UDF para usar en Spark\n",
        "get_country_udf = udf(get_country, StringType())\n",
        "\n",
        "# Filtra las ciudades donde no hay pais pero hay ciudad\n",
        "cities_df = df_players.filter(col(\"country_of_birth\").isNull() & col(\"city_of_birth\").isNotNull()) \\\n",
        "                   .select(\"city_of_birth\").distinct()\n",
        "\n",
        "# Collect para traerlas al driver (Cuidado si hay muchas)\n",
        "cities = [row['city_of_birth'] for row in cities_df.collect() if row['city_of_birth'] is not None]\n",
        "\n",
        "# Diccionario ciudad-país\n",
        "city_country_map = {}\n",
        "\n",
        "for city in cities:\n",
        "    country = get_country(city)\n",
        "    if country:\n",
        "        city_country_map[city] = country\n",
        "        print(f\"Mapped {city} to {country}\")\n",
        "    else:\n",
        "        city_country_map[city] = None\n",
        "        print(f\"Could not map {city}\")\n",
        "    time.sleep(1)  # No bombardees el server como un cavernícola\n",
        "\n",
        "# Transforma el diccionario a un DataFrame para hacer join\n",
        "mapping_rows = [(k, v) for k, v in city_country_map.items()]\n",
        "mapping_df = spark.createDataFrame(mapping_rows, [\"city_of_birth\", \"mapped_country\"])\n",
        "\n",
        "# Une el mapping con el DataFrame original\n",
        "df_players_mapped = df_players.join(mapping_df, on=\"city_of_birth\", how=\"left\")\n",
        "\n",
        "# Actualiza la columna 'country_of_birth' donde sea NULL\n",
        "df_players_mapped = df_players_mapped.withColumn(\"country_of_birth\",\n",
        "    when(col(\"country_of_birth\").isNull() & col(\"mapped_country\").isNotNull(), col(\"mapped_country\"))\n",
        "    .otherwise(col(\"country_of_birth\"))\n",
        ")\n",
        "\n",
        "# (Opcional) Quita la columna de mapeo\n",
        "df_players_mapped = df_players_mapped.drop(\"mapped_country\")"
      ]
    },
    {
      "cell_type": "code",
      "execution_count": null,
      "metadata": {
        "colab": {
          "base_uri": "https://localhost:8080/"
        },
        "id": "igk0851wcRy-",
        "outputId": "e685a76a-7bd8-4e44-9cf9-5937a27dea0d"
      },
      "outputs": [],
      "source": [
        "# Comprobar si el mapeo se ha realizado correctamente\n",
        "print(f\"Valores nulos en 'country_of_birth' antes del mapeo:\", df_players.filter(col('country_of_birth').isNull()).count())\n",
        "print(f\"Valores nulos en 'country_of_birth' despues del mapeo:\", df_players_mapped.filter(col('country_of_birth').isNull()).count())"
      ]
    },
    {
      "cell_type": "code",
      "execution_count": null,
      "metadata": {
        "colab": {
          "base_uri": "https://localhost:8080/"
        },
        "id": "lIEV91VihZri",
        "outputId": "6b68ac13-fe77-4501-d54a-256a7931f51e"
      },
      "outputs": [],
      "source": [
        "# El resto de valores nulos son de filas donde no hay ni pais ni ciudad\n",
        "# Sustituimos esos valores por un valor 'Desconocido'\n",
        "df_players_mapped = df_players_mapped.withColumn(\n",
        "    \"country_of_birth\",\n",
        "    when(col(\"country_of_birth\").isNull(), \"Desconocido\").otherwise(col(\"country_of_birth\"))\n",
        ")\n",
        "df_players_mapped = df_players_mapped.withColumn(\n",
        "    \"city_of_birth\",\n",
        "    when(col(\"city_of_birth\").isNull(), \"Desconocida\").otherwise(col(\"city_of_birth\"))\n",
        ")\n",
        "# Ver nulos de nuevo\n",
        "contar_nulos_por_columna(df_players_mapped).show()"
      ]
    },
    {
      "cell_type": "code",
      "execution_count": null,
      "metadata": {
        "colab": {
          "base_uri": "https://localhost:8080/"
        },
        "id": "iVu42QgpktU0",
        "outputId": "eb314e32-80e8-49a0-eadd-3da646a8aa99"
      },
      "outputs": [],
      "source": [
        "# Eliminamos las columnas 'country_of_citizenship', 'image_url' y 'url' porque no son utiles para nuestro analisis\n",
        "df_players_mapped = df_players_mapped.drop(\"country_of_citizenship\",\"image_url\", \"url\")\n",
        "df_players_mapped.show()"
      ]
    },
    {
      "cell_type": "markdown",
      "metadata": {
        "id": "yNumnjKePq0W"
      },
      "source": [
        "# Archivo \"transfers.csv\""
      ]
    },
    {
      "cell_type": "code",
      "execution_count": null,
      "metadata": {
        "id": "krM5AILEPuoN"
      },
      "outputs": [],
      "source": [
        "# Cargar el csv\n",
        "df_transfers = spark.read.csv(\"/root/.cache/kagglehub/datasets/davidcariboo/player-scores/versions/602/transfers.csv\", header=True, inferSchema=True)\n",
        "\n",
        "# Ver las primeras filas\n",
        "df_transfers.show(10)\n",
        "df_transfers.printSchema()\n",
        "df_transfers.columns"
      ]
    },
    {
      "cell_type": "code",
      "execution_count": null,
      "metadata": {
        "id": "8Sff4L1gPz8y"
      },
      "outputs": [],
      "source": [
        "mostrar_sumario(df_transfers).show()"
      ]
    },
    {
      "cell_type": "code",
      "execution_count": null,
      "metadata": {
        "id": "uIQ-de4wP2R2"
      },
      "outputs": [],
      "source": [
        "contar_nulos_por_columna(df_transfers).show()"
      ]
    },
    {
      "cell_type": "code",
      "execution_count": null,
      "metadata": {
        "id": "SjSVo062P3UL"
      },
      "outputs": [],
      "source": [
        "duplicados_por_columna(df_transfers, \"player_id\")"
      ]
    },
    {
      "cell_type": "code",
      "execution_count": null,
      "metadata": {
        "id": "r7c8M8Dqbis5"
      },
      "outputs": [],
      "source": [
        "# Sustituir los nulos de la columna transfer_fee por 0\n",
        "\n",
        "df_transfers = df_transfers.withColumn(\n",
        "    \"transfer_fee\",\n",
        "    when(col(\"transfer_fee\").isNull(), 0).otherwise(col(\"transfer_fee\"))\n",
        ")\n",
        "\n",
        "# Comprobar de nuevo los nulos despues de la sustitucion\n",
        "contar_nulos_por_columna(df_transfers).show()\n"
      ]
    },
    {
      "cell_type": "code",
      "execution_count": null,
      "metadata": {
        "id": "VQpEblsXbvMb"
      },
      "outputs": [],
      "source": [
        "# Sustituir los nulos de market_value_in_eur por la mediana del equipo que procede\n",
        "\n",
        "# Calcular la mediana del valor de mercado por jugador (excluyendo nulos y ceros)\n",
        "mediana_market_value_por_jugador = df_transfers.filter(\n",
        "    col(\"market_value_in_eur\").isNotNull() & (col(\"market_value_in_eur\") > 0)\n",
        ").groupBy(\"player_id\").agg(\n",
        "    approx_percentile(\"market_value_in_eur\", 0.5).alias(\"mediana_mv_por_jugador\")\n",
        ")\n",
        "\n",
        "# Unir la mediana por club al DataFrame original\n",
        "df_transfers = df_transfers.join(mediana_market_value_por_jugador, on=\"player_id\", how=\"left_outer\")\n",
        "\n",
        "# Sustituir nulos en 'market_value_in_eur' por la mediana del jugador\n",
        "df_transfers = df_transfers.withColumn(\n",
        "    \"market_value_in_eur\",\n",
        "    when(col(\"market_value_in_eur\").isNull(), col(\"mediana_mv_por_jugador\")).otherwise(col(\"market_value_in_eur\"))\n",
        ")\n",
        "\n",
        "# Eliminar la columna temporal de la mediana por club\n",
        "df_transfers = df_transfers.drop(\"mediana_mv_por_jugador\")\n",
        "\n",
        "# Comprobar de nuevo los nulos despues de la sustitucion\n",
        "contar_nulos_por_columna(df_transfers).show()\n",
        "df_transfers.select(\"player_id\", \"market_value_in_eur\", \"transfer_fee\").show(20)"
      ]
    },
    {
      "cell_type": "code",
      "execution_count": null,
      "metadata": {},
      "outputs": [],
      "source": [
        "# Aun quedan nulos en 'market_value_in_eur', estos son de jugadores que no estaban en 'df_players' o no tenían market_value > 0\n",
        "# Podemos rellenarlos con la mediana general\n",
        "mediana_market_value = df_transfers.filter(\n",
        "    col(\"market_value_in_eur\").isNotNull()\n",
        ").agg(approx_percentile(\"market_value_in_eur\", 0.5)).collect()[0][0]\n",
        "\n",
        "df_transfers = df_transfers.withColumn(\n",
        "    \"market_value_in_eur\",\n",
        "    when(col(\"market_value_in_eur\").isNull(), mediana_market_value).otherwise(col(\"market_value_in_eur\"))\n",
        ")\n",
        "# Comprobar de nuevo los nulos despues de la sustitucion\n",
        "contar_nulos_por_columna(df_transfers).show()\n",
        "df_transfers.select(\"player_id\", \"market_value_in_eur\", \"transfer_fee\").show(20)"
      ]
    },
    {
      "cell_type": "markdown",
      "metadata": {
        "id": "GDYAe_Lu4pna"
      },
      "source": [
        "# Guardar las tablas limpias"
      ]
    },
    {
      "cell_type": "code",
      "execution_count": null,
      "metadata": {
        "id": "CI6eb_BZYX0t"
      },
      "outputs": [],
      "source": [
        "# Ruta donde guardar el archivo CSV\n",
        "output_path = \"../Data\"\n",
        "\n",
        "# Guardar cada DataFrame en formato CSV\n",
        "# Spark por defecto guarda en particiones\n",
        "# Para guardarlo en un solo archivo, usar repartition(1) antes de 'write'\n",
        "df_clubs.repartition(1).write.csv(output_path + \"/clubs\", header=True, mode=\"overwrite\")\n",
        "df_competitions.repartition(1).write.csv(output_path + \"/competitions\", header=True, mode=\"overwrite\")\n",
        "df_game_events.repartition(1).write.csv(output_path + \"/game_events\", header=True, mode=\"overwrite\")\n",
        "df_game_lineups_cleaned.repartition(1).write.csv(output_path + \"/game_lineups\", header=True, mode=\"overwrite\")\n",
        "df_appearances.repartition(1).write.csv(output_path + \"/appearances\", header=True, mode=\"overwrite\")\n",
        "df_player_valuations.repartition(1).write.csv(output_path + \"/player_valuations\", header=True, mode=\"overwrite\")\n",
        "df_games.repartition(1).write.csv(output_path + \"/games\", header=True, mode=\"overwrite\")\n",
        "df_players_mapped.repartition(1).write.csv(output_path + \"/players\", header=True, mode=\"overwrite\")\n",
        "df_transfers.repartition(1).write.csv(output_path + \"/transfers\", header=True, mode=\"overwrite\")"
      ]
    },
    {
      "cell_type": "code",
      "execution_count": null,
      "metadata": {
        "id": "a8TjweTTYv2W"
      },
      "outputs": [],
      "source": [
        "# Importante cerrar la sesion de spark\n",
        "spark.stop()"
      ]
    }
  ],
  "metadata": {
    "colab": {
      "provenance": [],
      "toc_visible": true
    },
    "kernelspec": {
      "display_name": ".venv",
      "language": "python",
      "name": "python3"
    },
    "language_info": {
      "codemirror_mode": {
        "name": "ipython",
        "version": 3
      },
      "file_extension": ".py",
      "mimetype": "text/x-python",
      "name": "python",
      "nbconvert_exporter": "python",
      "pygments_lexer": "ipython3",
      "version": "3.12.3"
    }
  },
  "nbformat": 4,
  "nbformat_minor": 0
}
