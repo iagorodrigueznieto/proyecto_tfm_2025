{
  "cells": [
    {
      "cell_type": "markdown",
      "metadata": {
        "id": "UltQhUoITERO"
      },
      "source": [
        "# Imports y funciones"
      ]
    },
    {
      "cell_type": "code",
      "execution_count": 1,
      "metadata": {
        "id": "W_jnU4SCpqzA"
      },
      "outputs": [],
      "source": [
        "# # 📦 Importar librerías necesarias\n",
        "import pyspark\n",
        "import pandas as pd\n",
        "import numpy as np\n",
        "import seaborn as sns\n",
        "from pyspark.sql import SparkSession\n",
        "from pyspark.sql.functions import *\n",
        "from pyspark.sql.functions import trim\n",
        "from pyspark.sql.types import *\n",
        "\n",
        "import os"
      ]
    },
    {
      "cell_type": "code",
      "execution_count": 2,
      "metadata": {
        "colab": {
          "base_uri": "https://localhost:8080/"
        },
        "id": "AagrShNx7LVV",
        "outputId": "7d759d8e-1703-48fc-cc4e-4a6cd0c23d42"
      },
      "outputs": [
        {
          "name": "stderr",
          "output_type": "stream",
          "text": [
            "/home/bigdata/code/proyecto_tfm_2025/.venv/lib/python3.12/site-packages/tqdm/auto.py:21: TqdmWarning: IProgress not found. Please update jupyter and ipywidgets. See https://ipywidgets.readthedocs.io/en/stable/user_install.html\n",
            "  from .autonotebook import tqdm as notebook_tqdm\n"
          ]
        },
        {
          "name": "stdout",
          "output_type": "stream",
          "text": [
            "Path to dataset files: /home/bigdata/.cache/kagglehub/datasets/davidcariboo/player-scores/versions/602\n",
            "/home/bigdata/.cache/kagglehub/datasets/davidcariboo/player-scores/versions/602/club_games.csv\n",
            "/home/bigdata/.cache/kagglehub/datasets/davidcariboo/player-scores/versions/602/game_events.csv\n",
            "/home/bigdata/.cache/kagglehub/datasets/davidcariboo/player-scores/versions/602/game_lineups.csv\n",
            "/home/bigdata/.cache/kagglehub/datasets/davidcariboo/player-scores/versions/602/clubs.csv\n",
            "/home/bigdata/.cache/kagglehub/datasets/davidcariboo/player-scores/versions/602/player_valuations.csv\n",
            "/home/bigdata/.cache/kagglehub/datasets/davidcariboo/player-scores/versions/602/appearances.csv\n",
            "/home/bigdata/.cache/kagglehub/datasets/davidcariboo/player-scores/versions/602/games.csv\n",
            "/home/bigdata/.cache/kagglehub/datasets/davidcariboo/player-scores/versions/602/transfers.csv\n",
            "/home/bigdata/.cache/kagglehub/datasets/davidcariboo/player-scores/versions/602/competitions.csv\n",
            "/home/bigdata/.cache/kagglehub/datasets/davidcariboo/player-scores/versions/602/players.csv\n"
          ]
        }
      ],
      "source": [
        "import kagglehub\n",
        "\n",
        "# Descargar el dataset desde Kaggle Hub\n",
        "path = kagglehub.dataset_download(\"davidcariboo/player-scores\")\n",
        "\n",
        "print(\"Path to dataset files:\", path)\n",
        "\n",
        "# Lista los archivos descargados\n",
        "for root, _, files in os.walk(path):\n",
        "    for file in files:\n",
        "        print(os.path.join(root, file))"
      ]
    },
    {
      "cell_type": "code",
      "execution_count": 3,
      "metadata": {
        "id": "32AZqecHSln9"
      },
      "outputs": [
        {
          "name": "stderr",
          "output_type": "stream",
          "text": [
            "WARNING: Using incubator modules: jdk.incubator.vector\n",
            "Using Spark's default log4j profile: org/apache/spark/log4j2-defaults.properties\n",
            "25/06/13 12:52:03 WARN Utils: Your hostname, DESKTOP-JCU85UN, resolves to a loopback address: 127.0.1.1; using 10.255.255.254 instead (on interface lo)\n",
            "25/06/13 12:52:03 WARN Utils: Set SPARK_LOCAL_IP if you need to bind to another address\n",
            "Using Spark's default log4j profile: org/apache/spark/log4j2-defaults.properties\n",
            "Setting default log level to \"WARN\".\n",
            "To adjust logging level use sc.setLogLevel(newLevel). For SparkR, use setLogLevel(newLevel).\n",
            "25/06/13 12:52:04 WARN NativeCodeLoader: Unable to load native-hadoop library for your platform... using builtin-java classes where applicable\n"
          ]
        }
      ],
      "source": [
        "spark = SparkSession.builder.appName('tfm_2025').config(\"spark.driver.memory\", \"16g\").config(\"spark.executor.memory\", \"16g\").getOrCreate()"
      ]
    },
    {
      "cell_type": "markdown",
      "metadata": {
        "id": "1LmEvdpCO7cd"
      },
      "source": [
        "Funciones utiles para la limpieza"
      ]
    },
    {
      "cell_type": "code",
      "execution_count": 4,
      "metadata": {
        "id": "beIlh6ExO568"
      },
      "outputs": [],
      "source": [
        "def mostrar_sumario(df):\n",
        "    \"\"\"\n",
        "    Muestra un sumario del dataset.\n",
        "    Explicacion:\n",
        "        - Usa la funcion 'describe()' para mostrar las siguientes metricas:\n",
        "            - El conteo de filas por columna.\n",
        "            - La media de los valores de las columnas numericas (muestra NULL si no es numerica).\n",
        "            - La desviacion  estandar de los valores de las columnas numericas (muestra NULL si no es numerica).\n",
        "            - El valor minimo de cada columna.\n",
        "            - El valor maximo de cada columna.\n",
        "        - Devuelve el DataFrame con las metricas.\n",
        "    Args:\n",
        "        df: DataFrame a analizar\n",
        "\n",
        "    Returns:\n",
        "        Un DataFrame con las métricas del dataset.\n",
        "    \"\"\"\n",
        "    return df.summary()"
      ]
    },
    {
      "cell_type": "code",
      "execution_count": 5,
      "metadata": {
        "id": "An_7Wu2LPClN"
      },
      "outputs": [],
      "source": [
        "def contar_nulos_por_columna(df):\n",
        "    \"\"\"\n",
        "    Calcula el numero de valores nulos en cada columna del DataFrame.\n",
        "    Explicacion:\n",
        "        - Itera sobre cada columna del DataFrame utilizando 'df.columns'.\n",
        "        - Usa la funcion 'expr()' que utiliza una expresion SQL para contar los valores nulos en cada columna.\n",
        "        - Asigna '1' si el valor es nulo y '0' si no es nulo.\n",
        "        - Renombra la columna con '.alias(c)' para mantener el nombre original.\n",
        "        - Selecciona y aplica la transformacion en todas las columnas dinamicamente con 'df.select([...])'.\n",
        "        - Devuelve el DataFrame con los conteos de nulos.\n",
        "    Args:\n",
        "        df: DataFrame a analizar\n",
        "\n",
        "    Returns:\n",
        "        Un DataFrame con las mismas columnas del DataFrame original\n",
        "        y una fila que indica el numero de valores nulos por columna.\n",
        "    \"\"\"\n",
        "    return df.select([expr(f\"sum(case when {c} is null then 1 else 0 end)\").alias(c) for c in df.columns])"
      ]
    },
    {
      "cell_type": "code",
      "execution_count": 6,
      "metadata": {
        "id": "AlqhQwBA33Bm"
      },
      "outputs": [],
      "source": [
        "def duplicados_por_columna(df, columna):\n",
        "    \"\"\"\n",
        "    Muestra los valores duplicados y su conteo para una columna especifica.\n",
        "    Explicacion:\n",
        "        - Agrupa el DataFrame por la columna especificada.\n",
        "        - Cuenta el numero de ocurrencias de cada valor en la columna.\n",
        "        - Filtra para ver los valores que aparecen mas de una vez.\n",
        "    Args:\n",
        "        df: DataFrame a analizar.\n",
        "        columna: Nombre de la columna a verificar.\n",
        "    \"\"\"\n",
        "    df.groupBy(columna).count().filter(col(\"count\") > 1).show(truncate=False)"
      ]
    },
    {
      "cell_type": "markdown",
      "metadata": {
        "id": "iBBPwepYmb75"
      },
      "source": [
        "# Archivo \"clubs.csv\""
      ]
    },
    {
      "cell_type": "code",
      "execution_count": 7,
      "metadata": {
        "id": "3MFHw0HMS0q1"
      },
      "outputs": [
        {
          "name": "stdout",
          "output_type": "stream",
          "text": [
            "+-------+-----------------+--------------------+-----------------------+------------------+----------+-----------+-----------------+---------------------+---------------------+--------------------+-------------+-------------------+----------+-----------+--------------------+--------------------+\n",
            "|club_id|        club_code|                name|domestic_competition_id|total_market_value|squad_size|average_age|foreigners_number|foreigners_percentage|national_team_players|        stadium_name|stadium_seats|net_transfer_record|coach_name|last_season|            filename|                 url|\n",
            "+-------+-----------------+--------------------+-----------------------+------------------+----------+-----------+-----------------+---------------------+---------------------+--------------------+-------------+-------------------+----------+-----------+--------------------+--------------------+\n",
            "|    105|  sv-darmstadt-98|     SV Darmstadt 98|                     L1|              NULL|        27|       25.6|               13|                 48.1|                    1|Merck-Stadion am ...|        17810|            +€3.05m|      NULL|       2023|../data/raw/trans...|https://www.trans...|\n",
            "|  11127|ural-ekaterinburg|  Ural Yekaterinburg|                    RU1|              NULL|        30|       26.5|               11|                 36.7|                    3| Yekaterinburg Arena|        23000|             +€880k|      NULL|       2023|../data/raw/trans...|https://www.trans...|\n",
            "|    114|besiktas-istanbul|Beşiktaş Jimnasti...|                    TR1|              NULL|        30|       26.6|               15|                 50.0|                    8|       Beşiktaş Park|        42445|           €-25.26m|      NULL|       2024|../data/raw/trans...|https://www.trans...|\n",
            "|     12|           as-rom|Associazione Spor...|                    IT1|              NULL|        26|       26.3|               18|                 69.2|                   17|    Olimpico di Roma|        70634|           €-76.90m|      NULL|       2024|../data/raw/trans...|https://www.trans...|\n",
            "|    148|tottenham-hotspur|Tottenham Hotspur...|                    GB1|              NULL|        30|       25.5|               21|                 70.0|                   18|Tottenham Hotspur...|        62850|          €-120.05m|      NULL|       2024|../data/raw/trans...|https://www.trans...|\n",
            "|    157|         kaa-gent|Koninklijke Atlet...|                    BE1|              NULL|        30|       25.2|               19|                 63.3|                    5|  Planet Group Arena|        20185|            +€5.63m|      NULL|       2024|../data/raw/trans...|https://www.trans...|\n",
            "|   1894|      hvidovre-if|         Hvidovre IF|                    DK1|              NULL|        25|       26.4|                3|                 12.0|                    2|PRO VENTILATION A...|        12000|             +€225k|      NULL|       2023|../data/raw/trans...|https://www.trans...|\n",
            "|    190|    fc-kopenhagen|Football Club Køb...|                    DK1|              NULL|        28|       26.1|               19|                 67.9|                    9|              Parken|        38065|           +€35.06m|      NULL|       2024|../data/raw/trans...|https://www.trans...|\n",
            "|    192| roda-jc-kerkrade|    Roda JC Kerkrade|                    NL1|              NULL|        25|       24.0|                9|                 36.0|                    0|Parkstad Limburg ...|        19979|            +€1.30m|      NULL|       2017|../data/raw/trans...|https://www.trans...|\n",
            "|  19789| yeni-malatyaspor|    Yeni Malatyaspor|                    TR1|              NULL|        10|       22.9|                1|                 10.0|                    0|Yeni Malatya Stad...|        25745|             +€778k|      NULL|       2021|../data/raw/trans...|https://www.trans...|\n",
            "+-------+-----------------+--------------------+-----------------------+------------------+----------+-----------+-----------------+---------------------+---------------------+--------------------+-------------+-------------------+----------+-----------+--------------------+--------------------+\n",
            "only showing top 10 rows\n",
            "root\n",
            " |-- club_id: integer (nullable = true)\n",
            " |-- club_code: string (nullable = true)\n",
            " |-- name: string (nullable = true)\n",
            " |-- domestic_competition_id: string (nullable = true)\n",
            " |-- total_market_value: string (nullable = true)\n",
            " |-- squad_size: integer (nullable = true)\n",
            " |-- average_age: double (nullable = true)\n",
            " |-- foreigners_number: integer (nullable = true)\n",
            " |-- foreigners_percentage: double (nullable = true)\n",
            " |-- national_team_players: integer (nullable = true)\n",
            " |-- stadium_name: string (nullable = true)\n",
            " |-- stadium_seats: integer (nullable = true)\n",
            " |-- net_transfer_record: string (nullable = true)\n",
            " |-- coach_name: string (nullable = true)\n",
            " |-- last_season: integer (nullable = true)\n",
            " |-- filename: string (nullable = true)\n",
            " |-- url: string (nullable = true)\n",
            "\n"
          ]
        },
        {
          "data": {
            "text/plain": [
              "['club_id',\n",
              " 'club_code',\n",
              " 'name',\n",
              " 'domestic_competition_id',\n",
              " 'total_market_value',\n",
              " 'squad_size',\n",
              " 'average_age',\n",
              " 'foreigners_number',\n",
              " 'foreigners_percentage',\n",
              " 'national_team_players',\n",
              " 'stadium_name',\n",
              " 'stadium_seats',\n",
              " 'net_transfer_record',\n",
              " 'coach_name',\n",
              " 'last_season',\n",
              " 'filename',\n",
              " 'url']"
            ]
          },
          "execution_count": 7,
          "metadata": {},
          "output_type": "execute_result"
        }
      ],
      "source": [
        "# Cargar el csv\n",
        "df_clubs = spark.read.csv(path + \"/clubs.csv\", header=True, inferSchema=True)\n",
        "\n",
        "# Ver las primeras filas\n",
        "df_clubs.show(10)\n",
        "df_clubs.printSchema()\n",
        "df_clubs.columns"
      ]
    },
    {
      "cell_type": "code",
      "execution_count": 8,
      "metadata": {
        "id": "i62dFf02UGBm"
      },
      "outputs": [
        {
          "name": "stderr",
          "output_type": "stream",
          "text": [
            "25/06/12 11:48:18 WARN SparkStringUtils: Truncated the string representation of a plan since it was too large. This behavior can be adjusted by setting 'spark.sql.debug.maxToStringFields'.\n",
            "[Stage 3:>                                                          (0 + 1) / 1]\r"
          ]
        },
        {
          "name": "stdout",
          "output_type": "stream",
          "text": [
            "+-------+------------------+--------------------+--------------------+-----------------------+------------------+------------------+------------------+------------------+---------------------+---------------------+--------------------+------------------+-------------------+----------+------------------+--------------------+--------------------+\n",
            "|summary|           club_id|           club_code|                name|domestic_competition_id|total_market_value|        squad_size|       average_age| foreigners_number|foreigners_percentage|national_team_players|        stadium_name|     stadium_seats|net_transfer_record|coach_name|       last_season|            filename|                 url|\n",
            "+-------+------------------+--------------------+--------------------+-----------------------+------------------+------------------+------------------+------------------+---------------------+---------------------+--------------------+------------------+-------------------+----------+------------------+--------------------+--------------------+\n",
            "|  count|               439|                 439|                 439|                    439|                 0|               439|               401|               439|                  390|                  439|                 439|               439|                439|         0|               439|                 439|                 439|\n",
            "|   mean| 6283.476082004556|                NULL|                NULL|                   NULL|              NULL|24.184510250569478|25.616458852867833|11.186788154897494|    46.58256410256409|    4.751708428246014|                NULL| 24204.09111617312|               NULL|      NULL|2021.5261958997721|                NULL|                NULL|\n",
            "| stddev|14588.760048798284|                NULL|                NULL|                   NULL|              NULL| 8.692364605919742|2.0594849911877686| 6.807644670652882|   20.274257199133096|      4.8966338775037|                NULL|17230.554383862418|               NULL|      NULL| 3.563977802805077|                NULL|                NULL|\n",
            "|    min|                 3|1-fc-heidenheim-1846|\"Футбольный клуб ...|                    BE1|              NULL|                 0|               0.0|                 0|                  2.4|                    0|\"Comunale Renzo B...|                 0|                +-0|      NULL|              2012|../data/raw/trans...|https://www.trans...|\n",
            "|    25%|               430|                NULL|                NULL|                   NULL|              NULL|                24|              24.6|                 6|                 30.8|                    1|                NULL|             10800|               NULL|      NULL|              2020|                NULL|                NULL|\n",
            "|    50%|              1158|                NULL|                NULL|                   NULL|              NULL|                26|              25.8|                12|                 48.0|                    3|                NULL|             20087|               NULL|      NULL|              2024|                NULL|                NULL|\n",
            "|    75%|              3592|                NULL|                NULL|                   NULL|              NULL|                29|              26.8|                16|                 62.5|                    7|                NULL|             32400|               NULL|      NULL|              2024|                NULL|                NULL|\n",
            "|    max|            110302|         zska-moskau|İstanbul Başakşeh...|                   UKR1|              NULL|                41|              29.9|                29|                100.0|                   22|Ümraniye Belediye...|             81365|           €-98.25m|      NULL|              2024|../data/raw/trans...|https://www.trans...|\n",
            "+-------+------------------+--------------------+--------------------+-----------------------+------------------+------------------+------------------+------------------+---------------------+---------------------+--------------------+------------------+-------------------+----------+------------------+--------------------+--------------------+\n",
            "\n"
          ]
        },
        {
          "name": "stderr",
          "output_type": "stream",
          "text": [
            "                                                                                \r"
          ]
        }
      ],
      "source": [
        "mostrar_sumario(df_clubs).show()"
      ]
    },
    {
      "cell_type": "code",
      "execution_count": 9,
      "metadata": {
        "id": "D8fK7zzrmb77"
      },
      "outputs": [
        {
          "name": "stdout",
          "output_type": "stream",
          "text": [
            "+-------+---------+----+-----------------------+------------------+----------+-----------+-----------------+---------------------+---------------------+------------+-------------+-------------------+----------+-----------+--------+---+\n",
            "|club_id|club_code|name|domestic_competition_id|total_market_value|squad_size|average_age|foreigners_number|foreigners_percentage|national_team_players|stadium_name|stadium_seats|net_transfer_record|coach_name|last_season|filename|url|\n",
            "+-------+---------+----+-----------------------+------------------+----------+-----------+-----------------+---------------------+---------------------+------------+-------------+-------------------+----------+-----------+--------+---+\n",
            "|      0|        0|   0|                      0|               439|         0|         38|                0|                   49|                    0|           0|            0|                  0|       439|          0|       0|  0|\n",
            "+-------+---------+----+-----------------------+------------------+----------+-----------+-----------------+---------------------+---------------------+------------+-------------+-------------------+----------+-----------+--------+---+\n",
            "\n"
          ]
        }
      ],
      "source": [
        "contar_nulos_por_columna(df_clubs).show()"
      ]
    },
    {
      "cell_type": "code",
      "execution_count": 10,
      "metadata": {
        "id": "UQjjXMQJ4LXi"
      },
      "outputs": [
        {
          "name": "stdout",
          "output_type": "stream",
          "text": [
            "+-------+-----+\n",
            "|club_id|count|\n",
            "+-------+-----+\n",
            "+-------+-----+\n",
            "\n"
          ]
        }
      ],
      "source": [
        "duplicados_por_columna(df_clubs, \"club_id\")"
      ]
    },
    {
      "cell_type": "code",
      "execution_count": 11,
      "metadata": {
        "id": "n_FpeFLlSoyC"
      },
      "outputs": [
        {
          "name": "stdout",
          "output_type": "stream",
          "text": [
            "Filas totales: 439\n",
            "Nulos en la columna 'total_market_value': 439\n"
          ]
        }
      ],
      "source": [
        "# Comparar numero de filas totales con numero de nulos en 'total_market_value'\n",
        "print(f\"Filas totales: {df_clubs.count()}\")\n",
        "print(f\"Nulos en la columna 'total_market_value': {contar_nulos_por_columna(df_clubs).select('total_market_value').first()[0]}\")"
      ]
    },
    {
      "cell_type": "code",
      "execution_count": 12,
      "metadata": {
        "id": "B9WVujkkUDms"
      },
      "outputs": [
        {
          "name": "stdout",
          "output_type": "stream",
          "text": [
            "+-------+-------------------+--------------------+-----------------------+----------+-----------+-----------------+---------------------+---------------------+--------------------+-------------+-------------------+----------+-----------+--------------------+--------------------+\n",
            "|club_id|          club_code|                name|domestic_competition_id|squad_size|average_age|foreigners_number|foreigners_percentage|national_team_players|        stadium_name|stadium_seats|net_transfer_record|coach_name|last_season|            filename|                 url|\n",
            "+-------+-------------------+--------------------+-----------------------+----------+-----------+-----------------+---------------------+---------------------+--------------------+-------------+-------------------+----------+-----------+--------------------+--------------------+\n",
            "|    105|    sv-darmstadt-98|     SV Darmstadt 98|                     L1|        27|       25.6|               13|                 48.1|                    1|Merck-Stadion am ...|        17810|            +€3.05m|      NULL|       2023|../data/raw/trans...|https://www.trans...|\n",
            "|  11127|  ural-ekaterinburg|  Ural Yekaterinburg|                    RU1|        30|       26.5|               11|                 36.7|                    3| Yekaterinburg Arena|        23000|             +€880k|      NULL|       2023|../data/raw/trans...|https://www.trans...|\n",
            "|    114|  besiktas-istanbul|Beşiktaş Jimnasti...|                    TR1|        30|       26.6|               15|                 50.0|                    8|       Beşiktaş Park|        42445|           €-25.26m|      NULL|       2024|../data/raw/trans...|https://www.trans...|\n",
            "|     12|             as-rom|Associazione Spor...|                    IT1|        26|       26.3|               18|                 69.2|                   17|    Olimpico di Roma|        70634|           €-76.90m|      NULL|       2024|../data/raw/trans...|https://www.trans...|\n",
            "|    148|  tottenham-hotspur|Tottenham Hotspur...|                    GB1|        30|       25.5|               21|                 70.0|                   18|Tottenham Hotspur...|        62850|          €-120.05m|      NULL|       2024|../data/raw/trans...|https://www.trans...|\n",
            "|    157|           kaa-gent|Koninklijke Atlet...|                    BE1|        30|       25.2|               19|                 63.3|                    5|  Planet Group Arena|        20185|            +€5.63m|      NULL|       2024|../data/raw/trans...|https://www.trans...|\n",
            "|   1894|        hvidovre-if|         Hvidovre IF|                    DK1|        25|       26.4|                3|                 12.0|                    2|PRO VENTILATION A...|        12000|             +€225k|      NULL|       2023|../data/raw/trans...|https://www.trans...|\n",
            "|    190|      fc-kopenhagen|Football Club Køb...|                    DK1|        28|       26.1|               19|                 67.9|                    9|              Parken|        38065|           +€35.06m|      NULL|       2024|../data/raw/trans...|https://www.trans...|\n",
            "|    192|   roda-jc-kerkrade|    Roda JC Kerkrade|                    NL1|        25|       24.0|                9|                 36.0|                    0|Parkstad Limburg ...|        19979|            +€1.30m|      NULL|       2017|../data/raw/trans...|https://www.trans...|\n",
            "|  19789|   yeni-malatyaspor|    Yeni Malatyaspor|                    TR1|        10|       22.9|                1|                 10.0|                    0|Yeni Malatya Stad...|        25745|             +€778k|      NULL|       2021|../data/raw/trans...|https://www.trans...|\n",
            "|   2079|          veria-nps|           Veria NPS|                    GR1|        29|       24.3|                4|                 13.8|                    0|Dimotiko Stadio V...|         6350|                +-0|      NULL|       2016|../data/raw/trans...|https://www.trans...|\n",
            "|  21957|       ao-platanias|        AO Platanias|                    GR1|         0|       NULL|                0|                 NULL|                    0|Dimotiko Gipedo P...|         3700|                +-0|      NULL|       2017|../data/raw/trans...|https://www.trans...|\n",
            "|   2414|         ac-horsens|          AC Horsens|                    DK1|        19|       25.1|                9|                 47.4|                    4|Nordstern Arena H...|        10400|                +-0|      NULL|       2022|../data/raw/trans...|https://www.trans...|\n",
            "|   2457|     belenenses-sad|               B SAD|                    PO1|        25|       24.2|               13|                 52.0|                    4|Estádio Nacional ...|        37593|            +€1.80m|      NULL|       2021|../data/raw/trans...|https://www.trans...|\n",
            "|   2578|    st-johnstone-fc|Saint Johnstone F...|                    SC1|        26|       26.2|               19|                 73.1|                    3|      McDiarmid Park|        10696|                +-0|      NULL|       2024|../data/raw/trans...|https://www.trans...|\n",
            "|    269|      holstein-kiel|Kieler Sportverei...|                     L1|        29|       26.3|               11|                 37.9|                    4|    Holstein-Stadion|        15034|            €-6.20m|      NULL|       2024|../data/raw/trans...|https://www.trans...|\n",
            "|   2727|oud-heverlee-leuven| Oud-Heverlee Leuven|                    BE1|        27|       24.9|               15|                 55.6|                    2|King Power at Den...|         9809|            +€7.80m|      NULL|       2024|../data/raw/trans...|https://www.trans...|\n",
            "|  28643|   waasland-beveren|          SK Beveren|                    BE1|        27|       26.8|               16|                 59.3|                    3|    Freethielstadion|        13290|             €-350k|      NULL|       2020|../data/raw/trans...|https://www.trans...|\n",
            "|   2990|  academica-coimbra|   Académica Coimbra|                    PO1|        26|       25.2|                6|                 23.1|                    0|Estádio Cidade de...|        29744|             +€150k|      NULL|       2015|../data/raw/trans...|https://www.trans...|\n",
            "|   3057|   standard-luttich|Royal Standard Cl...|                    BE1|        28|       24.1|               17|                 60.7|                    9|Maurice Dufrasne ...|        27221|           +€11.30m|      NULL|       2024|../data/raw/trans...|https://www.trans...|\n",
            "+-------+-------------------+--------------------+-----------------------+----------+-----------+-----------------+---------------------+---------------------+--------------------+-------------+-------------------+----------+-----------+--------------------+--------------------+\n",
            "only showing top 20 rows\n"
          ]
        }
      ],
      "source": [
        "# La columna 'total_market_value' esta completamente vacia, podemos eliminarla\n",
        "df_clubs = df_clubs.drop(\"total_market_value\")\n",
        "df_clubs.show()"
      ]
    },
    {
      "cell_type": "code",
      "execution_count": 13,
      "metadata": {},
      "outputs": [
        {
          "name": "stdout",
          "output_type": "stream",
          "text": [
            "+-------+--------------------+--------------------+-----------------------+----------+-----------+-----------------+---------------------+---------------------+--------------------+-------------+-------------------+----------+-----------+--------------------+--------------------+\n",
            "|club_id|           club_code|                name|domestic_competition_id|squad_size|average_age|foreigners_number|foreigners_percentage|national_team_players|        stadium_name|stadium_seats|net_transfer_record|coach_name|last_season|            filename|                 url|\n",
            "+-------+--------------------+--------------------+-----------------------+----------+-----------+-----------------+---------------------+---------------------+--------------------+-------------+-------------------+----------+-----------+--------------------+--------------------+\n",
            "|    114|   besiktas-istanbul|Beşiktaş Jimnasti...|                    TR1|        30|       26.6|               15|                 50.0|                    8|       Beşiktaş Park|        42445|           €-25.26m|      NULL|       2024|../data/raw/trans...|https://www.trans...|\n",
            "|    190|       fc-kopenhagen|Football Club Køb...|                    DK1|        28|       26.1|               19|                 67.9|                    9|              Parken|        38065|           +€35.06m|      NULL|       2024|../data/raw/trans...|https://www.trans...|\n",
            "|   2990|   academica-coimbra|   Académica Coimbra|                    PO1|        26|       25.2|                6|                 23.1|                    0|Estádio Cidade de...|        29744|             +€150k|      NULL|       2015|../data/raw/trans...|https://www.trans...|\n",
            "|   3057|    standard-luttich|Royal Standard Cl...|                    BE1|        28|       24.1|               17|                 60.7|                    9|Maurice Dufrasne ...|        27221|           +€11.30m|      NULL|       2024|../data/raw/trans...|https://www.trans...|\n",
            "|   6996|    goverla-uzhgorod|Goverla Uzhgorod ...|                   UKR1|         0|       NULL|                0|                 NULL|                    0|            Avangard|        10640|                +-0|      NULL|       2015|../data/raw/trans...|https://www.trans...|\n",
            "|    868|      mke-ankaragucu|      MKE Ankaragücü|                    TR1|        34|       26.2|               13|                 38.2|                    6|    Eryaman Stadyumu|        20672|             +€895k|      NULL|       2023|../data/raw/trans...|https://www.trans...|\n",
            "|    969|     montpellier-hsc|Montpellier Hérau...|                    FR1|        25|       26.7|               15|                 60.0|                    6|  Stade de la Mosson|        22000|           +€27.00m|      NULL|       2024|../data/raw/trans...|https://www.trans...|\n",
            "|    993|          fc-cordoba|          Córdoba CF|                    ES1|        24|       27.9|                4|                 16.7|                    0|      Nuevo Arcángel|        21822|                +-0|      NULL|       2014|../data/raw/trans...|https://www.trans...|\n",
            "|   1160|     nimes-olympique|     Nîmes Olympique|                    FR1|        26|       25.4|               12|                 46.2|                    3|  Stade des Antonins|         8033|            +€2.50m|      NULL|       2020|../data/raw/trans...|https://www.trans...|\n",
            "|   2477|        karpaty-lviv|Karpaty Lviv (-2021)|                   UKR1|         0|       NULL|                0|                 NULL|                    0|     Stadion Ukraina|        28051|                +-0|      NULL|       2019|../data/raw/trans...|https://www.trans...|\n",
            "|      4|       1-fc-nurnberg|      1.FC Nuremberg|                     L1|        33|       25.2|                7|                 21.2|                    2| Max-Morlock-Stadion|        50000|            +€2.63m|      NULL|       2018|../data/raw/trans...|https://www.trans...|\n",
            "|    449|         trabzonspor|  Trabzonspor Kulübü|                    TR1|        27|       26.0|               13|                 48.1|                    6|         Papara Park|        40980|           €-26.22m|      NULL|       2024|../data/raw/trans...|https://www.trans...|\n",
            "|   6890|istanbul-basakseh...|İstanbul Başakşeh...|                    TR1|        29|       26.7|               15|                 51.7|                    6|Başakşehir Fatih ...|        17067|            €-8.70m|      NULL|       2024|../data/raw/trans...|https://www.trans...|\n",
            "|    932|    lokomotiv-moskau|\"Футбольный клуб ...|                    RU1|        24|       24.9|                5|                 20.8|                   11|           RZD Arena|        27084|            +€7.52m|      NULL|       2024|../data/raw/trans...|https://www.trans...|\n",
            "|   1108|    deportivo-alaves|Deportivo Alavés ...|                    ES1|        25|       26.5|               10|                 40.0|                    4|        Mendizorroza|        19840|            +€9.79m|      NULL|       2024|../data/raw/trans...|https://www.trans...|\n",
            "|   1177|        silkeborg-if|Silkeborg Idrætsf...|                    DK1|        22|       24.7|                5|                 22.7|                    2|           JYSK Park|        10000|            +€7.66m|      NULL|       2024|../data/raw/trans...|https://www.trans...|\n",
            "|     13|     atletico-madrid|Club Atlético de ...|                    ES1|        23|       29.3|               16|                 69.6|                   16|Riyadh Air Metrop...|        70460|           €-91.10m|      NULL|       2024|../data/raw/trans...|https://www.trans...|\n",
            "|    141|galatasaray-istanbul|Galatasaray Spor ...|                    TR1|        30|       27.1|               16|                 53.3|                   14|Ali Sami Yen Spor...|        53978|           €-20.80m|      NULL|       2024|../data/raw/trans...|https://www.trans...|\n",
            "|   1411|           raec-mons|  RAEC Mons (- 2015)|                    BE1|         0|       NULL|                0|                 NULL|                    0|Stade Charles Ton...|        12662|                +-0|      NULL|       2013|../data/raw/trans...|https://www.trans...|\n",
            "|     18|borussia-moncheng...|Borussia Verein f...|                     L1|        26|       26.4|               14|                 53.8|                   12|Stadion im Boruss...|        54042|            €-7.70m|      NULL|       2024|../data/raw/trans...|https://www.trans...|\n",
            "+-------+--------------------+--------------------+-----------------------+----------+-----------+-----------------+---------------------+---------------------+--------------------+-------------+-------------------+----------+-----------+--------------------+--------------------+\n",
            "only showing top 20 rows\n"
          ]
        }
      ],
      "source": [
        "# Ver si hay registros en la columna 'name' con caracteres especiales\n",
        "df_clubs.filter(col('name').rlike('[^a-zA-Z0-9- ]')).show()"
      ]
    },
    {
      "cell_type": "code",
      "execution_count": 14,
      "metadata": {},
      "outputs": [
        {
          "name": "stdout",
          "output_type": "stream",
          "text": [
            "+-------------------------------------+\n",
            "|name                                 |\n",
            "+-------------------------------------+\n",
            "| Fußballclub Union Berlin            |\n",
            "|PAS Lamia                            |\n",
            "|FC Schalke                           |\n",
            "|SV Darmstadt                         |\n",
            "|Kieler Sportvereinigung Holstein von |\n",
            "|FC Sochi                             |\n",
            "|Beerschot AC                         |\n",
            "|FC Ingulets Petrove                  |\n",
            "|Gaziantep Futbol Kulübü AŞ           |\n",
            "|FK Krasnodar                         |\n",
            "|Lyngby Boldklubben af                |\n",
            "|FK Kolos Kovalivka                   |\n",
            "|Koninklijke Atletiek Associatie Gent |\n",
            "|GFC Ajaccio                          |\n",
            "|SKA Khabarovsk                       |\n",
            "|SC Dnipro                            |\n",
            "|Samsunspor                           |\n",
            "|FußballClub Augsburg                 |\n",
            "|Adana Demirspor Kulübü               |\n",
            "|Dundee Football Club                 |\n",
            "+-------------------------------------+\n",
            "only showing top 20 rows\n"
          ]
        }
      ],
      "source": [
        "# Varios nombres de clubes usan caracteres de otros alfabetos, decidimos dejar esos nombres como estan\n",
        "# pero eliminar otros caracteres como numeros o parentesis.\n",
        "# La expresion '[^\\\\p{L} ]' acepta letras de diferentes alfabetos y espacios en blanco\n",
        "df_clubs = df_clubs.withColumn(\"name\", regexp_replace(col(\"name\"), \"[^\\\\p{L} ]\", \"\"))\n",
        "# Ver nombres de clubs tras la sustitucion\n",
        "df_clubs.select(\"name\").distinct().show(truncate=False)"
      ]
    },
    {
      "cell_type": "code",
      "execution_count": 15,
      "metadata": {
        "id": "ozXf2WfZmb79"
      },
      "outputs": [
        {
          "name": "stdout",
          "output_type": "stream",
          "text": [
            "+-------+--------------------+--------------------+-----------------------+----------+-----------+-----------------+---------------------+---------------------+--------------------+-------------+-------------------+----------+-----------+--------------------+--------------------+\n",
            "|club_id|           club_code|                name|domestic_competition_id|squad_size|average_age|foreigners_number|foreigners_percentage|national_team_players|        stadium_name|stadium_seats|net_transfer_record|coach_name|last_season|            filename|                 url|\n",
            "+-------+--------------------+--------------------+-----------------------+----------+-----------+-----------------+---------------------+---------------------+--------------------+-------------+-------------------+----------+-----------+--------------------+--------------------+\n",
            "|  21957|        ao-platanias|        AO Platanias|                    GR1|         0|       NULL|                0|                 NULL|                    0|Dimotiko Gipedo P...|         3700|                +-0|      NULL|       2017|../data/raw/trans...|https://www.trans...|\n",
            "|   6996|    goverla-uzhgorod|  Goverla Uzhgorod  |                   UKR1|         0|       NULL|                0|                 NULL|                    0|            Avangard|        10640|                +-0|      NULL|       2015|../data/raw/trans...|https://www.trans...|\n",
            "|   2477|        karpaty-lviv|       Karpaty Lviv |                   UKR1|         0|       NULL|                0|                 NULL|                    0|     Stadion Ukraina|        28051|                +-0|      NULL|       2019|../data/raw/trans...|https://www.trans...|\n",
            "|    566|        beerschot-ac|        Beerschot AC|                    BE1|         0|       NULL|                0|                 NULL|                    0|   Olympisch Stadion|        12771|                +-0|      NULL|       2012|../data/raw/trans...|https://www.trans...|\n",
            "|   1411|           raec-mons|         RAEC Mons  |                    BE1|         0|       NULL|                0|                 NULL|                    0|Stade Charles Ton...|        12662|                +-0|      NULL|       2013|../data/raw/trans...|https://www.trans...|\n",
            "|  16239|     desna-chernigiv|     Desna Chernigiv|                   UKR1|         0|       NULL|                0|                 NULL|                    0|Stadion im. Yuriy...|        12060|                +-0|      NULL|       2021|../data/raw/trans...|https://www.trans...|\n",
            "|  28956|         ael-kalloni|         AEL Kalloni|                    GR1|         0|       NULL|                0|                 NULL|                    0|    Stadio Mytilinis|         4000|                +-0|      NULL|       2015|../data/raw/trans...|https://www.trans...|\n",
            "|  16247|  pfk-stal-kamyanske| PFK Stal Kamyanske |                   UKR1|         0|       NULL|                0|                 NULL|                    0|              Obolon|         5100|                +-0|      NULL|       2017|../data/raw/trans...|https://www.trans...|\n",
            "|  20100|    fc-vestsjaelland|    FC Vestsjaelland|                    DK1|         0|       NULL|                0|                 NULL|                    0|        Harboe Arena|        10000|                +-0|      NULL|       2014|../data/raw/trans...|https://www.trans...|\n",
            "|   3691|           tom-tomsk|           Tom Tomsk|                    RU1|         0|       NULL|                0|                 NULL|                    0|                Trud|        10028|                +-0|      NULL|       2016|../data/raw/trans...|https://www.trans...|\n",
            "|    498|         ksc-lokeren|       KSC Lokeren  |                    BE1|         0|       NULL|                0|                 NULL|                    0|       Daknamstadion|        12000|                +-0|      NULL|       2018|../data/raw/trans...|https://www.trans...|\n",
            "|    524|       gaziantepspor|     Gaziantepspor  |                    TR1|         0|       NULL|                0|                 NULL|                    0|  Gaziantep Stadyumu|        33502|                +-0|      NULL|       2016|../data/raw/trans...|https://www.trans...|\n",
            "|    976|    cf-uniao-madeira|   CF União Madeira |                    PO1|         0|       NULL|                0|                 NULL|                    0|Centro Desportivo...|         2500|                +-0|      NULL|       2015|../data/raw/trans...|https://www.trans...|\n",
            "|  11126|    mordovia-saransk|   Mordovia Saransk |                    RU1|         0|       NULL|                0|                 NULL|                    0|      Mordovia Arena|        44442|                +-0|      NULL|       2015|../data/raw/trans...|https://www.trans...|\n",
            "|  12438|volga-nizhniy-nov...|Volga Nizhniy Nov...|                    RU1|         0|       NULL|                0|                 NULL|                    0|Zentralstadion Lo...|        17856|                +-0|      NULL|       2013|../data/raw/trans...|https://www.trans...|\n",
            "|   3336|     desportivo-aves|   Desportivo Aves  |                    PO1|         0|       NULL|                0|                 NULL|                    0| Estádio CD das Aves|         5441|                +-0|      NULL|       2019|../data/raw/trans...|https://www.trans...|\n",
            "|   6414|    metalist-kharkiv|  Metalist Kharkiv  |                   UKR1|         0|       NULL|                0|                 NULL|                    0|        OSK Metalist|        38685|                +-0|      NULL|       2015|../data/raw/trans...|https://www.trans...|\n",
            "|   6993|         fk-mariupol|         FK Mariupol|                   UKR1|         0|       NULL|                0|                 NULL|                    0|Stadion im. Volod...|        12680|             +€100k|      NULL|       2021|../data/raw/trans...|https://www.trans...|\n",
            "|    128|           ao-xanthi|           AO Xanthi|                    GR1|         0|       NULL|                0|                 NULL|                    0|        Xanthi Arena|         7361|                +-0|      NULL|       2019|../data/raw/trans...|https://www.trans...|\n",
            "|  29228|royal-excel-mouscron|Royal Excel Mousc...|                    BE1|         0|       NULL|                0|                 NULL|                    0|        Le Canonnier|        10830|              +€40k|      NULL|       2020|../data/raw/trans...|https://www.trans...|\n",
            "+-------+--------------------+--------------------+-----------------------+----------+-----------+-----------------+---------------------+---------------------+--------------------+-------------+-------------------+----------+-----------+--------------------+--------------------+\n",
            "only showing top 20 rows\n"
          ]
        }
      ],
      "source": [
        "# Ver nulos de la columna 'average_age'\n",
        "df_clubs.filter(col('average_age').isNull()).show()"
      ]
    },
    {
      "cell_type": "code",
      "execution_count": 16,
      "metadata": {
        "id": "9BcKFwW73Rn5"
      },
      "outputs": [
        {
          "name": "stdout",
          "output_type": "stream",
          "text": [
            "+-----------------------+-----------------+\n",
            "|domestic_competition_id|avg_age_by_league|\n",
            "+-----------------------+-----------------+\n",
            "|                     L1|             25.8|\n",
            "|                    RU1|             25.9|\n",
            "|                    TR1|             25.4|\n",
            "|                    IT1|             25.8|\n",
            "|                    GB1|             26.1|\n",
            "|                    BE1|             24.5|\n",
            "|                    DK1|             24.8|\n",
            "|                    DK1|             24.8|\n",
            "|                    NL1|             24.5|\n",
            "|                    TR1|             25.4|\n",
            "|                    GR1|             26.4|\n",
            "|                    GR1|             26.4|\n",
            "|                    DK1|             24.8|\n",
            "|                    PO1|             25.6|\n",
            "|                    SC1|             26.2|\n",
            "|                     L1|             25.8|\n",
            "|                    BE1|             24.5|\n",
            "|                    BE1|             24.5|\n",
            "|                    PO1|             25.6|\n",
            "|                    BE1|             24.5|\n",
            "+-----------------------+-----------------+\n",
            "only showing top 20 rows\n"
          ]
        }
      ],
      "source": [
        "# Calcular la media de 'average_age' por liga (excluyendo nulos) y redondear a 1 decimal\n",
        "avg_age_by_league_df = df_clubs.filter(col(\"average_age\").isNotNull()).groupBy(\"domestic_competition_id\").agg(round(avg(\"average_age\"), 1).alias(\"avg_age_by_league\"))\n",
        "\n",
        "# Unir la nueva columna al dataset\n",
        "df_clubs = df_clubs.join(avg_age_by_league_df, on=\"domestic_competition_id\", how=\"left_outer\")\n",
        "\n",
        "# Ver nueva columna\n",
        "df_clubs.select(\"domestic_competition_id\", \"avg_age_by_league\").show()"
      ]
    },
    {
      "cell_type": "code",
      "execution_count": 17,
      "metadata": {
        "id": "iPrjHQT-ypPr"
      },
      "outputs": [
        {
          "name": "stdout",
          "output_type": "stream",
          "text": [
            "+-----------------------+-------+---------+----+----------+-----------+-----------------+---------------------+---------------------+------------+-------------+-------------------+----------+-----------+--------+---+\n",
            "|domestic_competition_id|club_id|club_code|name|squad_size|average_age|foreigners_number|foreigners_percentage|national_team_players|stadium_name|stadium_seats|net_transfer_record|coach_name|last_season|filename|url|\n",
            "+-----------------------+-------+---------+----+----------+-----------+-----------------+---------------------+---------------------+------------+-------------+-------------------+----------+-----------+--------+---+\n",
            "+-----------------------+-------+---------+----+----------+-----------+-----------------+---------------------+---------------------+------------+-------------+-------------------+----------+-----------+--------+---+\n",
            "\n"
          ]
        }
      ],
      "source": [
        "# Sustituir nulos por 'avg_age_by_league'\n",
        "df_clubs = df_clubs.withColumn(\n",
        "    \"average_age\",\n",
        "    when(col(\"average_age\").isNull(), col(\"avg_age_by_league\")).otherwise(col(\"average_age\"))\n",
        ")\n",
        "\n",
        "# Eliminar columna de media por liga\n",
        "df_clubs = df_clubs.drop(\"avg_age_by_league\")\n",
        "\n",
        "# Comprobar de nuevo los nulos despues de la sustitucion\n",
        "df_clubs.filter(col('average_age').isNull()).show()"
      ]
    },
    {
      "cell_type": "code",
      "execution_count": 18,
      "metadata": {
        "id": "GhPDBmFF2cxW"
      },
      "outputs": [
        {
          "name": "stdout",
          "output_type": "stream",
          "text": [
            "+-----------------------+-------+------------------+-------------------+----------+-----------+-----------------+---------------------+---------------------+--------------------+-------------+-------------------+----------+-----------+--------------------+--------------------+\n",
            "|domestic_competition_id|club_id|         club_code|               name|squad_size|average_age|foreigners_number|foreigners_percentage|national_team_players|        stadium_name|stadium_seats|net_transfer_record|coach_name|last_season|            filename|                 url|\n",
            "+-----------------------+-------+------------------+-------------------+----------+-----------+-----------------+---------------------+---------------------+--------------------+-------------+-------------------+----------+-----------+--------------------+--------------------+\n",
            "|                    GR1|  21957|      ao-platanias|       AO Platanias|         0|       26.4|                0|                 NULL|                    0|Dimotiko Gipedo P...|         3700|                +-0|      NULL|       2017|../data/raw/trans...|https://www.trans...|\n",
            "|                   UKR1|  60551|       sk-dnipro-1|          SC Dnipro|         0|        0.0|                0|                 NULL|                    0|        Dnipro-Arena|        31003|            +€6.90m|      NULL|       2023|../data/raw/trans...|https://www.trans...|\n",
            "|                   UKR1|   6996|  goverla-uzhgorod| Goverla Uzhgorod  |         0|       23.8|                0|                 NULL|                    0|            Avangard|        10640|                +-0|      NULL|       2015|../data/raw/trans...|https://www.trans...|\n",
            "|                   UKR1|   2477|      karpaty-lviv|      Karpaty Lviv |         0|       23.8|                0|                 NULL|                    0|     Stadion Ukraina|        28051|                +-0|      NULL|       2019|../data/raw/trans...|https://www.trans...|\n",
            "|                    RU1|   4128|        amkar-perm|         Amkar Perm|        26|       26.0|                0|                 NULL|                    0|              Zvezda|        17000|                +-0|      NULL|       2017|../data/raw/trans...|https://www.trans...|\n",
            "|                    BE1|    566|      beerschot-ac|       Beerschot AC|         0|       24.5|                0|                 NULL|                    0|   Olympisch Stadion|        12771|                +-0|      NULL|       2012|../data/raw/trans...|https://www.trans...|\n",
            "|                    BE1|   1411|         raec-mons|        RAEC Mons  |         0|       24.5|                0|                 NULL|                    0|Stade Charles Ton...|        12662|                +-0|      NULL|       2013|../data/raw/trans...|https://www.trans...|\n",
            "|                   UKR1|  18105|          pfk-lviv|           PFK Lviv|         3|       18.3|                0|                 NULL|                    0|        Stadion SKIF|         3742|                +-0|      NULL|       2022|../data/raw/trans...|https://www.trans...|\n",
            "|                    GR1|   5220|      gs-ergotelis|       GS Ergotelis|         3|       23.3|                0|                 NULL|                    0|    Pankritio Stadio|        25780|                +-0|      NULL|       2014|../data/raw/trans...|https://www.trans...|\n",
            "|                   UKR1|  16239|   desna-chernigiv|    Desna Chernigiv|         0|       23.8|                0|                 NULL|                    0|Stadion im. Yuriy...|        12060|                +-0|      NULL|       2021|../data/raw/trans...|https://www.trans...|\n",
            "|                    GR1|  28956|       ael-kalloni|        AEL Kalloni|         0|       26.4|                0|                 NULL|                    0|    Stadio Mytilinis|         4000|                +-0|      NULL|       2015|../data/raw/trans...|https://www.trans...|\n",
            "|                   UKR1|  39097|    fk-obolon-kiew|     FK Obolon Kyiv|        26|       28.1|                0|                 NULL|                    0|        Obolon-Arena|         5103|             +€350k|      NULL|       2024|../data/raw/trans...|https://www.trans...|\n",
            "|                   UKR1|  16247|pfk-stal-kamyanske|PFK Stal Kamyanske |         0|       23.8|                0|                 NULL|                    0|              Obolon|         5100|                +-0|      NULL|       2017|../data/raw/trans...|https://www.trans...|\n",
            "|                    DK1|  20100|  fc-vestsjaelland|   FC Vestsjaelland|         0|       24.8|                0|                 NULL|                    0|        Harboe Arena|        10000|                +-0|      NULL|       2014|../data/raw/trans...|https://www.trans...|\n",
            "|                    TR1|   2323|          orduspor|           Orduspor|         3|       20.0|                0|                 NULL|                    0|    19 Eylül Stadyum|        11024|                +-0|      NULL|       2012|../data/raw/trans...|https://www.trans...|\n",
            "|                    RU1|   3691|         tom-tomsk|          Tom Tomsk|         0|       25.9|                0|                 NULL|                    0|                Trud|        10028|                +-0|      NULL|       2016|../data/raw/trans...|https://www.trans...|\n",
            "|                   UKR1|  49364|  ingulets-petrove|FC Ingulets Petrove|        25|       23.3|                0|                 NULL|                    0|    Stadion Ingulets|         1869|                +-0|      NULL|       2024|../data/raw/trans...|https://www.trans...|\n",
            "|                    BE1|    498|       ksc-lokeren|      KSC Lokeren  |         0|       24.5|                0|                 NULL|                    0|       Daknamstadion|        12000|                +-0|      NULL|       2018|../data/raw/trans...|https://www.trans...|\n",
            "|                    TR1|    524|     gaziantepspor|    Gaziantepspor  |         0|       25.4|                0|                 NULL|                    0|  Gaziantep Stadyumu|        33502|                +-0|      NULL|       2016|../data/raw/trans...|https://www.trans...|\n",
            "|                    PO1|    976|  cf-uniao-madeira|  CF União Madeira |         0|       25.6|                0|                 NULL|                    0|Centro Desportivo...|         2500|                +-0|      NULL|       2015|../data/raw/trans...|https://www.trans...|\n",
            "+-----------------------+-------+------------------+-------------------+----------+-----------+-----------------+---------------------+---------------------+--------------------+-------------+-------------------+----------+-----------+--------------------+--------------------+\n",
            "only showing top 20 rows\n"
          ]
        }
      ],
      "source": [
        "# Ver nulos de la columna 'foreigners_percentage'\n",
        "df_clubs.filter(col('foreigners_percentage').isNull()).show()"
      ]
    },
    {
      "cell_type": "code",
      "execution_count": 19,
      "metadata": {
        "id": "4YL9SsUb4jEK"
      },
      "outputs": [
        {
          "name": "stdout",
          "output_type": "stream",
          "text": [
            "+-----------------------+-----------------------------------+\n",
            "|domestic_competition_id|avg_foreigners_percentage_by_league|\n",
            "+-----------------------+-----------------------------------+\n",
            "|                     L1|                               46.7|\n",
            "|                    RU1|                               32.0|\n",
            "|                    TR1|                               34.7|\n",
            "|                    IT1|                               50.6|\n",
            "|                    GB1|                               61.2|\n",
            "|                    BE1|                               59.5|\n",
            "|                    DK1|                               42.3|\n",
            "|                    DK1|                               42.3|\n",
            "|                    NL1|                               42.6|\n",
            "|                    TR1|                               34.7|\n",
            "|                    GR1|                               46.6|\n",
            "|                    GR1|                               46.6|\n",
            "|                    DK1|                               42.3|\n",
            "|                    PO1|                               54.8|\n",
            "|                    SC1|                               58.7|\n",
            "|                     L1|                               46.7|\n",
            "|                    BE1|                               59.5|\n",
            "|                    BE1|                               59.5|\n",
            "|                    PO1|                               54.8|\n",
            "|                    BE1|                               59.5|\n",
            "+-----------------------+-----------------------------------+\n",
            "only showing top 20 rows\n"
          ]
        }
      ],
      "source": [
        "# Calcular la media de 'foreigners_percentage' por liga (excluyendo nulos) y redondear a 1 decimal\n",
        "avg_foreigners_percentage_df = df_clubs.filter(col(\"foreigners_percentage\").isNotNull()).groupBy(\"domestic_competition_id\").agg(round(avg(\"foreigners_percentage\"), 1).alias(\"avg_foreigners_percentage_by_league\"))\n",
        "\n",
        "# Unir la nueva columna al dataset\n",
        "df_clubs = df_clubs.join(avg_foreigners_percentage_df, on=\"domestic_competition_id\", how=\"left_outer\")\n",
        "\n",
        "# Ver nueva columna\n",
        "df_clubs.select(\"domestic_competition_id\", \"avg_foreigners_percentage_by_league\").show()"
      ]
    },
    {
      "cell_type": "code",
      "execution_count": 20,
      "metadata": {
        "id": "V7KCchB143P9"
      },
      "outputs": [
        {
          "name": "stdout",
          "output_type": "stream",
          "text": [
            "+-----------------------+-------+---------+----+----------+-----------+-----------------+---------------------+---------------------+------------+-------------+-------------------+----------+-----------+--------+---+\n",
            "|domestic_competition_id|club_id|club_code|name|squad_size|average_age|foreigners_number|foreigners_percentage|national_team_players|stadium_name|stadium_seats|net_transfer_record|coach_name|last_season|filename|url|\n",
            "+-----------------------+-------+---------+----+----------+-----------+-----------------+---------------------+---------------------+------------+-------------+-------------------+----------+-----------+--------+---+\n",
            "|                      0|      0|        0|   0|         0|          0|                0|                    0|                    0|           0|            0|                  0|       439|          0|       0|  0|\n",
            "+-----------------------+-------+---------+----+----------+-----------+-----------------+---------------------+---------------------+------------+-------------+-------------------+----------+-----------+--------+---+\n",
            "\n"
          ]
        }
      ],
      "source": [
        "# Sustituir nulos por 'avg_foreigners_percentage_by_league'\n",
        "df_clubs = df_clubs.withColumn(\n",
        "    \"foreigners_percentage\",\n",
        "    when(col(\"foreigners_percentage\").isNull(), col(\"avg_foreigners_percentage_by_league\")).otherwise(col(\"foreigners_percentage\"))\n",
        ")\n",
        "\n",
        "# Eliminar tabla de media por liga\n",
        "df_clubs = df_clubs.drop(\"avg_foreigners_percentage_by_league\")\n",
        "\n",
        "# Comprobar de nuevo los nulos despues de la sustitucion\n",
        "contar_nulos_por_columna(df_clubs).show()"
      ]
    },
    {
      "cell_type": "code",
      "execution_count": 21,
      "metadata": {
        "id": "9-6cI1jw5kWj"
      },
      "outputs": [
        {
          "name": "stdout",
          "output_type": "stream",
          "text": [
            "+-----------------------+-------+-----------------+--------------------+----------+-----------+-----------------+---------------------+---------------------+--------------------+-------------+-------------------+-----------+\n",
            "|domestic_competition_id|club_id|        club_code|                name|squad_size|average_age|foreigners_number|foreigners_percentage|national_team_players|        stadium_name|stadium_seats|net_transfer_record|last_season|\n",
            "+-----------------------+-------+-----------------+--------------------+----------+-----------+-----------------+---------------------+---------------------+--------------------+-------------+-------------------+-----------+\n",
            "|                     L1|    105|  sv-darmstadt-98|       SV Darmstadt |        27|       25.6|               13|                 48.1|                    1|Merck-Stadion am ...|        17810|            +€3.05m|       2023|\n",
            "|                    RU1|  11127|ural-ekaterinburg|  Ural Yekaterinburg|        30|       26.5|               11|                 36.7|                    3| Yekaterinburg Arena|        23000|             +€880k|       2023|\n",
            "|                    TR1|    114|besiktas-istanbul|Beşiktaş Jimnasti...|        30|       26.6|               15|                 50.0|                    8|       Beşiktaş Park|        42445|           €-25.26m|       2024|\n",
            "|                    IT1|     12|           as-rom|Associazione Spor...|        26|       26.3|               18|                 69.2|                   17|    Olimpico di Roma|        70634|           €-76.90m|       2024|\n",
            "|                    GB1|    148|tottenham-hotspur|Tottenham Hotspur...|        30|       25.5|               21|                 70.0|                   18|Tottenham Hotspur...|        62850|          €-120.05m|       2024|\n",
            "|                    BE1|    157|         kaa-gent|Koninklijke Atlet...|        30|       25.2|               19|                 63.3|                    5|  Planet Group Arena|        20185|            +€5.63m|       2024|\n",
            "|                    DK1|   1894|      hvidovre-if|         Hvidovre IF|        25|       26.4|                3|                 12.0|                    2|PRO VENTILATION A...|        12000|             +€225k|       2023|\n",
            "|                    DK1|    190|    fc-kopenhagen|Football Club Køb...|        28|       26.1|               19|                 67.9|                    9|              Parken|        38065|           +€35.06m|       2024|\n",
            "|                    NL1|    192| roda-jc-kerkrade|    Roda JC Kerkrade|        25|       24.0|                9|                 36.0|                    0|Parkstad Limburg ...|        19979|            +€1.30m|       2017|\n",
            "|                    TR1|  19789| yeni-malatyaspor|    Yeni Malatyaspor|        10|       22.9|                1|                 10.0|                    0|Yeni Malatya Stad...|        25745|             +€778k|       2021|\n",
            "+-----------------------+-------+-----------------+--------------------+----------+-----------+-----------------+---------------------+---------------------+--------------------+-------------+-------------------+-----------+\n",
            "only showing top 10 rows\n"
          ]
        }
      ],
      "source": [
        "# Eliminamos las columnas 'filename' y 'url' porque no son relevantes para nuestro analisis\n",
        "# Tambien eliminamos la columna 'coach_name' porque esa informacion ya esta en otra tabla\n",
        "df_clubs = df_clubs.drop(\"filename\", \"url\", \"coach_name\")\n",
        "df_clubs.show(10)"
      ]
    },
    {
      "cell_type": "markdown",
      "metadata": {
        "id": "_A_6fu4jbWDS"
      },
      "source": [
        "# Archivo \"competitions.csv\""
      ]
    },
    {
      "cell_type": "code",
      "execution_count": 22,
      "metadata": {
        "id": "Q_UomoPibV6y"
      },
      "outputs": [
        {
          "name": "stdout",
          "output_type": "stream",
          "text": [
            "+--------------+--------------------+--------------------+------------------+-----------------+----------+------------+--------------------+-------------+--------------------+------------------------+\n",
            "|competition_id|    competition_code|                name|          sub_type|             type|country_id|country_name|domestic_league_code|confederation|                 url|is_major_national_league|\n",
            "+--------------+--------------------+--------------------+------------------+-----------------+----------+------------+--------------------+-------------+--------------------+------------------------+\n",
            "|           CIT|           italy-cup|           italy-cup|      domestic_cup|     domestic_cup|        75|       Italy|                 IT1|       europa|https://www.trans...|                   false|\n",
            "|          NLSC|johan-cruijff-schaal|johan-cruijff-schaal|domestic_super_cup|            other|       122| Netherlands|                 NL1|       europa|https://www.trans...|                   false|\n",
            "|           GRP|     kypello-elladas|     kypello-elladas|      domestic_cup|     domestic_cup|        56|      Greece|                 GR1|       europa|https://www.trans...|                   false|\n",
            "|          POSU|supertaca-candido...|supertaca-candido...|domestic_super_cup|            other|       136|    Portugal|                 PO1|       europa|https://www.trans...|                   false|\n",
            "|          RUSS|   russian-super-cup|   russian-super-cup|domestic_super_cup|            other|       141|      Russia|                 RU1|       europa|https://www.trans...|                   false|\n",
            "|           SUC|           supercopa|           supercopa|domestic_super_cup|            other|       157|       Spain|                 ES1|       europa|https://www.trans...|                   false|\n",
            "|           USC|      uefa-super-cup|      uefa-super-cup|    uefa_super_cup|international_cup|        -1|        NULL|                NULL|       europa|https://www.trans...|                   false|\n",
            "|           DK1|         superligaen|         superligaen|        first_tier|  domestic_league|        39|     Denmark|                 DK1|       europa|https://www.trans...|                   false|\n",
            "|            EL|       europa-league|       europa-league|     europa_league|international_cup|        -1|        NULL|                NULL|       europa|https://www.trans...|                   false|\n",
            "|           ES1|              laliga|              laliga|        first_tier|  domestic_league|       157|       Spain|                 ES1|       europa|https://www.trans...|                    true|\n",
            "+--------------+--------------------+--------------------+------------------+-----------------+----------+------------+--------------------+-------------+--------------------+------------------------+\n",
            "only showing top 10 rows\n",
            "root\n",
            " |-- competition_id: string (nullable = true)\n",
            " |-- competition_code: string (nullable = true)\n",
            " |-- name: string (nullable = true)\n",
            " |-- sub_type: string (nullable = true)\n",
            " |-- type: string (nullable = true)\n",
            " |-- country_id: integer (nullable = true)\n",
            " |-- country_name: string (nullable = true)\n",
            " |-- domestic_league_code: string (nullable = true)\n",
            " |-- confederation: string (nullable = true)\n",
            " |-- url: string (nullable = true)\n",
            " |-- is_major_national_league: boolean (nullable = true)\n",
            "\n"
          ]
        },
        {
          "data": {
            "text/plain": [
              "['competition_id',\n",
              " 'competition_code',\n",
              " 'name',\n",
              " 'sub_type',\n",
              " 'type',\n",
              " 'country_id',\n",
              " 'country_name',\n",
              " 'domestic_league_code',\n",
              " 'confederation',\n",
              " 'url',\n",
              " 'is_major_national_league']"
            ]
          },
          "execution_count": 22,
          "metadata": {},
          "output_type": "execute_result"
        }
      ],
      "source": [
        "# Cargar el csv\n",
        "df_competitions = spark.read.csv(path + \"/competitions.csv\", header=True, inferSchema=True)\n",
        "\n",
        "# Ver las primeras filas\n",
        "df_competitions.show(10)\n",
        "df_competitions.printSchema()\n",
        "df_competitions.columns"
      ]
    },
    {
      "cell_type": "code",
      "execution_count": 23,
      "metadata": {
        "id": "FMS7IEBHb_9p"
      },
      "outputs": [
        {
          "name": "stdout",
          "output_type": "stream",
          "text": [
            "+-------+--------------+-------------------+-------------------+--------------+------------+-----------------+------------+--------------------+-------------+--------------------+\n",
            "|summary|competition_id|   competition_code|               name|      sub_type|        type|       country_id|country_name|domestic_league_code|confederation|                 url|\n",
            "+-------+--------------+-------------------+-------------------+--------------+------------+-----------------+------------+--------------------+-------------+--------------------+\n",
            "|  count|            44|                 44|                 44|            44|          44|               44|          36|                  36|           44|                  44|\n",
            "|   mean|          NULL|               NULL|               NULL|          NULL|        NULL|94.86363636363636|        NULL|                NULL|         NULL|                NULL|\n",
            "| stddev|          NULL|               NULL|               NULL|          NULL|        NULL|70.51887126914322|        NULL|                NULL|         NULL|                NULL|\n",
            "|    min|           BE1|        allianz-cup|        allianz-cup|  domestic_cup|domestic_cup|               -1|     Belgium|                 BE1|       europa|https://www.trans...|\n",
            "|    25%|          NULL|               NULL|               NULL|          NULL|        NULL|               39|        NULL|                NULL|         NULL|                NULL|\n",
            "|    50%|          NULL|               NULL|               NULL|          NULL|        NULL|               75|        NULL|                NULL|         NULL|                NULL|\n",
            "|    75%|          NULL|               NULL|               NULL|          NULL|        NULL|              157|        NULL|                NULL|         NULL|                NULL|\n",
            "|    max|           USC|ukrainian-super-cup|ukrainian-super-cup|uefa_super_cup|       other|              190|     Ukraine|                UKR1|       europa|https://www.trans...|\n",
            "+-------+--------------+-------------------+-------------------+--------------+------------+-----------------+------------+--------------------+-------------+--------------------+\n",
            "\n"
          ]
        }
      ],
      "source": [
        "mostrar_sumario(df_competitions).show()"
      ]
    },
    {
      "cell_type": "code",
      "execution_count": 24,
      "metadata": {
        "id": "cv4yCHIvcAHe"
      },
      "outputs": [
        {
          "name": "stdout",
          "output_type": "stream",
          "text": [
            "+--------------+----------------+----+--------+----+----------+------------+--------------------+-------------+---+------------------------+\n",
            "|competition_id|competition_code|name|sub_type|type|country_id|country_name|domestic_league_code|confederation|url|is_major_national_league|\n",
            "+--------------+----------------+----+--------+----+----------+------------+--------------------+-------------+---+------------------------+\n",
            "|             0|               0|   0|       0|   0|         0|           8|                   8|            0|  0|                       0|\n",
            "+--------------+----------------+----+--------+----+----------+------------+--------------------+-------------+---+------------------------+\n",
            "\n"
          ]
        }
      ],
      "source": [
        "contar_nulos_por_columna(df_competitions).show()"
      ]
    },
    {
      "cell_type": "code",
      "execution_count": 25,
      "metadata": {
        "id": "NgAh4hbQ4YFB"
      },
      "outputs": [
        {
          "name": "stdout",
          "output_type": "stream",
          "text": [
            "+--------------+-----+\n",
            "|competition_id|count|\n",
            "+--------------+-----+\n",
            "+--------------+-----+\n",
            "\n"
          ]
        }
      ],
      "source": [
        "duplicados_por_columna(df_competitions, \"competition_id\")"
      ]
    },
    {
      "cell_type": "code",
      "execution_count": 26,
      "metadata": {
        "id": "XtldsNZGcV7H"
      },
      "outputs": [
        {
          "name": "stdout",
          "output_type": "stream",
          "text": [
            "+--------------+--------------------+--------------------+--------------------+-----------------+----------+------------+--------------------+-------------+--------------------+------------------------+\n",
            "|competition_id|    competition_code|                name|            sub_type|             type|country_id|country_name|domestic_league_code|confederation|                 url|is_major_national_league|\n",
            "+--------------+--------------------+--------------------+--------------------+-----------------+----------+------------+--------------------+-------------+--------------------+------------------------+\n",
            "|           USC|      uefa-super-cup|      uefa-super-cup|      uefa_super_cup|international_cup|        -1|        NULL|                NULL|       europa|https://www.trans...|                   false|\n",
            "|            EL|       europa-league|       europa-league|       europa_league|international_cup|        -1|        NULL|                NULL|       europa|https://www.trans...|                   false|\n",
            "|          UCOL|uefa-conference-l...|uefa-conference-l...|uefa_europa_confe...|international_cup|        -1|        NULL|                NULL|       europa|https://www.trans...|                   false|\n",
            "|           ELQ|europa-league-qua...|europa-league-qua...|europa_league_qua...|international_cup|        -1|        NULL|                NULL|       europa|https://www.trans...|                   false|\n",
            "|          ECLQ|uefa-europa-confe...|uefa-europa-confe...|uefa_europa_confe...|international_cup|        -1|        NULL|                NULL|       europa|https://www.trans...|                   false|\n",
            "|            CL|uefa-champions-le...|uefa-champions-le...|uefa_champions_le...|international_cup|        -1|        NULL|                NULL|       europa|https://www.trans...|                   false|\n",
            "|          KLUB|        fifa-klub-wm|        fifa-klub-wm| fifa_club_world_cup|            other|        -1|        NULL|                NULL|       europa|https://www.trans...|                   false|\n",
            "|           CLQ|uefa-champions-le...|uefa-champions-le...|uefa_champions_le...|international_cup|        -1|        NULL|                NULL|       europa|https://www.trans...|                   false|\n",
            "+--------------+--------------------+--------------------+--------------------+-----------------+----------+------------+--------------------+-------------+--------------------+------------------------+\n",
            "\n"
          ]
        }
      ],
      "source": [
        "# Ver nulos en 'country_name'\n",
        "df_competitions.filter(col('country_name').isNull()).show()"
      ]
    },
    {
      "cell_type": "code",
      "execution_count": 27,
      "metadata": {
        "id": "EPVZWhPjc4ec"
      },
      "outputs": [
        {
          "name": "stdout",
          "output_type": "stream",
          "text": [
            "+--------------+----------------+----+--------+----+----------+------------+--------------------+-------------+---+------------------------+\n",
            "|competition_id|competition_code|name|sub_type|type|country_id|country_name|domestic_league_code|confederation|url|is_major_national_league|\n",
            "+--------------+----------------+----+--------+----+----------+------------+--------------------+-------------+---+------------------------+\n",
            "|             0|               0|   0|       0|   0|         0|           0|                   0|            0|  0|                       0|\n",
            "+--------------+----------------+----+--------+----+----------+------------+--------------------+-------------+---+------------------------+\n",
            "\n"
          ]
        }
      ],
      "source": [
        "# Las filas con 'country_id'= -1 y 'country_name'= null son de competiciones internacionales\n",
        "# Sustituimos 'country_name' por 'International', 'country_id' por '1' y 'domestic_league_code' por 'INT'\n",
        "df_competitions = df_competitions.withColumn(\n",
        "    \"country_name\",\n",
        "    when(col(\"country_id\") == -1, \"International\").otherwise(col(\"country_name\"))\n",
        ")\n",
        "\n",
        "df_competitions = df_competitions.withColumn(\n",
        "    \"country_id\",\n",
        "    when(col(\"country_id\") == -1, 1).otherwise(col(\"country_id\"))\n",
        ")\n",
        "\n",
        "df_competitions = df_competitions.withColumn(\n",
        "    \"domestic_league_code\",\n",
        "    when(col(\"country_id\") == 1, \"INT\").otherwise(col(\"domestic_league_code\"))\n",
        ")\n",
        "\n",
        "contar_nulos_por_columna(df_competitions).show()"
      ]
    },
    {
      "cell_type": "code",
      "execution_count": 28,
      "metadata": {},
      "outputs": [
        {
          "name": "stdout",
          "output_type": "stream",
          "text": [
            "root\n",
            " |-- competition_id: string (nullable = true)\n",
            " |-- competition_code: string (nullable = true)\n",
            " |-- name: string (nullable = true)\n",
            " |-- sub_type: string (nullable = true)\n",
            " |-- type: string (nullable = true)\n",
            " |-- country_id: integer (nullable = true)\n",
            " |-- country_name: string (nullable = true)\n",
            " |-- domestic_league_code: string (nullable = true)\n",
            " |-- confederation: string (nullable = true)\n",
            " |-- url: string (nullable = true)\n",
            " |-- is_major_national_league: integer (nullable = true)\n",
            "\n",
            "+--------------+--------------------+--------------------+--------------------+-----------------+----------+-------------+--------------------+-------------+--------------------+------------------------+\n",
            "|competition_id|    competition_code|                name|            sub_type|             type|country_id| country_name|domestic_league_code|confederation|                 url|is_major_national_league|\n",
            "+--------------+--------------------+--------------------+--------------------+-----------------+----------+-------------+--------------------+-------------+--------------------+------------------------+\n",
            "|           CIT|           italy-cup|           italy-cup|        domestic_cup|     domestic_cup|        75|        Italy|                 IT1|       europa|https://www.trans...|                       0|\n",
            "|          NLSC|johan-cruijff-schaal|johan-cruijff-schaal|  domestic_super_cup|            other|       122|  Netherlands|                 NL1|       europa|https://www.trans...|                       0|\n",
            "|           GRP|     kypello-elladas|     kypello-elladas|        domestic_cup|     domestic_cup|        56|       Greece|                 GR1|       europa|https://www.trans...|                       0|\n",
            "|          POSU|supertaca-candido...|supertaca-candido...|  domestic_super_cup|            other|       136|     Portugal|                 PO1|       europa|https://www.trans...|                       0|\n",
            "|          RUSS|   russian-super-cup|   russian-super-cup|  domestic_super_cup|            other|       141|       Russia|                 RU1|       europa|https://www.trans...|                       0|\n",
            "|           SUC|           supercopa|           supercopa|  domestic_super_cup|            other|       157|        Spain|                 ES1|       europa|https://www.trans...|                       0|\n",
            "|           USC|      uefa-super-cup|      uefa-super-cup|      uefa_super_cup|international_cup|         1|International|                 INT|       europa|https://www.trans...|                       0|\n",
            "|           DK1|         superligaen|         superligaen|          first_tier|  domestic_league|        39|      Denmark|                 DK1|       europa|https://www.trans...|                       0|\n",
            "|            EL|       europa-league|       europa-league|       europa_league|international_cup|         1|International|                 INT|       europa|https://www.trans...|                       0|\n",
            "|           ES1|              laliga|              laliga|          first_tier|  domestic_league|       157|        Spain|                 ES1|       europa|https://www.trans...|                       1|\n",
            "|           FR1|             ligue-1|             ligue-1|          first_tier|  domestic_league|        50|       France|                 FR1|       europa|https://www.trans...|                       1|\n",
            "|           IT1|             serie-a|             serie-a|          first_tier|  domestic_league|        75|        Italy|                 IT1|       europa|https://www.trans...|                       1|\n",
            "|           NL1|          eredivisie|          eredivisie|          first_tier|  domestic_league|       122|  Netherlands|                 NL1|       europa|https://www.trans...|                       0|\n",
            "|           RUP|         russian-cup|         russian-cup|        domestic_cup|     domestic_cup|       141|       Russia|                 RU1|       europa|https://www.trans...|                       0|\n",
            "|           PO1|  liga-portugal-bwin|  liga-portugal-bwin|          first_tier|  domestic_league|       136|     Portugal|                 PO1|       europa|https://www.trans...|                       0|\n",
            "|          BESC|    belgian-supercup|    belgian-supercup|  domestic_super_cup|            other|        19|      Belgium|                 BE1|       europa|https://www.trans...|                       0|\n",
            "|           GB1|      premier-league|      premier-league|          first_tier|  domestic_league|       189|      England|                 GB1|       europa|https://www.trans...|                       1|\n",
            "|          UCOL|uefa-conference-l...|uefa-conference-l...|uefa_europa_confe...|international_cup|         1|International|                 INT|       europa|https://www.trans...|                       0|\n",
            "|           ELQ|europa-league-qua...|europa-league-qua...|europa_league_qua...|international_cup|         1|International|                 INT|       europa|https://www.trans...|                       0|\n",
            "|           CGB|             efl-cup|             efl-cup|          league_cup|            other|       189|      England|                 GB1|       europa|https://www.trans...|                       0|\n",
            "+--------------+--------------------+--------------------+--------------------+-----------------+----------+-------------+--------------------+-------------+--------------------+------------------------+\n",
            "only showing top 20 rows\n"
          ]
        }
      ],
      "source": [
        "# La columna 'is_major_national_league' es de tipo booleano\n",
        "# Convertimos la columna a numerico para poder usarla al entrenar nuestro modelo\n",
        "df_competitions = df_competitions.withColumn(\n",
        "    \"is_major_national_league\",\n",
        "    col(\"is_major_national_league\").cast(IntegerType())\n",
        ")\n",
        "# Ver si el cambio se hizo correctamente\n",
        "df_competitions.printSchema()\n",
        "df_competitions.show()"
      ]
    },
    {
      "cell_type": "code",
      "execution_count": 29,
      "metadata": {
        "id": "IkEwl7nHenbJ"
      },
      "outputs": [
        {
          "name": "stdout",
          "output_type": "stream",
          "text": [
            "+--------------+--------------------+--------------------+--------------------+-----------------+----------+-------------+--------------------+-------------+------------------------+\n",
            "|competition_id|    competition_code|                name|            sub_type|             type|country_id| country_name|domestic_league_code|confederation|is_major_national_league|\n",
            "+--------------+--------------------+--------------------+--------------------+-----------------+----------+-------------+--------------------+-------------+------------------------+\n",
            "|           CIT|           italy-cup|           italy-cup|        domestic_cup|     domestic_cup|        75|        Italy|                 IT1|       europa|                       0|\n",
            "|          NLSC|johan-cruijff-schaal|johan-cruijff-schaal|  domestic_super_cup|            other|       122|  Netherlands|                 NL1|       europa|                       0|\n",
            "|           GRP|     kypello-elladas|     kypello-elladas|        domestic_cup|     domestic_cup|        56|       Greece|                 GR1|       europa|                       0|\n",
            "|          POSU|supertaca-candido...|supertaca-candido...|  domestic_super_cup|            other|       136|     Portugal|                 PO1|       europa|                       0|\n",
            "|          RUSS|   russian-super-cup|   russian-super-cup|  domestic_super_cup|            other|       141|       Russia|                 RU1|       europa|                       0|\n",
            "|           SUC|           supercopa|           supercopa|  domestic_super_cup|            other|       157|        Spain|                 ES1|       europa|                       0|\n",
            "|           USC|      uefa-super-cup|      uefa-super-cup|      uefa_super_cup|international_cup|         1|International|                 INT|       europa|                       0|\n",
            "|           DK1|         superligaen|         superligaen|          first_tier|  domestic_league|        39|      Denmark|                 DK1|       europa|                       0|\n",
            "|            EL|       europa-league|       europa-league|       europa_league|international_cup|         1|International|                 INT|       europa|                       0|\n",
            "|           ES1|              laliga|              laliga|          first_tier|  domestic_league|       157|        Spain|                 ES1|       europa|                       1|\n",
            "|           FR1|             ligue-1|             ligue-1|          first_tier|  domestic_league|        50|       France|                 FR1|       europa|                       1|\n",
            "|           IT1|             serie-a|             serie-a|          first_tier|  domestic_league|        75|        Italy|                 IT1|       europa|                       1|\n",
            "|           NL1|          eredivisie|          eredivisie|          first_tier|  domestic_league|       122|  Netherlands|                 NL1|       europa|                       0|\n",
            "|           RUP|         russian-cup|         russian-cup|        domestic_cup|     domestic_cup|       141|       Russia|                 RU1|       europa|                       0|\n",
            "|           PO1|  liga-portugal-bwin|  liga-portugal-bwin|          first_tier|  domestic_league|       136|     Portugal|                 PO1|       europa|                       0|\n",
            "|          BESC|    belgian-supercup|    belgian-supercup|  domestic_super_cup|            other|        19|      Belgium|                 BE1|       europa|                       0|\n",
            "|           GB1|      premier-league|      premier-league|          first_tier|  domestic_league|       189|      England|                 GB1|       europa|                       1|\n",
            "|          UCOL|uefa-conference-l...|uefa-conference-l...|uefa_europa_confe...|international_cup|         1|International|                 INT|       europa|                       0|\n",
            "|           ELQ|europa-league-qua...|europa-league-qua...|europa_league_qua...|international_cup|         1|International|                 INT|       europa|                       0|\n",
            "|           CGB|             efl-cup|             efl-cup|          league_cup|            other|       189|      England|                 GB1|       europa|                       0|\n",
            "+--------------+--------------------+--------------------+--------------------+-----------------+----------+-------------+--------------------+-------------+------------------------+\n",
            "only showing top 20 rows\n"
          ]
        }
      ],
      "source": [
        "# Eliminar la columna 'url' porque no es relevante para nuestro analisis\n",
        "df_competitions = df_competitions.drop(\"url\")\n",
        "df_competitions.show()"
      ]
    },
    {
      "cell_type": "markdown",
      "metadata": {
        "id": "n0Rk1i8vXu-A"
      },
      "source": [
        "# Archivo \"game_events.csv\""
      ]
    },
    {
      "cell_type": "code",
      "execution_count": 27,
      "metadata": {
        "id": "-uM_G74jYWy7"
      },
      "outputs": [
        {
          "name": "stdout",
          "output_type": "stream",
          "text": [
            "+--------------------+----------+-------+------+-------------+-------+---------+--------------------+------------+----------------+\n",
            "|       game_event_id|      date|game_id|minute|         type|club_id|player_id|         description|player_in_id|player_assist_id|\n",
            "+--------------------+----------+-------+------+-------------+-------+---------+--------------------+------------+----------------+\n",
            "|2f41da30c471492e7...|2012-08-05|2211607|    77|        Cards|    610|     4425|1. Yellow card  ,...|        NULL|            NULL|\n",
            "|a72f7186d132775f2...|2012-08-05|2211607|    77|        Cards|    383|    33210|1. Yellow card  ,...|        NULL|            NULL|\n",
            "|b2d721eaed4692a5c...|2012-08-05|2211607|     3|        Goals|    383|    36500|, Header, 1. Tour...|        NULL|           56416|\n",
            "|aef768899cedac0c9...|2012-08-05|2211607|    53|        Goals|    383|    36500|, Right-footed sh...|        NULL|          146258|\n",
            "|5d6d9533023057b66...|2012-08-05|2211607|    74|Substitutions|    383|    36500|      , Not reported|       49499|            NULL|\n",
            "|eef9c46dd75c3aa4c...|2012-08-05|2211607|    11|        Goals|    383|    38497|, Right-footed sh...|        NULL|           33210|\n",
            "|5d5aef7dedcd5dc9d...|2012-08-05|2211607|    90|        Cards|    610|    42710|      1. Yellow card|        NULL|            NULL|\n",
            "|7717860e3b0376b86...|2012-08-05|2211607|    44|        Goals|    610|    42710|, Header, 1. Tour...|        NULL|            4425|\n",
            "|02c708273f4fa2003...|2012-08-05|2211607|    79|        Cards|    610|    45509|      1. Yellow card|        NULL|            NULL|\n",
            "|d1be2ce4bd5f0ca09...|2012-08-05|2211607|    90|        Goals|    383|    49499|, Right-footed sh...|        NULL|          167850|\n",
            "+--------------------+----------+-------+------+-------------+-------+---------+--------------------+------------+----------------+\n",
            "only showing top 10 rows\n",
            "root\n",
            " |-- game_event_id: string (nullable = true)\n",
            " |-- date: date (nullable = true)\n",
            " |-- game_id: integer (nullable = true)\n",
            " |-- minute: integer (nullable = true)\n",
            " |-- type: string (nullable = true)\n",
            " |-- club_id: integer (nullable = true)\n",
            " |-- player_id: integer (nullable = true)\n",
            " |-- description: string (nullable = true)\n",
            " |-- player_in_id: integer (nullable = true)\n",
            " |-- player_assist_id: integer (nullable = true)\n",
            "\n"
          ]
        },
        {
          "data": {
            "text/plain": [
              "['game_event_id',\n",
              " 'date',\n",
              " 'game_id',\n",
              " 'minute',\n",
              " 'type',\n",
              " 'club_id',\n",
              " 'player_id',\n",
              " 'description',\n",
              " 'player_in_id',\n",
              " 'player_assist_id']"
            ]
          },
          "execution_count": 27,
          "metadata": {},
          "output_type": "execute_result"
        }
      ],
      "source": [
        "# Cargar el csv\n",
        "df_game_events = spark.read.csv(path + \"/game_events.csv\", header=True, inferSchema=True)\n",
        "\n",
        "# Ver las primeras filas\n",
        "df_game_events.show(10)\n",
        "df_game_events.printSchema()\n",
        "df_game_events.columns"
      ]
    },
    {
      "cell_type": "code",
      "execution_count": 28,
      "metadata": {
        "id": "RSrGDZKiZs0s"
      },
      "outputs": [
        {
          "name": "stderr",
          "output_type": "stream",
          "text": [
            "[Stage 74:>                                                         (0 + 1) / 1]\r"
          ]
        },
        {
          "name": "stdout",
          "output_type": "stream",
          "text": [
            "+-------+--------------------+------------------+-----------------+-------------+------------------+------------------+--------------------+------------------+-----------------+\n",
            "|summary|       game_event_id|           game_id|           minute|         type|           club_id|         player_id|         description|      player_in_id| player_assist_id|\n",
            "+-------+--------------------+------------------+-----------------+-------------+------------------+------------------+--------------------+------------------+-----------------+\n",
            "|  count|             1035043|           1035043|          1035043|      1035043|           1035043|           1035043|              947716|            497678|           156759|\n",
            "|   mean|            Infinity|3232166.6426525274|61.82031857613645|         NULL| 4956.375424982344|234649.75911049105|                NULL| 281129.1353606147|211605.5213544358|\n",
            "| stddev|                 NaN| 680074.1692634815|23.58611694335326|         NULL|11822.249636871984| 212023.8692743104|                NULL|238853.11473006182|194396.3401437962|\n",
            "|    min|000002a281eef5854...|           2211607|               -1|        Cards|                 1|                10|, 1. Goal of the ...|                10|               10|\n",
            "|    25%|7.082884527139168E31|           2609666|               46|         NULL|               345|             66005|                NULL|             87143|            59561|\n",
            "|    50%|7.082884527139168E31|           3203631|               67|         NULL|               987|            175449|                NULL|            216662|           153198|\n",
            "|    75%|            Infinity|           3840070|               80|         NULL|              3070|            341051|                NULL|            400554|           313396|\n",
            "|    max|fffffded88d6e7e41...|           4572898|              120|Substitutions|            122422|           1378362|Yellow card  , Wa...|           1390649|          1340495|\n",
            "+-------+--------------------+------------------+-----------------+-------------+------------------+------------------+--------------------+------------------+-----------------+\n",
            "\n"
          ]
        },
        {
          "name": "stderr",
          "output_type": "stream",
          "text": [
            "                                                                                \r"
          ]
        }
      ],
      "source": [
        "mostrar_sumario(df_game_events).show()"
      ]
    },
    {
      "cell_type": "code",
      "execution_count": 29,
      "metadata": {
        "id": "ILvXSFqEZupq"
      },
      "outputs": [
        {
          "name": "stdout",
          "output_type": "stream",
          "text": [
            "+-------------+----+-------+------+----+-------+---------+-----------+------------+----------------+\n",
            "|game_event_id|date|game_id|minute|type|club_id|player_id|description|player_in_id|player_assist_id|\n",
            "+-------------+----+-------+------+----+-------+---------+-----------+------------+----------------+\n",
            "|            0|   0|      0|     0|   0|      0|        0|      87327|      537365|          878284|\n",
            "+-------------+----+-------+------+----+-------+---------+-----------+------------+----------------+\n",
            "\n"
          ]
        }
      ],
      "source": [
        "contar_nulos_por_columna(df_game_events).show()"
      ]
    },
    {
      "cell_type": "code",
      "execution_count": 30,
      "metadata": {
        "id": "JCKsEIHj4azZ"
      },
      "outputs": [
        {
          "name": "stdout",
          "output_type": "stream",
          "text": [
            "+-------------+-----+\n",
            "|game_event_id|count|\n",
            "+-------------+-----+\n",
            "+-------------+-----+\n",
            "\n"
          ]
        }
      ],
      "source": [
        "duplicados_por_columna(df_game_events, \"game_event_id\")"
      ]
    },
    {
      "cell_type": "code",
      "execution_count": 31,
      "metadata": {
        "id": "Ae5aBxh4hNTV"
      },
      "outputs": [
        {
          "name": "stdout",
          "output_type": "stream",
          "text": [
            "+-------------+\n",
            "|         type|\n",
            "+-------------+\n",
            "|        Goals|\n",
            "|        Cards|\n",
            "|Substitutions|\n",
            "|     Shootout|\n",
            "+-------------+\n",
            "\n"
          ]
        }
      ],
      "source": [
        "# Mostrar los diferentes tipos de eventos\n",
        "df_game_events.select(\"type\").distinct().show()"
      ]
    },
    {
      "cell_type": "code",
      "execution_count": 32,
      "metadata": {
        "id": "qt5HCjXhat7B"
      },
      "outputs": [
        {
          "name": "stdout",
          "output_type": "stream",
          "text": [
            "+--------------------+----------+-------+------+-------------+-------+---------+-----------+------------+----------------+\n",
            "|       game_event_id|      date|game_id|minute|         type|club_id|player_id|description|player_in_id|player_assist_id|\n",
            "+--------------------+----------+-------+------+-------------+-------+---------+-----------+------------+----------------+\n",
            "|e4d512124476ec941...|2012-08-22|2235964|    81|Substitutions|  10468|   121235|       NULL|      121027|            NULL|\n",
            "|ac641aeaaf272da2f...|2012-08-22|2235964|    66|Substitutions|  10468|   201284|       NULL|      113699|            NULL|\n",
            "|9e4d13d444aa9315f...|2013-02-17|2240152|    81|Substitutions|   1465|    17352|       NULL|      125700|            NULL|\n",
            "|4bc0bb78995d14303...|2013-02-17|2240152|    62|Substitutions|   1301|    24880|       NULL|      237663|            NULL|\n",
            "|b08ec33cbbcb9be73...|2013-02-17|2240152|    65|Substitutions|   1465|    42303|       NULL|      150535|            NULL|\n",
            "|2c3f355afc76f8ae2...|2013-02-17|2240152|    83|Substitutions|   1301|    70359|       NULL|      137710|            NULL|\n",
            "|82450db14bed2ac19...|2013-02-09|2240168|    80|Substitutions|   1465|    17352|       NULL|      125700|            NULL|\n",
            "|137462efc6fa6837b...|2013-02-09|2240168|    72|Substitutions|   2420|    61764|       NULL|      145692|            NULL|\n",
            "|bef07e30424d76ab5...|2013-02-09|2240168|    61|Substitutions|   1465|    72835|       NULL|      110078|            NULL|\n",
            "|c3d0673498c98b399...|2013-02-09|2240168|    57|Substitutions|   2420|   122498|       NULL|      174842|            NULL|\n",
            "|349906e967cce93b5...|2013-02-10|2240172|    58|Substitutions|   2424|    23265|       NULL|       32567|            NULL|\n",
            "|8cded27c84db7eebd...|2013-02-10|2240172|    28|Substitutions|   1085|    33739|       NULL|       25175|            NULL|\n",
            "|405a52802873b09f6...|2013-02-10|2240172|    81|Substitutions|   1085|   112985|       NULL|        5518|            NULL|\n",
            "|ec4ce9b48ddcf6e31...|2013-02-10|2240172|    62|Substitutions|   2424|   204453|       NULL|      124286|            NULL|\n",
            "|1efa86f7cf91e9a4e...|2012-08-22|2240524|    72|Substitutions|   2821|   327021|       NULL|      327025|            NULL|\n",
            "|71623922e95dfda9b...|2012-08-22|2240524|    87|Substitutions|   2821|   327028|       NULL|      327037|            NULL|\n",
            "|db1d488ab901c7c8c...|2012-08-22|2240524|    68|Substitutions|   2821|   327031|       NULL|      327029|            NULL|\n",
            "|92c536d8a2534c6a4...|2012-08-04|2253909|    78|Substitutions|  15374|    18914|       NULL|      167889|            NULL|\n",
            "|20664a970277c5230...|2012-08-04|2253909|    70|Substitutions|  15374|    61789|       NULL|      249590|            NULL|\n",
            "|2767ee42b2d092737...|2012-08-04|2253909|    77|Substitutions|   4031|   160882|       NULL|      497168|            NULL|\n",
            "+--------------------+----------+-------+------+-------------+-------+---------+-----------+------------+----------------+\n",
            "only showing top 20 rows\n"
          ]
        }
      ],
      "source": [
        "# Ver nulos de la columna 'description'\n",
        "df_game_events.filter(col('description').isNull()).show()"
      ]
    },
    {
      "cell_type": "code",
      "execution_count": 33,
      "metadata": {
        "id": "02dCJYkfd-M1"
      },
      "outputs": [
        {
          "name": "stdout",
          "output_type": "stream",
          "text": [
            "+------------------------------------------------------------------------------------------+\n",
            "|description                                                                               |\n",
            "+------------------------------------------------------------------------------------------+\n",
            "|, Own-goal Assist: , Header, 3. Assist of the Season                                      |\n",
            "|, Header, 12. Goal of the Season Assist: , Cross, 3. Assist of the Season                 |\n",
            "|, Header, 9. Goal of the Season Assist: , Shot on goal, 7. Assist of the Season           |\n",
            "|, Right-footed shot, 13. Goal of the Season Assist: , Pass, 11. Assist of the Season      |\n",
            "|, Header, 10. Goal of the Season Assist: , Cross, 3. Assist of the Season                 |\n",
            "|, Left-footed shot, 9. Goal of the Season Assist: , Cross, 5. Assist of the Season        |\n",
            "|, Tap-in, 1. Goal of the Season Assist: , Pass, 1. Assist of the Season                   |\n",
            "|, Tap-in, 3. Goal of the Season Assist: , Header, 3. Assist of the Season                 |\n",
            "|, Right-footed shot, 1. Goal of the Season Assist: , Shot on goal, 5. Assist of the Season|\n",
            "|4. Yellow card  , Mass confrontation                                                      |\n",
            "|, Right-footed shot, 1. Tournament Goal Assist: , Free kick, 1. Tournament Assist         |\n",
            "|12. Yellow card  , Shooting ball                                                          |\n",
            "|, Direct free kick, 1. Goal of the Season Assist:                                         |\n",
            "|, Tap-in, 2. Goal of the Season Assist: , Free kick, 9. Assist of the Season              |\n",
            "|, Header, 3. Goal of the Season Assist:                                                   |\n",
            "|, Left-footed shot, 6. Goal of the Season Assist: , Corner, 1. Assist of the Season       |\n",
            "|, Header, 2. Goal of the Season Assist: , Free kick, 4. Assist of the Season              |\n",
            "|, Right-footed shot, 12. Goal of the Season Assist: , Pass, 4. Assist of the Season       |\n",
            "|, Left-footed shot, 4. Goal of the Season Assist: , Cross, 3. Assist of the Season        |\n",
            "|, Deflected shot on goal, 5. Goal of the Season Assist: , Pass, 7. Assist of the Season   |\n",
            "+------------------------------------------------------------------------------------------+\n",
            "only showing top 20 rows\n"
          ]
        }
      ],
      "source": [
        "# Ver valores unicos de 'description'\n",
        "df_game_events.select(\"description\").distinct().show(truncate=False)"
      ]
    },
    {
      "cell_type": "code",
      "execution_count": 34,
      "metadata": {
        "id": "bFMa87h9eYEH"
      },
      "outputs": [
        {
          "name": "stdout",
          "output_type": "stream",
          "text": [
            "+--------------------+----------+-------+------+-------------+-------+---------+------------+----------------+\n",
            "|       game_event_id|      date|game_id|minute|         type|club_id|player_id|player_in_id|player_assist_id|\n",
            "+--------------------+----------+-------+------+-------------+-------+---------+------------+----------------+\n",
            "|2f41da30c471492e7...|2012-08-05|2211607|    77|        Cards|    610|     4425|        NULL|            NULL|\n",
            "|a72f7186d132775f2...|2012-08-05|2211607|    77|        Cards|    383|    33210|        NULL|            NULL|\n",
            "|b2d721eaed4692a5c...|2012-08-05|2211607|     3|        Goals|    383|    36500|        NULL|           56416|\n",
            "|aef768899cedac0c9...|2012-08-05|2211607|    53|        Goals|    383|    36500|        NULL|          146258|\n",
            "|5d6d9533023057b66...|2012-08-05|2211607|    74|Substitutions|    383|    36500|       49499|            NULL|\n",
            "|eef9c46dd75c3aa4c...|2012-08-05|2211607|    11|        Goals|    383|    38497|        NULL|           33210|\n",
            "|5d5aef7dedcd5dc9d...|2012-08-05|2211607|    90|        Cards|    610|    42710|        NULL|            NULL|\n",
            "|7717860e3b0376b86...|2012-08-05|2211607|    44|        Goals|    610|    42710|        NULL|            4425|\n",
            "|02c708273f4fa2003...|2012-08-05|2211607|    79|        Cards|    610|    45509|        NULL|            NULL|\n",
            "|d1be2ce4bd5f0ca09...|2012-08-05|2211607|    90|        Goals|    383|    49499|        NULL|          167850|\n",
            "|f0dfb41b779ad8efb...|2012-08-05|2211607|    76|Substitutions|    610|    52246|      182932|            NULL|\n",
            "|06d75371c9a8f3a8d...|2012-08-05|2211607|    75|        Goals|    610|    52920|        NULL|          124891|\n",
            "|6ab3a43a37e3b264d...|2012-08-05|2211607|    37|        Cards|    383|    68864|        NULL|            NULL|\n",
            "|e67340caefbf1cbe1...|2012-08-05|2211607|    84|Substitutions|    383|    72462|      167850|            NULL|\n",
            "|ac69368250666fd5e...|2012-08-05|2211607|    65|Substitutions|    610|    95755|       34784|            NULL|\n",
            "|874987f117bca7459...|2012-08-05|2211607|    -1|        Cards|    610|   124883|        NULL|            NULL|\n",
            "|c7273eb67de6f9ba9...|2012-08-05|2211607|    31|        Cards|    610|   187245|        NULL|            NULL|\n",
            "|584282a7024a5a6da...|2012-08-05|2211607|    76|Substitutions|    610|   187245|      111184|            NULL|\n",
            "|ed9bded6064e693d9...|2012-08-11|2218677|    76|        Cards|    506|     2865|        NULL|            NULL|\n",
            "|fead616bb25013d5c...|2012-08-11|2218677|    89|Substitutions|    506|     2865|       56703|            NULL|\n",
            "+--------------------+----------+-------+------+-------------+-------+---------+------------+----------------+\n",
            "only showing top 20 rows\n"
          ]
        }
      ],
      "source": [
        "# Debido a la gran cantidad de valores nulos y formatos confusos,\n",
        "# consideramos que es mejor eliminar la columna 'description', pues ya tenemos el tipo de jugada en la columna 'type'\n",
        "df_game_events = df_game_events.drop(\"description\")\n",
        "df_game_events.show()"
      ]
    },
    {
      "cell_type": "markdown",
      "metadata": {
        "id": "lhrCywMGgudj"
      },
      "source": [
        "Los valores vacíos en las columnas 'player_in_id' y 'player_assist_id' tienen sentido ya que dependen del tipo de evento; si el evento es 'Substitutions', sólo hace falta el 'player_in_id'; si el evento es 'Goals', sólo hace falta el 'player_assist_id'."
      ]
    },
    {
      "cell_type": "markdown",
      "metadata": {
        "id": "uADxF-7wh5IS"
      },
      "source": [
        "# Archivo \"game_lineups.csv\""
      ]
    },
    {
      "cell_type": "code",
      "execution_count": 7,
      "metadata": {
        "id": "4HzAG3uyh5i8"
      },
      "outputs": [
        {
          "name": "stdout",
          "output_type": "stream",
          "text": [
            "+--------------------+----------+-------+---------+-------+-----------------+---------------+------------------+------+------------+\n",
            "|     game_lineups_id|      date|game_id|player_id|club_id|      player_name|           type|          position|number|team_captain|\n",
            "+--------------------+----------+-------+---------+-------+-----------------+---------------+------------------+------+------------+\n",
            "|b2dbe01c3656b06c8...|2013-07-27|2317258|     1443|    610|Christian Poulsen|    substitutes|Defensive Midfield|     5|           0|\n",
            "|b50a3ec6d52fd1490...|2013-07-27|2317258|     5017|    610| Niklas Moisander|starting_lineup|       Centre-Back|     4|           0|\n",
            "|7d890e6d0ff8af84b...|2013-07-27|2317258|     9602|   1090|  Maarten Martens|    substitutes|       Left Winger|    11|           0|\n",
            "|8c355268678b9bbc7...|2013-07-27|2317258|    12282|    610|      Daley Blind|starting_lineup|         Left-Back|    17|           0|\n",
            "|76193074d549e5fdc...|2013-07-27|2317258|    25427|   1090|      Roy Beerens|starting_lineup|      Right Winger|    23|           0|\n",
            "|e5684d3b01123e27e...|2013-07-27|2317258|    28815|   1090|      Jan Wuytens|starting_lineup|       Centre-Back|    29|           0|\n",
            "|d196e3ec2f03110a5...|2013-07-27|2317258|    30290|    610|  Kenneth Vermeer|starting_lineup|        Goalkeeper|     1|           0|\n",
            "|e9e1212e3ba0dabdf...|2013-07-27|2317258|    34784|    610|     Lasse Schöne|starting_lineup|Defensive Midfield|    20|           0|\n",
            "|53ca254113ffc1b2f...|2013-07-27|2317258|    36391|   1090|       Viktor Elm|starting_lineup|Defensive Midfield|    12|           0|\n",
            "|03fe553a31b7cc907...|2013-07-27|2317258|    42266|   1090|   Yves De Winter|    substitutes|        Goalkeeper|    16|           0|\n",
            "+--------------------+----------+-------+---------+-------+-----------------+---------------+------------------+------+------------+\n",
            "only showing top 10 rows\n",
            "root\n",
            " |-- game_lineups_id: string (nullable = true)\n",
            " |-- date: date (nullable = true)\n",
            " |-- game_id: integer (nullable = true)\n",
            " |-- player_id: integer (nullable = true)\n",
            " |-- club_id: integer (nullable = true)\n",
            " |-- player_name: string (nullable = true)\n",
            " |-- type: string (nullable = true)\n",
            " |-- position: string (nullable = true)\n",
            " |-- number: string (nullable = true)\n",
            " |-- team_captain: integer (nullable = true)\n",
            "\n"
          ]
        },
        {
          "data": {
            "text/plain": [
              "['game_lineups_id',\n",
              " 'date',\n",
              " 'game_id',\n",
              " 'player_id',\n",
              " 'club_id',\n",
              " 'player_name',\n",
              " 'type',\n",
              " 'position',\n",
              " 'number',\n",
              " 'team_captain']"
            ]
          },
          "execution_count": 7,
          "metadata": {},
          "output_type": "execute_result"
        }
      ],
      "source": [
        "# Este archivo tiene problemas cargando el esquema, decidimos crear un esquema personalizado para este archivo\n",
        "custom_schema = StructType([\n",
        "    StructField(\"game_lineups_id\", StringType(), True),\n",
        "    StructField(\"date\", DateType(), True),\n",
        "    StructField(\"game_id\", IntegerType(), True),\n",
        "    StructField(\"player_id\", IntegerType(), True),\n",
        "    StructField(\"club_id\", IntegerType(), True),\n",
        "    StructField(\"player_name\", StringType(), True),\n",
        "    StructField(\"type\", StringType(), True),\n",
        "    StructField(\"position\", StringType(), True),\n",
        "    StructField(\"number\", StringType(), True),\n",
        "    StructField(\"team_captain\", IntegerType(), True)\n",
        "])\n",
        "# Cargar el csv\n",
        "df_game_lineups = spark.read.csv(path + \"/game_lineups.csv\", header=True, schema=custom_schema)\n",
        "\n",
        "# Ver las primeras filas\n",
        "df_game_lineups.show(10)\n",
        "df_game_lineups.printSchema()\n",
        "df_game_lineups.columns"
      ]
    },
    {
      "cell_type": "code",
      "execution_count": null,
      "metadata": {
        "id": "SNXuPMO4iHz4"
      },
      "outputs": [
        {
          "name": "stderr",
          "output_type": "stream",
          "text": [
            "25/06/12 11:57:42 WARN SparkStringUtils: Truncated the string representation of a plan since it was too large. This behavior can be adjusted by setting 'spark.sql.debug.maxToStringFields'.\n",
            "[Stage 1:>                                                        (0 + 12) / 12]\r"
          ]
        }
      ],
      "source": [
        "mostrar_sumario(df_game_lineups).show()"
      ]
    },
    {
      "cell_type": "code",
      "execution_count": null,
      "metadata": {
        "id": "auzTJGUSiJpr"
      },
      "outputs": [
        {
          "name": "stdout",
          "output_type": "stream",
          "text": [
            "+---------------+-----+-------+---------+-------+-----------+-----+--------+------+------------+\n",
            "|game_lineups_id| date|game_id|player_id|club_id|player_name| type|position|number|team_captain|\n",
            "+---------------+-----+-------+---------+-------+-----------+-----+--------+------+------------+\n",
            "|              0|93378|  93378|    93378|  93378|      93378|93378|   93381| 93378|      140067|\n",
            "+---------------+-----+-------+---------+-------+-----------+-----+--------+------+------------+\n",
            "\n"
          ]
        }
      ],
      "source": [
        "contar_nulos_por_columna(df_game_lineups).show()"
      ]
    },
    {
      "cell_type": "code",
      "execution_count": 38,
      "metadata": {
        "id": "B2H4lT3L1l5f"
      },
      "outputs": [
        {
          "name": "stdout",
          "output_type": "stream",
          "text": [
            "+--------------------+-----+\n",
            "|game_lineups_id     |count|\n",
            "+--------------------+-----+\n",
            "|                  77|401  |\n",
            "|                  92|55   |\n",
            "|                  91|132  |\n",
            "|                  96|18   |\n",
            "|                  74|37   |\n",
            "|                  45|217  |\n",
            "|                  69|57   |\n",
            "|                  99|386  |\n",
            "|                  68|40   |\n",
            "|                  54|79   |\n",
            "|                  29|799  |\n",
            "|                  26|700  |\n",
            "|                  55|195  |\n",
            "|                  37|341  |\n",
            "|                  17|1430 |\n",
            "|                  24|880  |\n",
            "|                  44|369  |\n",
            "|                  90|149  |\n",
            "|                  38|262  |\n",
            "|                  63|59   |\n",
            "+--------------------+-----+\n",
            "only showing top 20 rows\n"
          ]
        }
      ],
      "source": [
        "duplicados_por_columna(df_game_lineups, \"game_lineups_id\")"
      ]
    },
    {
      "cell_type": "code",
      "execution_count": null,
      "metadata": {},
      "outputs": [
        {
          "name": "stdout",
          "output_type": "stream",
          "text": [
            "+--------------------+----+-------+---------+-------+-----------+----+--------+------+------------+\n",
            "|     game_lineups_id|date|game_id|player_id|club_id|player_name|type|position|number|team_captain|\n",
            "+--------------------+----+-------+---------+-------+-----------+----+--------+------+------------+\n",
            "|                  77|NULL|   NULL|     NULL|   NULL|       NULL|NULL|    NULL|  NULL|        NULL|\n",
            "|                  77|NULL|   NULL|     NULL|   NULL|       NULL|NULL|    NULL|  NULL|        NULL|\n",
            "|                  77|NULL|   NULL|     NULL|   NULL|       NULL|NULL|    NULL|  NULL|        NULL|\n",
            "|                  77|NULL|   NULL|     NULL|   NULL|       NULL|NULL|    NULL|  NULL|        NULL|\n",
            "|                  77|NULL|   NULL|     NULL|   NULL|       NULL|NULL|    NULL|  NULL|        NULL|\n",
            "|                  77|NULL|   NULL|     NULL|   NULL|       NULL|NULL|    NULL|  NULL|        NULL|\n",
            "|                  77|NULL|   NULL|     NULL|   NULL|       NULL|NULL|    NULL|  NULL|        NULL|\n",
            "|                  77|NULL|   NULL|     NULL|   NULL|       NULL|NULL|    NULL|  NULL|        NULL|\n",
            "|                  77|NULL|   NULL|     NULL|   NULL|       NULL|NULL|    NULL|  NULL|        NULL|\n",
            "|                  77|NULL|   NULL|     NULL|   NULL|       NULL|NULL|    NULL|  NULL|        NULL|\n",
            "|                  77|NULL|   NULL|     NULL|   NULL|       NULL|NULL|    NULL|  NULL|        NULL|\n",
            "|                  77|NULL|   NULL|     NULL|   NULL|       NULL|NULL|    NULL|  NULL|        NULL|\n",
            "|                  77|NULL|   NULL|     NULL|   NULL|       NULL|NULL|    NULL|  NULL|        NULL|\n",
            "|                  77|NULL|   NULL|     NULL|   NULL|       NULL|NULL|    NULL|  NULL|        NULL|\n",
            "|                  77|NULL|   NULL|     NULL|   NULL|       NULL|NULL|    NULL|  NULL|        NULL|\n",
            "|                  77|NULL|   NULL|     NULL|   NULL|       NULL|NULL|    NULL|  NULL|        NULL|\n",
            "|                  77|NULL|   NULL|     NULL|   NULL|       NULL|NULL|    NULL|  NULL|        NULL|\n",
            "|                  77|NULL|   NULL|     NULL|   NULL|       NULL|NULL|    NULL|  NULL|        NULL|\n",
            "|                  77|NULL|   NULL|     NULL|   NULL|       NULL|NULL|    NULL|  NULL|        NULL|\n",
            "|                  77|NULL|   NULL|     NULL|   NULL|       NULL|NULL|    NULL|  NULL|        NULL|\n",
            "+--------------------+----+-------+---------+-------+-----------+----+--------+------+------------+\n",
            "only showing top 20 rows\n"
          ]
        }
      ],
      "source": [
        "df_game_lineups.filter(trim(col(\"game_lineups_id\")) == \"77\").show()"
      ]
    },
    {
      "cell_type": "code",
      "execution_count": 40,
      "metadata": {
        "id": "WmyRFUmj5R-q"
      },
      "outputs": [
        {
          "name": "stdout",
          "output_type": "stream",
          "text": [
            "Filas antes de eliminar duplicados: 2285289\n",
            "Filas despues de eliminar duplicados: 2191911\n"
          ]
        }
      ],
      "source": [
        "# Parece que algunas filas se introdujeron incorrectamente y no tienen valores\n",
        "# Eliminaremos esas filas\n",
        "\n",
        "duplicated_ids_df = df_game_lineups.groupBy(\"game_lineups_id\").count().filter(col(\"count\") > 1).select(\"game_lineups_id\")\n",
        "\n",
        "# Convertir el DataFrame de IDs duplicados a una lista de strings\n",
        "# Esto es necesario para usarlo en una operacion de filtrado\n",
        "duplicated_ids_list = [row.game_lineups_id for row in duplicated_ids_df.collect()]\n",
        "\n",
        "# Eliminar las filas con IDs duplicados del DataFrame original\n",
        "df_game_lineups_cleaned = df_game_lineups.filter(~col(\"game_lineups_id\").isin(duplicated_ids_list))\n",
        "\n",
        "# Mostrar el conteo de filas antes y despues para verificar la eliminacion\n",
        "print(f\"Filas antes de eliminar duplicados: {df_game_lineups.count()}\")\n",
        "print(f\"Filas despues de eliminar duplicados: {df_game_lineups_cleaned.count()}\")"
      ]
    },
    {
      "cell_type": "code",
      "execution_count": 41,
      "metadata": {
        "id": "beGLUK7gDx_D"
      },
      "outputs": [
        {
          "name": "stdout",
          "output_type": "stream",
          "text": [
            "+---------------+----+-------+---------+-------+-----------+----+--------+------+------------+\n",
            "|game_lineups_id|date|game_id|player_id|club_id|player_name|type|position|number|team_captain|\n",
            "+---------------+----+-------+---------+-------+-----------+----+--------+------+------------+\n",
            "|              0|   0|      0|        0|      0|          0|   0|       3|     0|       46689|\n",
            "+---------------+----+-------+---------+-------+-----------+----+--------+------+------------+\n",
            "\n"
          ]
        }
      ],
      "source": [
        "# Ver nulos despues de eliminar duplicados\n",
        "contar_nulos_por_columna(df_game_lineups_cleaned).show()"
      ]
    },
    {
      "cell_type": "code",
      "execution_count": null,
      "metadata": {},
      "outputs": [],
      "source": [
        "# Ver si hay caracteres especiales en la columna 'player_name'\n",
        "df_game_lineups_cleaned.filter(col('player_name').rlike('[^a-zA-Z- ]')).show()"
      ]
    },
    {
      "cell_type": "markdown",
      "metadata": {},
      "source": [
        "No parece que haya números ni signos de puntuación en los nombres de los jugadores"
      ]
    },
    {
      "cell_type": "code",
      "execution_count": 42,
      "metadata": {
        "id": "0vCHslPYECIV"
      },
      "outputs": [
        {
          "name": "stdout",
          "output_type": "stream",
          "text": [
            "+--------------------+----------+-------+---------+-------+--------------------+---------------+------------------+------+------------+\n",
            "|     game_lineups_id|      date|game_id|player_id|club_id|         player_name|           type|          position|number|team_captain|\n",
            "+--------------------+----------+-------+---------+-------+--------------------+---------------+------------------+------+------------+\n",
            "|4615138f1f610cad5...|2024-02-18|4090243|    23523|    206|    Thomas Mikkelsen|    substitutes|        Goalkeeper|     \"|        NULL|\n",
            "|6e93292ea722d3665...|2024-02-18|4090243|    48870|    865|         Jonas Lössl|starting_lineup|        Goalkeeper|     \"|        NULL|\n",
            "|b010f792720e1c3cd...|2024-02-18|4090243|    63463|    206|         Daniel Wass|starting_lineup|  Central Midfield|     \"|        NULL|\n",
            "|e5751e0f3439a7a57...|2024-02-18|4090243|    68983|    206|        Kevin Mensah|    substitutes|        Right-Back|     \"|        NULL|\n",
            "|f886eb307ccf0a92d...|2024-02-18|4090243|    93315|    865|    Henrik Dalsgaard|starting_lineup|        Right-Back|     \"|        NULL|\n",
            "|0b59ec54080a96e7e...|2024-02-18|4090243|   137648|    865|Sverrir Ingi Ingason|starting_lineup|       Centre-Back|     \"|        NULL|\n",
            "|934c1e4672b10a4a4...|2024-02-18|4090243|   160506|    206|     Josip Radosevic|    substitutes|Defensive Midfield|     \"|        NULL|\n",
            "|6f258b4f2e0994863...|2024-02-18|4090243|   169368|    206|      Ohi Omoijuanfo|starting_lineup|    Centre-Forward|     \"|        NULL|\n",
            "|d1eb916336575d637...|2024-02-18|4090243|   218085|    865|         André Römer|starting_lineup|  Central Midfield|     \"|        NULL|\n",
            "|e42ab9f83aa95b812...|2024-02-18|4090243|   223972|    206|       Patrick Pentz|starting_lineup|        Goalkeeper|     \"|        NULL|\n",
            "|c9834cb7067c505ff...|2024-02-18|4090243|   235355|    865|       Alhaji Kamara|    substitutes|    Centre-Forward|     \"|        NULL|\n",
            "|c9b20f8c2f29d3b4f...|2024-02-18|4090243|   237436|    206|       Mathias Greve|starting_lineup|  Central Midfield|     \"|        NULL|\n",
            "|7e12f0ccd18d2e03c...|2024-02-18|4090243|   268113|    206|        Sean Klaiber|starting_lineup|    Right Midfield|     \"|        NULL|\n",
            "|dd11ab2724d81ec34...|2024-02-18|4090243|   277607|    865|       Martin Fraisl|    substitutes|        Goalkeeper|     \"|        NULL|\n",
            "|397d404f8bc2feeaa...|2024-02-18|4090243|   283233|    206|     Jacob Rasmussen|starting_lineup|       Centre-Back|     \"|        NULL|\n",
            "|7ef1863bd26c2543a...|2024-02-18|4090243|   325994|    206|    Rasmus Lauritsen|starting_lineup|       Centre-Back|     \"|        NULL|\n",
            "|7d981a2438fd72350...|2024-02-18|4090243|   372240|    865|  Mads Bech Sörensen|starting_lineup|       Centre-Back|     \"|        NULL|\n",
            "|f86e7aca7400e0696...|2024-02-18|4090243|   383638|    865|             Juninho|    substitutes|    Centre-Forward|     \"|        NULL|\n",
            "|453e6ed9b798d7a46...|2024-02-18|4090243|   499759|    865|     Ola Brynhildsen|starting_lineup|    Centre-Forward|     \"|        NULL|\n",
            "|710a25d73e4cf059e...|2024-02-18|4090243|   514887|    865|         Aral Şimşir|starting_lineup|     Left Midfield|     \"|        NULL|\n",
            "+--------------------+----------+-------+---------+-------+--------------------+---------------+------------------+------+------------+\n",
            "only showing top 20 rows\n"
          ]
        }
      ],
      "source": [
        "# Ver nulos de la columna 'team_captain'\n",
        "df_game_lineups_cleaned.filter(col('team_captain').isNull()).show()"
      ]
    },
    {
      "cell_type": "code",
      "execution_count": 43,
      "metadata": {
        "id": "itFo0PVlGf9l"
      },
      "outputs": [
        {
          "name": "stdout",
          "output_type": "stream",
          "text": [
            "+--------------------+----------+-------+---------+-------+--------------------+---------------+------------------+------+------------+\n",
            "|     game_lineups_id|      date|game_id|player_id|club_id|         player_name|           type|          position|number|team_captain|\n",
            "+--------------------+----------+-------+---------+-------+--------------------+---------------+------------------+------+------------+\n",
            "|4615138f1f610cad5...|2024-02-18|4090243|    23523|    206|    Thomas Mikkelsen|    substitutes|        Goalkeeper|     \"|        NULL|\n",
            "|6e93292ea722d3665...|2024-02-18|4090243|    48870|    865|         Jonas Lössl|starting_lineup|        Goalkeeper|     \"|        NULL|\n",
            "|b010f792720e1c3cd...|2024-02-18|4090243|    63463|    206|         Daniel Wass|starting_lineup|  Central Midfield|     \"|        NULL|\n",
            "|e5751e0f3439a7a57...|2024-02-18|4090243|    68983|    206|        Kevin Mensah|    substitutes|        Right-Back|     \"|        NULL|\n",
            "|f886eb307ccf0a92d...|2024-02-18|4090243|    93315|    865|    Henrik Dalsgaard|starting_lineup|        Right-Back|     \"|        NULL|\n",
            "|0b59ec54080a96e7e...|2024-02-18|4090243|   137648|    865|Sverrir Ingi Ingason|starting_lineup|       Centre-Back|     \"|        NULL|\n",
            "|934c1e4672b10a4a4...|2024-02-18|4090243|   160506|    206|     Josip Radosevic|    substitutes|Defensive Midfield|     \"|        NULL|\n",
            "|6f258b4f2e0994863...|2024-02-18|4090243|   169368|    206|      Ohi Omoijuanfo|starting_lineup|    Centre-Forward|     \"|        NULL|\n",
            "|d1eb916336575d637...|2024-02-18|4090243|   218085|    865|         André Römer|starting_lineup|  Central Midfield|     \"|        NULL|\n",
            "|e42ab9f83aa95b812...|2024-02-18|4090243|   223972|    206|       Patrick Pentz|starting_lineup|        Goalkeeper|     \"|        NULL|\n",
            "|c9834cb7067c505ff...|2024-02-18|4090243|   235355|    865|       Alhaji Kamara|    substitutes|    Centre-Forward|     \"|        NULL|\n",
            "|c9b20f8c2f29d3b4f...|2024-02-18|4090243|   237436|    206|       Mathias Greve|starting_lineup|  Central Midfield|     \"|        NULL|\n",
            "|7e12f0ccd18d2e03c...|2024-02-18|4090243|   268113|    206|        Sean Klaiber|starting_lineup|    Right Midfield|     \"|        NULL|\n",
            "|dd11ab2724d81ec34...|2024-02-18|4090243|   277607|    865|       Martin Fraisl|    substitutes|        Goalkeeper|     \"|        NULL|\n",
            "|397d404f8bc2feeaa...|2024-02-18|4090243|   283233|    206|     Jacob Rasmussen|starting_lineup|       Centre-Back|     \"|        NULL|\n",
            "|7ef1863bd26c2543a...|2024-02-18|4090243|   325994|    206|    Rasmus Lauritsen|starting_lineup|       Centre-Back|     \"|        NULL|\n",
            "|7d981a2438fd72350...|2024-02-18|4090243|   372240|    865|  Mads Bech Sörensen|starting_lineup|       Centre-Back|     \"|        NULL|\n",
            "|f86e7aca7400e0696...|2024-02-18|4090243|   383638|    865|             Juninho|    substitutes|    Centre-Forward|     \"|        NULL|\n",
            "|453e6ed9b798d7a46...|2024-02-18|4090243|   499759|    865|     Ola Brynhildsen|starting_lineup|    Centre-Forward|     \"|        NULL|\n",
            "|710a25d73e4cf059e...|2024-02-18|4090243|   514887|    865|         Aral Şimşir|starting_lineup|     Left Midfield|     \"|        NULL|\n",
            "+--------------------+----------+-------+---------+-------+--------------------+---------------+------------------+------+------------+\n",
            "only showing top 20 rows\n"
          ]
        }
      ],
      "source": [
        "# ver valores vacios de number\n",
        "df_game_lineups_cleaned.filter(col('number') == '\"').show()"
      ]
    },
    {
      "cell_type": "code",
      "execution_count": null,
      "metadata": {},
      "outputs": [
        {
          "name": "stdout",
          "output_type": "stream",
          "text": [
            "+------+\n",
            "|number|\n",
            "+------+\n",
            "|-     |\n",
            "|\"     |\n",
            "+------+\n",
            "\n"
          ]
        }
      ],
      "source": [
        "# Filtrar valores no numéricos (con guiones, letras, vacíos, etc.)\n",
        "df_no_convertibles = df_game_lineups_cleaned.filter(\n",
        "    ~trim(col(\"number\")).rlike(\"^[0-9]+$\") | col(\"number\").isNull() | isnan(col(\"number\"))\n",
        ")\n",
        "\n",
        "df_no_convertibles.select(\"number\").distinct().show(100, truncate=False)"
      ]
    },
    {
      "cell_type": "code",
      "execution_count": null,
      "metadata": {
        "id": "D8bZnbDIFq5Q"
      },
      "outputs": [
        {
          "name": "stdout",
          "output_type": "stream",
          "text": [
            "+---------------+----+-------+---------+-------+-----------+----+--------+------+------------+\n",
            "|game_lineups_id|date|game_id|player_id|club_id|player_name|type|position|number|team_captain|\n",
            "+---------------+----+-------+---------+-------+-----------+----+--------+------+------------+\n",
            "|              0|   0|      0|        0|      0|          0|   0|       3|     0|           0|\n",
            "+---------------+----+-------+---------+-------+-----------+----+--------+------+------------+\n",
            "\n"
          ]
        }
      ],
      "source": [
        "# Algunos valores de 'team_captain' estan nulos y 'number' tiene varios vacios\n",
        "# Sustituimos los nulos de 'team_captain' y los vacios de 'number' por 0\n",
        "df_game_lineups_cleaned = df_game_lineups_cleaned.withColumn(\n",
        "    \"team_captain\",\n",
        "    when(col(\"team_captain\").isNull(), 0).otherwise(col(\"team_captain\"))\n",
        ")\n",
        "\n",
        "df_game_lineups_cleaned = df_game_lineups_cleaned.withColumn(\n",
        "    \"number\",\n",
        "    when(trim(col(\"number\")).rlike(\"^[0-9]+$\"), col(\"number\").cast(\"int\")).otherwise(0)\n",
        ")\n",
        "\n",
        "# Ver nulos de nuevo\n",
        "contar_nulos_por_columna(df_game_lineups_cleaned).show()"
      ]
    },
    {
      "cell_type": "code",
      "execution_count": 46,
      "metadata": {
        "id": "k9gfR-W-HE1g"
      },
      "outputs": [
        {
          "name": "stdout",
          "output_type": "stream",
          "text": [
            "+--------------------+----------+-------+---------+-------+----------------+---------------+--------+------+------------+\n",
            "|     game_lineups_id|      date|game_id|player_id|club_id|     player_name|           type|position|number|team_captain|\n",
            "+--------------------+----------+-------+---------+-------+----------------+---------------+--------+------+------------+\n",
            "|efbdeff16a683e068...|2014-08-16|2469561|   336850|  25418|    Shaun Dunion|starting_lineup|    NULL|     0|           0|\n",
            "|8e0d3d1774f12f52c...|2015-08-26|2597514|   415060|   6601|   Jimmy Theelen|starting_lineup|    NULL|     0|           0|\n",
            "|22014173b77618f43...|2015-08-26|2597514|   415063|   6601|Bart Zeevenhoven|    substitutes|    NULL|     0|           0|\n",
            "+--------------------+----------+-------+---------+-------+----------------+---------------+--------+------+------------+\n",
            "\n"
          ]
        }
      ],
      "source": [
        "# Ver nulos en la columna 'position'\n",
        "df_game_lineups_cleaned.filter(col('position').isNull()).show()"
      ]
    },
    {
      "cell_type": "code",
      "execution_count": 47,
      "metadata": {
        "id": "p21kFdHQHKtc"
      },
      "outputs": [
        {
          "name": "stdout",
          "output_type": "stream",
          "text": [
            "+--------------------+----------+-------+---------+-------+--------------------+---------------+------------------+------+------------+\n",
            "|     game_lineups_id|      date|game_id|player_id|club_id|         player_name|           type|          position|number|team_captain|\n",
            "+--------------------+----------+-------+---------+-------+--------------------+---------------+------------------+------+------------+\n",
            "|b2dbe01c3656b06c8...|2013-07-27|2317258|     1443|    610|   Christian Poulsen|    substitutes|Defensive Midfield|     5|           0|\n",
            "|b50a3ec6d52fd1490...|2013-07-27|2317258|     5017|    610|    Niklas Moisander|starting_lineup|       Centre-Back|     4|           0|\n",
            "|7d890e6d0ff8af84b...|2013-07-27|2317258|     9602|   1090|     Maarten Martens|    substitutes|       Left Winger|    11|           0|\n",
            "|8c355268678b9bbc7...|2013-07-27|2317258|    12282|    610|         Daley Blind|starting_lineup|         Left-Back|    17|           0|\n",
            "|76193074d549e5fdc...|2013-07-27|2317258|    25427|   1090|         Roy Beerens|starting_lineup|      Right Winger|    23|           0|\n",
            "|e5684d3b01123e27e...|2013-07-27|2317258|    28815|   1090|         Jan Wuytens|starting_lineup|       Centre-Back|    29|           0|\n",
            "|d196e3ec2f03110a5...|2013-07-27|2317258|    30290|    610|     Kenneth Vermeer|starting_lineup|        Goalkeeper|     1|           0|\n",
            "|e9e1212e3ba0dabdf...|2013-07-27|2317258|    34784|    610|        Lasse Schöne|starting_lineup|Defensive Midfield|    20|           0|\n",
            "|53ca254113ffc1b2f...|2013-07-27|2317258|    36391|   1090|          Viktor Elm|starting_lineup|Defensive Midfield|    12|           0|\n",
            "|03fe553a31b7cc907...|2013-07-27|2317258|    42266|   1090|      Yves De Winter|    substitutes|        Goalkeeper|    16|           0|\n",
            "|1412e8a9285378507...|2013-07-27|2317258|    42710|    610|   Toby Alderweireld|starting_lineup|       Centre-Back|     3|           0|\n",
            "|55159dbf91561a01b...|2013-07-27|2317258|    44675|    610|         Bojan Krkic|starting_lineup|      Right Winger|    11|           0|\n",
            "|be9fbdcde744131e2...|2013-07-27|2317258|    45509|    610|        Siem de Jong|starting_lineup|Attacking Midfield|    10|           1|\n",
            "|d25d1f3a4bd28e3b9...|2013-07-27|2317258|    52246|    610|Kolbeinn Sigthórsson|starting_lineup|    Centre-Forward|     9|           0|\n",
            "|d51bc97b0db40f004...|2013-07-27|2317258|    56534|   1090|        Donny Gorter|    substitutes|         Left-Back|     5|           0|\n",
            "|ac1c4c90cf314ad3f...|2013-07-27|2317258|    69633|    610|   Christian Eriksen|starting_lineup|  Central Midfield|     8|           0|\n",
            "|091c126bd4e71488d...|2013-07-27|2317258|    69642|    610|    Nicolai Boilesen|    substitutes|         Left-Back|    15|           0|\n",
            "|37f4184cf76506a50...|2013-07-27|2317258|    74294|   1090|      Nemanja Gudelj|starting_lineup|  Central Midfield|    27|           0|\n",
            "|d4c2262dc4bacc63d...|2013-07-27|2317258|    80709|   1090|     Willie Overtoom|    substitutes|Attacking Midfield|    10|           0|\n",
            "|4c0ba30ea80ef6c58...|2013-07-27|2317258|    81163|    610|        Danny Hoesen|    substitutes|    Centre-Forward|    23|           0|\n",
            "+--------------------+----------+-------+---------+-------+--------------------+---------------+------------------+------+------------+\n",
            "only showing top 20 rows\n"
          ]
        }
      ],
      "source": [
        "# Sustituir posiciones nulas por 'Unkown'\n",
        "df_game_lineups_cleaned = df_game_lineups_cleaned.withColumn(\n",
        "    \"position\",\n",
        "    when(col(\"position\").isNull(), \"Unknown\").otherwise(col(\"position\"))\n",
        ")\n",
        "df_game_lineups_cleaned.show()"
      ]
    },
    {
      "cell_type": "markdown",
      "metadata": {
        "id": "0XzaYOSaaQ8C"
      },
      "source": [
        "# Archivo \"appearances.csv\""
      ]
    },
    {
      "cell_type": "code",
      "execution_count": 48,
      "metadata": {
        "id": "5KfdG2RJaRJN"
      },
      "outputs": [
        {
          "name": "stdout",
          "output_type": "stream",
          "text": [
            "+--------------+-------+---------+--------------+----------------------+----------+----------------+--------------+------------+---------+-----+-------+--------------+\n",
            "| appearance_id|game_id|player_id|player_club_id|player_current_club_id|      date|     player_name|competition_id|yellow_cards|red_cards|goals|assists|minutes_played|\n",
            "+--------------+-------+---------+--------------+----------------------+----------+----------------+--------------+------------+---------+-----+-------+--------------+\n",
            "| 2231978_38004|2231978|    38004|           853|                   235|2012-07-03|Aurélien Joachim|           CLQ|           0|        0|    2|      0|            90|\n",
            "| 2233748_79232|2233748|    79232|          8841|                  2698|2012-07-05|  Ruslan Abyshov|           ELQ|           0|        0|    0|      0|            90|\n",
            "| 2234413_42792|2234413|    42792|          6251|                   465|2012-07-05|     Sander Puri|           ELQ|           0|        0|    0|      0|            45|\n",
            "| 2234418_73333|2234418|    73333|          1274|                  6646|2012-07-05| Vegar Hedenstad|           ELQ|           0|        0|    0|      0|            90|\n",
            "|2234421_122011|2234421|   122011|           195|                  3008|2012-07-05|Markus Henriksen|           ELQ|           0|        0|    0|      1|            90|\n",
            "|2234421_146889|2234421|   146889|           195|                  2778|2012-07-05|  Peter Ankersen|           ELQ|           1|        0|    0|      0|            90|\n",
            "| 2235539_28716|2235539|    28716|           282|                  7185|2012-07-05|    Adi Adilovic|           ELQ|           0|        0|    0|      0|            90|\n",
            "| 2235539_69445|2235539|    69445|           282|                 19771|2012-07-05|      Ivan Sesar|           ELQ|           1|        0|    0|      1|            90|\n",
            "| 2235545_19409|2235545|    19409|           317|                   200|2012-07-05|  Willem Janssen|           ELQ|           0|        0|    0|      0|            45|\n",
            "| 2235545_30003|2235545|    30003|           317|                   317|2012-07-05|      Wout Brama|           ELQ|           0|        0|    0|      0|            90|\n",
            "+--------------+-------+---------+--------------+----------------------+----------+----------------+--------------+------------+---------+-----+-------+--------------+\n",
            "only showing top 10 rows\n",
            "root\n",
            " |-- appearance_id: string (nullable = true)\n",
            " |-- game_id: integer (nullable = true)\n",
            " |-- player_id: integer (nullable = true)\n",
            " |-- player_club_id: integer (nullable = true)\n",
            " |-- player_current_club_id: integer (nullable = true)\n",
            " |-- date: date (nullable = true)\n",
            " |-- player_name: string (nullable = true)\n",
            " |-- competition_id: string (nullable = true)\n",
            " |-- yellow_cards: integer (nullable = true)\n",
            " |-- red_cards: integer (nullable = true)\n",
            " |-- goals: integer (nullable = true)\n",
            " |-- assists: integer (nullable = true)\n",
            " |-- minutes_played: integer (nullable = true)\n",
            "\n"
          ]
        },
        {
          "data": {
            "text/plain": [
              "['appearance_id',\n",
              " 'game_id',\n",
              " 'player_id',\n",
              " 'player_club_id',\n",
              " 'player_current_club_id',\n",
              " 'date',\n",
              " 'player_name',\n",
              " 'competition_id',\n",
              " 'yellow_cards',\n",
              " 'red_cards',\n",
              " 'goals',\n",
              " 'assists',\n",
              " 'minutes_played']"
            ]
          },
          "execution_count": 48,
          "metadata": {},
          "output_type": "execute_result"
        }
      ],
      "source": [
        "# Cargar el csv\n",
        "df_appearances = spark.read.csv(path + \"/appearances.csv\", header=True, inferSchema=True)\n",
        "\n",
        "# Ver las primeras filas\n",
        "df_appearances.show(10)\n",
        "df_appearances.printSchema()\n",
        "df_appearances.columns"
      ]
    },
    {
      "cell_type": "code",
      "execution_count": 49,
      "metadata": {
        "id": "plnn2J9Sf7_i"
      },
      "outputs": [
        {
          "name": "stderr",
          "output_type": "stream",
          "text": [
            "[Stage 150:>                                                        (0 + 1) / 1]\r"
          ]
        },
        {
          "name": "stdout",
          "output_type": "stream",
          "text": [
            "+-------+--------------+-----------------+------------------+------------------+----------------------+-----------+--------------+-------------------+--------------------+-------------------+-------------------+-----------------+\n",
            "|summary| appearance_id|          game_id|         player_id|    player_club_id|player_current_club_id|player_name|competition_id|       yellow_cards|           red_cards|              goals|            assists|   minutes_played|\n",
            "+-------+--------------+-----------------+------------------+------------------+----------------------+-----------+--------------+-------------------+--------------------+-------------------+-------------------+-----------------+\n",
            "|  count|       1706806|          1706806|           1706806|           1706806|               1706806|    1706800|       1706806|            1706806|             1706806|            1706806|            1706806|          1706806|\n",
            "|   mean|          NULL|3166096.010632726|209974.54851283625|3138.2895976461296|     3991.235146818092|       NULL|          NULL|0.14723290168888556|0.003783089583701...|0.09589431956531674|0.07549539900844032|69.06124539051304|\n",
            "| stddev|          NULL|665119.6214195183| 194400.8137060094| 8315.815390318292|    10847.056601033748|       NULL|          NULL|0.36537988452870984| 0.06139039033100314| 0.3309348787594954|0.28556141705005694|29.99313060789702|\n",
            "|    min|2211607_111184|          2211607|                10|                 1|                    -1|A.J. Soares|           BE1|                  0|                   0|                  0|                  0|                1|\n",
            "|    25%|          NULL|          2589008|             58396|               289|                   331|       NULL|          NULL|                  0|                   0|                  0|                  0|               45|\n",
            "|    50%|          NULL|          3080786|            149551|               826|                   903|       NULL|          NULL|                  0|                   0|                  0|                  0|               90|\n",
            "|    75%|          NULL|          3621600|            306609|              2439|                  2696|       NULL|          NULL|                  0|                   0|                  0|                  0|               90|\n",
            "|    max|4572898_996897|          4572898|           1380876|            110302|                110302|Αbdul Razak|           USC|                  2|                   1|                  6|                  6|              148|\n",
            "+-------+--------------+-----------------+------------------+------------------+----------------------+-----------+--------------+-------------------+--------------------+-------------------+-------------------+-----------------+\n",
            "\n"
          ]
        },
        {
          "name": "stderr",
          "output_type": "stream",
          "text": [
            "                                                                                \r"
          ]
        }
      ],
      "source": [
        "mostrar_sumario(df_appearances).show()"
      ]
    },
    {
      "cell_type": "code",
      "execution_count": 50,
      "metadata": {
        "id": "e-TL8-gqf9Ua"
      },
      "outputs": [
        {
          "name": "stdout",
          "output_type": "stream",
          "text": [
            "+-------------+-------+---------+--------------+----------------------+----+-----------+--------------+------------+---------+-----+-------+--------------+\n",
            "|appearance_id|game_id|player_id|player_club_id|player_current_club_id|date|player_name|competition_id|yellow_cards|red_cards|goals|assists|minutes_played|\n",
            "+-------------+-------+---------+--------------+----------------------+----+-----------+--------------+------------+---------+-----+-------+--------------+\n",
            "|            0|      0|        0|             0|                     0|   0|          6|             0|           0|        0|    0|      0|             0|\n",
            "+-------------+-------+---------+--------------+----------------------+----+-----------+--------------+------------+---------+-----+-------+--------------+\n",
            "\n"
          ]
        }
      ],
      "source": [
        "contar_nulos_por_columna(df_appearances).show()"
      ]
    },
    {
      "cell_type": "code",
      "execution_count": 51,
      "metadata": {
        "id": "nESB0ZH8f-Xh"
      },
      "outputs": [
        {
          "name": "stdout",
          "output_type": "stream",
          "text": [
            "+-------------+-----+\n",
            "|appearance_id|count|\n",
            "+-------------+-----+\n",
            "+-------------+-----+\n",
            "\n"
          ]
        }
      ],
      "source": [
        "duplicados_por_columna(df_appearances, \"appearance_id\")"
      ]
    },
    {
      "cell_type": "code",
      "execution_count": 52,
      "metadata": {
        "id": "iuH2hxtkga0Z"
      },
      "outputs": [
        {
          "name": "stdout",
          "output_type": "stream",
          "text": [
            "+--------------+-------+---------+--------------+----------------------+----------+-----------+--------------+------------+---------+-----+-------+--------------+\n",
            "| appearance_id|game_id|player_id|player_club_id|player_current_club_id|      date|player_name|competition_id|yellow_cards|red_cards|goals|assists|minutes_played|\n",
            "+--------------+-------+---------+--------------+----------------------+----------+-----------+--------------+------------+---------+-----+-------+--------------+\n",
            "|3084062_380365|3084062|   380365|         16486|                    -1|2018-09-05|       NULL|           CDR|           1|        0|    0|      0|            90|\n",
            "|3084059_411294|3084059|   411294|          3302|                    -1|2018-09-11|       NULL|           CDR|           0|        0|    0|      0|            90|\n",
            "|3084057_255495|3084057|   255495|         11596|                    -1|2018-09-12|       NULL|           CDR|           0|        0|    0|      0|            90|\n",
            "|3102749_380365|3102749|   380365|         16486|                    -1|2018-09-12|       NULL|           CDR|           0|        0|    0|      0|           120|\n",
            "|3106648_255495|3106648|   255495|         11596|                    -1|2018-10-17|       NULL|           CDR|           0|        0|    0|      0|            90|\n",
            "|3118604_411294|3118604|   411294|          3302|                    -1|2018-12-05|       NULL|           CDR|           0|        0|    0|      0|            49|\n",
            "+--------------+-------+---------+--------------+----------------------+----------+-----------+--------------+------------+---------+-----+-------+--------------+\n",
            "\n"
          ]
        }
      ],
      "source": [
        "# Ver nulos de la columna 'player_name'\n",
        "df_appearances.filter(col('player_name').isNull()).show()"
      ]
    },
    {
      "cell_type": "code",
      "execution_count": 53,
      "metadata": {
        "id": "chZmaFkQhMIp"
      },
      "outputs": [
        {
          "name": "stdout",
          "output_type": "stream",
          "text": [
            "+--------------+-------+---------+--------------+----------------------+----------+-----------+--------------+------------+---------+-----+-------+--------------+\n",
            "| appearance_id|game_id|player_id|player_club_id|player_current_club_id|      date|player_name|competition_id|yellow_cards|red_cards|goals|assists|minutes_played|\n",
            "+--------------+-------+---------+--------------+----------------------+----------+-----------+--------------+------------+---------+-----+-------+--------------+\n",
            "|3084062_380365|3084062|   380365|         16486|                    -1|2018-09-05|       NULL|           CDR|           1|        0|    0|      0|            90|\n",
            "|3084059_411294|3084059|   411294|          3302|                    -1|2018-09-11|       NULL|           CDR|           0|        0|    0|      0|            90|\n",
            "|3084057_255495|3084057|   255495|         11596|                    -1|2018-09-12|       NULL|           CDR|           0|        0|    0|      0|            90|\n",
            "|3102749_380365|3102749|   380365|         16486|                    -1|2018-09-12|       NULL|           CDR|           0|        0|    0|      0|           120|\n",
            "|3106648_255495|3106648|   255495|         11596|                    -1|2018-10-17|       NULL|           CDR|           0|        0|    0|      0|            90|\n",
            "|3118604_411294|3118604|   411294|          3302|                    -1|2018-12-05|       NULL|           CDR|           0|        0|    0|      0|            49|\n",
            "+--------------+-------+---------+--------------+----------------------+----------+-----------+--------------+------------+---------+-----+-------+--------------+\n",
            "\n"
          ]
        }
      ],
      "source": [
        "# Ver valores en 'player_current_club_id'= -1\n",
        "df_appearances.filter(col('player_current_club_id') == -1).show()"
      ]
    },
    {
      "cell_type": "code",
      "execution_count": 54,
      "metadata": {
        "id": "t7CoJ0sAhnLF"
      },
      "outputs": [
        {
          "name": "stdout",
          "output_type": "stream",
          "text": [
            "+-------------+-------+---------+--------------+----------------------+----+-----------+--------------+------------+---------+-----+-------+--------------+\n",
            "|appearance_id|game_id|player_id|player_club_id|player_current_club_id|date|player_name|competition_id|yellow_cards|red_cards|goals|assists|minutes_played|\n",
            "+-------------+-------+---------+--------------+----------------------+----+-----------+--------------+------------+---------+-----+-------+--------------+\n",
            "|            0|      0|        0|             0|                     0|   0|          0|             0|           0|        0|    0|      0|             0|\n",
            "+-------------+-------+---------+--------------+----------------------+----+-----------+--------------+------------+---------+-----+-------+--------------+\n",
            "\n",
            "+--------------+-------+---------+--------------+----------------------+----------+----------------+--------------+------------+---------+-----+-------+--------------+\n",
            "| appearance_id|game_id|player_id|player_club_id|player_current_club_id|      date|     player_name|competition_id|yellow_cards|red_cards|goals|assists|minutes_played|\n",
            "+--------------+-------+---------+--------------+----------------------+----------+----------------+--------------+------------+---------+-----+-------+--------------+\n",
            "| 2231978_38004|2231978|    38004|           853|                   235|2012-07-03|Aurélien Joachim|           CLQ|           0|        0|    2|      0|            90|\n",
            "| 2233748_79232|2233748|    79232|          8841|                  2698|2012-07-05|  Ruslan Abyshov|           ELQ|           0|        0|    0|      0|            90|\n",
            "| 2234413_42792|2234413|    42792|          6251|                   465|2012-07-05|     Sander Puri|           ELQ|           0|        0|    0|      0|            45|\n",
            "| 2234418_73333|2234418|    73333|          1274|                  6646|2012-07-05| Vegar Hedenstad|           ELQ|           0|        0|    0|      0|            90|\n",
            "|2234421_122011|2234421|   122011|           195|                  3008|2012-07-05|Markus Henriksen|           ELQ|           0|        0|    0|      1|            90|\n",
            "|2234421_146889|2234421|   146889|           195|                  2778|2012-07-05|  Peter Ankersen|           ELQ|           1|        0|    0|      0|            90|\n",
            "| 2235539_28716|2235539|    28716|           282|                  7185|2012-07-05|    Adi Adilovic|           ELQ|           0|        0|    0|      0|            90|\n",
            "| 2235539_69445|2235539|    69445|           282|                 19771|2012-07-05|      Ivan Sesar|           ELQ|           1|        0|    0|      1|            90|\n",
            "| 2235545_19409|2235545|    19409|           317|                   200|2012-07-05|  Willem Janssen|           ELQ|           0|        0|    0|      0|            45|\n",
            "| 2235545_30003|2235545|    30003|           317|                   317|2012-07-05|      Wout Brama|           ELQ|           0|        0|    0|      0|            90|\n",
            "| 2235545_30667|2235545|    30667|           317|                   317|2012-07-05|Robbert Schilder|           ELQ|           0|        0|    2|      1|            90|\n",
            "| 2235545_34129|2235545|    34129|           317|                  1435|2012-07-05|  Wesley Verhoek|           ELQ|           0|        0|    0|      0|            90|\n",
            "| 2235545_36139|2235545|    36139|           317|                    36|2012-07-05|     Dušan Tadić|           ELQ|           0|        0|    1|      0|            45|\n",
            "|  2235545_4520|2235545|     4520|           317|                   317|2012-07-05| Peter Wisgerhof|           ELQ|           0|        0|    0|      0|            90|\n",
            "|  2235545_4582|2235545|     4582|           317|                   317|2012-07-05| Sander Boschker|           ELQ|           0|        0|    0|      0|            90|\n",
            "| 2235545_47740|2235545|    47740|           317|                  1426|2012-07-05|    Nils Röseler|           ELQ|           0|        0|    0|      0|            90|\n",
            "| 2235545_59631|2235545|    59631|           317|                  6890|2012-07-05|    Nacer Chadli|           ELQ|           0|        0|    0|      3|            45|\n",
            "| 2235545_60312|2235545|    60312|           317|                  1426|2012-07-05|     Joshua John|           ELQ|           0|        0|    1|      1|            45|\n",
            "| 2235545_63342|2235545|    63342|           317|                 11282|2012-07-05|       Leroy Fer|           ELQ|           0|        0|    0|      0|            26|\n",
            "| 2235545_63356|2235545|    63356|           317|                  1304|2012-07-05|    Tim Breukers|           ELQ|           0|        0|    0|      0|            90|\n",
            "+--------------+-------+---------+--------------+----------------------+----------+----------------+--------------+------------+---------+-----+-------+--------------+\n",
            "only showing top 20 rows\n"
          ]
        }
      ],
      "source": [
        "# Existen 6 jugadores sin nombre y con 'player_current_club_id'= -1, son los unicos valores con este id\n",
        "# Creemos que es un fallo y decidimos eliminarlos\n",
        "df_appearances = df_appearances.filter(col('player_current_club_id') != -1)\n",
        "# Ver nulos de nuevo\n",
        "contar_nulos_por_columna(df_appearances).show()\n",
        "df_appearances.show()"
      ]
    },
    {
      "cell_type": "markdown",
      "metadata": {
        "id": "kBZA7ENsiACH"
      },
      "source": [
        "# Archivo \"player_valuations.csv\""
      ]
    },
    {
      "cell_type": "code",
      "execution_count": 55,
      "metadata": {
        "id": "bKodh7QLiF9e"
      },
      "outputs": [
        {
          "name": "stdout",
          "output_type": "stream",
          "text": [
            "+---------+----------+-------------------+---------------+-----------------------------------+\n",
            "|player_id|      date|market_value_in_eur|current_club_id|player_club_domestic_competition_id|\n",
            "+---------+----------+-------------------+---------------+-----------------------------------+\n",
            "|   405973|2000-01-20|             150000|           3057|                                BE1|\n",
            "|   342216|2001-07-20|             100000|           1241|                                SC1|\n",
            "|     3132|2003-12-09|             400000|            126|                                TR1|\n",
            "|     6893|2003-12-15|             900000|            984|                                GB1|\n",
            "|       10|2004-10-04|            7000000|            398|                                IT1|\n",
            "|       26|2004-10-04|            1500000|             16|                                 L1|\n",
            "|       65|2004-10-04|            8000000|           1091|                                GR1|\n",
            "|       77|2004-10-04|           13000000|            506|                                IT1|\n",
            "|       80|2004-10-04|             400000|             27|                                 L1|\n",
            "|      109|2004-10-04|            9500000|            825|                                TR1|\n",
            "+---------+----------+-------------------+---------------+-----------------------------------+\n",
            "only showing top 10 rows\n",
            "root\n",
            " |-- player_id: integer (nullable = true)\n",
            " |-- date: date (nullable = true)\n",
            " |-- market_value_in_eur: integer (nullable = true)\n",
            " |-- current_club_id: integer (nullable = true)\n",
            " |-- player_club_domestic_competition_id: string (nullable = true)\n",
            "\n"
          ]
        },
        {
          "data": {
            "text/plain": [
              "['player_id',\n",
              " 'date',\n",
              " 'market_value_in_eur',\n",
              " 'current_club_id',\n",
              " 'player_club_domestic_competition_id']"
            ]
          },
          "execution_count": 55,
          "metadata": {},
          "output_type": "execute_result"
        }
      ],
      "source": [
        "# Cargar el csv\n",
        "df_player_valuations = spark.read.csv(path + \"/player_valuations.csv\", header=True, inferSchema=True)\n",
        "\n",
        "# Ver las primeras filas\n",
        "df_player_valuations.show(10)\n",
        "df_player_valuations.printSchema()\n",
        "df_player_valuations.columns"
      ]
    },
    {
      "cell_type": "code",
      "execution_count": 56,
      "metadata": {
        "id": "RAhqPnpDikrz"
      },
      "outputs": [
        {
          "name": "stderr",
          "output_type": "stream",
          "text": [
            "[Stage 176:>                                                        (0 + 4) / 4]\r"
          ]
        },
        {
          "name": "stdout",
          "output_type": "stream",
          "text": [
            "+-------+-----------------+-------------------+-----------------+-----------------------------------+\n",
            "|summary|        player_id|market_value_in_eur|  current_club_id|player_club_domestic_competition_id|\n",
            "+-------+-----------------+-------------------+-----------------+-----------------------------------+\n",
            "|  count|           496606|             496606|           496606|                             496606|\n",
            "|   mean| 224411.569751473|  2471144.917699343| 4428.74504134062|                               NULL|\n",
            "| stddev|207007.2529541088|  6983759.321324877|10940.78286880771|                               NULL|\n",
            "|    min|               10|                  0|                3|                                BE1|\n",
            "|    25%|            58957|             200000|              369|                               NULL|\n",
            "|    50%|           164897|             500000|             1025|                               NULL|\n",
            "|    75%|           334042|            1700000|             2995|                               NULL|\n",
            "|    max|          1310513|          200000000|           110302|                               UKR1|\n",
            "+-------+-----------------+-------------------+-----------------+-----------------------------------+\n",
            "\n"
          ]
        },
        {
          "name": "stderr",
          "output_type": "stream",
          "text": [
            "                                                                                \r"
          ]
        }
      ],
      "source": [
        "mostrar_sumario(df_player_valuations).show()"
      ]
    },
    {
      "cell_type": "code",
      "execution_count": 57,
      "metadata": {
        "id": "V2hSHun2io_C"
      },
      "outputs": [
        {
          "name": "stdout",
          "output_type": "stream",
          "text": [
            "+---------+----+-------------------+---------------+-----------------------------------+\n",
            "|player_id|date|market_value_in_eur|current_club_id|player_club_domestic_competition_id|\n",
            "+---------+----+-------------------+---------------+-----------------------------------+\n",
            "|        0|   0|                  0|              0|                                  0|\n",
            "+---------+----+-------------------+---------------+-----------------------------------+\n",
            "\n"
          ]
        }
      ],
      "source": [
        "contar_nulos_por_columna(df_player_valuations).show()"
      ]
    },
    {
      "cell_type": "code",
      "execution_count": 58,
      "metadata": {
        "id": "zO9BtaBSiw53"
      },
      "outputs": [
        {
          "name": "stdout",
          "output_type": "stream",
          "text": [
            "+----------+-----+\n",
            "|date      |count|\n",
            "+----------+-----+\n",
            "|2005-01-16|69   |\n",
            "|2005-06-06|2    |\n",
            "|2006-05-21|13   |\n",
            "|2007-04-20|5    |\n",
            "|2007-11-23|12   |\n",
            "|2012-04-17|2    |\n",
            "|2012-10-06|9    |\n",
            "|2013-01-22|230  |\n",
            "|2013-03-26|6    |\n",
            "|2013-05-21|2    |\n",
            "|2013-09-09|2    |\n",
            "|2014-09-26|15   |\n",
            "|2006-04-23|6    |\n",
            "|2007-04-19|41   |\n",
            "|2008-07-15|98   |\n",
            "|2009-06-28|17   |\n",
            "|2009-10-19|61   |\n",
            "|2011-01-29|3    |\n",
            "|2011-01-30|5    |\n",
            "|2012-07-17|25   |\n",
            "+----------+-----+\n",
            "only showing top 20 rows\n"
          ]
        }
      ],
      "source": [
        "duplicados_por_columna(df_player_valuations, \"date\")"
      ]
    },
    {
      "cell_type": "markdown",
      "metadata": {
        "id": "LP-HB1JMmb79"
      },
      "source": [
        "# Archivo \"games.csv\""
      ]
    },
    {
      "cell_type": "code",
      "execution_count": 8,
      "metadata": {
        "id": "f7MwHYWjmb79"
      },
      "outputs": [
        {
          "name": "stderr",
          "output_type": "stream",
          "text": [
            "                                                                                \r"
          ]
        },
        {
          "name": "stdout",
          "output_type": "stream",
          "text": [
            "+-------+--------------+------+------------+----------+------------+------------+---------------+---------------+------------------+------------------+----------------------+----------------------+--------------------+----------+---------------+--------------------+-------------------+-------------------+--------------------+--------------------+-------------------+----------------+\n",
            "|game_id|competition_id|season|       round|      date|home_club_id|away_club_id|home_club_goals|away_club_goals|home_club_position|away_club_position|home_club_manager_name|away_club_manager_name|             stadium|attendance|        referee|                 url|home_club_formation|away_club_formation|      home_club_name|      away_club_name|          aggregate|competition_type|\n",
            "+-------+--------------+------+------------+----------+------------+------------+---------------+---------------+------------------+------------------+----------------------+----------------------+--------------------+----------+---------------+--------------------+-------------------+-------------------+--------------------+--------------------+-------------------+----------------+\n",
            "|2321027|            L1|  2013| 1. Matchday|2013-08-11|          33|          41|              3|              3|                 8|                 9|           Jens Keller|         Thorsten Fink|       Veltins-Arena|     61973|   Manuel Gräfe|https://www.trans...|            4-2-3-1|            4-2-3-1|       FC Schalke 04|        Hamburger SV|2025-06-13 03:03:00| domestic_league|\n",
            "|2321033|            L1|  2013| 1. Matchday|2013-08-10|          23|          86|              0|              1|                13|                 7|  Torsten Lieberknecht|            Robin Dutt|   EINTRACHT-Stadion|     23000|  Deniz Aytekin|https://www.trans...|            4-3-2-1|            4-3-1-2|Eintracht Braunsc...|Sportverein Werde...|2025-06-13 00:01:00| domestic_league|\n",
            "|2321044|            L1|  2013| 2. Matchday|2013-08-18|          16|          23|              2|              1|                 1|                15|          Jürgen Klopp|  Torsten Lieberknecht|   SIGNAL IDUNA PARK|     80200|   Peter Sippel|https://www.trans...|            4-2-3-1|            4-3-2-1|   Borussia Dortmund|Eintracht Braunsc...|2025-06-13 02:01:00| domestic_league|\n",
            "|2321060|            L1|  2013| 3. Matchday|2013-08-25|          23|          24|              0|              2|                18|                11|  Torsten Lieberknecht|             Armin Veh|   EINTRACHT-Stadion|     23325| Wolfgang Stark|https://www.trans...|            4-3-2-1|            4-2-3-1|Eintracht Braunsc...|Eintracht Frankfu...|2025-06-13 00:02:00| domestic_league|\n",
            "|2321072|            L1|  2013| 5. Matchday|2013-09-14|          16|          41|              6|              2|                 1|                15|          Jürgen Klopp|         Thorsten Fink|   SIGNAL IDUNA PARK|     80645|    Tobias Welz|https://www.trans...|            4-2-3-1|              3-5-2|   Borussia Dortmund|        Hamburger SV|2025-06-13 06:02:00| domestic_league|\n",
            "|2321079|            L1|  2013| 5. Matchday|2013-09-15|          23|           4|              1|              1|                18|                16|  Torsten Lieberknecht|     Michael Wiesinger|   EINTRACHT-Stadion|     22570|    Marco Fritz|https://www.trans...|     4-4-2 double 6|            4-2-3-1|Eintracht Braunsc...|      1.FC Nuremberg|2025-06-13 01:01:00| domestic_league|\n",
            "|2321086|            L1|  2013| 6. Matchday|2013-09-21|           4|          16|              1|              1|                15|                 1|     Michael Wiesinger|          Jürgen Klopp| Max-Morlock-Stadion|     50000|   Knut Kircher|https://www.trans...|            4-2-3-1|            4-2-3-1|      1.FC Nuremberg|   Borussia Dortmund|2025-06-13 01:01:00| domestic_league|\n",
            "|2321152|            L1|  2013|11. Matchday|2013-11-02|          44|          33|              0|              2|                 7|                 6|           Jos Luhukay|           Jens Keller|Olympiastadion Be...|     69277|    Günter Perl|https://www.trans...|            4-2-3-1|            4-2-3-1|          Hertha BSC|       FC Schalke 04|2025-06-13 00:02:00| domestic_league|\n",
            "|2321205|            L1|  2013|17. Matchday|2013-12-21|          41|          39|              2|              3|                14|                 9|      Bert van Marwijk|         Thomas Tuchel|    Volksparkstadion|     50000|Bastian Dankert|https://www.trans...|            4-2-3-1|      4-4-2 Diamond|        Hamburger SV|1. Fußball- und S...|2025-06-13 02:03:00| domestic_league|\n",
            "|2321233|            L1|  2013|20. Matchday|2014-02-08|          41|          44|              0|              3|                17|                 7|      Bert van Marwijk|           Jos Luhukay|    Volksparkstadion|     48593|  Deniz Aytekin|https://www.trans...|            4-2-3-1|            4-1-4-1|        Hamburger SV|          Hertha BSC|2025-06-13 00:03:00| domestic_league|\n",
            "+-------+--------------+------+------------+----------+------------+------------+---------------+---------------+------------------+------------------+----------------------+----------------------+--------------------+----------+---------------+--------------------+-------------------+-------------------+--------------------+--------------------+-------------------+----------------+\n",
            "only showing top 10 rows\n",
            "root\n",
            " |-- game_id: integer (nullable = true)\n",
            " |-- competition_id: string (nullable = true)\n",
            " |-- season: integer (nullable = true)\n",
            " |-- round: string (nullable = true)\n",
            " |-- date: date (nullable = true)\n",
            " |-- home_club_id: integer (nullable = true)\n",
            " |-- away_club_id: integer (nullable = true)\n",
            " |-- home_club_goals: integer (nullable = true)\n",
            " |-- away_club_goals: integer (nullable = true)\n",
            " |-- home_club_position: integer (nullable = true)\n",
            " |-- away_club_position: integer (nullable = true)\n",
            " |-- home_club_manager_name: string (nullable = true)\n",
            " |-- away_club_manager_name: string (nullable = true)\n",
            " |-- stadium: string (nullable = true)\n",
            " |-- attendance: integer (nullable = true)\n",
            " |-- referee: string (nullable = true)\n",
            " |-- url: string (nullable = true)\n",
            " |-- home_club_formation: string (nullable = true)\n",
            " |-- away_club_formation: string (nullable = true)\n",
            " |-- home_club_name: string (nullable = true)\n",
            " |-- away_club_name: string (nullable = true)\n",
            " |-- aggregate: timestamp (nullable = true)\n",
            " |-- competition_type: string (nullable = true)\n",
            "\n"
          ]
        },
        {
          "data": {
            "text/plain": [
              "['game_id',\n",
              " 'competition_id',\n",
              " 'season',\n",
              " 'round',\n",
              " 'date',\n",
              " 'home_club_id',\n",
              " 'away_club_id',\n",
              " 'home_club_goals',\n",
              " 'away_club_goals',\n",
              " 'home_club_position',\n",
              " 'away_club_position',\n",
              " 'home_club_manager_name',\n",
              " 'away_club_manager_name',\n",
              " 'stadium',\n",
              " 'attendance',\n",
              " 'referee',\n",
              " 'url',\n",
              " 'home_club_formation',\n",
              " 'away_club_formation',\n",
              " 'home_club_name',\n",
              " 'away_club_name',\n",
              " 'aggregate',\n",
              " 'competition_type']"
            ]
          },
          "execution_count": 8,
          "metadata": {},
          "output_type": "execute_result"
        }
      ],
      "source": [
        "# Cargar el csv\n",
        "df_games = spark.read.csv(path + \"/games.csv\", header=True, inferSchema=True)\n",
        "\n",
        "# Ver las primeras filas\n",
        "df_games.show(10)\n",
        "df_games.printSchema()\n",
        "df_games.columns"
      ]
    },
    {
      "cell_type": "code",
      "execution_count": 9,
      "metadata": {
        "id": "gzjjjxewojU1"
      },
      "outputs": [
        {
          "name": "stderr",
          "output_type": "stream",
          "text": [
            "25/06/13 12:54:21 WARN SparkStringUtils: Truncated the string representation of a plan since it was too large. This behavior can be adjusted by setting 'spark.sql.debug.maxToStringFields'.\n",
            "[Stage 8:>                                                          (0 + 1) / 1]\r"
          ]
        },
        {
          "name": "stdout",
          "output_type": "stream",
          "text": [
            "+-------+-----------------+--------------+------------------+-----------+------------------+------------------+------------------+------------------+------------------+------------------+----------------------+----------------------+--------------------+------------------+---------------+--------------------+-------------------+--------------------+--------------------+--------------------+----------------+\n",
            "|summary|          game_id|competition_id|            season|      round|      home_club_id|      away_club_id|   home_club_goals|   away_club_goals|home_club_position|away_club_position|home_club_manager_name|away_club_manager_name|             stadium|        attendance|        referee|                 url|home_club_formation| away_club_formation|      home_club_name|      away_club_name|competition_type|\n",
            "+-------+-----------------+--------------+------------------+-----------+------------------+------------------+------------------+------------------+------------------+------------------+----------------------+----------------------+--------------------+------------------+---------------+--------------------+-------------------+--------------------+--------------------+--------------------+----------------+\n",
            "|  count|            74026|         74026|             74026|      74026|             74017|             74017|             74014|             74014|             51559|             51559|                 73198|                 73198|               73776|             64078|          73374|               74026|              67051|               67220|               61176|               62571|           74026|\n",
            "|   mean|3165279.501229298|          NULL| 2017.981938778267|       NULL| 5324.384992636827| 4811.172257724576|1.6003999243386386|1.3315994271354068| 9.273667061036871| 9.453344711883473|                  NULL|                  NULL|                NULL|18346.864820999406|           NULL|                NULL|               NULL|                NULL|                NULL|                NULL|            NULL|\n",
            "| stddev|667940.7742037831|          NULL|3.7402903266655083|       NULL|31142.912656177425|30685.938880863283|1.4333231127270925| 1.370648556551926| 5.297961855003804| 5.317900302876715|                  NULL|                  NULL|                NULL|17950.346006658932|           NULL|                NULL|               NULL|                NULL|                NULL|                NULL|            NULL|\n",
            "|    min|          2211607|           BE1|              2012|1. Matchday|                 1|                 2|                 0|                 0|                 1|                 1|       Aaron Callaghan|       Aaron Callaghan|\"Comunale Renzo B...|                 1|Aaron Bannister|https://www.trans...|             0-10-0|              0-10-0|\"Футбольный клуб ...|\"Футбольный клуб ...|    domestic_cup|\n",
            "|    25%|          2587773|          NULL|              2015|       NULL|               354|               347|                 1|                 0|                 5|                 5|                  NULL|                  NULL|                NULL|              4400|           NULL|                NULL|               NULL|                NULL|                NULL|                NULL|            NULL|\n",
            "|    50%|          3080336|          NULL|              2018|       NULL|               995|               987|                 1|                 1|                 9|                 9|                  NULL|                  NULL|                NULL|             12400|           NULL|                NULL|               NULL|                NULL|                NULL|                NULL|            NULL|\n",
            "|    75%|          3646205|          NULL|              2021|       NULL|              3205|              3034|                 2|                 2|                14|                14|                  NULL|                  NULL|                NULL|             26711|           NULL|                NULL|               NULL|                NULL|                NULL|                NULL|            NULL|\n",
            "|    max|          4572898|           USC|              2024|          ||           4506872|           4506873|                17|                19|                21|                21|           Şeref Çiçek|  Αlexandros Maniat...|Štadión pod Čebraťom|             99354|    İlker Meral|https://www.trans...|              7-3-0|Starting Line-up:...|İstanbul Başakşeh...|İstanbul Başakşeh...|           other|\n",
            "+-------+-----------------+--------------+------------------+-----------+------------------+------------------+------------------+------------------+------------------+------------------+----------------------+----------------------+--------------------+------------------+---------------+--------------------+-------------------+--------------------+--------------------+--------------------+----------------+\n",
            "\n"
          ]
        },
        {
          "name": "stderr",
          "output_type": "stream",
          "text": [
            "                                                                                \r"
          ]
        }
      ],
      "source": [
        "mostrar_sumario(df_games).show()"
      ]
    },
    {
      "cell_type": "code",
      "execution_count": 61,
      "metadata": {
        "id": "FfJrD5tX7uy5"
      },
      "outputs": [
        {
          "name": "stdout",
          "output_type": "stream",
          "text": [
            "+-------+--------------+------+-----+----+------------+------------+---------------+---------------+------------------+------------------+----------------------+----------------------+-------+----------+-------+---+-------------------+-------------------+--------------+--------------+---------+----------------+\n",
            "|game_id|competition_id|season|round|date|home_club_id|away_club_id|home_club_goals|away_club_goals|home_club_position|away_club_position|home_club_manager_name|away_club_manager_name|stadium|attendance|referee|url|home_club_formation|away_club_formation|home_club_name|away_club_name|aggregate|competition_type|\n",
            "+-------+--------------+------+-----+----+------------+------------+---------------+---------------+------------------+------------------+----------------------+----------------------+-------+----------+-------+---+-------------------+-------------------+--------------+--------------+---------+----------------+\n",
            "|      0|             0|     0|    0|   0|           9|           9|             12|             12|             22467|             22467|                   828|                   828|    250|      9948|    652|  0|               6975|               6806|         12850|         11455|       12|               0|\n",
            "+-------+--------------+------+-----+----+------------+------------+---------------+---------------+------------------+------------------+----------------------+----------------------+-------+----------+-------+---+-------------------+-------------------+--------------+--------------+---------+----------------+\n",
            "\n"
          ]
        }
      ],
      "source": [
        "contar_nulos_por_columna(df_games).show()"
      ]
    },
    {
      "cell_type": "code",
      "execution_count": 62,
      "metadata": {
        "id": "kk56z45HIG6v"
      },
      "outputs": [
        {
          "name": "stdout",
          "output_type": "stream",
          "text": [
            "+-------+-----+\n",
            "|game_id|count|\n",
            "+-------+-----+\n",
            "+-------+-----+\n",
            "\n"
          ]
        }
      ],
      "source": [
        "duplicados_por_columna(df_games, \"game_id\")"
      ]
    },
    {
      "cell_type": "code",
      "execution_count": 10,
      "metadata": {
        "id": "o0ncC8Uf7xHg"
      },
      "outputs": [
        {
          "name": "stdout",
          "output_type": "stream",
          "text": [
            "+-------+--------------+------+--------------+----------+------------+------------+---------------+---------------+------------------+------------------+----------------------+----------------------+--------------------+----------+-------+--------------------+-------------------+-------------------+--------------+--------------+---------+----------------+\n",
            "|game_id|competition_id|season|         round|      date|home_club_id|away_club_id|home_club_goals|away_club_goals|home_club_position|away_club_position|home_club_manager_name|away_club_manager_name|             stadium|attendance|referee|                 url|home_club_formation|away_club_formation|home_club_name|away_club_name|aggregate|competition_type|\n",
            "+-------+--------------+------+--------------+----------+------------+------------+---------------+---------------+------------------+------------------+----------------------+----------------------+--------------------+----------+-------+--------------------+-------------------+-------------------+--------------+--------------+---------+----------------+\n",
            "|4506869|          KLUB|  2024|Quarter-Finals|2025-07-05|        NULL|        NULL|           NULL|           NULL|              NULL|              NULL|                  NULL|                  NULL|Lincoln Financial...|      NULL|   NULL|https://www.trans...|               NULL|               NULL|          NULL|          NULL|     NULL|           other|\n",
            "|4506861|          KLUB|  2024|   Round of 16|2025-06-28|        NULL|        NULL|           NULL|           NULL|              NULL|              NULL|                  NULL|                  NULL|Bank of America S...|      NULL|   NULL|https://www.trans...|               NULL|               NULL|          NULL|          NULL|     NULL|           other|\n",
            "|4506862|          KLUB|  2024|   Round of 16|2025-06-29|        NULL|        NULL|           NULL|           NULL|              NULL|              NULL|                  NULL|                  NULL|Mercedes-Benz Sta...|      NULL|   NULL|https://www.trans...|               NULL|               NULL|          NULL|          NULL|     NULL|           other|\n",
            "|4506864|          KLUB|  2024|   Round of 16|2025-06-30|        NULL|        NULL|           NULL|           NULL|              NULL|              NULL|                  NULL|                  NULL|Bank of America S...|      NULL|   NULL|https://www.trans...|               NULL|               NULL|          NULL|          NULL|     NULL|           other|\n",
            "|4506867|          KLUB|  2024|   Round of 16|2025-07-02|        NULL|        NULL|           NULL|           NULL|              NULL|              NULL|                  NULL|                  NULL|Mercedes-Benz Sta...|      NULL|   NULL|https://www.trans...|               NULL|               NULL|          NULL|          NULL|     NULL|           other|\n",
            "|4506868|          KLUB|  2024|Quarter-Finals|2025-07-04|        NULL|        NULL|           NULL|           NULL|              NULL|              NULL|                  NULL|                  NULL|Camping World Sta...|      NULL|   NULL|https://www.trans...|               NULL|               NULL|          NULL|          NULL|     NULL|           other|\n",
            "|4506860|          KLUB|  2024|   Round of 16|2025-06-28|        NULL|        NULL|           NULL|           NULL|              NULL|              NULL|                  NULL|                  NULL|Lincoln Financial...|      NULL|   NULL|https://www.trans...|               NULL|               NULL|          NULL|          NULL|     NULL|           other|\n",
            "|4506871|          KLUB|  2024|Quarter-Finals|2025-07-05|        NULL|        NULL|           NULL|           NULL|              NULL|              NULL|                  NULL|                  NULL|     MetLife Stadium|      NULL|   NULL|https://www.trans...|               NULL|               NULL|          NULL|          NULL|     NULL|           other|\n",
            "|4506870|          KLUB|  2024|Quarter-Finals|2025-07-05|        NULL|        NULL|           NULL|           NULL|              NULL|              NULL|                  NULL|                  NULL|Mercedes-Benz Sta...|      NULL|   NULL|https://www.trans...|               NULL|               NULL|          NULL|          NULL|     NULL|           other|\n",
            "+-------+--------------+------+--------------+----------+------------+------------+---------------+---------------+------------------+------------------+----------------------+----------------------+--------------------+----------+-------+--------------------+-------------------+-------------------+--------------+--------------+---------+----------------+\n",
            "\n",
            "+-------+--------------+------+--------------+----------+------------+------------+---------------+---------------+------------------+------------------+----------------------+----------------------+--------------------+----------+-------+--------------------+-------------------+-------------------+--------------+--------------+---------+----------------+\n",
            "|game_id|competition_id|season|         round|      date|home_club_id|away_club_id|home_club_goals|away_club_goals|home_club_position|away_club_position|home_club_manager_name|away_club_manager_name|             stadium|attendance|referee|                 url|home_club_formation|away_club_formation|home_club_name|away_club_name|aggregate|competition_type|\n",
            "+-------+--------------+------+--------------+----------+------------+------------+---------------+---------------+------------------+------------------+----------------------+----------------------+--------------------+----------+-------+--------------------+-------------------+-------------------+--------------+--------------+---------+----------------+\n",
            "|4506869|          KLUB|  2024|Quarter-Finals|2025-07-05|        NULL|        NULL|           NULL|           NULL|              NULL|              NULL|                  NULL|                  NULL|Lincoln Financial...|      NULL|   NULL|https://www.trans...|               NULL|               NULL|          NULL|          NULL|     NULL|           other|\n",
            "|4506861|          KLUB|  2024|   Round of 16|2025-06-28|        NULL|        NULL|           NULL|           NULL|              NULL|              NULL|                  NULL|                  NULL|Bank of America S...|      NULL|   NULL|https://www.trans...|               NULL|               NULL|          NULL|          NULL|     NULL|           other|\n",
            "|4506862|          KLUB|  2024|   Round of 16|2025-06-29|        NULL|        NULL|           NULL|           NULL|              NULL|              NULL|                  NULL|                  NULL|Mercedes-Benz Sta...|      NULL|   NULL|https://www.trans...|               NULL|               NULL|          NULL|          NULL|     NULL|           other|\n",
            "|4506864|          KLUB|  2024|   Round of 16|2025-06-30|        NULL|        NULL|           NULL|           NULL|              NULL|              NULL|                  NULL|                  NULL|Bank of America S...|      NULL|   NULL|https://www.trans...|               NULL|               NULL|          NULL|          NULL|     NULL|           other|\n",
            "|4506867|          KLUB|  2024|   Round of 16|2025-07-02|        NULL|        NULL|           NULL|           NULL|              NULL|              NULL|                  NULL|                  NULL|Mercedes-Benz Sta...|      NULL|   NULL|https://www.trans...|               NULL|               NULL|          NULL|          NULL|     NULL|           other|\n",
            "|4506868|          KLUB|  2024|Quarter-Finals|2025-07-04|        NULL|        NULL|           NULL|           NULL|              NULL|              NULL|                  NULL|                  NULL|Camping World Sta...|      NULL|   NULL|https://www.trans...|               NULL|               NULL|          NULL|          NULL|     NULL|           other|\n",
            "|4506860|          KLUB|  2024|   Round of 16|2025-06-28|        NULL|        NULL|           NULL|           NULL|              NULL|              NULL|                  NULL|                  NULL|Lincoln Financial...|      NULL|   NULL|https://www.trans...|               NULL|               NULL|          NULL|          NULL|     NULL|           other|\n",
            "|4506871|          KLUB|  2024|Quarter-Finals|2025-07-05|        NULL|        NULL|           NULL|           NULL|              NULL|              NULL|                  NULL|                  NULL|     MetLife Stadium|      NULL|   NULL|https://www.trans...|               NULL|               NULL|          NULL|          NULL|     NULL|           other|\n",
            "|4506870|          KLUB|  2024|Quarter-Finals|2025-07-05|        NULL|        NULL|           NULL|           NULL|              NULL|              NULL|                  NULL|                  NULL|Mercedes-Benz Sta...|      NULL|   NULL|https://www.trans...|               NULL|               NULL|          NULL|          NULL|     NULL|           other|\n",
            "+-------+--------------+------+--------------+----------+------------+------------+---------------+---------------+------------------+------------------+----------------------+----------------------+--------------------+----------+-------+--------------------+-------------------+-------------------+--------------+--------------+---------+----------------+\n",
            "\n"
          ]
        }
      ],
      "source": [
        "# Ver nulos de la tablas 'home_club_id' y 'away_club_id'\n",
        "df_games.filter(col('home_club_id').isNull()).show()\n",
        "df_games.filter(col('away_club_id').isNull()).show()"
      ]
    },
    {
      "cell_type": "code",
      "execution_count": 11,
      "metadata": {
        "id": "lBNUuEsZL8np"
      },
      "outputs": [
        {
          "name": "stdout",
          "output_type": "stream",
          "text": [
            "+-------+--------------+------+-----+----+------------+------------+---------------+---------------+------------------+------------------+----------------------+----------------------+-------+----------+-------+---+-------------------+-------------------+--------------+--------------+---------+----------------+\n",
            "|game_id|competition_id|season|round|date|home_club_id|away_club_id|home_club_goals|away_club_goals|home_club_position|away_club_position|home_club_manager_name|away_club_manager_name|stadium|attendance|referee|url|home_club_formation|away_club_formation|home_club_name|away_club_name|aggregate|competition_type|\n",
            "+-------+--------------+------+-----+----+------------+------------+---------------+---------------+------------------+------------------+----------------------+----------------------+-------+----------+-------+---+-------------------+-------------------+--------------+--------------+---------+----------------+\n",
            "|      0|             0|     0|    0|   0|           0|           0|              0|              0|             22455|             22455|                   816|                   816|    250|      9936|    640|  0|               6963|               6794|         12838|         11443|        0|               0|\n",
            "+-------+--------------+------+-----+----+------------+------------+---------------+---------------+------------------+------------------+----------------------+----------------------+-------+----------+-------+---+-------------------+-------------------+--------------+--------------+---------+----------------+\n",
            "\n"
          ]
        }
      ],
      "source": [
        "# Parece que los partidos sin club_id son de fechas futuras, deberian de eliminarse\n",
        "df_games = df_games.withColumn('date', to_date(col('date'), 'yyyy-MM-dd')).filter(col('date') <= current_date())\n",
        "# Ver nulos de nuevo\n",
        "contar_nulos_por_columna(df_games).show()"
      ]
    },
    {
      "cell_type": "code",
      "execution_count": 12,
      "metadata": {
        "id": "iAJ60N8u8xDg"
      },
      "outputs": [
        {
          "name": "stdout",
          "output_type": "stream",
          "text": [
            "+-------+--------------+------+--------------------+----------+------------+------------+---------------+---------------+------------------+------------------+----------------------+----------------------+--------------------+----------+--------------------+--------------------+-------------------+-------------------+--------------------+--------------------+-------------------+-----------------+\n",
            "|game_id|competition_id|season|               round|      date|home_club_id|away_club_id|home_club_goals|away_club_goals|home_club_position|away_club_position|home_club_manager_name|away_club_manager_name|             stadium|attendance|             referee|                 url|home_club_formation|away_club_formation|      home_club_name|      away_club_name|          aggregate| competition_type|\n",
            "+-------+--------------+------+--------------------+----------+------------+------------+---------------+---------------+------------------+------------------+----------------------+----------------------+--------------------+----------+--------------------+--------------------+-------------------+-------------------+--------------------+--------------------+-------------------+-----------------+\n",
            "|2360139|          POCP|  2013|             Group B|2013-08-01|        2423|        7179|              2|              1|              NULL|              NULL|        Carlos Condeço|         Vítor Paneira|Estádio de São Mi...|       384|      Jorge Ferreira|https://www.trans...|    4-3-3 Attacking|            4-2-3-1|Clube Desportivo ...|          CD Tondela|2025-06-13 02:01:00|     domestic_cup|\n",
            "|2367096|            CL|  2013|             Group F|2013-09-18|        6195|          16|              2|              1|              NULL|              NULL|        Rafael Benítez|          Jürgen Klopp|Stadio Diego Arma...|     55766|       Pedro Proença|https://www.trans...|            4-2-3-1|            4-2-3-1|Società Sportiva ...|   Borussia Dortmund|2025-06-13 02:01:00|international_cup|\n",
            "|2367237|            EL|  2013|             Group E|2013-10-03|         339|         430|              1|              2|              NULL|              NULL|          Juande Ramos|     Vincenzo Montella|        Dnipro-Arena|     25837|    Szymon Marciniak|https://www.trans...|     4-4-2 double 6|            3-4-2-1|Dnipro Dnipropetr...|Associazione Calc...|2025-06-13 01:02:00|international_cup|\n",
            "|2367648|          UKRP|  2013|         Third Round|2013-09-25|       16247|        6994|              1|              2|              NULL|              NULL|      Volodymyr Mazyar|        Sergiy Puchkov|            Metalurg|      1500|        Igor Paskhal|https://www.trans...|            4-2-3-1|     4-4-2 double 6|PFK Stal Kamyansk...|Metalurg Zaporizh...|2025-06-13 01:02:00|     domestic_cup|\n",
            "|2368466|            CL|  2013|             Group H|2013-11-26|         371|           5|              0|              3|              NULL|              NULL|           Neil Lennon|  Massimiliano Allegri|         Celtic Park|     58619|        Cüneyt Cakir|https://www.trans...|            4-2-3-1|            4-3-2-1|The Celtic Footba...|Associazione Calc...|2025-06-13 00:03:00|international_cup|\n",
            "|2368481|            CL|  2013|             Group C|2013-12-10|         683|          58|              3|              1|              NULL|              NULL|                Michel|     John van den Brom|Stadio Georgios K...|     31444|      Wolfgang Stark|https://www.trans...|            4-4-1-1|            4-1-4-1|Olympiakos Syndes...|Royal Sporting Cl...|2025-06-13 03:01:00|international_cup|\n",
            "|2382254|           CDR|  2013|   4th round 2nd leg|2013-12-17|         331|        1084|              1|              1|              NULL|              NULL|           Javi Gracia|        Bernd Schuster|            El Sadar|     10538|Miguel Ángel Ayza...|https://www.trans...|            4-2-3-1|              4-5-1|Club Atlético Osa...|           Málaga CF|2025-06-13 01:01:00|     domestic_cup|\n",
            "|2382266|           CDR|  2013|   4th round 2nd leg|2013-12-19|         621|         940|              4|              0|              NULL|              NULL|      Ernesto Valverde|          Luis Enrique|           San Mamés|      NULL|                NULL|https://www.trans...|              3-4-3|              2-4-4|Athletic Club Bilbao|Real Club Celta d...|2025-06-13 04:00:00|     domestic_cup|\n",
            "|2384520|            CL|  2013|             Group B|2013-12-11|         141|         506|              1|              0|              NULL|              NULL|       Roberto Mancini|         Antonio Conte|Ali Sami Yen Spor...|     37375|       Pedro Proença|https://www.trans...|              3-5-2|         3-5-2 flat|Galatasaray Spor ...|Juventus Football...|2025-06-13 01:00:00|international_cup|\n",
            "|2385041|            CL|  2013|     last 16 1st leg|2014-02-26|         141|         631|              1|              1|              NULL|              NULL|       Roberto Mancini|         José Mourinho|Ali Sami Yen Spor...|     52650|Carlos Velasco Ca...|https://www.trans...|     4-4-2 double 6|            4-2-3-1|Galatasaray Spor ...|Chelsea Football ...|2025-06-13 01:01:00|international_cup|\n",
            "|2423328|           CIT|  2013| Semi-Finals 1st Leg|2014-02-05|          12|        6195|              3|              2|              NULL|              NULL|           Rudi Garcia|        Rafael Benítez|    Olimpico di Roma|     30000|      Mauro Bergonzi|https://www.trans...|    4-3-3 Attacking|            4-2-3-1|Associazione Spor...|Società Sportiva ...|2025-06-13 03:02:00|     domestic_cup|\n",
            "|2423908|           FAC|  2013|         Fifth Round|2014-02-15|         281|         631|              2|              0|              NULL|              NULL|     Manuel Pellegrini|         José Mourinho|      Etihad Stadium|     47013|           Phil Dowd|https://www.trans...|     4-4-2 double 6|            4-2-3-1|Manchester City F...|Chelsea Football ...|2025-06-13 02:00:00|     domestic_cup|\n",
            "|2428286|           GRP|  2013|Quarter-Finals 1s...|2014-01-29|         683|        3060|              0|              0|              NULL|              NULL|                Michel|    Georgios Paraschos|Stadio Georgios K...|      NULL|      Andreas Pappas|https://www.trans...|            4-2-3-1|            4-2-3-1|Olympiakos Syndes...|APS Atromitos Ath...|2025-06-13 00:00:00|     domestic_cup|\n",
            "|2437594|            EL|  2013|     last 16 1st leg|2014-03-13|        1090|        2700|              1|              0|              NULL|              NULL|         Dick Advocaat|       Gadzhi Gadzhiev|        AFAS Stadion|      9653|      Daniele Orsato|https://www.trans...|    4-3-3 Attacking|              5-4-1|  Alkmaar Zaanstreek|Anzhi Makhachkala...|2025-06-13 01:00:00|international_cup|\n",
            "|2446415|           FAC|  2013|         Semi-Finals|2014-04-13|        3008|         350|              5|              3|              NULL|              NULL|           Steve Bruce|          Nigel Clough|     Wembley Stadium|     71820|      Andre Marriner|https://www.trans...|            4-1-4-1|            4-2-3-1|           Hull City|    Sheffield United|2025-06-13 05:03:00|     domestic_cup|\n",
            "|2478441|           CLQ|  2014|   3rd round 2nd leg|2014-08-06|         190|         339|              2|              0|              NULL|              NULL|       Ståle Solbakken|       Myron Markevych|              Parken|     18875|        Duarte Gomes|https://www.trans...|            4-4-1-1|            4-2-3-1|Football Club Køb...|Dnipro Dnipropetr...|2025-06-13 02:00:00|international_cup|\n",
            "|2483467|           ELQ|  2014|Qualifying Round ...|2014-08-28|        1083|         449|              0|              0|              NULL|              NULL|       Miodrag Bozovic|     Vahid Halilhodzic|             Olimp-2|     15000|        Felix Zwayer|https://www.trans...|            4-2-3-1|            4-2-3-1|           FK Rostov|  Trabzonspor Kulübü|2025-06-13 00:00:00|international_cup|\n",
            "|2490853|            CL|  2014|             Group F|2014-09-17|         610|         583|              1|              1|              NULL|              NULL|         Frank de Boer|         Laurent Blanc| Johan Cruijff ArenA|     50430|      Wolfgang Stark|https://www.trans...|    4-3-3 Attacking|    4-3-3 Attacking|  AFC Ajax Amsterdam|Paris Saint-Germa...|2025-06-13 01:01:00|international_cup|\n",
            "|2492360|            EL|  2014|             Group F|2014-09-18|         339|          46|              0|              1|              NULL|              NULL|       Myron Markevych|       Walter Mazzarri|       NSK Olimpisky|     25200|        Felix Zwayer|https://www.trans...|            4-2-3-1|            3-4-2-1|Dnipro Dnipropetr...|Football Club Int...|2025-06-13 00:01:00|international_cup|\n",
            "|2492457|            EL|  2014|             group L|2014-10-02|         498|        6414|              1|              0|              NULL|              NULL|            Peter Maes|          Igor Rakhaev|       Daknamstadion|      NULL|      Stephan Studer|https://www.trans...|            4-2-3-1|            4-2-3-1|KSC Lokeren (- 2020)|Metalist Kharkiv ...|2025-06-13 01:00:00|international_cup|\n",
            "+-------+--------------+------+--------------------+----------+------------+------------+---------------+---------------+------------------+------------------+----------------------+----------------------+--------------------+----------+--------------------+--------------------+-------------------+-------------------+--------------------+--------------------+-------------------+-----------------+\n",
            "only showing top 20 rows\n",
            "+-------+--------------+------+--------------------+----------+------------+------------+---------------+---------------+------------------+------------------+----------------------+----------------------+--------------------+----------+--------------------+--------------------+-------------------+-------------------+--------------------+--------------------+-------------------+-----------------+\n",
            "|game_id|competition_id|season|               round|      date|home_club_id|away_club_id|home_club_goals|away_club_goals|home_club_position|away_club_position|home_club_manager_name|away_club_manager_name|             stadium|attendance|             referee|                 url|home_club_formation|away_club_formation|      home_club_name|      away_club_name|          aggregate| competition_type|\n",
            "+-------+--------------+------+--------------------+----------+------------+------------+---------------+---------------+------------------+------------------+----------------------+----------------------+--------------------+----------+--------------------+--------------------+-------------------+-------------------+--------------------+--------------------+-------------------+-----------------+\n",
            "|2360139|          POCP|  2013|             Group B|2013-08-01|        2423|        7179|              2|              1|              NULL|              NULL|        Carlos Condeço|         Vítor Paneira|Estádio de São Mi...|       384|      Jorge Ferreira|https://www.trans...|    4-3-3 Attacking|            4-2-3-1|Clube Desportivo ...|          CD Tondela|2025-06-13 02:01:00|     domestic_cup|\n",
            "|2367096|            CL|  2013|             Group F|2013-09-18|        6195|          16|              2|              1|              NULL|              NULL|        Rafael Benítez|          Jürgen Klopp|Stadio Diego Arma...|     55766|       Pedro Proença|https://www.trans...|            4-2-3-1|            4-2-3-1|Società Sportiva ...|   Borussia Dortmund|2025-06-13 02:01:00|international_cup|\n",
            "|2367237|            EL|  2013|             Group E|2013-10-03|         339|         430|              1|              2|              NULL|              NULL|          Juande Ramos|     Vincenzo Montella|        Dnipro-Arena|     25837|    Szymon Marciniak|https://www.trans...|     4-4-2 double 6|            3-4-2-1|Dnipro Dnipropetr...|Associazione Calc...|2025-06-13 01:02:00|international_cup|\n",
            "|2367648|          UKRP|  2013|         Third Round|2013-09-25|       16247|        6994|              1|              2|              NULL|              NULL|      Volodymyr Mazyar|        Sergiy Puchkov|            Metalurg|      1500|        Igor Paskhal|https://www.trans...|            4-2-3-1|     4-4-2 double 6|PFK Stal Kamyansk...|Metalurg Zaporizh...|2025-06-13 01:02:00|     domestic_cup|\n",
            "|2368466|            CL|  2013|             Group H|2013-11-26|         371|           5|              0|              3|              NULL|              NULL|           Neil Lennon|  Massimiliano Allegri|         Celtic Park|     58619|        Cüneyt Cakir|https://www.trans...|            4-2-3-1|            4-3-2-1|The Celtic Footba...|Associazione Calc...|2025-06-13 00:03:00|international_cup|\n",
            "|2368481|            CL|  2013|             Group C|2013-12-10|         683|          58|              3|              1|              NULL|              NULL|                Michel|     John van den Brom|Stadio Georgios K...|     31444|      Wolfgang Stark|https://www.trans...|            4-4-1-1|            4-1-4-1|Olympiakos Syndes...|Royal Sporting Cl...|2025-06-13 03:01:00|international_cup|\n",
            "|2382254|           CDR|  2013|   4th round 2nd leg|2013-12-17|         331|        1084|              1|              1|              NULL|              NULL|           Javi Gracia|        Bernd Schuster|            El Sadar|     10538|Miguel Ángel Ayza...|https://www.trans...|            4-2-3-1|              4-5-1|Club Atlético Osa...|           Málaga CF|2025-06-13 01:01:00|     domestic_cup|\n",
            "|2382266|           CDR|  2013|   4th round 2nd leg|2013-12-19|         621|         940|              4|              0|              NULL|              NULL|      Ernesto Valverde|          Luis Enrique|           San Mamés|      NULL|                NULL|https://www.trans...|              3-4-3|              2-4-4|Athletic Club Bilbao|Real Club Celta d...|2025-06-13 04:00:00|     domestic_cup|\n",
            "|2384520|            CL|  2013|             Group B|2013-12-11|         141|         506|              1|              0|              NULL|              NULL|       Roberto Mancini|         Antonio Conte|Ali Sami Yen Spor...|     37375|       Pedro Proença|https://www.trans...|              3-5-2|         3-5-2 flat|Galatasaray Spor ...|Juventus Football...|2025-06-13 01:00:00|international_cup|\n",
            "|2385041|            CL|  2013|     last 16 1st leg|2014-02-26|         141|         631|              1|              1|              NULL|              NULL|       Roberto Mancini|         José Mourinho|Ali Sami Yen Spor...|     52650|Carlos Velasco Ca...|https://www.trans...|     4-4-2 double 6|            4-2-3-1|Galatasaray Spor ...|Chelsea Football ...|2025-06-13 01:01:00|international_cup|\n",
            "|2423328|           CIT|  2013| Semi-Finals 1st Leg|2014-02-05|          12|        6195|              3|              2|              NULL|              NULL|           Rudi Garcia|        Rafael Benítez|    Olimpico di Roma|     30000|      Mauro Bergonzi|https://www.trans...|    4-3-3 Attacking|            4-2-3-1|Associazione Spor...|Società Sportiva ...|2025-06-13 03:02:00|     domestic_cup|\n",
            "|2423908|           FAC|  2013|         Fifth Round|2014-02-15|         281|         631|              2|              0|              NULL|              NULL|     Manuel Pellegrini|         José Mourinho|      Etihad Stadium|     47013|           Phil Dowd|https://www.trans...|     4-4-2 double 6|            4-2-3-1|Manchester City F...|Chelsea Football ...|2025-06-13 02:00:00|     domestic_cup|\n",
            "|2428286|           GRP|  2013|Quarter-Finals 1s...|2014-01-29|         683|        3060|              0|              0|              NULL|              NULL|                Michel|    Georgios Paraschos|Stadio Georgios K...|      NULL|      Andreas Pappas|https://www.trans...|            4-2-3-1|            4-2-3-1|Olympiakos Syndes...|APS Atromitos Ath...|2025-06-13 00:00:00|     domestic_cup|\n",
            "|2437594|            EL|  2013|     last 16 1st leg|2014-03-13|        1090|        2700|              1|              0|              NULL|              NULL|         Dick Advocaat|       Gadzhi Gadzhiev|        AFAS Stadion|      9653|      Daniele Orsato|https://www.trans...|    4-3-3 Attacking|              5-4-1|  Alkmaar Zaanstreek|Anzhi Makhachkala...|2025-06-13 01:00:00|international_cup|\n",
            "|2446415|           FAC|  2013|         Semi-Finals|2014-04-13|        3008|         350|              5|              3|              NULL|              NULL|           Steve Bruce|          Nigel Clough|     Wembley Stadium|     71820|      Andre Marriner|https://www.trans...|            4-1-4-1|            4-2-3-1|           Hull City|    Sheffield United|2025-06-13 05:03:00|     domestic_cup|\n",
            "|2478441|           CLQ|  2014|   3rd round 2nd leg|2014-08-06|         190|         339|              2|              0|              NULL|              NULL|       Ståle Solbakken|       Myron Markevych|              Parken|     18875|        Duarte Gomes|https://www.trans...|            4-4-1-1|            4-2-3-1|Football Club Køb...|Dnipro Dnipropetr...|2025-06-13 02:00:00|international_cup|\n",
            "|2483467|           ELQ|  2014|Qualifying Round ...|2014-08-28|        1083|         449|              0|              0|              NULL|              NULL|       Miodrag Bozovic|     Vahid Halilhodzic|             Olimp-2|     15000|        Felix Zwayer|https://www.trans...|            4-2-3-1|            4-2-3-1|           FK Rostov|  Trabzonspor Kulübü|2025-06-13 00:00:00|international_cup|\n",
            "|2490853|            CL|  2014|             Group F|2014-09-17|         610|         583|              1|              1|              NULL|              NULL|         Frank de Boer|         Laurent Blanc| Johan Cruijff ArenA|     50430|      Wolfgang Stark|https://www.trans...|    4-3-3 Attacking|    4-3-3 Attacking|  AFC Ajax Amsterdam|Paris Saint-Germa...|2025-06-13 01:01:00|international_cup|\n",
            "|2492360|            EL|  2014|             Group F|2014-09-18|         339|          46|              0|              1|              NULL|              NULL|       Myron Markevych|       Walter Mazzarri|       NSK Olimpisky|     25200|        Felix Zwayer|https://www.trans...|            4-2-3-1|            3-4-2-1|Dnipro Dnipropetr...|Football Club Int...|2025-06-13 00:01:00|international_cup|\n",
            "|2492457|            EL|  2014|             group L|2014-10-02|         498|        6414|              1|              0|              NULL|              NULL|            Peter Maes|          Igor Rakhaev|       Daknamstadion|      NULL|      Stephan Studer|https://www.trans...|            4-2-3-1|            4-2-3-1|KSC Lokeren (- 2020)|Metalist Kharkiv ...|2025-06-13 01:00:00|international_cup|\n",
            "+-------+--------------+------+--------------------+----------+------------+------------+---------------+---------------+------------------+------------------+----------------------+----------------------+--------------------+----------+--------------------+--------------------+-------------------+-------------------+--------------------+--------------------+-------------------+-----------------+\n",
            "only showing top 20 rows\n"
          ]
        }
      ],
      "source": [
        "# Ver nulos columnas de 'club_position'\n",
        "df_games.filter(col('home_club_position').isNull()).show()\n",
        "df_games.filter(col('away_club_position').isNull()).show()"
      ]
    },
    {
      "cell_type": "code",
      "execution_count": 13,
      "metadata": {
        "id": "_hhuvK9UJqg6"
      },
      "outputs": [
        {
          "name": "stderr",
          "output_type": "stream",
          "text": [
            "                                                                                \r"
          ]
        },
        {
          "name": "stdout",
          "output_type": "stream",
          "text": [
            "+-------+--------------+------+------------+----------+------------+------------+---------------+---------------+------------------+------------------+----------------------+----------------------+--------------------+----------+--------------------+--------------------+-------------------+-------------------+--------------------+--------------------+-------------------+----------------+\n",
            "|game_id|competition_id|season|       round|      date|home_club_id|away_club_id|home_club_goals|away_club_goals|home_club_position|away_club_position|home_club_manager_name|away_club_manager_name|             stadium|attendance|             referee|                 url|home_club_formation|away_club_formation|      home_club_name|      away_club_name|          aggregate|competition_type|\n",
            "+-------+--------------+------+------------+----------+------------+------------+---------------+---------------+------------------+------------------+----------------------+----------------------+--------------------+----------+--------------------+--------------------+-------------------+-------------------+--------------------+--------------------+-------------------+----------------+\n",
            "|2518620|           GR1|  2014|26. Matchday|2015-03-18|        2672|       28956|              3|              0|              NULL|              NULL|    Apostolos Mantzios|      Vangelis Vlachos|     Stadio Livadias|       549|Konstantinos Ioan...|https://www.trans...|      5-4-1 Diamond|     4-4-2 double 6|APO Levadiakos Fo...|         AEL Kalloni|2025-06-13 03:00:00| domestic_league|\n",
            "|2764498|           GR1|  2016|11. Matchday|2017-01-14|        2079|        2672|              2|              0|              NULL|              NULL|         Thomas Grafas|        Ratko Dostanic|Dimotiko Stadio V...|       256|Georgios Giannoul...|https://www.trans...|            4-2-3-1|            4-2-3-1|           Veria NPS|APO Levadiakos Fo...|2025-06-13 02:00:00| domestic_league|\n",
            "|4272777|           RU1|  2023|21. Matchday|2024-04-25|        1124|        2696|              0|              1|              NULL|              NULL|        Sergey Tashuev|         Igor Osinjkin|Central Stadium o...|     10480|   Pavel Shadykhanov|https://www.trans...|    3-5-2 Attacking|            4-2-3-1|   FK Fakel Voronezh|PFK Krylya Soveto...|2025-06-13 00:01:00| domestic_league|\n",
            "|2518624|           GR1|  2014|26. Matchday|2015-03-17|        5219|        5572|              3|              0|              NULL|              NULL|                  NULL|                  NULL|Ethniko Stadio Ke...|      NULL|                NULL|https://www.trans...|               NULL|               NULL|         AOK Kerkyra|          Niki Volou|2025-06-13 03:00:00| domestic_league|\n",
            "|2758505|           GR1|  2016| 2. Matchday|2017-01-08|        1091|        2671|              0|              1|              NULL|              NULL|         Vladimir Ivic|      Giannis Petrakis|      Toumba Stadium|      2906|Anastasios Papape...|https://www.trans...|    4-3-3 Defending|              3-4-3|Panthessalonikios...|        PAS Giannina|2025-06-13 00:01:00| domestic_league|\n",
            "|3890043|           SC1|  2022| 7. Matchday|2022-10-11|        1519|         903|              1|              0|              NULL|              NULL|              Liam Fox|           Lee Johnson|      Tannadice Park|      9112|       Euan Anderson|https://www.trans...|            3-4-2-1|            4-1-4-1|Dundee United Foo...|Hibernian Footbal...|2025-06-13 01:00:00| domestic_league|\n",
            "|4272774|           RU1|  2023|21. Matchday|2024-04-25|        2410|         232|              0|              0|              NULL|              NULL|      Vladimir Fedotov|    Vladimir Sliskovic|           VEB Arena|     18495|    Vasili Kazartsev|https://www.trans...|            3-4-2-1|            3-4-2-1|     PFK CSKA Moskva|   FK Spartak Moskva|2025-06-13 00:00:00| domestic_league|\n",
            "|2518627|           GR1|  2014|26. Matchday|2015-03-18|        3060|         265|              2|              0|              NULL|              NULL|     Nikolaos Nioplias|    Giannis Anastasiou|  Stadio Peristeriou|      1671|Georgios Daskalop...|https://www.trans...|    4-3-3 Attacking|      4-4-2 Diamond|APS Atromitos Ath...|Panathinaikos Ath...|2025-06-13 02:00:00| domestic_league|\n",
            "|2764499|           GR1|  2016|11. Matchday|2017-01-14|       21957|         683|              2|              2|              NULL|              NULL|    Georgios Paraschos|           Paulo Bento|Dimotiko Gipedo P...|      2456|   Georgios Foukakis|https://www.trans...|              3-5-2|            4-2-3-1|        AO Platanias|Olympiakos Syndes...|2025-06-13 02:02:00| domestic_league|\n",
            "|4272772|           RU1|  2023|21. Matchday|2024-04-24|         964|        2698|              0|              2|              NULL|              NULL|          Sergey Semak|       Rashid Rakhimov|       Gazprom Arena|     13037|    Artem Chistyakov|https://www.trans...|            4-2-3-1|            3-4-2-1|AO FK Zenit Sankt...|      FC Rubin Kazan|2025-06-13 00:02:00| domestic_league|\n",
            "|2518621|           GR1|  2014|26. Matchday|2015-03-18|         653|        7185|              0|              1|              NULL|              NULL|                  NULL|                  NULL|Gipedo Theodoros ...|      NULL|    Christos Mitsios|https://www.trans...|            4-2-3-1|              3-5-2|Omilos Filathlon ...|Panthrakikos Komo...|2025-06-13 00:01:00| domestic_league|\n",
            "|4272776|           RU1|  2023|21. Matchday|2024-04-24|       49702|         932|              2|              3|              NULL|              NULL|          Sergey Yuran|   Mikhail Galaktionov|Nizhny Novgorod S...|      6591|     Sergey Tsyganok|https://www.trans...|              3-5-2|            4-2-3-1|  FK Nizhny Novgorod|\"Футбольный клуб ...|2025-06-13 02:03:00| domestic_league|\n",
            "|2764501|           GR1|  2016|11. Matchday|2017-01-15|         128|        2671|              2|              0|              NULL|              NULL|        Răzvan Lucescu|      Giannis Petrakis|        Xanthi Arena|       795| Triantafyllos Tikas|https://www.trans...|            4-2-3-1|              3-5-2|           AO Xanthi|        PAS Giannina|2025-06-13 02:00:00| domestic_league|\n",
            "|2518625|           GR1|  2014|26. Matchday|2015-03-18|         169|        2079|              4|              2|              NULL|              NULL|    Marinos Ouzounidis|   José Carlos Granero| Stadio Neas Smyrnis|       350|Apostolos Ambarki...|https://www.trans...|            4-2-3-1|            4-2-3-1|    Panionios Athens|           Veria NPS|2025-06-13 04:02:00| domestic_league|\n",
            "|2764504|           GR1|  2016|11. Matchday|2017-01-15|        3060|         169|              1|              2|              NULL|              NULL|    Georgios Korakakis|      Vladan Milojevic|  Stadio Peristeriou|       827|   Athanasios Tzilos|https://www.trans...|            4-2-3-1|            4-2-3-1|APS Atromitos Ath...|    Panionios Athens|2025-06-13 01:02:00| domestic_league|\n",
            "|2518622|           GR1|  2014|26. Matchday|2015-03-18|        1091|        5220|              1|              0|              NULL|              NULL|   Georgios Georgiadis|    Giannis Taousianis|      Toumba Stadium|      3574|    Georgios Kominis|https://www.trans...|     4-4-2 double 6|            4-2-3-1|Panthessalonikios...|        GS Ergotelis|2025-06-13 01:00:00| domestic_league|\n",
            "|2518628|           GR1|  2014|26. Matchday|2015-03-18|         683|        6676|              2|              0|              NULL|              NULL|         Vítor Pereira|      Staikos Vergetis|Stadio Georgios K...|     12856|   Michalis Voskakis|https://www.trans...|            4-2-3-1|            4-2-3-1|Olympiakos Syndes...|A.G.S Asteras Tri...|2025-06-13 02:00:00| domestic_league|\n",
            "|2758503|           GR1|  2016| 2. Matchday|2017-01-07|        3060|        2672|              2|              0|              NULL|              NULL|    Georgios Korakakis|        Ratko Dostanic|  Stadio Peristeriou|       363|      Spyros Selimos|https://www.trans...|            4-2-3-1|            4-2-3-1|APS Atromitos Ath...|APO Levadiakos Fo...|2025-06-13 02:00:00| domestic_league|\n",
            "|2764503|           GR1|  2016|11. Matchday|2017-01-15|         265|        2441|              0|              0|              NULL|              NULL|    Marinos Ouzounidis|           José Morais|Apostolos Nikolaidis|      6955|    Georgios Kominis|https://www.trans...|     4-4-2 double 6|            4-2-3-1|Panathinaikos Ath...|Athlitiki Enosi K...|2025-06-13 00:00:00| domestic_league|\n",
            "|3890044|           SC1|  2022| 7. Matchday|2023-01-13|          43|         465|              1|              0|              NULL|              NULL|        Robbie Neilson|      Stephen Robinson|     Tynecastle Park|     18721|         David Munro|https://www.trans...|            3-4-2-1|         3-5-2 flat|Heart of Midlothi...|Saint Mirren Foot...|2025-06-13 01:00:00| domestic_league|\n",
            "+-------+--------------+------+------------+----------+------------+------------+---------------+---------------+------------------+------------------+----------------------+----------------------+--------------------+----------+--------------------+--------------------+-------------------+-------------------+--------------------+--------------------+-------------------+----------------+\n",
            "only showing top 20 rows\n"
          ]
        },
        {
          "name": "stderr",
          "output_type": "stream",
          "text": [
            "[Stage 23:>                                                         (0 + 2) / 2]\r"
          ]
        },
        {
          "name": "stdout",
          "output_type": "stream",
          "text": [
            "+-------+--------------+------+------------+----------+------------+------------+---------------+---------------+------------------+------------------+----------------------+----------------------+--------------------+----------+--------------------+--------------------+-------------------+-------------------+--------------------+--------------------+-------------------+----------------+\n",
            "|game_id|competition_id|season|       round|      date|home_club_id|away_club_id|home_club_goals|away_club_goals|home_club_position|away_club_position|home_club_manager_name|away_club_manager_name|             stadium|attendance|             referee|                 url|home_club_formation|away_club_formation|      home_club_name|      away_club_name|          aggregate|competition_type|\n",
            "+-------+--------------+------+------------+----------+------------+------------+---------------+---------------+------------------+------------------+----------------------+----------------------+--------------------+----------+--------------------+--------------------+-------------------+-------------------+--------------------+--------------------+-------------------+----------------+\n",
            "|2518620|           GR1|  2014|26. Matchday|2015-03-18|        2672|       28956|              3|              0|              NULL|              NULL|    Apostolos Mantzios|      Vangelis Vlachos|     Stadio Livadias|       549|Konstantinos Ioan...|https://www.trans...|      5-4-1 Diamond|     4-4-2 double 6|APO Levadiakos Fo...|         AEL Kalloni|2025-06-13 03:00:00| domestic_league|\n",
            "|2764498|           GR1|  2016|11. Matchday|2017-01-14|        2079|        2672|              2|              0|              NULL|              NULL|         Thomas Grafas|        Ratko Dostanic|Dimotiko Stadio V...|       256|Georgios Giannoul...|https://www.trans...|            4-2-3-1|            4-2-3-1|           Veria NPS|APO Levadiakos Fo...|2025-06-13 02:00:00| domestic_league|\n",
            "|4272777|           RU1|  2023|21. Matchday|2024-04-25|        1124|        2696|              0|              1|              NULL|              NULL|        Sergey Tashuev|         Igor Osinjkin|Central Stadium o...|     10480|   Pavel Shadykhanov|https://www.trans...|    3-5-2 Attacking|            4-2-3-1|   FK Fakel Voronezh|PFK Krylya Soveto...|2025-06-13 00:01:00| domestic_league|\n",
            "|2518624|           GR1|  2014|26. Matchday|2015-03-17|        5219|        5572|              3|              0|              NULL|              NULL|                  NULL|                  NULL|Ethniko Stadio Ke...|      NULL|                NULL|https://www.trans...|               NULL|               NULL|         AOK Kerkyra|          Niki Volou|2025-06-13 03:00:00| domestic_league|\n",
            "|2758505|           GR1|  2016| 2. Matchday|2017-01-08|        1091|        2671|              0|              1|              NULL|              NULL|         Vladimir Ivic|      Giannis Petrakis|      Toumba Stadium|      2906|Anastasios Papape...|https://www.trans...|    4-3-3 Defending|              3-4-3|Panthessalonikios...|        PAS Giannina|2025-06-13 00:01:00| domestic_league|\n",
            "|3890043|           SC1|  2022| 7. Matchday|2022-10-11|        1519|         903|              1|              0|              NULL|              NULL|              Liam Fox|           Lee Johnson|      Tannadice Park|      9112|       Euan Anderson|https://www.trans...|            3-4-2-1|            4-1-4-1|Dundee United Foo...|Hibernian Footbal...|2025-06-13 01:00:00| domestic_league|\n",
            "|4272774|           RU1|  2023|21. Matchday|2024-04-25|        2410|         232|              0|              0|              NULL|              NULL|      Vladimir Fedotov|    Vladimir Sliskovic|           VEB Arena|     18495|    Vasili Kazartsev|https://www.trans...|            3-4-2-1|            3-4-2-1|     PFK CSKA Moskva|   FK Spartak Moskva|2025-06-13 00:00:00| domestic_league|\n",
            "|2518627|           GR1|  2014|26. Matchday|2015-03-18|        3060|         265|              2|              0|              NULL|              NULL|     Nikolaos Nioplias|    Giannis Anastasiou|  Stadio Peristeriou|      1671|Georgios Daskalop...|https://www.trans...|    4-3-3 Attacking|      4-4-2 Diamond|APS Atromitos Ath...|Panathinaikos Ath...|2025-06-13 02:00:00| domestic_league|\n",
            "|2764499|           GR1|  2016|11. Matchday|2017-01-14|       21957|         683|              2|              2|              NULL|              NULL|    Georgios Paraschos|           Paulo Bento|Dimotiko Gipedo P...|      2456|   Georgios Foukakis|https://www.trans...|              3-5-2|            4-2-3-1|        AO Platanias|Olympiakos Syndes...|2025-06-13 02:02:00| domestic_league|\n",
            "|4272772|           RU1|  2023|21. Matchday|2024-04-24|         964|        2698|              0|              2|              NULL|              NULL|          Sergey Semak|       Rashid Rakhimov|       Gazprom Arena|     13037|    Artem Chistyakov|https://www.trans...|            4-2-3-1|            3-4-2-1|AO FK Zenit Sankt...|      FC Rubin Kazan|2025-06-13 00:02:00| domestic_league|\n",
            "|2518621|           GR1|  2014|26. Matchday|2015-03-18|         653|        7185|              0|              1|              NULL|              NULL|                  NULL|                  NULL|Gipedo Theodoros ...|      NULL|    Christos Mitsios|https://www.trans...|            4-2-3-1|              3-5-2|Omilos Filathlon ...|Panthrakikos Komo...|2025-06-13 00:01:00| domestic_league|\n",
            "|4272776|           RU1|  2023|21. Matchday|2024-04-24|       49702|         932|              2|              3|              NULL|              NULL|          Sergey Yuran|   Mikhail Galaktionov|Nizhny Novgorod S...|      6591|     Sergey Tsyganok|https://www.trans...|              3-5-2|            4-2-3-1|  FK Nizhny Novgorod|\"Футбольный клуб ...|2025-06-13 02:03:00| domestic_league|\n",
            "|2764501|           GR1|  2016|11. Matchday|2017-01-15|         128|        2671|              2|              0|              NULL|              NULL|        Răzvan Lucescu|      Giannis Petrakis|        Xanthi Arena|       795| Triantafyllos Tikas|https://www.trans...|            4-2-3-1|              3-5-2|           AO Xanthi|        PAS Giannina|2025-06-13 02:00:00| domestic_league|\n",
            "|2518625|           GR1|  2014|26. Matchday|2015-03-18|         169|        2079|              4|              2|              NULL|              NULL|    Marinos Ouzounidis|   José Carlos Granero| Stadio Neas Smyrnis|       350|Apostolos Ambarki...|https://www.trans...|            4-2-3-1|            4-2-3-1|    Panionios Athens|           Veria NPS|2025-06-13 04:02:00| domestic_league|\n",
            "|2764504|           GR1|  2016|11. Matchday|2017-01-15|        3060|         169|              1|              2|              NULL|              NULL|    Georgios Korakakis|      Vladan Milojevic|  Stadio Peristeriou|       827|   Athanasios Tzilos|https://www.trans...|            4-2-3-1|            4-2-3-1|APS Atromitos Ath...|    Panionios Athens|2025-06-13 01:02:00| domestic_league|\n",
            "|2518622|           GR1|  2014|26. Matchday|2015-03-18|        1091|        5220|              1|              0|              NULL|              NULL|   Georgios Georgiadis|    Giannis Taousianis|      Toumba Stadium|      3574|    Georgios Kominis|https://www.trans...|     4-4-2 double 6|            4-2-3-1|Panthessalonikios...|        GS Ergotelis|2025-06-13 01:00:00| domestic_league|\n",
            "|2518628|           GR1|  2014|26. Matchday|2015-03-18|         683|        6676|              2|              0|              NULL|              NULL|         Vítor Pereira|      Staikos Vergetis|Stadio Georgios K...|     12856|   Michalis Voskakis|https://www.trans...|            4-2-3-1|            4-2-3-1|Olympiakos Syndes...|A.G.S Asteras Tri...|2025-06-13 02:00:00| domestic_league|\n",
            "|2758503|           GR1|  2016| 2. Matchday|2017-01-07|        3060|        2672|              2|              0|              NULL|              NULL|    Georgios Korakakis|        Ratko Dostanic|  Stadio Peristeriou|       363|      Spyros Selimos|https://www.trans...|            4-2-3-1|            4-2-3-1|APS Atromitos Ath...|APO Levadiakos Fo...|2025-06-13 02:00:00| domestic_league|\n",
            "|2764503|           GR1|  2016|11. Matchday|2017-01-15|         265|        2441|              0|              0|              NULL|              NULL|    Marinos Ouzounidis|           José Morais|Apostolos Nikolaidis|      6955|    Georgios Kominis|https://www.trans...|     4-4-2 double 6|            4-2-3-1|Panathinaikos Ath...|Athlitiki Enosi K...|2025-06-13 00:00:00| domestic_league|\n",
            "|3890044|           SC1|  2022| 7. Matchday|2023-01-13|          43|         465|              1|              0|              NULL|              NULL|        Robbie Neilson|      Stephen Robinson|     Tynecastle Park|     18721|         David Munro|https://www.trans...|            3-4-2-1|         3-5-2 flat|Heart of Midlothi...|Saint Mirren Foot...|2025-06-13 01:00:00| domestic_league|\n",
            "+-------+--------------+------+------------+----------+------------+------------+---------------+---------------+------------------+------------------+----------------------+----------------------+--------------------+----------+--------------------+--------------------+-------------------+-------------------+--------------------+--------------------+-------------------+----------------+\n",
            "only showing top 20 rows\n"
          ]
        },
        {
          "name": "stderr",
          "output_type": "stream",
          "text": [
            "                                                                                \r"
          ]
        }
      ],
      "source": [
        "# Parece que cuando la competicion es algun tipo de copa, los valores de posicion estan nulos porque las copas no usan ese tipo de ranking\n",
        "\n",
        "# Convertimos las columnas a string y le añadimos un valor 'Sin Ranking' para estos casos\n",
        "df_games = df_games.withColumn(\"home_club_position\", col(\"home_club_position\").cast(StringType()))\n",
        "df_games = df_games.withColumn(\"away_club_position\", col(\"away_club_position\").cast(StringType()))\n",
        "\n",
        "# La logica toma los casos en los que la position sea nulo y la competicion contenga 'cup' sin tener en cuenta mayusculas, o sea de tipo 'other'\n",
        "df_games = df_games.withColumn(\n",
        "    \"home_club_position\",\n",
        "    when((lower(col(\"competition_type\")).contains(\"cup\") | (col(\"competition_type\") == \"other\")) & col(\"home_club_position\").isNull(), \"Sin Ranking\")\n",
        "    .otherwise(col(\"home_club_position\"))\n",
        ")\n",
        "df_games = df_games.withColumn(\n",
        "    \"away_club_position\",\n",
        "    when((lower(col(\"competition_type\")).contains(\"cup\") | (col(\"competition_type\") == \"other\")) & col(\"away_club_position\").isNull(), \"Sin Ranking\")\n",
        "    .otherwise(col(\"away_club_position\"))\n",
        ")\n",
        "\n",
        "# Ver nulos despues de la sustitucion\n",
        "df_games.filter(col('home_club_position').isNull()).show()\n",
        "df_games.filter(col('away_club_position').isNull()).show()"
      ]
    },
    {
      "cell_type": "code",
      "execution_count": 14,
      "metadata": {
        "id": "ljv7OpYRLnlp"
      },
      "outputs": [
        {
          "name": "stdout",
          "output_type": "stream",
          "text": [
            "+-------+--------------+------+-----+----+------------+------------+---------------+---------------+------------------+------------------+----------------------+----------------------+-------+----------+-------+---+-------------------+-------------------+--------------+--------------+---------+----------------+\n",
            "|game_id|competition_id|season|round|date|home_club_id|away_club_id|home_club_goals|away_club_goals|home_club_position|away_club_position|home_club_manager_name|away_club_manager_name|stadium|attendance|referee|url|home_club_formation|away_club_formation|home_club_name|away_club_name|aggregate|competition_type|\n",
            "+-------+--------------+------+-----+----+------------+------------+---------------+---------------+------------------+------------------+----------------------+----------------------+-------+----------+-------+---+-------------------+-------------------+--------------+--------------+---------+----------------+\n",
            "|      0|             0|     0|    0|   0|           0|           0|              0|              0|                 0|                 0|                   816|                   816|    250|      9936|    640|  0|               6963|               6794|         12838|         11443|        0|               0|\n",
            "+-------+--------------+------+-----+----+------------+------------+---------------+---------------+------------------+------------------+----------------------+----------------------+-------+----------+-------+---+-------------------+-------------------+--------------+--------------+---------+----------------+\n",
            "\n"
          ]
        }
      ],
      "source": [
        "# Parece que aun quedan nulos en position que no son de copas\n",
        "# Sustituimos los valores nulos restantes por 'Unkown'\n",
        "df_games = df_games.withColumn(\n",
        "    \"home_club_position\",\n",
        "    when(col(\"home_club_position\").isNull(), \"Unknown\").otherwise(col(\"home_club_position\"))\n",
        ")\n",
        "df_games = df_games.withColumn(\n",
        "    \"away_club_position\",\n",
        "    when(col(\"away_club_position\").isNull(), \"Unknown\").otherwise(col(\"away_club_position\"))\n",
        ")\n",
        "# Ver todos los nulos\n",
        "contar_nulos_por_columna(df_games).show()"
      ]
    },
    {
      "cell_type": "code",
      "execution_count": 15,
      "metadata": {
        "id": "QTIzyiEJUMKB"
      },
      "outputs": [
        {
          "name": "stdout",
          "output_type": "stream",
          "text": [
            "+-------+--------------+------+-----+----+------------+------------+---------------+---------------+------------------+------------------+----------------------+----------------------+-------+----------+-------+---+-------------------+-------------------+--------------+--------------+---------+----------------+\n",
            "|game_id|competition_id|season|round|date|home_club_id|away_club_id|home_club_goals|away_club_goals|home_club_position|away_club_position|home_club_manager_name|away_club_manager_name|stadium|attendance|referee|url|home_club_formation|away_club_formation|home_club_name|away_club_name|aggregate|competition_type|\n",
            "+-------+--------------+------+-----+----+------------+------------+---------------+---------------+------------------+------------------+----------------------+----------------------+-------+----------+-------+---+-------------------+-------------------+--------------+--------------+---------+----------------+\n",
            "|      0|             0|     0|    0|   0|           0|           0|              0|              0|                 0|                 0|                     0|                     0|      0|      9936|      0|  0|               6963|               6794|         12838|         11443|        0|               0|\n",
            "+-------+--------------+------+-----+----+------------+------------+---------------+---------------+------------------+------------------+----------------------+----------------------+-------+----------+-------+---+-------------------+-------------------+--------------+--------------+---------+----------------+\n",
            "\n"
          ]
        }
      ],
      "source": [
        "# Sustituir valores nulos en 'home_club_manager_name', 'away_club_manager_name', 'stadium' y 'referee' por 'Unkown'\n",
        "df_games = df_games.fillna({\n",
        "    \"home_club_manager_name\": \"Unknown\",\n",
        "    \"away_club_manager_name\": \"Unknown\",\n",
        "    \"stadium\": \"Unknown\",\n",
        "    \"referee\": \"Unknown\"\n",
        "})\n",
        "# Comprobar de nuevo los nulos despues de la sustitucion\n",
        "contar_nulos_por_columna(df_games).show()"
      ]
    },
    {
      "cell_type": "code",
      "execution_count": 16,
      "metadata": {
        "id": "cwHI9YS-VPyw"
      },
      "outputs": [
        {
          "name": "stdout",
          "output_type": "stream",
          "text": [
            "+-------+--------------+------+--------------------+----------+------------+------------+---------------+---------------+------------------+------------------+----------------------+----------------------+--------------------+----------+-------------------+--------------------+-------------------+-------------------+--------------------+--------------------+-------------------+-----------------+\n",
            "|game_id|competition_id|season|               round|      date|home_club_id|away_club_id|home_club_goals|away_club_goals|home_club_position|away_club_position|home_club_manager_name|away_club_manager_name|             stadium|attendance|            referee|                 url|home_club_formation|away_club_formation|      home_club_name|      away_club_name|          aggregate| competition_type|\n",
            "+-------+--------------+------+--------------------+----------+------------+------------+---------------+---------------+------------------+------------------+----------------------+----------------------+--------------------+----------+-------------------+--------------------+-------------------+-------------------+--------------------+--------------------+-------------------+-----------------+\n",
            "|2382266|           CDR|  2013|   4th round 2nd leg|2013-12-19|         621|         940|              4|              0|       Sin Ranking|       Sin Ranking|      Ernesto Valverde|          Luis Enrique|           San Mamés|      NULL|            Unknown|https://www.trans...|              3-4-3|              2-4-4|Athletic Club Bilbao|Real Club Celta d...|2025-06-13 04:00:00|     domestic_cup|\n",
            "|2428286|           GRP|  2013|Quarter-Finals 1s...|2014-01-29|         683|        3060|              0|              0|       Sin Ranking|       Sin Ranking|                Michel|    Georgios Paraschos|Stadio Georgios K...|      NULL|     Andreas Pappas|https://www.trans...|            4-2-3-1|            4-2-3-1|Olympiakos Syndes...|APS Atromitos Ath...|2025-06-13 00:00:00|     domestic_cup|\n",
            "|2453103|          UKR1|  2013|        29. Matchday|2014-05-11|        6993|         338|              0|              2|                11|                 4|         Mykola Pavlov|         Sergiy Rebrov|       NSK Olimpisky|      NULL|Anatoliy Zhabchenko|https://www.trans...|            4-2-3-1|            4-2-3-1|         FK Mariupol|Futbolniy Klub Dy...|2025-06-13 00:02:00|  domestic_league|\n",
            "|2492457|            EL|  2014|             group L|2014-10-02|         498|        6414|              1|              0|       Sin Ranking|       Sin Ranking|            Peter Maes|          Igor Rakhaev|       Daknamstadion|      NULL|     Stephan Studer|https://www.trans...|            4-2-3-1|            4-2-3-1|KSC Lokeren (- 2020)|Metalist Kharkiv ...|2025-06-13 01:00:00|international_cup|\n",
            "|2501174|           GRP|  2014| First Round 1st leg|2014-08-29|        3062|         441|              1|              1|       Sin Ranking|       Sin Ranking|    Stavros Iliopoulos|  Nikolaos Kostenoglou|Grigoris Lampraki...|      NULL|  Angelos Evangelou|https://www.trans...|              4-5-1|              4-3-3|Athens Kallithea ...|     Apollon Smyrnis|2025-06-13 01:01:00|     domestic_cup|\n",
            "|2518602|           GR1|  2014|        24. Matchday|2015-02-14|        7185|        5572|              3|              0|                12|                18|               Unknown|               Unknown|Dimotiko Stadio K...|      NULL|            Unknown|https://www.trans...|               NULL|               NULL|Panthrakikos Komo...|          Niki Volou|2025-06-13 03:00:00|  domestic_league|\n",
            "|2527982|           GRP|  2014|     last 16 1st leg|2015-01-21|         128|         265|              1|              1|       Sin Ranking|       Sin Ranking|        Răzvan Lucescu|    Giannis Anastasiou|        Xanthi Arena|      NULL|     Andreas Pappas|https://www.trans...|              4-4-2|              3-5-2|           AO Xanthi|Panathinaikos Ath...|2025-06-13 01:01:00|     domestic_cup|\n",
            "|2527985|           GRP|  2014|     last 16 1st leg|2015-01-21|         441|        2672|              1|              1|       Sin Ranking|       Sin Ranking|      Alekos Vosniadis|     Savvas Pantelidis|\"Gipedo Rizoupoli...|      NULL|Dimitrios Styliaras|https://www.trans...|              4-4-2|              4-3-3|     Apollon Smyrnis|APO Levadiakos Fo...|2025-06-13 01:01:00|     domestic_cup|\n",
            "|2547044|           GRP|  2014| Semi-Finals 2nd Leg|2015-04-29|         683|         441|              1|              1|       Sin Ranking|       Sin Ranking|         Vítor Pereira|      Alekos Vosniadis|Stadio Georgios K...|      NULL|  Stavros Tritsonis|https://www.trans...|            4-2-3-1|            4-2-3-1|Olympiakos Syndes...|     Apollon Smyrnis|2025-06-13 01:01:00|     domestic_cup|\n",
            "|2627296|           GRP|  2015|             Group 2|2015-10-28|        6418|         169|              1|              2|       Sin Ranking|       Sin Ranking|   Giannis Matzourakis|    Marinos Ouzounidis|  Gipedo Panetolikou|      NULL|     Georgios Kyzas|https://www.trans...|              5-3-2|              4-4-2| Panetolikos Agrinio|    Panionios Athens|2025-06-13 01:02:00|     domestic_cup|\n",
            "|2648078|           GRP|  2015|     last 16 2nd leg|2016-01-14|         265|        2671|              0|              1|       Sin Ranking|       Sin Ranking|   Andrea Stramaccioni|      Giannis Petrakis|Apostolos Nikolaidis|      NULL|            Unknown|https://www.trans...|    4-3-3 Attacking|     4-4-2 double 6|Panathinaikos Ath...|        PAS Giannina|2025-06-13 00:01:00|     domestic_cup|\n",
            "|2722698|           TR1|  2016|        12. Matchday|2016-11-27|         820|         449|              0|              0|                 9|                14|             Ümit Özat|           Ersun Yanal|Ankara 19 Mayis S...|      NULL|      Fırat Aydınus|https://www.trans...|            4-2-3-1|            4-2-3-1|Genclerbirligi An...|  Trabzonspor Kulübü|2025-06-13 00:00:00|  domestic_league|\n",
            "|2883667|           TR1|  2017|         2. Matchday|2017-08-21|        2293|         820|              3|              0|                 7|                16|   Mustafa Reşit Akçay|             Ümit Özat|Medaş Konya Büyük...|      NULL|     Arda Kardeşler|https://www.trans...|            4-2-3-1|            4-2-3-1|           Konyaspor|Genclerbirligi An...|2025-06-13 03:00:00|  domestic_league|\n",
            "|2883897|           TR1|  2017|         9. Matchday|2017-10-21|       19771|         820|              3|              3|                 3|                16|            Okan Buruk|          Mesut Bakkal|     Manisa 19 Mayıs|      NULL|    Suat Arslanboğa|https://www.trans...|            4-2-3-1|            4-2-3-1|         Akhisarspor|Genclerbirligi An...|2025-06-13 03:03:00|  domestic_league|\n",
            "|2883916|           TR1|  2017|        11. Matchday|2017-11-05|        2381|        2293|              2|              1|                 5|                15|          Samet Aybaba|        Mehmet Özdilek|  Yeni 4 Eylül Stadı|      NULL|       Cüneyt Çakır|https://www.trans...|            4-2-3-1|            4-2-3-1|    Sivasspor Kulübü|           Konyaspor|2025-06-13 02:01:00|  domestic_league|\n",
            "|2883919|           TR1|  2017|        11. Matchday|2017-11-05|       19789|        6890|              0|              2|                11|                 2|            Erol Bulut|         Abdullah Avcı|Yeni Malatya Stad...|      NULL|    Bülent Yıldırım|https://www.trans...|            4-1-4-1|            4-2-3-1|    Yeni Malatyaspor|İstanbul Başakşeh...|2025-06-13 00:02:00|  domestic_league|\n",
            "|2883949|           TR1|  2017|        14. Matchday|2017-12-03|         820|        2381|              4|              0|                17|                10|             Ümit Özat|          Samet Aybaba|Ankara 19 Mayis S...|      NULL|      Mete Kalkavan|https://www.trans...|            4-2-3-1|            4-2-3-1|Genclerbirligi An...|    Sivasspor Kulübü|2025-06-13 04:00:00|  domestic_league|\n",
            "|2883974|           TR1|  2017|        17. Matchday|2017-12-24|       10484|        6890|              1|              2|                11|                 1|           Kemal Özdeş|         Abdullah Avcı|Recep Tayyip Erdo...|      NULL|      Ali Palabıyık|https://www.trans...|            4-2-3-1|            4-2-3-1|Kasımpaşa Spor Ku...|İstanbul Başakşeh...|2025-06-13 01:02:00|  domestic_league|\n",
            "|2883990|           TR1|  2017|        19. Matchday|2018-01-27|       11282|          20|              3|              1|                12|                10|        Hikmet Karaman|          Paul Le Guen|  Gain Park Stadyumu|      NULL|        Ümit Öztürk|https://www.trans...|            4-2-3-1|     4-4-2 double 6|          Alanyaspor|           Bursaspor|2025-06-13 03:01:00|  domestic_league|\n",
            "|2884086|           TR1|  2017|        30. Matchday|2018-04-21|       11282|         141|              2|              3|                15|                 1|          Mesut Bakkal|           Fatih Terim|  Gain Park Stadyumu|      NULL|        Ümit Öztürk|https://www.trans...|            4-2-3-1|            4-2-3-1|          Alanyaspor|Galatasaray Spor ...|2025-06-13 02:03:00|  domestic_league|\n",
            "+-------+--------------+------+--------------------+----------+------------+------------+---------------+---------------+------------------+------------------+----------------------+----------------------+--------------------+----------+-------------------+--------------------+-------------------+-------------------+--------------------+--------------------+-------------------+-----------------+\n",
            "only showing top 20 rows\n"
          ]
        }
      ],
      "source": [
        "# Ver nulos en columnas 'attendance'\n",
        "df_games.filter(col('attendance').isNull()).show()"
      ]
    },
    {
      "cell_type": "code",
      "execution_count": 17,
      "metadata": {
        "id": "OZVhaT07kvOR"
      },
      "outputs": [
        {
          "name": "stdout",
          "output_type": "stream",
          "text": [
            "+-------+--------------+------+------------+----------+------------+------------+---------------+---------------+------------------+------------------+----------------------+----------------------+--------------------+----------+-----------------+--------------------+-------------------+-------------------+--------------------+--------------------+-------------------+----------------+--------------------+-------------+\n",
            "|game_id|competition_id|season|       round|      date|home_club_id|away_club_id|home_club_goals|away_club_goals|home_club_position|away_club_position|home_club_manager_name|away_club_manager_name|             stadium|attendance|          referee|                 url|home_club_formation|away_club_formation|      home_club_name|      away_club_name|          aggregate|competition_type|        stadium_name|stadium_seats|\n",
            "+-------+--------------+------+------------+----------+------------+------------+---------------+---------------+------------------+------------------+----------------------+----------------------+--------------------+----------+-----------------+--------------------+-------------------+-------------------+--------------------+--------------------+-------------------+----------------+--------------------+-------------+\n",
            "|2321027|            L1|  2013| 1. Matchday|2013-08-11|          33|          41|              3|              3|                 8|                 9|           Jens Keller|         Thorsten Fink|       Veltins-Arena|     61973|     Manuel Gräfe|https://www.trans...|            4-2-3-1|            4-2-3-1|       FC Schalke 04|        Hamburger SV|2025-06-13 03:03:00| domestic_league|       Veltins-Arena|        62271|\n",
            "|2321033|            L1|  2013| 1. Matchday|2013-08-10|          23|          86|              0|              1|                13|                 7|  Torsten Lieberknecht|            Robin Dutt|   EINTRACHT-Stadion|     23000|    Deniz Aytekin|https://www.trans...|            4-3-2-1|            4-3-1-2|Eintracht Braunsc...|Sportverein Werde...|2025-06-13 00:01:00| domestic_league|   EINTRACHT-Stadion|        23325|\n",
            "|2321044|            L1|  2013| 2. Matchday|2013-08-18|          16|          23|              2|              1|                 1|                15|          Jürgen Klopp|  Torsten Lieberknecht|   SIGNAL IDUNA PARK|     80200|     Peter Sippel|https://www.trans...|            4-2-3-1|            4-3-2-1|   Borussia Dortmund|Eintracht Braunsc...|2025-06-13 02:01:00| domestic_league|   SIGNAL IDUNA PARK|        81365|\n",
            "|2321060|            L1|  2013| 3. Matchday|2013-08-25|          23|          24|              0|              2|                18|                11|  Torsten Lieberknecht|             Armin Veh|   EINTRACHT-Stadion|     23325|   Wolfgang Stark|https://www.trans...|            4-3-2-1|            4-2-3-1|Eintracht Braunsc...|Eintracht Frankfu...|2025-06-13 00:02:00| domestic_league|   EINTRACHT-Stadion|        23325|\n",
            "|2321072|            L1|  2013| 5. Matchday|2013-09-14|          16|          41|              6|              2|                 1|                15|          Jürgen Klopp|         Thorsten Fink|   SIGNAL IDUNA PARK|     80645|      Tobias Welz|https://www.trans...|            4-2-3-1|              3-5-2|   Borussia Dortmund|        Hamburger SV|2025-06-13 06:02:00| domestic_league|   SIGNAL IDUNA PARK|        81365|\n",
            "|2321079|            L1|  2013| 5. Matchday|2013-09-15|          23|           4|              1|              1|                18|                16|  Torsten Lieberknecht|     Michael Wiesinger|   EINTRACHT-Stadion|     22570|      Marco Fritz|https://www.trans...|     4-4-2 double 6|            4-2-3-1|Eintracht Braunsc...|      1.FC Nuremberg|2025-06-13 01:01:00| domestic_league|   EINTRACHT-Stadion|        23325|\n",
            "|2321086|            L1|  2013| 6. Matchday|2013-09-21|           4|          16|              1|              1|                15|                 1|     Michael Wiesinger|          Jürgen Klopp| Max-Morlock-Stadion|     50000|     Knut Kircher|https://www.trans...|            4-2-3-1|            4-2-3-1|      1.FC Nuremberg|   Borussia Dortmund|2025-06-13 01:01:00| domestic_league| Max-Morlock-Stadion|        50000|\n",
            "|2321152|            L1|  2013|11. Matchday|2013-11-02|          44|          33|              0|              2|                 7|                 6|           Jos Luhukay|           Jens Keller|Olympiastadion Be...|     69277|      Günter Perl|https://www.trans...|            4-2-3-1|            4-2-3-1|          Hertha BSC|       FC Schalke 04|2025-06-13 00:02:00| domestic_league|Olympiastadion Be...|        74667|\n",
            "|2321205|            L1|  2013|17. Matchday|2013-12-21|          41|          39|              2|              3|                14|                 9|      Bert van Marwijk|         Thomas Tuchel|    Volksparkstadion|     50000|  Bastian Dankert|https://www.trans...|            4-2-3-1|      4-4-2 Diamond|        Hamburger SV|1. Fußball- und S...|2025-06-13 02:03:00| domestic_league|    Volksparkstadion|        57000|\n",
            "|2321233|            L1|  2013|20. Matchday|2014-02-08|          41|          44|              0|              3|                17|                 7|      Bert van Marwijk|           Jos Luhukay|    Volksparkstadion|     48593|    Deniz Aytekin|https://www.trans...|            4-2-3-1|            4-1-4-1|        Hamburger SV|          Hertha BSC|2025-06-13 00:03:00| domestic_league|    Volksparkstadion|        57000|\n",
            "|2321307|            L1|  2013|29. Matchday|2014-04-05|          16|          82|              2|              1|                 2|                 6|          Jürgen Klopp|        Dieter Hecking|   SIGNAL IDUNA PARK|     80645|     Knut Kircher|https://www.trans...|            4-2-3-1|            4-2-3-1|   Borussia Dortmund|Verein für Leibes...|2025-06-13 02:01:00| domestic_league|   SIGNAL IDUNA PARK|        81365|\n",
            "|2321330|            L1|  2013|31. Matchday|2014-04-19|         167|          44|              0|              0|                 8|                10|      Markus Weinzierl|           Jos Luhukay|           WWK ARENA|     30059| Dr. Jochen Drees|https://www.trans...|            4-2-3-1|            4-1-4-1|Fußball-Club Augs...|          Hertha BSC|2025-06-13 00:00:00| domestic_league|           WWK ARENA|        30660|\n",
            "|2321335|            L1|  2013|32. Matchday|2014-04-27|          33|          18|              0|              1|                 3|                 6|           Jens Keller|          Lucien Favre|       Veltins-Arena|     61973|     Manuel Gräfe|https://www.trans...|            4-2-3-1|     4-4-2 double 6|       FC Schalke 04|Borussia Verein f...|2025-06-13 00:01:00| domestic_league|       Veltins-Arena|        62271|\n",
            "|2323730|           RU1|  2013| 1. Matchday|2013-07-14|         121|       12438|              2|              2|                 5|                10|          Dan Petrescu|    Yuriy Kalitvintsev|        Arena Khimki|      5604| Aleksey Nikolaev|https://www.trans...|            4-2-3-1|            4-2-3-1|    FK Dinamo Moskva|Volga Nizhniy Nov...|2025-06-13 02:02:00| domestic_league|        Arena Khimki|        18636|\n",
            "|2323731|           RU1|  2013| 1. Matchday|2013-07-17|       16704|         964|              1|              2|                15|                 3|      Slavoljub Muslin|     Luciano Spalletti|               Kuban|     16500|Timur Arslanbekov|https://www.trans...|            4-2-3-1|    4-3-3 Attacking|        FK Krasnodar|AO FK Zenit Sankt...|2025-06-13 01:02:00| domestic_league|                NULL|         NULL|\n",
            "|2329782|           BE1|  2013|18. Matchday|2013-12-07|        1411|        3508|              1|              1|                16|                 4|      Cedomir Janevski|          Francky Dury|Stade Charles Ton...|      2769|      Luc Wouters|https://www.trans...|    4-3-3 Defending|    4-3-3 Defending|  RAEC Mons (- 2015)|    SV Zulte Waregem|2025-06-13 01:01:00| domestic_league|Stade Charles Ton...|        12662|\n",
            "|2330874|           FR1|  2013| 8. Matchday|2013-09-28|         618|         595|              2|              2|                 6|                 8|    Christophe Galtier|        Frédéric Hantz|Stade Geoffroy-Gu...|     31952|   Antony Gautier|https://www.trans...|    4-3-3 Attacking|            4-2-3-1|Association sport...|           SC Bastia|2025-06-13 02:02:00| domestic_league|Stade Geoffroy-Gu...|        41965|\n",
            "|2330880|           FR1|  2013|10. Matchday|2013-10-19|       14171|         855|              1|              2|                16|                10|         Pascal Dupraz|    Jocelyn Gourvennec|Parc des Sports d...|      8620|    Philippe Kalt|https://www.trans...|     4-4-2 double 6|     4-4-2 double 6|Thonon Évian Gran...|         EA Guingamp|2025-06-13 01:02:00| domestic_league|                NULL|         NULL|\n",
            "|2330916|           FR1|  2013|15. Matchday|2013-11-30|        1423|        1082|              0|              1|                18|                 2|          Ariel Jacobs|           René Girard|    Stade du Hainaut|     14874|Bartolomeu Varela|https://www.trans...|     4-4-2 double 6|            4-3-1-2|     Valenciennes FC|Lille Olympique S...|2025-06-13 00:01:00| domestic_league|    Stade du Hainaut|        25000|\n",
            "|2330980|           FR1|  2013|19. Matchday|2013-12-21|        1421|        1147|              4|              1|                 7|                20|       Hubert Fournier|    Christian Bracconi|Stade Auguste-Del...|     14522|  Stéphane Lannoy|https://www.trans...|         4-5-1 flat|            4-2-3-1|      Stade de Reims|          AC Ajaccio|2025-06-13 04:01:00| domestic_league|Stade Auguste-Del...|        20519|\n",
            "+-------+--------------+------+------------+----------+------------+------------+---------------+---------------+------------------+------------------+----------------------+----------------------+--------------------+----------+-----------------+--------------------+-------------------+-------------------+--------------------+--------------------+-------------------+----------------+--------------------+-------------+\n",
            "only showing top 20 rows\n"
          ]
        }
      ],
      "source": [
        "# Sustituir los valores nulos por la capacidad del estadio\n",
        "# La capacidad del estadio esta en 'df_clubs'\n",
        "df_clubs_capacity = df_clubs.select(\"stadium_name\", \"stadium_seats\")\n",
        "\n",
        "# Unir la nueva columna al dataset\n",
        "df_games = df_games.join(df_clubs_capacity, df_games.stadium == df_clubs_capacity.stadium_name, \"left\")\n",
        "\n",
        "# Mostrar dataframe despues de la union\n",
        "df_games.show()"
      ]
    },
    {
      "cell_type": "code",
      "execution_count": 18,
      "metadata": {
        "id": "5fwu8oYvlr9m"
      },
      "outputs": [
        {
          "name": "stdout",
          "output_type": "stream",
          "text": [
            "+-------+--------------+------+-------------------+----------+------------+------------+---------------+---------------+------------------+------------------+----------------------+----------------------+--------------------+----------+-------------------+--------------------+-------------------+-------------------+--------------------+--------------------+-------------------+----------------+\n",
            "|game_id|competition_id|season|              round|      date|home_club_id|away_club_id|home_club_goals|away_club_goals|home_club_position|away_club_position|home_club_manager_name|away_club_manager_name|             stadium|attendance|            referee|                 url|home_club_formation|away_club_formation|      home_club_name|      away_club_name|          aggregate|competition_type|\n",
            "+-------+--------------+------+-------------------+----------+------------+------------+---------------+---------------+------------------+------------------+----------------------+----------------------+--------------------+----------+-------------------+--------------------+-------------------+-------------------+--------------------+--------------------+-------------------+----------------+\n",
            "|2501174|           GRP|  2014|First Round 1st leg|2014-08-29|        3062|         441|              1|              1|       Sin Ranking|       Sin Ranking|    Stavros Iliopoulos|  Nikolaos Kostenoglou|Grigoris Lampraki...|      NULL|  Angelos Evangelou|https://www.trans...|              4-5-1|              4-3-3|Athens Kallithea ...|     Apollon Smyrnis|2025-06-13 01:01:00|    domestic_cup|\n",
            "|2518602|           GR1|  2014|       24. Matchday|2015-02-14|        7185|        5572|              3|              0|                12|                18|               Unknown|               Unknown|Dimotiko Stadio K...|      NULL|            Unknown|https://www.trans...|               NULL|               NULL|Panthrakikos Komo...|          Niki Volou|2025-06-13 03:00:00| domestic_league|\n",
            "|2527985|           GRP|  2014|    last 16 1st leg|2015-01-21|         441|        2672|              1|              1|       Sin Ranking|       Sin Ranking|      Alekos Vosniadis|     Savvas Pantelidis|\"Gipedo Rizoupoli...|      NULL|Dimitrios Styliaras|https://www.trans...|              4-4-2|              4-3-3|     Apollon Smyrnis|APO Levadiakos Fo...|2025-06-13 01:01:00|    domestic_cup|\n",
            "|2722698|           TR1|  2016|       12. Matchday|2016-11-27|         820|         449|              0|              0|                 9|                14|             Ümit Özat|           Ersun Yanal|Ankara 19 Mayis S...|      NULL|      Fırat Aydınus|https://www.trans...|            4-2-3-1|            4-2-3-1|Genclerbirligi An...|  Trabzonspor Kulübü|2025-06-13 00:00:00| domestic_league|\n",
            "|2883897|           TR1|  2017|        9. Matchday|2017-10-21|       19771|         820|              3|              3|                 3|                16|            Okan Buruk|          Mesut Bakkal|     Manisa 19 Mayıs|      NULL|    Suat Arslanboğa|https://www.trans...|            4-2-3-1|            4-2-3-1|         Akhisarspor|Genclerbirligi An...|2025-06-13 03:03:00| domestic_league|\n",
            "|2883916|           TR1|  2017|       11. Matchday|2017-11-05|        2381|        2293|              2|              1|                 5|                15|          Samet Aybaba|        Mehmet Özdilek|  Yeni 4 Eylül Stadı|      NULL|       Cüneyt Çakır|https://www.trans...|            4-2-3-1|            4-2-3-1|    Sivasspor Kulübü|           Konyaspor|2025-06-13 02:01:00| domestic_league|\n",
            "|2883949|           TR1|  2017|       14. Matchday|2017-12-03|         820|        2381|              4|              0|                17|                10|             Ümit Özat|          Samet Aybaba|Ankara 19 Mayis S...|      NULL|      Mete Kalkavan|https://www.trans...|            4-2-3-1|            4-2-3-1|Genclerbirligi An...|    Sivasspor Kulübü|2025-06-13 04:00:00| domestic_league|\n",
            "|2884102|           TR1|  2017|       31. Matchday|2018-04-28|        2381|         820|              1|              0|                 7|                17|          Samet Aybaba|             Ümit Özat|  Yeni 4 Eylül Stadı|      NULL|      Hüseyin Göçek|https://www.trans...|            4-2-3-1|              3-5-2|    Sivasspor Kulübü|Genclerbirligi An...|2025-06-13 01:00:00| domestic_league|\n",
            "|2925772|           GRP|  2017|            Group 3|2017-11-30|        3062|        2441|              2|              3|       Sin Ranking|       Sin Ranking|       Marcello Troisi|        Manolo Jiménez|Grigoris Lampraki...|      NULL|    Andreas Gamaris|https://www.trans...|     4-4-2 double 6|              3-5-2|Athens Kallithea ...|Athlitiki Enosi K...|2025-06-13 02:03:00|    domestic_cup|\n",
            "|2346239|           TR1|  2013|       25. Matchday|2014-03-16|         825|        2292|              1|              0|                 5|                14|       Ertugrul Saglam|            Okan Buruk|   Eskişehir Atatürk|      NULL|      Hüseyin Göcek|https://www.trans...|      4-4-2 Diamond|            4-2-3-1|       Eskisehirspor|          Elazigspor|2025-06-13 01:00:00| domestic_league|\n",
            "|2883876|           TR1|  2017|        6. Matchday|2017-09-23|         820|        6890|              1|              0|                17|                 6|          Mesut Bakkal|         Abdullah Avcı|Ankara 19 Mayis S...|      NULL|       Cüneyt Çakır|https://www.trans...|            4-2-3-1|            4-2-3-1|Genclerbirligi An...|İstanbul Başakşeh...|2025-06-13 01:00:00| domestic_league|\n",
            "|2883883|           TR1|  2017|        7. Matchday|2017-09-29|       19771|          36|              1|              0|                 6|                 7|            Okan Buruk|         Aykut Kocaman|     Manisa 19 Mayıs|      NULL|    Bülent Yıldırım|https://www.trans...|            4-2-3-1|            4-2-3-1|         Akhisarspor|Fenerbahçe Spor K...|2025-06-13 01:00:00| domestic_league|\n",
            "|2884018|           TR1|  2017|       22. Matchday|2018-02-18|          20|       19789|              0|              0|                11|                10|          Paul Le Guen|            Erol Bulut|Yüzüncü Yıl Atatü...|      NULL|      Ali Palabıyık|https://www.trans...|            4-2-3-1|            4-1-4-1|           Bursaspor|    Yeni Malatyaspor|2025-06-13 00:00:00| domestic_league|\n",
            "|2243902|           TR1|  2012|        7. Matchday|2012-10-05|         524|         589|              0|              1|                14|                 7|        Hikmet Karaman|        Mehmet Özdilek|          Kamil Ocak|      NULL|       Serkan Cinar|https://www.trans...|               NULL|               NULL|Gaziantepspor (- ...|         Antalyaspor|2025-06-13 00:01:00| domestic_league|\n",
            "|2243917|           TR1|  2012|        8. Matchday|2012-10-20|         589|        2381|              4|              2|                 2|                 9|        Mehmet Özdilek|         Riza Calimbay|Akdeniz Üniversit...|      NULL|      Tolga Özkalfa|https://www.trans...|               NULL|               NULL|         Antalyaspor|    Sivasspor Kulübü|2025-06-13 04:02:00| domestic_league|\n",
            "|2243939|           TR1|  2012|       10. Matchday|2012-11-04|         820|        2292|              1|              2|                 8|                18|             Fuat Capa|          Yilmaz Vural|Ankara 19 Mayis S...|      NULL|    Hüseyin Sabanci|https://www.trans...|               NULL|               NULL|Genclerbirligi An...|          Elazigspor|2025-06-13 01:02:00| domestic_league|\n",
            "|2243977|           TR1|  2012|       16. Matchday|2012-12-15|        2292|         524|              0|              0|                16|                15|          Yilmaz Vural|        Hikmet Karaman|      Elazığ Atatürk|      NULL|       Serkan Cinar|https://www.trans...|               NULL|               NULL|          Elazigspor|Gaziantepspor (- ...|2025-06-13 00:00:00| domestic_league|\n",
            "|2243992|           TR1|  2012|       15. Matchday|2012-12-08|         524|        1506|              0|              2|                14|                12|        Hikmet Karaman|          Mesut Bakkal|          Kamil Ocak|      NULL|   Volkan Bayarslan|https://www.trans...|               NULL|               NULL|Gaziantepspor (- ...|Kardemir Karabükspor|2025-06-13 00:02:00| domestic_league|\n",
            "|2647660|           CDR|  2015|    last 16 2nd leg|2016-01-14|          13|         367|              3|              0|       Sin Ranking|       Sin Ranking|         Diego Simeone|            Paco Jémez|    Vicente Calderón|      NULL|  González González|https://www.trans...|    4-3-3 Attacking|            4-2-3-1|Club Atlético de ...|Rayo Vallecano de...|2025-06-13 03:00:00|    domestic_cup|\n",
            "|2243955|           TR1|  2012|       13. Matchday|2012-11-23|        3216|        1506|              2|              1|                16|                12|       Nurullah Saglam|          Mesut Bakkal|Tevfik Sirri Gür ...|      NULL|      Süleyman Abay|https://www.trans...|               NULL|               NULL|Mersin Talimyurdu SK|Kardemir Karabükspor|2025-06-13 02:01:00| domestic_league|\n",
            "+-------+--------------+------+-------------------+----------+------------+------------+---------------+---------------+------------------+------------------+----------------------+----------------------+--------------------+----------+-------------------+--------------------+-------------------+-------------------+--------------------+--------------------+-------------------+----------------+\n",
            "only showing top 20 rows\n"
          ]
        }
      ],
      "source": [
        "# Rellenar los nulos en 'attendance' usando la capacidad del estadio correspondiente\n",
        "df_games = df_games.withColumn(\n",
        "    \"attendance\",\n",
        "    when(col(\"attendance\").isNull(), col(\"stadium_seats\")).otherwise(col(\"attendance\"))\n",
        ")\n",
        "\n",
        "# Eliminar las columna temporales\n",
        "df_games = df_games.drop(\"stadium_name\", \"stadium_seats\")\n",
        "\n",
        "# Comprobar los nulos en 'attendance' despues de la sustitucion\n",
        "df_games.filter(col('attendance').isNull()).show()"
      ]
    },
    {
      "cell_type": "code",
      "execution_count": 19,
      "metadata": {
        "id": "oNUTFstKuKwI"
      },
      "outputs": [
        {
          "name": "stdout",
          "output_type": "stream",
          "text": [
            "+-------+--------------+------+-----+----+------------+------------+---------------+---------------+------------------+------------------+----------------------+----------------------+-------+----------+-------+---+-------------------+-------------------+--------------+--------------+---------+----------------+\n",
            "|game_id|competition_id|season|round|date|home_club_id|away_club_id|home_club_goals|away_club_goals|home_club_position|away_club_position|home_club_manager_name|away_club_manager_name|stadium|attendance|referee|url|home_club_formation|away_club_formation|home_club_name|away_club_name|aggregate|competition_type|\n",
            "+-------+--------------+------+-----+----+------------+------------+---------------+---------------+------------------+------------------+----------------------+----------------------+-------+----------+-------+---+-------------------+-------------------+--------------+--------------+---------+----------------+\n",
            "|      0|             0|     0|    0|   0|           0|           0|              0|              0|                 0|                 0|                     0|                     0|      0|         0|      0|  0|               7332|               7164|         12874|         11662|        0|               0|\n",
            "+-------+--------------+------+-----+----+------------+------------+---------------+---------------+------------------+------------------+----------------------+----------------------+-------+----------+-------+---+-------------------+-------------------+--------------+--------------+---------+----------------+\n",
            "\n"
          ]
        }
      ],
      "source": [
        "# Aun quedan valores nulos en 'attendance', probablemente sean de estadios que tengan de nombre 'Unkown'\n",
        "# Sustituir esos valores de 'attendance' por 0\n",
        "df_games = df_games.withColumn(\n",
        "    \"attendance\",\n",
        "    when(col(\"attendance\").isNull(), 0).otherwise(col(\"attendance\"))\n",
        ")\n",
        "# Ver nulos en todas las columnas\n",
        "contar_nulos_por_columna(df_games).show()"
      ]
    },
    {
      "cell_type": "code",
      "execution_count": 20,
      "metadata": {
        "id": "CdiOdQyjxyb2"
      },
      "outputs": [
        {
          "name": "stdout",
          "output_type": "stream",
          "text": [
            "+-------+--------------+------+------------+----------+------------+------------+---------------+---------------+------------------+------------------+----------------------+----------------------+--------------------+----------+--------------------+--------------------+-------------------+-------------------+--------------------+--------------------+-------------------+----------------+\n",
            "|game_id|competition_id|season|       round|      date|home_club_id|away_club_id|home_club_goals|away_club_goals|home_club_position|away_club_position|home_club_manager_name|away_club_manager_name|             stadium|attendance|             referee|                 url|home_club_formation|away_club_formation|      home_club_name|      away_club_name|          aggregate|competition_type|\n",
            "+-------+--------------+------+------------+----------+------------+------------+---------------+---------------+------------------+------------------+----------------------+----------------------+--------------------+----------+--------------------+--------------------+-------------------+-------------------+--------------------+--------------------+-------------------+----------------+\n",
            "|2518602|           GR1|  2014|24. Matchday|2015-02-14|        7185|        5572|              3|              0|                12|                18|               Unknown|               Unknown|Dimotiko Stadio K...|         0|             Unknown|https://www.trans...|               NULL|               NULL|Panthrakikos Komo...|          Niki Volou|2025-06-13 03:00:00| domestic_league|\n",
            "|2888455|          UKR1|  2017| 7. Matchday|2017-08-26|        6993|         338|              3|              0|                 5|                 2|               Unknown|               Unknown|Stadion im. Volod...|     12680|             Unknown|https://www.trans...|               NULL|               NULL|         FK Mariupol|Futbolniy Klub Dy...|2025-06-13 03:00:00| domestic_league|\n",
            "|2453109|          UKR1|  2013|30. Matchday|2014-05-17|       16245|        6996|              3|              0|                 9|                12|               Unknown|               Unknown|       SK Sevastopol|      5826|             Unknown|https://www.trans...|               NULL|               NULL|FK Sevastopol (- ...|Goverla Uzhgorod ...|2025-06-13 03:00:00| domestic_league|\n",
            "|2222597|           RU1|  2012| 6. Matchday|2012-08-25|        3725|         232|              2|              1|                 2|                 5|  Stanislav Cherchesov|            Unai Emery|        Akhmat-Arena|     21700|Vladislav Bezborodov|https://www.trans...|               NULL|               NULL|   RFK Akhmat Grozny|   FK Spartak Moskva|2025-06-13 02:01:00| domestic_league|\n",
            "|2222627|           RU1|  2012| 5. Matchday|2012-08-20|        2696|        4128|              0|              2|                11|                10|        Andrey Kobelev|         Rustem Khuzin|           Metallurg|     11400|       Sergey Ivanov|https://www.trans...|               NULL|               NULL|PFK Krylya Soveto...|          Amkar Perm|2025-06-13 00:02:00| domestic_league|\n",
            "|2222658|           RU1|  2012|10. Matchday|2012-09-30|        2410|         121|              0|              2|                 2|                13|        Leonid Slutski|          Dan Petrescu|        Arena Khimki|     12000|      Sergey Karasev|https://www.trans...|               NULL|               NULL|     PFK CSKA Moskva|    FK Dinamo Moskva|2025-06-13 00:02:00| domestic_league|\n",
            "|2222664|           RU1|  2012| 8. Matchday|2012-09-15|         932|        2698|              1|              0|                 5|                 8|          Slaven Bilic|        Kurban Berdyev|           RZD Arena|     11408|      Sergey Karasev|https://www.trans...|               NULL|               NULL|\"Футбольный клуб ...|      FC Rubin Kazan|2025-06-13 01:00:00| domestic_league|\n",
            "|2222683|           RU1|  2012|12. Matchday|2012-10-22|        2696|       12438|              0|              1|                11|                16|        Andrey Kobelev|       Gadzhi Gadzhiev|           Metallurg|      7534|   Timur Arslanbekov|https://www.trans...|               NULL|               NULL|PFK Krylya Soveto...|Volga Nizhniy Nov...|2025-06-13 00:01:00| domestic_league|\n",
            "|2222685|           RU1|  2012|19. Matchday|2012-12-10|        2698|         232|              0|              1|                 7|                 5|        Kurban Berdyev|        Valeriy Karpin|Central Stadium  ...|      8384|Vladislav Bezborodov|https://www.trans...|               NULL|               NULL|      FC Rubin Kazan|   FK Spartak Moskva|2025-06-13 00:01:00| domestic_league|\n",
            "|2222734|           RU1|  2012|19. Matchday|2012-12-07|        1083|       16704|              2|              3|                11|                10|       Miodrag Bozovic|      Slavoljub Muslin|             Olimp-2|      5700|    Sergey Kuznetsov|https://www.trans...|               NULL|               NULL|           FK Rostov|        FK Krasnodar|2025-06-13 02:03:00| domestic_league|\n",
            "|2222735|           RU1|  2012|18. Matchday|2012-12-02|        2700|        2410|              2|              0|                 1|                 2|          Guus Hiddink|        Leonid Slutski|              Dinamo|     15500|Vladislav Bezborodov|https://www.trans...|               NULL|               NULL|Anzhi Makhachkala...|     PFK CSKA Moskva|2025-06-13 02:00:00| domestic_league|\n",
            "|2222739|           RU1|  2012|22. Matchday|2013-03-31|       16704|        2700|              4|              0|                 8|                 3|      Slavoljub Muslin|          Guus Hiddink|               Kuban|     18800|    Aleksey Nikolaev|https://www.trans...|               NULL|               NULL|        FK Krasnodar|Anzhi Makhachkala...|2025-06-13 04:00:00| domestic_league|\n",
            "|2222775|           RU1|  2012|28. Matchday|2013-05-12|        3725|        2700|              1|              0|                 8|                 3|  Stanislav Cherchesov|          Guus Hiddink|        Akhmat-Arena|     22000|      Vitali Meshkov|https://www.trans...|               NULL|               NULL|   RFK Akhmat Grozny|Anzhi Makhachkala...|2025-06-13 01:00:00| domestic_league|\n",
            "|2222802|           RU1|  2012|25. Matchday|2013-04-21|        2700|         121|              3|              3|                 3|                 7|          Guus Hiddink|          Dan Petrescu|         Anzhi-Arena|     24500|    Sergey Lapochkin|https://www.trans...|               NULL|               NULL|Anzhi Makhachkala...|    FK Dinamo Moskva|2025-06-13 03:03:00| domestic_league|\n",
            "|2222816|           RU1|  2012|27. Matchday|2013-05-05|       16704|       12438|              2|              0|                 8|                13|      Slavoljub Muslin|    Yuriy Kalitvintsev|               Kuban|      5300|    Maksim Layushkin|https://www.trans...|               NULL|               NULL|        FK Krasnodar|Volga Nizhniy Nov...|2025-06-13 02:00:00| domestic_league|\n",
            "|2222958|          UKR1|  2012| 1. Matchday|2012-07-14|        6414|        6993|              2|              0|                 3|                13|       Myron Markevych|         Mykola Pavlov|        OSK Metalist|     24862|     Vitaliy Romanov|https://www.trans...|               NULL|               NULL|Metalist Kharkiv ...|         FK Mariupol|2025-06-13 02:00:00| domestic_league|\n",
            "|2222988|          UKR1|  2012| 5. Matchday|2012-08-12|         660|        2740|              4|              1|                 1|                14|        Mircea Lucescu|     Vadym Yevtushenko|       Donbass Arena|     39075|       Andriy Kuzmin|https://www.trans...|               NULL|               NULL| FC Shakhtar Donetsk|     Vorskla Poltava|2025-06-13 04:01:00| domestic_league|\n",
            "|2223015|          UKR1|  2012| 8. Matchday|2012-08-31|        6996|        2227|              2|              1|                15|                14|     Oleksandr Sevidov|          Oleg Luzhnyi|            Avangard|      4700|        Yuriy Grysyo|https://www.trans...|               NULL|               NULL|Goverla Uzhgorod ...|SK Tavriya Simfer...|2025-06-13 02:01:00| domestic_league|\n",
            "|2223015|          UKR1|  2012| 8. Matchday|2012-08-31|        6996|        2227|              2|              1|                15|                14|     Oleksandr Sevidov|          Oleg Luzhnyi|            Avangard|      4700|        Yuriy Grysyo|https://www.trans...|               NULL|               NULL|Goverla Uzhgorod ...|SK Tavriya Simfer...|2025-06-13 02:01:00| domestic_league|\n",
            "|2223018|          UKR1|  2012|13. Matchday|2012-10-27|        6996|        3592|              1|              1|                15|                12|     Oleksandr Sevidov|            Oleg Taran|            Avangard|      1950|    Sergiy Lysenchuk|https://www.trans...|               NULL|               NULL|Goverla Uzhgorod ...|FK Kryvbas Kryvyi...|2025-06-13 01:01:00| domestic_league|\n",
            "+-------+--------------+------+------------+----------+------------+------------+---------------+---------------+------------------+------------------+----------------------+----------------------+--------------------+----------+--------------------+--------------------+-------------------+-------------------+--------------------+--------------------+-------------------+----------------+\n",
            "only showing top 20 rows\n",
            "+-------+--------------+------+------------+----------+------------+------------+---------------+---------------+------------------+------------------+----------------------+----------------------+--------------------+----------+--------------------+--------------------+-------------------+-------------------+--------------------+--------------------+-------------------+----------------+\n",
            "|game_id|competition_id|season|       round|      date|home_club_id|away_club_id|home_club_goals|away_club_goals|home_club_position|away_club_position|home_club_manager_name|away_club_manager_name|             stadium|attendance|             referee|                 url|home_club_formation|away_club_formation|      home_club_name|      away_club_name|          aggregate|competition_type|\n",
            "+-------+--------------+------+------------+----------+------------+------------+---------------+---------------+------------------+------------------+----------------------+----------------------+--------------------+----------+--------------------+--------------------+-------------------+-------------------+--------------------+--------------------+-------------------+----------------+\n",
            "|2518602|           GR1|  2014|24. Matchday|2015-02-14|        7185|        5572|              3|              0|                12|                18|               Unknown|               Unknown|Dimotiko Stadio K...|         0|             Unknown|https://www.trans...|               NULL|               NULL|Panthrakikos Komo...|          Niki Volou|2025-06-13 03:00:00| domestic_league|\n",
            "|2888455|          UKR1|  2017| 7. Matchday|2017-08-26|        6993|         338|              3|              0|                 5|                 2|               Unknown|               Unknown|Stadion im. Volod...|     12680|             Unknown|https://www.trans...|               NULL|               NULL|         FK Mariupol|Futbolniy Klub Dy...|2025-06-13 03:00:00| domestic_league|\n",
            "|2453109|          UKR1|  2013|30. Matchday|2014-05-17|       16245|        6996|              3|              0|                 9|                12|               Unknown|               Unknown|       SK Sevastopol|      5826|             Unknown|https://www.trans...|               NULL|               NULL|FK Sevastopol (- ...|Goverla Uzhgorod ...|2025-06-13 03:00:00| domestic_league|\n",
            "|2222597|           RU1|  2012| 6. Matchday|2012-08-25|        3725|         232|              2|              1|                 2|                 5|  Stanislav Cherchesov|            Unai Emery|        Akhmat-Arena|     21700|Vladislav Bezborodov|https://www.trans...|               NULL|               NULL|   RFK Akhmat Grozny|   FK Spartak Moskva|2025-06-13 02:01:00| domestic_league|\n",
            "|2222627|           RU1|  2012| 5. Matchday|2012-08-20|        2696|        4128|              0|              2|                11|                10|        Andrey Kobelev|         Rustem Khuzin|           Metallurg|     11400|       Sergey Ivanov|https://www.trans...|               NULL|               NULL|PFK Krylya Soveto...|          Amkar Perm|2025-06-13 00:02:00| domestic_league|\n",
            "|2222658|           RU1|  2012|10. Matchday|2012-09-30|        2410|         121|              0|              2|                 2|                13|        Leonid Slutski|          Dan Petrescu|        Arena Khimki|     12000|      Sergey Karasev|https://www.trans...|               NULL|               NULL|     PFK CSKA Moskva|    FK Dinamo Moskva|2025-06-13 00:02:00| domestic_league|\n",
            "|2222664|           RU1|  2012| 8. Matchday|2012-09-15|         932|        2698|              1|              0|                 5|                 8|          Slaven Bilic|        Kurban Berdyev|           RZD Arena|     11408|      Sergey Karasev|https://www.trans...|               NULL|               NULL|\"Футбольный клуб ...|      FC Rubin Kazan|2025-06-13 01:00:00| domestic_league|\n",
            "|2222683|           RU1|  2012|12. Matchday|2012-10-22|        2696|       12438|              0|              1|                11|                16|        Andrey Kobelev|       Gadzhi Gadzhiev|           Metallurg|      7534|   Timur Arslanbekov|https://www.trans...|               NULL|               NULL|PFK Krylya Soveto...|Volga Nizhniy Nov...|2025-06-13 00:01:00| domestic_league|\n",
            "|2222685|           RU1|  2012|19. Matchday|2012-12-10|        2698|         232|              0|              1|                 7|                 5|        Kurban Berdyev|        Valeriy Karpin|Central Stadium  ...|      8384|Vladislav Bezborodov|https://www.trans...|               NULL|               NULL|      FC Rubin Kazan|   FK Spartak Moskva|2025-06-13 00:01:00| domestic_league|\n",
            "|2222734|           RU1|  2012|19. Matchday|2012-12-07|        1083|       16704|              2|              3|                11|                10|       Miodrag Bozovic|      Slavoljub Muslin|             Olimp-2|      5700|    Sergey Kuznetsov|https://www.trans...|               NULL|               NULL|           FK Rostov|        FK Krasnodar|2025-06-13 02:03:00| domestic_league|\n",
            "|2222735|           RU1|  2012|18. Matchday|2012-12-02|        2700|        2410|              2|              0|                 1|                 2|          Guus Hiddink|        Leonid Slutski|              Dinamo|     15500|Vladislav Bezborodov|https://www.trans...|               NULL|               NULL|Anzhi Makhachkala...|     PFK CSKA Moskva|2025-06-13 02:00:00| domestic_league|\n",
            "|2222739|           RU1|  2012|22. Matchday|2013-03-31|       16704|        2700|              4|              0|                 8|                 3|      Slavoljub Muslin|          Guus Hiddink|               Kuban|     18800|    Aleksey Nikolaev|https://www.trans...|               NULL|               NULL|        FK Krasnodar|Anzhi Makhachkala...|2025-06-13 04:00:00| domestic_league|\n",
            "|2222775|           RU1|  2012|28. Matchday|2013-05-12|        3725|        2700|              1|              0|                 8|                 3|  Stanislav Cherchesov|          Guus Hiddink|        Akhmat-Arena|     22000|      Vitali Meshkov|https://www.trans...|               NULL|               NULL|   RFK Akhmat Grozny|Anzhi Makhachkala...|2025-06-13 01:00:00| domestic_league|\n",
            "|2222802|           RU1|  2012|25. Matchday|2013-04-21|        2700|         121|              3|              3|                 3|                 7|          Guus Hiddink|          Dan Petrescu|         Anzhi-Arena|     24500|    Sergey Lapochkin|https://www.trans...|               NULL|               NULL|Anzhi Makhachkala...|    FK Dinamo Moskva|2025-06-13 03:03:00| domestic_league|\n",
            "|2222816|           RU1|  2012|27. Matchday|2013-05-05|       16704|       12438|              2|              0|                 8|                13|      Slavoljub Muslin|    Yuriy Kalitvintsev|               Kuban|      5300|    Maksim Layushkin|https://www.trans...|               NULL|               NULL|        FK Krasnodar|Volga Nizhniy Nov...|2025-06-13 02:00:00| domestic_league|\n",
            "|2222958|          UKR1|  2012| 1. Matchday|2012-07-14|        6414|        6993|              2|              0|                 3|                13|       Myron Markevych|         Mykola Pavlov|        OSK Metalist|     24862|     Vitaliy Romanov|https://www.trans...|               NULL|               NULL|Metalist Kharkiv ...|         FK Mariupol|2025-06-13 02:00:00| domestic_league|\n",
            "|2222988|          UKR1|  2012| 5. Matchday|2012-08-12|         660|        2740|              4|              1|                 1|                14|        Mircea Lucescu|     Vadym Yevtushenko|       Donbass Arena|     39075|       Andriy Kuzmin|https://www.trans...|               NULL|               NULL| FC Shakhtar Donetsk|     Vorskla Poltava|2025-06-13 04:01:00| domestic_league|\n",
            "|2223015|          UKR1|  2012| 8. Matchday|2012-08-31|        6996|        2227|              2|              1|                15|                14|     Oleksandr Sevidov|          Oleg Luzhnyi|            Avangard|      4700|        Yuriy Grysyo|https://www.trans...|               NULL|               NULL|Goverla Uzhgorod ...|SK Tavriya Simfer...|2025-06-13 02:01:00| domestic_league|\n",
            "|2223015|          UKR1|  2012| 8. Matchday|2012-08-31|        6996|        2227|              2|              1|                15|                14|     Oleksandr Sevidov|          Oleg Luzhnyi|            Avangard|      4700|        Yuriy Grysyo|https://www.trans...|               NULL|               NULL|Goverla Uzhgorod ...|SK Tavriya Simfer...|2025-06-13 02:01:00| domestic_league|\n",
            "|2223018|          UKR1|  2012|13. Matchday|2012-10-27|        6996|        3592|              1|              1|                15|                12|     Oleksandr Sevidov|            Oleg Taran|            Avangard|      1950|    Sergiy Lysenchuk|https://www.trans...|               NULL|               NULL|Goverla Uzhgorod ...|FK Kryvbas Kryvyi...|2025-06-13 01:01:00| domestic_league|\n",
            "+-------+--------------+------+------------+----------+------------+------------+---------------+---------------+------------------+------------------+----------------------+----------------------+--------------------+----------+--------------------+--------------------+-------------------+-------------------+--------------------+--------------------+-------------------+----------------+\n",
            "only showing top 20 rows\n"
          ]
        }
      ],
      "source": [
        "# Ver valores nulos en las columnas de formaciones\n",
        "df_games.filter(col('home_club_formation').isNull()).show()\n",
        "df_games.filter(col('away_club_formation').isNull()).show()"
      ]
    },
    {
      "cell_type": "code",
      "execution_count": 21,
      "metadata": {
        "id": "g3tupelZyELx"
      },
      "outputs": [
        {
          "name": "stdout",
          "output_type": "stream",
          "text": [
            "+-------------------+\n",
            "|home_club_formation|\n",
            "+-------------------+\n",
            "|4-5-1              |\n",
            "|4-2-4              |\n",
            "|2-4-4              |\n",
            "|4-1-5              |\n",
            "|6-1-3              |\n",
            "|5-4-1              |\n",
            "|4-5-1 flat         |\n",
            "|3-5-2              |\n",
            "|3-3-3-1            |\n",
            "|3-4-2-1            |\n",
            "|2-5-3              |\n",
            "|1-9-0              |\n",
            "|4-1-3-2            |\n",
            "|4-3-3              |\n",
            "|3-4-3              |\n",
            "|5-3-2              |\n",
            "|4-4-2 Diamond      |\n",
            "|3-6-1              |\n",
            "|5-2-3              |\n",
            "|3-4-1-2            |\n",
            "+-------------------+\n",
            "only showing top 20 rows\n",
            "+-------------------------+\n",
            "|away_club_formation      |\n",
            "+-------------------------+\n",
            "|4-2-4                    |\n",
            "|4-5-1                    |\n",
            "|2-4-4                    |\n",
            "|4-1-5                    |\n",
            "|6-1-3                    |\n",
            "|Starting Line-up: 4-1-4-1|\n",
            "|5-4-1                    |\n",
            "|2-8-0                    |\n",
            "|3-5-2                    |\n",
            "|4-5-1 flat               |\n",
            "|3-3-3-1                  |\n",
            "|3-4-2-1                  |\n",
            "|0-10-0                   |\n",
            "|2-5-3                    |\n",
            "|1-9-0                    |\n",
            "|4-1-3-2                  |\n",
            "|4-3-3                    |\n",
            "|3-4-3                    |\n",
            "|5-3-2                    |\n",
            "|4-4-2 Diamond            |\n",
            "+-------------------------+\n",
            "only showing top 20 rows\n"
          ]
        }
      ],
      "source": [
        "# Ver valores unicos de las columnas de formaciones\n",
        "df_games.select(\"home_club_formation\").distinct().show(truncate=False)\n",
        "df_games.select(\"away_club_formation\").distinct().show(truncate=False)"
      ]
    },
    {
      "cell_type": "markdown",
      "metadata": {
        "id": "i63Jpb7y1Kut"
      },
      "source": [
        "Las columnas de 'home_club_formation' y 'home_club_formation' tienen muchos nulos y no tienen todas el formato correcto.\n",
        "\n",
        "Decidimos definir una funcion para aplicarles a todas un formato uniforme."
      ]
    },
    {
      "cell_type": "code",
      "execution_count": 22,
      "metadata": {
        "id": "FUBsY_Ua03x-"
      },
      "outputs": [],
      "source": [
        "def formatear_formaciones(column_name):\n",
        "    \"\"\"\n",
        "    Construye una expresion Spark SQL para limpiar, validar el formato, y formatear una columna de formacion,\n",
        "    reemplazando con \"Unknown\" si no cumple el formato.\n",
        "    Explicacion:\n",
        "      - Limpia caracteres no deseados en los valores (solo admite numeros y guiones).\n",
        "      - Usa regexp_extract() para verificar el formato: de 3 a 4 digitos separados por guiones.\n",
        "      - Si el patron coincide, usa la cadena limpiada; de lo contrario, usa \"Unknown\".\n",
        "    Args:\n",
        "        column_name (str): Nombre de la columna a formatear.\n",
        "\n",
        "    Returns:\n",
        "        Expresion Spark SQL para formatear la columna.\n",
        "    \"\"\"\n",
        "\n",
        "    cleaned_formation = regexp_replace(col(column_name), \"[^0-9-]\", \"\")\n",
        "\n",
        "    pattern = r\"^(\\d+)-(\\d+)-(\\d+)$|^(\\d+)-(\\d+)-(\\d+)-(\\d+)$\"\n",
        "    matches_pattern = regexp_extract(cleaned_formation, pattern, 0) != \"\"\n",
        "\n",
        "    final_formation = when(matches_pattern, cleaned_formation).otherwise(\"Unknown\")\n",
        "\n",
        "    return final_formation"
      ]
    },
    {
      "cell_type": "code",
      "execution_count": 23,
      "metadata": {
        "id": "obKYaqddyMnU"
      },
      "outputs": [
        {
          "name": "stderr",
          "output_type": "stream",
          "text": [
            "                                                                                \r"
          ]
        },
        {
          "name": "stdout",
          "output_type": "stream",
          "text": [
            "+-------+--------------+------+-----+----+------------+------------+---------------+---------------+------------------+------------------+----------------------+----------------------+-------+----------+-------+---+-------------------+-------------------+--------------+--------------+---------+----------------+\n",
            "|game_id|competition_id|season|round|date|home_club_id|away_club_id|home_club_goals|away_club_goals|home_club_position|away_club_position|home_club_manager_name|away_club_manager_name|stadium|attendance|referee|url|home_club_formation|away_club_formation|home_club_name|away_club_name|aggregate|competition_type|\n",
            "+-------+--------------+------+-----+----+------------+------------+---------------+---------------+------------------+------------------+----------------------+----------------------+-------+----------+-------+---+-------------------+-------------------+--------------+--------------+---------+----------------+\n",
            "|      0|             0|     0|    0|   0|           0|           0|              0|              0|                 0|                 0|                     0|                     0|      0|         0|      0|  0|                  0|                  0|         12874|         11662|        0|               0|\n",
            "+-------+--------------+------+-----+----+------------+------------+---------------+---------------+------------------+------------------+----------------------+----------------------+-------+----------+-------+---+-------------------+-------------------+--------------+--------------+---------+----------------+\n",
            "\n",
            "+-------------------+\n",
            "|home_club_formation|\n",
            "+-------------------+\n",
            "|4-5-1              |\n",
            "|4-2-4              |\n",
            "|2-4-4              |\n",
            "|4-1-5              |\n",
            "|6-1-3              |\n",
            "|5-4-1              |\n",
            "|3-5-2              |\n",
            "|3-3-3-1            |\n",
            "|3-4-2-1            |\n",
            "|2-5-3              |\n",
            "|1-9-0              |\n",
            "|4-1-3-2            |\n",
            "|4-3-3              |\n",
            "|3-4-3              |\n",
            "|5-3-2              |\n",
            "|Unknown            |\n",
            "|3-6-1              |\n",
            "|5-2-3              |\n",
            "|3-4-1-2            |\n",
            "|4-2-3-1            |\n",
            "+-------------------+\n",
            "only showing top 20 rows\n",
            "+-------------------+\n",
            "|away_club_formation|\n",
            "+-------------------+\n",
            "|4-2-4              |\n",
            "|4-5-1              |\n",
            "|2-4-4              |\n",
            "|4-1-5              |\n",
            "|6-1-3              |\n",
            "|5-4-1              |\n",
            "|2-8-0              |\n",
            "|3-5-2              |\n",
            "|3-3-3-1            |\n",
            "|3-4-2-1            |\n",
            "|0-10-0             |\n",
            "|2-5-3              |\n",
            "|1-9-0              |\n",
            "|4-1-3-2            |\n",
            "|4-3-3              |\n",
            "|3-4-3              |\n",
            "|5-3-2              |\n",
            "|Unknown            |\n",
            "|3-6-1              |\n",
            "|5-2-3              |\n",
            "+-------------------+\n",
            "only showing top 20 rows\n"
          ]
        }
      ],
      "source": [
        "# Aplicar la funcion de formateo\n",
        "df_games = df_games.withColumn(\"home_club_formation\", formatear_formaciones(\"home_club_formation\"))\n",
        "df_games = df_games.withColumn(\"away_club_formation\", formatear_formaciones(\"away_club_formation\"))\n",
        "\n",
        "# Verificar nulos de nuevo\n",
        "contar_nulos_por_columna(df_games).show()\n",
        "\n",
        "# Ver si el formato se aplico correctamente\n",
        "df_games.select(\"home_club_formation\").distinct().show(truncate=False)\n",
        "df_games.select(\"away_club_formation\").distinct().show(truncate=False)"
      ]
    },
    {
      "cell_type": "code",
      "execution_count": 24,
      "metadata": {},
      "outputs": [
        {
          "name": "stdout",
          "output_type": "stream",
          "text": [
            "+--------------------+\n",
            "|round               |\n",
            "+--------------------+\n",
            "|39. Matchday        |\n",
            "|3. Matchday         |\n",
            "|17. Matchday        |\n",
            "|21. Matchday        |\n",
            "|4th round 2nd leg   |\n",
            "|Group 1             |\n",
            "|42. Matchday        |\n",
            "|1. Matchday         |\n",
            "|3rd round 1st leg   |\n",
            "|Final               |\n",
            "|Third Place Play-Off|\n",
            "|intermediate stage  |\n",
            "|Group H             |\n",
            "|41. Matchday        |\n",
            "|Semi-Finals 1st Leg |\n",
            "|30. Matchday        |\n",
            "|group L             |\n",
            "|2. Matchday         |\n",
            "|group I             |\n",
            "|20. Matchday        |\n",
            "+--------------------+\n",
            "only showing top 20 rows\n"
          ]
        }
      ],
      "source": [
        "# Ver valores unicos de la columna 'round'\n",
        "df_games.select(\"round\").distinct().show(truncate=False)"
      ]
    },
    {
      "cell_type": "code",
      "execution_count": 25,
      "metadata": {},
      "outputs": [
        {
          "name": "stderr",
          "output_type": "stream",
          "text": [
            "[Stage 62:=========>                                                (1 + 5) / 6]\r"
          ]
        },
        {
          "name": "stdout",
          "output_type": "stream",
          "text": [
            "+-------------------+\n",
            "|round              |\n",
            "+-------------------+\n",
            "|39. Matchday       |\n",
            "|3. Matchday        |\n",
            "|17. Matchday       |\n",
            "|21. Matchday       |\n",
            "|Group 1            |\n",
            "|42. Matchday       |\n",
            "|1. Matchday        |\n",
            "|Last 16 2nd Leg    |\n",
            "|Final              |\n",
            "|Group H            |\n",
            "|41. Matchday       |\n",
            "|Last 16 1st Leg    |\n",
            "|Round Of 16 Replay |\n",
            "|30. Matchday       |\n",
            "|2. Matchday        |\n",
            "|20. Matchday       |\n",
            "|Group 5            |\n",
            "|Second Round Replay|\n",
            "|6th Round Deciders |\n",
            "|4th Round 1st Leg  |\n",
            "+-------------------+\n",
            "only showing top 20 rows\n"
          ]
        },
        {
          "name": "stderr",
          "output_type": "stream",
          "text": [
            "                                                                                \r"
          ]
        }
      ],
      "source": [
        "# Aplicar un formato a la columna 'round' para que los valores empiecen por mayuscula y no tengan caracteres especiales\n",
        "df_games = df_games.withColumn(\n",
        "    \"round\",\n",
        "    initcap(regexp_replace(col(\"round\"), \"[^a-zA-Z0-9-. ]\", \"\"))\n",
        ")\n",
        "# Ver si el formato se aplico correctamente\n",
        "df_games.select(\"round\").distinct().show(truncate=False)"
      ]
    },
    {
      "cell_type": "code",
      "execution_count": 77,
      "metadata": {
        "id": "Gjdc7X35Q9Fx"
      },
      "outputs": [
        {
          "name": "stdout",
          "output_type": "stream",
          "text": [
            "+-------+--------------+------+-----+----+------------+------------+---------------+---------------+------------------+------------------+----------------------+----------------------+-------+----------+-------+---+-------------------+-------------------+---------+----------------+\n",
            "|game_id|competition_id|season|round|date|home_club_id|away_club_id|home_club_goals|away_club_goals|home_club_position|away_club_position|home_club_manager_name|away_club_manager_name|stadium|attendance|referee|url|home_club_formation|away_club_formation|aggregate|competition_type|\n",
            "+-------+--------------+------+-----+----+------------+------------+---------------+---------------+------------------+------------------+----------------------+----------------------+-------+----------+-------+---+-------------------+-------------------+---------+----------------+\n",
            "|      0|             0|     0|    0|   0|           0|           0|              0|              0|                 0|                 0|                     0|                     0|      0|         0|      0|  0|                  0|                  0|        0|               0|\n",
            "+-------+--------------+------+-----+----+------------+------------+---------------+---------------+------------------+------------------+----------------------+----------------------+-------+----------+-------+---+-------------------+-------------------+---------+----------------+\n",
            "\n"
          ]
        }
      ],
      "source": [
        "# Hay valores nulos en 'home_club_name' y 'away_club_name', como ya tenemos el 'club_id' decidimos eliminar los nombres de esta tabla\n",
        "df_games = df_games.drop(\"home_club_name\", \"away_club_name\")\n",
        "contar_nulos_por_columna(df_games).show()"
      ]
    },
    {
      "cell_type": "code",
      "execution_count": 78,
      "metadata": {
        "id": "jTHnq02YTH0r"
      },
      "outputs": [
        {
          "name": "stdout",
          "output_type": "stream",
          "text": [
            "+-------+--------------+------+------------+----------+------------+------------+---------------+---------------+------------------+------------------+----------------------+----------------------+--------------------+----------+-----------------+-------------------+-------------------+----------------+\n",
            "|game_id|competition_id|season|       round|      date|home_club_id|away_club_id|home_club_goals|away_club_goals|home_club_position|away_club_position|home_club_manager_name|away_club_manager_name|             stadium|attendance|          referee|home_club_formation|away_club_formation|competition_type|\n",
            "+-------+--------------+------+------------+----------+------------+------------+---------------+---------------+------------------+------------------+----------------------+----------------------+--------------------+----------+-----------------+-------------------+-------------------+----------------+\n",
            "|2321027|            L1|  2013| 1. Matchday|2013-08-11|          33|          41|              3|              3|                 8|                 9|           Jens Keller|         Thorsten Fink|       Veltins-Arena|     61973|     Manuel Gräfe|            4-2-3-1|            4-2-3-1| domestic_league|\n",
            "|2321033|            L1|  2013| 1. Matchday|2013-08-10|          23|          86|              0|              1|                13|                 7|  Torsten Lieberknecht|            Robin Dutt|   EINTRACHT-Stadion|     23000|    Deniz Aytekin|            4-3-2-1|            4-3-1-2| domestic_league|\n",
            "|2321044|            L1|  2013| 2. Matchday|2013-08-18|          16|          23|              2|              1|                 1|                15|          Jürgen Klopp|  Torsten Lieberknecht|   SIGNAL IDUNA PARK|     80200|     Peter Sippel|            4-2-3-1|            4-3-2-1| domestic_league|\n",
            "|2321060|            L1|  2013| 3. Matchday|2013-08-25|          23|          24|              0|              2|                18|                11|  Torsten Lieberknecht|             Armin Veh|   EINTRACHT-Stadion|     23325|   Wolfgang Stark|            4-3-2-1|            4-2-3-1| domestic_league|\n",
            "|2321072|            L1|  2013| 5. Matchday|2013-09-14|          16|          41|              6|              2|                 1|                15|          Jürgen Klopp|         Thorsten Fink|   SIGNAL IDUNA PARK|     80645|      Tobias Welz|            4-2-3-1|              3-5-2| domestic_league|\n",
            "|2321079|            L1|  2013| 5. Matchday|2013-09-15|          23|           4|              1|              1|                18|                16|  Torsten Lieberknecht|     Michael Wiesinger|   EINTRACHT-Stadion|     22570|      Marco Fritz|             4-4-26|            4-2-3-1| domestic_league|\n",
            "|2321086|            L1|  2013| 6. Matchday|2013-09-21|           4|          16|              1|              1|                15|                 1|     Michael Wiesinger|          Jürgen Klopp| Max-Morlock-Stadion|     50000|     Knut Kircher|            4-2-3-1|            4-2-3-1| domestic_league|\n",
            "|2321152|            L1|  2013|11. Matchday|2013-11-02|          44|          33|              0|              2|                 7|                 6|           Jos Luhukay|           Jens Keller|Olympiastadion Be...|     69277|      Günter Perl|            4-2-3-1|            4-2-3-1| domestic_league|\n",
            "|2321205|            L1|  2013|17. Matchday|2013-12-21|          41|          39|              2|              3|                14|                 9|      Bert van Marwijk|         Thomas Tuchel|    Volksparkstadion|     50000|  Bastian Dankert|            4-2-3-1|              4-4-2| domestic_league|\n",
            "|2321233|            L1|  2013|20. Matchday|2014-02-08|          41|          44|              0|              3|                17|                 7|      Bert van Marwijk|           Jos Luhukay|    Volksparkstadion|     48593|    Deniz Aytekin|            4-2-3-1|            4-1-4-1| domestic_league|\n",
            "|2321307|            L1|  2013|29. Matchday|2014-04-05|          16|          82|              2|              1|                 2|                 6|          Jürgen Klopp|        Dieter Hecking|   SIGNAL IDUNA PARK|     80645|     Knut Kircher|            4-2-3-1|            4-2-3-1| domestic_league|\n",
            "|2321330|            L1|  2013|31. Matchday|2014-04-19|         167|          44|              0|              0|                 8|                10|      Markus Weinzierl|           Jos Luhukay|           WWK ARENA|     30059| Dr. Jochen Drees|            4-2-3-1|            4-1-4-1| domestic_league|\n",
            "|2321335|            L1|  2013|32. Matchday|2014-04-27|          33|          18|              0|              1|                 3|                 6|           Jens Keller|          Lucien Favre|       Veltins-Arena|     61973|     Manuel Gräfe|            4-2-3-1|             4-4-26| domestic_league|\n",
            "|2323730|           RU1|  2013| 1. Matchday|2013-07-14|         121|       12438|              2|              2|                 5|                10|          Dan Petrescu|    Yuriy Kalitvintsev|        Arena Khimki|      5604| Aleksey Nikolaev|            4-2-3-1|            4-2-3-1| domestic_league|\n",
            "|2323731|           RU1|  2013| 1. Matchday|2013-07-17|       16704|         964|              1|              2|                15|                 3|      Slavoljub Muslin|     Luciano Spalletti|               Kuban|     16500|Timur Arslanbekov|            4-2-3-1|              4-3-3| domestic_league|\n",
            "|2329782|           BE1|  2013|18. Matchday|2013-12-07|        1411|        3508|              1|              1|                16|                 4|      Cedomir Janevski|          Francky Dury|Stade Charles Ton...|      2769|      Luc Wouters|              4-3-3|              4-3-3| domestic_league|\n",
            "|2330874|           FR1|  2013| 8. Matchday|2013-09-28|         618|         595|              2|              2|                 6|                 8|    Christophe Galtier|        Frédéric Hantz|Stade Geoffroy-Gu...|     31952|   Antony Gautier|              4-3-3|            4-2-3-1| domestic_league|\n",
            "|2330880|           FR1|  2013|10. Matchday|2013-10-19|       14171|         855|              1|              2|                16|                10|         Pascal Dupraz|    Jocelyn Gourvennec|Parc des Sports d...|      8620|    Philippe Kalt|             4-4-26|             4-4-26| domestic_league|\n",
            "|2330916|           FR1|  2013|15. Matchday|2013-11-30|        1423|        1082|              0|              1|                18|                 2|          Ariel Jacobs|           René Girard|    Stade du Hainaut|     14874|Bartolomeu Varela|             4-4-26|            4-3-1-2| domestic_league|\n",
            "|2330980|           FR1|  2013|19. Matchday|2013-12-21|        1421|        1147|              4|              1|                 7|                20|       Hubert Fournier|    Christian Bracconi|Stade Auguste-Del...|     14522|  Stéphane Lannoy|              4-5-1|            4-2-3-1| domestic_league|\n",
            "+-------+--------------+------+------------+----------+------------+------------+---------------+---------------+------------------+------------------+----------------------+----------------------+--------------------+----------+-----------------+-------------------+-------------------+----------------+\n",
            "only showing top 20 rows\n"
          ]
        }
      ],
      "source": [
        "# Eliminamos tambien las columnas 'url' y 'aggregate' porque no son relevantes para nuestro analisis\n",
        "df_games = df_games.drop(\"url\", \"aggregate\")\n",
        "df_games.show()"
      ]
    },
    {
      "cell_type": "markdown",
      "metadata": {
        "id": "ZWYuFLSTkC6b"
      },
      "source": [
        "# Archivo \"players.csv\""
      ]
    },
    {
      "cell_type": "code",
      "execution_count": 79,
      "metadata": {
        "colab": {
          "base_uri": "https://localhost:8080/"
        },
        "id": "0V_HuHtOkCwU",
        "outputId": "82e0be00-4963-47a5-b18e-eb4bfe95d961"
      },
      "outputs": [
        {
          "name": "stdout",
          "output_type": "stream",
          "text": [
            "+---------+----------+------------+-------------------+-----------+---------------+-------------------+------------------+--------------+----------------------+-------------------+------------------+----------+-----+------------+------------------------+--------------------+--------------------+--------------------+------------------------------------+--------------------+-------------------+---------------------------+\n",
            "|player_id|first_name|   last_name|               name|last_season|current_club_id|        player_code|  country_of_birth| city_of_birth|country_of_citizenship|      date_of_birth|      sub_position|  position| foot|height_in_cm|contract_expiration_date|          agent_name|           image_url|                 url|current_club_domestic_competition_id|   current_club_name|market_value_in_eur|highest_market_value_in_eur|\n",
            "+---------+----------+------------+-------------------+-----------+---------------+-------------------+------------------+--------------+----------------------+-------------------+------------------+----------+-----+------------+------------------------+--------------------+--------------------+--------------------+------------------------------------+--------------------+-------------------+---------------------------+\n",
            "|       10|  Miroslav|       Klose|     Miroslav Klose|       2015|            398|     miroslav-klose|            Poland|         Opole|               Germany|1978-06-09 00:00:00|    Centre-Forward|    Attack|right|         184|                    NULL|ASBW Sport Marketing|https://img.a.tra...|https://www.trans...|                                 IT1|Società Sportiva ...|            1000000|                   30000000|\n",
            "|       26|     Roman|Weidenfeller| Roman Weidenfeller|       2017|             16| roman-weidenfeller|           Germany|          Diez|               Germany|1980-08-06 00:00:00|        Goalkeeper|Goalkeeper| left|         190|                    NULL|    Neubauer 13 GmbH|https://img.a.tra...|https://www.trans...|                                  L1|   Borussia Dortmund|             750000|                    8000000|\n",
            "|       65|   Dimitar|    Berbatov|   Dimitar Berbatov|       2015|           1091|   dimitar-berbatov|          Bulgaria|   Blagoevgrad|              Bulgaria|1981-01-30 00:00:00|    Centre-Forward|    Attack| NULL|        NULL|                    NULL|     CSKA-AS-23 Ltd.|https://img.a.tra...|https://www.trans...|                                 GR1|Panthessalonikios...|            1000000|                   34500000|\n",
            "|       77|      NULL|       Lúcio|              Lúcio|       2012|            506|              lucio|            Brazil|      Brasília|                Brazil|1978-05-08 00:00:00|       Centre-Back|  Defender| NULL|        NULL|                    NULL|                NULL|https://img.a.tra...|https://www.trans...|                                 IT1|Juventus Football...|             200000|                   24500000|\n",
            "|       80|       Tom|      Starke|         Tom Starke|       2017|             27|         tom-starke|East Germany (GDR)|       Freital|               Germany|1981-03-18 00:00:00|        Goalkeeper|Goalkeeper|right|         194|                    NULL|                 IFM|https://img.a.tra...|https://www.trans...|                                  L1|   FC Bayern München|             100000|                    3000000|\n",
            "|      109|      NULL|        Dedê|               Dedê|       2013|            825|               dede|            Brazil|Belo Horizonte|                Brazil|1978-04-18 00:00:00|         Left-Back|  Defender| NULL|        NULL|                    NULL|    Football Concept|https://img.a.tra...|https://www.trans...|                                 TR1|       Eskisehirspor|             400000|                    9500000|\n",
            "|      123| Christoph|   Metzelder|Christoph Metzelder|       2012|             33|christoph-metzelder|           Germany|       Haltern|               Germany|1980-11-05 00:00:00|       Centre-Back|  Defender| NULL|        NULL|                    NULL|                NULL|https://img.a.tra...|https://www.trans...|                                  L1|       FC Schalke 04|            1500000|                    9500000|\n",
            "|      132|     Tomas|     Rosicky|      Tomas Rosicky|       2015|             11|      tomas-rosicky|              CSSR|         Praha|        Czech Republic|1980-10-04 00:00:00|Attacking Midfield|  Midfield| both|         179|                    NULL|                NULL|https://img.a.tra...|https://www.trans...|                                 GB1|Arsenal Football ...|             350000|                   17500000|\n",
            "|      162|      Marc|     Ziegler|       Marc Ziegler|       2012|             79|       marc-ziegler|           Germany|   Blieskastel|               Germany|1976-06-13 00:00:00|        Goalkeeper|Goalkeeper|right|         193|                    NULL|                NULL|https://img.a.tra...|https://www.trans...|                                  L1|Verein für Bewegu...|             200000|                    1250000|\n",
            "|      215|     Roque|  Santa Cruz|   Roque Santa Cruz|       2015|           1084|   roque-santa-cruz|          Paraguay|      Asunción|              Paraguay|1981-08-16 00:00:00|    Centre-Forward|    Attack|right|         193|     2023-12-31 00:00:00|                NULL|https://img.a.tra...|https://www.trans...|                                 ES1|           Málaga CF|             250000|                   12000000|\n",
            "+---------+----------+------------+-------------------+-----------+---------------+-------------------+------------------+--------------+----------------------+-------------------+------------------+----------+-----+------------+------------------------+--------------------+--------------------+--------------------+------------------------------------+--------------------+-------------------+---------------------------+\n",
            "only showing top 10 rows\n",
            "root\n",
            " |-- player_id: integer (nullable = true)\n",
            " |-- first_name: string (nullable = true)\n",
            " |-- last_name: string (nullable = true)\n",
            " |-- name: string (nullable = true)\n",
            " |-- last_season: integer (nullable = true)\n",
            " |-- current_club_id: integer (nullable = true)\n",
            " |-- player_code: string (nullable = true)\n",
            " |-- country_of_birth: string (nullable = true)\n",
            " |-- city_of_birth: string (nullable = true)\n",
            " |-- country_of_citizenship: string (nullable = true)\n",
            " |-- date_of_birth: timestamp (nullable = true)\n",
            " |-- sub_position: string (nullable = true)\n",
            " |-- position: string (nullable = true)\n",
            " |-- foot: string (nullable = true)\n",
            " |-- height_in_cm: integer (nullable = true)\n",
            " |-- contract_expiration_date: timestamp (nullable = true)\n",
            " |-- agent_name: string (nullable = true)\n",
            " |-- image_url: string (nullable = true)\n",
            " |-- url: string (nullable = true)\n",
            " |-- current_club_domestic_competition_id: string (nullable = true)\n",
            " |-- current_club_name: string (nullable = true)\n",
            " |-- market_value_in_eur: integer (nullable = true)\n",
            " |-- highest_market_value_in_eur: integer (nullable = true)\n",
            "\n"
          ]
        },
        {
          "data": {
            "text/plain": [
              "['player_id',\n",
              " 'first_name',\n",
              " 'last_name',\n",
              " 'name',\n",
              " 'last_season',\n",
              " 'current_club_id',\n",
              " 'player_code',\n",
              " 'country_of_birth',\n",
              " 'city_of_birth',\n",
              " 'country_of_citizenship',\n",
              " 'date_of_birth',\n",
              " 'sub_position',\n",
              " 'position',\n",
              " 'foot',\n",
              " 'height_in_cm',\n",
              " 'contract_expiration_date',\n",
              " 'agent_name',\n",
              " 'image_url',\n",
              " 'url',\n",
              " 'current_club_domestic_competition_id',\n",
              " 'current_club_name',\n",
              " 'market_value_in_eur',\n",
              " 'highest_market_value_in_eur']"
            ]
          },
          "execution_count": 79,
          "metadata": {},
          "output_type": "execute_result"
        }
      ],
      "source": [
        "# Cargar el csv\n",
        "df_players = spark.read.csv(path + \"/players.csv\", header=True, inferSchema=True)\n",
        "\n",
        "# Ver las primeras filas\n",
        "df_players.show(10)\n",
        "df_players.printSchema()\n",
        "df_players.columns"
      ]
    },
    {
      "cell_type": "code",
      "execution_count": 80,
      "metadata": {
        "colab": {
          "base_uri": "https://localhost:8080/"
        },
        "id": "f6Zk4W_SkL_M",
        "outputId": "287a0cbc-c91a-4b1d-baa5-301bac5383c5"
      },
      "outputs": [
        {
          "name": "stderr",
          "output_type": "stream",
          "text": [
            "[Stage 256:===================>                                     (1 + 2) / 3]\r"
          ]
        },
        {
          "name": "stdout",
          "output_type": "stream",
          "text": [
            "+-------+-----------------+----------+------------------+-----------+-----------------+------------------+-----------------+----------------+----------------+----------------------+------------------+--------+-----+------------------+------------+--------------------+--------------------+------------------------------------+--------------------+-------------------+---------------------------+\n",
            "|summary|        player_id|first_name|         last_name|       name|      last_season|   current_club_id|      player_code|country_of_birth|   city_of_birth|country_of_citizenship|      sub_position|position| foot|      height_in_cm|  agent_name|           image_url|                 url|current_club_domestic_competition_id|   current_club_name|market_value_in_eur|highest_market_value_in_eur|\n",
            "+-------+-----------------+----------+------------------+-----------+-----------------+------------------+-----------------+----------------+----------------+----------------------+------------------+--------+-----+------------------+------------+--------------------+--------------------+------------------------------------+--------------------+-------------------+---------------------------+\n",
            "|  count|            32601|     30539|             32601|      32601|            32601|             32601|            32601|           29802|           30146|                 32218|             32421|   32601|30065|             30345|       16582|               32601|               32601|                               32601|               32601|              31078|                      31078|\n",
            "|   mean|348312.6350725438|      NULL|              NULL|       NULL|2019.357258979786| 4815.495813011871|             NULL|            NULL|            NULL|                  NULL|              NULL|    NULL| NULL|182.29194265941672|      1863.0|                NULL|                NULL|                                NULL|                NULL| 1639685.3079348735|          3789347.287470236|\n",
            "| stddev|284508.9178977372|      NULL|              NULL|       NULL|3.961563816611976|11583.707786483052|             NULL|            NULL|            NULL|                  NULL|              NULL|    NULL| NULL| 7.037030316518053|         0.0|                NULL|                NULL|                                NULL|                NULL|  6407293.176960945|          9887240.567990681|\n",
            "|    min|               10|      A.J.|           't Zand|A.J. Soares|             2012|                 3|-alpha-bdul-razak|     Afghanistan|'s Hertogenbosch|           Afghanistan|Attacking Midfield|  Attack| both|                17|  EB SPORTS |https://img.a.tra...|https://www.trans...|                                 BE1|\"Футбольный клуб ...|              10000|                      10000|\n",
            "|    25%|           107969|      NULL|              NULL|       NULL|             2016|               403|             NULL|            NULL|            NULL|                  NULL|              NULL|    NULL| NULL|               178|      1863.0|                NULL|                NULL|                                NULL|                NULL|             100000|                     275000|\n",
            "|    50%|           283863|      NULL|              NULL|       NULL|             2020|              1063|             NULL|            NULL|            NULL|                  NULL|              NULL|    NULL| NULL|               183|      1863.0|                NULL|                NULL|                                NULL|                NULL|             250000|                     800000|\n",
            "|    75%|           530258|      NULL|              NULL|       NULL|             2023|              3060|             NULL|            NULL|            NULL|                  NULL|              NULL|    NULL| NULL|               187|      1863.0|                NULL|                NULL|                                NULL|                NULL|             700000|                    3000000|\n",
            "|    max|          1391239|     Αbdul|‘Duncan’ Rasmussen|Αbdul Razak|             2024|            110302|     zymer-bytyqi|        Zimbabwe|’s-Hertogenbosch|              Zimbabwe|    Second Striker| Missing|right|               210|Öner Karalar|https://img.a.tra...|https://www.trans...|                                UKR1|İstanbul Başakşeh...|          200000000|                  200000000|\n",
            "+-------+-----------------+----------+------------------+-----------+-----------------+------------------+-----------------+----------------+----------------+----------------------+------------------+--------+-----+------------------+------------+--------------------+--------------------+------------------------------------+--------------------+-------------------+---------------------------+\n",
            "\n"
          ]
        },
        {
          "name": "stderr",
          "output_type": "stream",
          "text": [
            "                                                                                \r"
          ]
        }
      ],
      "source": [
        "mostrar_sumario(df_players).show()"
      ]
    },
    {
      "cell_type": "code",
      "execution_count": 81,
      "metadata": {
        "colab": {
          "base_uri": "https://localhost:8080/"
        },
        "id": "4w9JpGI8kOTc",
        "outputId": "fe47f4f3-ff82-4eac-ec7f-dd849cb684f6"
      },
      "outputs": [
        {
          "name": "stdout",
          "output_type": "stream",
          "text": [
            "+---------+----------+---------+----+-----------+---------------+-----------+----------------+-------------+----------------------+-------------+------------+--------+----+------------+------------------------+----------+---------+---+------------------------------------+-----------------+-------------------+---------------------------+\n",
            "|player_id|first_name|last_name|name|last_season|current_club_id|player_code|country_of_birth|city_of_birth|country_of_citizenship|date_of_birth|sub_position|position|foot|height_in_cm|contract_expiration_date|agent_name|image_url|url|current_club_domestic_competition_id|current_club_name|market_value_in_eur|highest_market_value_in_eur|\n",
            "+---------+----------+---------+----+-----------+---------------+-----------+----------------+-------------+----------------------+-------------+------------+--------+----+------------+------------------------+----------+---------+---+------------------------------------+-----------------+-------------------+---------------------------+\n",
            "|        0|      2062|        0|   0|          0|              0|          0|            2799|         2455|                   383|           47|         180|       0|2536|        2256|                   12091|     16019|        0|  0|                                   0|                0|               1523|                       1523|\n",
            "+---------+----------+---------+----+-----------+---------------+-----------+----------------+-------------+----------------------+-------------+------------+--------+----+------------+------------------------+----------+---------+---+------------------------------------+-----------------+-------------------+---------------------------+\n",
            "\n"
          ]
        }
      ],
      "source": [
        "contar_nulos_por_columna(df_players).show()"
      ]
    },
    {
      "cell_type": "code",
      "execution_count": 82,
      "metadata": {
        "colab": {
          "base_uri": "https://localhost:8080/"
        },
        "id": "lS2B7OjTkPhY",
        "outputId": "1f0337ed-3b51-4558-c60e-5234ed1beae7"
      },
      "outputs": [
        {
          "name": "stdout",
          "output_type": "stream",
          "text": [
            "+---------+-----+\n",
            "|player_id|count|\n",
            "+---------+-----+\n",
            "+---------+-----+\n",
            "\n"
          ]
        }
      ],
      "source": [
        "duplicados_por_columna(df_players, \"player_id\")"
      ]
    },
    {
      "cell_type": "code",
      "execution_count": 83,
      "metadata": {
        "colab": {
          "base_uri": "https://localhost:8080/"
        },
        "id": "qamlbtbqkUU8",
        "outputId": "8035cbbd-8651-40b5-baad-43e473d6c7e6"
      },
      "outputs": [
        {
          "name": "stdout",
          "output_type": "stream",
          "text": [
            "+---------+----------+--------------+--------------------+-----------+---------------+--------------------+------------------+------------------+----------------------+-------------------+------------------+----------+-----+------------+------------------------+--------------------+--------------------+--------------------+------------------------------------+--------------------+-------------------+---------------------------+\n",
            "|player_id|first_name|     last_name|                name|last_season|current_club_id|         player_code|  country_of_birth|     city_of_birth|country_of_citizenship|      date_of_birth|      sub_position|  position| foot|height_in_cm|contract_expiration_date|          agent_name|           image_url|                 url|current_club_domestic_competition_id|   current_club_name|market_value_in_eur|highest_market_value_in_eur|\n",
            "+---------+----------+--------------+--------------------+-----------+---------------+--------------------+------------------+------------------+----------------------+-------------------+------------------+----------+-----+------------+------------------------+--------------------+--------------------+--------------------+------------------------------------+--------------------+-------------------+---------------------------+\n",
            "|       10|  Miroslav|         Klose|      Miroslav Klose|       2015|            398|      miroslav-klose|            Poland|             Opole|               Germany|1978-06-09 00:00:00|    Centre-Forward|    Attack|right|         184|                    NULL|ASBW Sport Marketing|https://img.a.tra...|https://www.trans...|                                 IT1|Società Sportiva ...|            1000000|                   30000000|\n",
            "|       26|     Roman|  Weidenfeller|  Roman Weidenfeller|       2017|             16|  roman-weidenfeller|           Germany|              Diez|               Germany|1980-08-06 00:00:00|        Goalkeeper|Goalkeeper| left|         190|                    NULL|    Neubauer 13 GmbH|https://img.a.tra...|https://www.trans...|                                  L1|   Borussia Dortmund|             750000|                    8000000|\n",
            "|       65|   Dimitar|      Berbatov|    Dimitar Berbatov|       2015|           1091|    dimitar-berbatov|          Bulgaria|       Blagoevgrad|              Bulgaria|1981-01-30 00:00:00|    Centre-Forward|    Attack| NULL|        NULL|                    NULL|     CSKA-AS-23 Ltd.|https://img.a.tra...|https://www.trans...|                                 GR1|Panthessalonikios...|            1000000|                   34500000|\n",
            "|       77|      NULL|         Lúcio|               Lúcio|       2012|            506|               lucio|            Brazil|          Brasília|                Brazil|1978-05-08 00:00:00|       Centre-Back|  Defender| NULL|        NULL|                    NULL|                NULL|https://img.a.tra...|https://www.trans...|                                 IT1|Juventus Football...|             200000|                   24500000|\n",
            "|       80|       Tom|        Starke|          Tom Starke|       2017|             27|          tom-starke|East Germany (GDR)|           Freital|               Germany|1981-03-18 00:00:00|        Goalkeeper|Goalkeeper|right|         194|                    NULL|                 IFM|https://img.a.tra...|https://www.trans...|                                  L1|   FC Bayern München|             100000|                    3000000|\n",
            "|      109|      NULL|          Dedê|                Dedê|       2013|            825|                dede|            Brazil|    Belo Horizonte|                Brazil|1978-04-18 00:00:00|         Left-Back|  Defender| NULL|        NULL|                    NULL|    Football Concept|https://img.a.tra...|https://www.trans...|                                 TR1|       Eskisehirspor|             400000|                    9500000|\n",
            "|      123| Christoph|     Metzelder| Christoph Metzelder|       2012|             33| christoph-metzelder|           Germany|           Haltern|               Germany|1980-11-05 00:00:00|       Centre-Back|  Defender| NULL|        NULL|                    NULL|                NULL|https://img.a.tra...|https://www.trans...|                                  L1|       FC Schalke 04|            1500000|                    9500000|\n",
            "|      132|     Tomas|       Rosicky|       Tomas Rosicky|       2015|             11|       tomas-rosicky|              CSSR|             Praha|        Czech Republic|1980-10-04 00:00:00|Attacking Midfield|  Midfield| both|         179|                    NULL|                NULL|https://img.a.tra...|https://www.trans...|                                 GB1|Arsenal Football ...|             350000|                   17500000|\n",
            "|      162|      Marc|       Ziegler|        Marc Ziegler|       2012|             79|        marc-ziegler|           Germany|       Blieskastel|               Germany|1976-06-13 00:00:00|        Goalkeeper|Goalkeeper|right|         193|                    NULL|                NULL|https://img.a.tra...|https://www.trans...|                                  L1|Verein für Bewegu...|             200000|                    1250000|\n",
            "|      258|    Gerald|       Asamoah|      Gerald Asamoah|       2013|             33|      gerald-asamoah|             Ghana|           Mampong|               Germany|1978-10-03 00:00:00|    Centre-Forward|    Attack|right|         180|                    NULL|                NULL|https://img.a.tra...|https://www.trans...|                                  L1|       FC Schalke 04|             100000|                    7000000|\n",
            "|      264|     Tamás|        Hajnal|        Tamás Hajnal|       2012|             79|        tamas-hajnal|           Hungary|         Esztergom|               Hungary|1981-03-15 00:00:00|Attacking Midfield|  Midfield| both|         167|                    NULL|                NULL|https://img.a.tra...|https://www.trans...|                                  L1|Verein für Bewegu...|             100000|                    6500000|\n",
            "|      276|    Sladan|         Peric|        Sladan Peric|       2013|          20100|        sladan-peric|              NULL|              NULL|               Denmark|1982-04-15 00:00:00|       Centre-Back|  Defender| NULL|        NULL|                    NULL|                NULL|https://img.a.tra...|https://www.trans...|                                 DK1|    FC Vestsjaelland|             200000|                     500000|\n",
            "|      277|    Sérgio|da Silva Pinto|Sérgio da Silva P...|       2013|           3368|sergio-da-silva-p...|          Portugal| Vila Nova de Gaia|               Germany|1980-10-16 00:00:00|  Central Midfield|  Midfield|right|         176|                    NULL|                NULL|https://img.a.tra...|https://www.trans...|                                 ES1|          Levante UD|             150000|                    3500000|\n",
            "|      299|    Fabian|         Ernst|        Fabian Ernst|       2012|          10484|        fabian-ernst|           Germany|          Hannover|               Germany|               NULL|Defensive Midfield|  Midfield|right|         183|                    NULL|                NULL|https://img.a.tra...|https://www.trans...|                                 TR1|Kasımpaşa Spor Ku...|            1500000|                    9000000|\n",
            "|      325|     Tomas|      Ujfalusi|      Tomas Ujfalusi|       2012|            141|      tomas-ujfalusi|              CSSR|           Rýmařov|        Czech Republic|1978-03-24 00:00:00|       Centre-Back|  Defender| NULL|        NULL|                    NULL|                NULL|https://img.a.tra...|https://www.trans...|                                 TR1|Galatasaray Spor ...|             300000|                   12000000|\n",
            "|      332|  Benjamin|        Köhler|     Benjamin Köhler|       2012|             24|     benjamin-kohler|           Germany|            Berlin|               Germany|1980-08-04 00:00:00|     Left Midfield|  Midfield| NULL|        NULL|                    NULL|                NULL|https://img.a.tra...|https://www.trans...|                                  L1|Eintracht Frankfu...|             150000|                    2500000|\n",
            "|      410| Sebastian|          Kehl|      Sebastian Kehl|       2014|             16|      sebastian-kehl|           Germany|             Fulda|               Germany|1980-02-13 00:00:00|Defensive Midfield|  Midfield| left|         187|                    NULL|                NULL|https://img.a.tra...|https://www.trans...|                                  L1|   Borussia Dortmund|            1000000|                    9000000|\n",
            "|      411|     Levan|   Kobiashvili|   Levan Kobiashvili|       2013|             44|   levan-kobiashvili|             UdSSR|            Tiflis|               Georgia|1977-07-10 00:00:00|     Left Midfield|  Midfield| left|         183|                    NULL|                NULL|https://img.a.tra...|https://www.trans...|                                  L1|          Hertha BSC|             400000|                    7500000|\n",
            "|      447|       Oka|       Nikolov|         Oka Nikolov|       2012|             24|         oka-nikolov|           Germany|Erbach im Odenwald|       North Macedonia|1974-05-25 00:00:00|        Goalkeeper|Goalkeeper|right|         188|                    NULL|     PRO Profil GmbH|https://img.a.tra...|https://www.trans...|                                  L1|Eintracht Frankfu...|             350000|                    2000000|\n",
            "|      488|   Gerhard|       Tremmel|     Gerhard Tremmel|       2016|           2288|     gerhard-tremmel|           Germany|           München|               Germany|1978-11-16 00:00:00|        Goalkeeper|Goalkeeper| NULL|        NULL|                    NULL|                NULL|https://img.a.tra...|https://www.trans...|                                 GB1|        Swansea City|             250000|                    2200000|\n",
            "+---------+----------+--------------+--------------------+-----------+---------------+--------------------+------------------+------------------+----------------------+-------------------+------------------+----------+-----+------------+------------------------+--------------------+--------------------+--------------------+------------------------------------+--------------------+-------------------+---------------------------+\n",
            "only showing top 20 rows\n"
          ]
        }
      ],
      "source": [
        "# Ver nulos de la columna 'contract_expiration_date'\n",
        "df_players.filter(col('contract_expiration_date').isNull()).show()"
      ]
    },
    {
      "cell_type": "code",
      "execution_count": 84,
      "metadata": {
        "colab": {
          "base_uri": "https://localhost:8080/"
        },
        "id": "8u6qGLQdz-8r",
        "outputId": "ec268f9a-3698-460c-f59f-36e7ab2d18a8"
      },
      "outputs": [
        {
          "name": "stdout",
          "output_type": "stream",
          "text": [
            "+-----------+\n",
            "|last_season|\n",
            "+-----------+\n",
            "|       2018|\n",
            "|       2015|\n",
            "|       2023|\n",
            "|       2022|\n",
            "|       2013|\n",
            "|       2014|\n",
            "|       2019|\n",
            "|       2020|\n",
            "|       2012|\n",
            "|       2016|\n",
            "|       2024|\n",
            "|       2017|\n",
            "|       2021|\n",
            "+-----------+\n",
            "\n"
          ]
        }
      ],
      "source": [
        "# Ver valores unicos de la columna 'last_season'\n",
        "df_players.select('last_season').distinct().show()"
      ]
    },
    {
      "cell_type": "code",
      "execution_count": 85,
      "metadata": {
        "colab": {
          "base_uri": "https://localhost:8080/"
        },
        "id": "iIAO2r1q3w2V",
        "outputId": "3de5c9da-11ea-4f79-804a-5b6c6dd84b05"
      },
      "outputs": [
        {
          "name": "stdout",
          "output_type": "stream",
          "text": [
            "+---------+----------+------------+-------------------+-----------+---------------+-------------------+------------------+--------------+----------------------+-------------------+------------------+----------+-----+------------+--------------------+--------------------+------------------------------------+--------------------+-------------------+---------------------------+\n",
            "|player_id|first_name|   last_name|               name|last_season|current_club_id|        player_code|  country_of_birth| city_of_birth|country_of_citizenship|      date_of_birth|      sub_position|  position| foot|height_in_cm|           image_url|                 url|current_club_domestic_competition_id|   current_club_name|market_value_in_eur|highest_market_value_in_eur|\n",
            "+---------+----------+------------+-------------------+-----------+---------------+-------------------+------------------+--------------+----------------------+-------------------+------------------+----------+-----+------------+--------------------+--------------------+------------------------------------+--------------------+-------------------+---------------------------+\n",
            "|       10|  Miroslav|       Klose|     Miroslav Klose|       2015|            398|     miroslav-klose|            Poland|         Opole|               Germany|1978-06-09 00:00:00|    Centre-Forward|    Attack|right|         184|https://img.a.tra...|https://www.trans...|                                 IT1|Società Sportiva ...|            1000000|                   30000000|\n",
            "|       26|     Roman|Weidenfeller| Roman Weidenfeller|       2017|             16| roman-weidenfeller|           Germany|          Diez|               Germany|1980-08-06 00:00:00|        Goalkeeper|Goalkeeper| left|         190|https://img.a.tra...|https://www.trans...|                                  L1|   Borussia Dortmund|             750000|                    8000000|\n",
            "|       65|   Dimitar|    Berbatov|   Dimitar Berbatov|       2015|           1091|   dimitar-berbatov|          Bulgaria|   Blagoevgrad|              Bulgaria|1981-01-30 00:00:00|    Centre-Forward|    Attack| NULL|        NULL|https://img.a.tra...|https://www.trans...|                                 GR1|Panthessalonikios...|            1000000|                   34500000|\n",
            "|       77|      NULL|       Lúcio|              Lúcio|       2012|            506|              lucio|            Brazil|      Brasília|                Brazil|1978-05-08 00:00:00|       Centre-Back|  Defender| NULL|        NULL|https://img.a.tra...|https://www.trans...|                                 IT1|Juventus Football...|             200000|                   24500000|\n",
            "|       80|       Tom|      Starke|         Tom Starke|       2017|             27|         tom-starke|East Germany (GDR)|       Freital|               Germany|1981-03-18 00:00:00|        Goalkeeper|Goalkeeper|right|         194|https://img.a.tra...|https://www.trans...|                                  L1|   FC Bayern München|             100000|                    3000000|\n",
            "|      109|      NULL|        Dedê|               Dedê|       2013|            825|               dede|            Brazil|Belo Horizonte|                Brazil|1978-04-18 00:00:00|         Left-Back|  Defender| NULL|        NULL|https://img.a.tra...|https://www.trans...|                                 TR1|       Eskisehirspor|             400000|                    9500000|\n",
            "|      123| Christoph|   Metzelder|Christoph Metzelder|       2012|             33|christoph-metzelder|           Germany|       Haltern|               Germany|1980-11-05 00:00:00|       Centre-Back|  Defender| NULL|        NULL|https://img.a.tra...|https://www.trans...|                                  L1|       FC Schalke 04|            1500000|                    9500000|\n",
            "|      132|     Tomas|     Rosicky|      Tomas Rosicky|       2015|             11|      tomas-rosicky|              CSSR|         Praha|        Czech Republic|1980-10-04 00:00:00|Attacking Midfield|  Midfield| both|         179|https://img.a.tra...|https://www.trans...|                                 GB1|Arsenal Football ...|             350000|                   17500000|\n",
            "|      162|      Marc|     Ziegler|       Marc Ziegler|       2012|             79|       marc-ziegler|           Germany|   Blieskastel|               Germany|1976-06-13 00:00:00|        Goalkeeper|Goalkeeper|right|         193|https://img.a.tra...|https://www.trans...|                                  L1|Verein für Bewegu...|             200000|                    1250000|\n",
            "|      215|     Roque|  Santa Cruz|   Roque Santa Cruz|       2015|           1084|   roque-santa-cruz|          Paraguay|      Asunción|              Paraguay|1981-08-16 00:00:00|    Centre-Forward|    Attack|right|         193|https://img.a.tra...|https://www.trans...|                                 ES1|           Málaga CF|             250000|                   12000000|\n",
            "+---------+----------+------------+-------------------+-----------+---------------+-------------------+------------------+--------------+----------------------+-------------------+------------------+----------+-----+------------+--------------------+--------------------+------------------------------------+--------------------+-------------------+---------------------------+\n",
            "only showing top 10 rows\n"
          ]
        }
      ],
      "source": [
        "# A primera vista, parece que los valores nulos de la columna 'contract_expiration_date' representan contratos que siguen en vigor\n",
        "# Pero tras corroborar con Internet, vimos que tambien hay nulos contratos que ya finalizaron\n",
        "# Decidimos eliminar la columna 'contract_expiration_date' por no tener informacion fiable y tambien la columna 'agent_name' que esta relacionada con ella\n",
        "df_players = df_players.drop(\"contract_expiration_date\")\n",
        "df_players = df_players.drop(\"agent_name\")\n",
        "df_players.show(10)"
      ]
    },
    {
      "cell_type": "code",
      "execution_count": 86,
      "metadata": {
        "colab": {
          "base_uri": "https://localhost:8080/"
        },
        "id": "3Tf5gLIV4pWL",
        "outputId": "e3189bc4-1068-4700-853b-eca7c350a90e"
      },
      "outputs": [
        {
          "name": "stdout",
          "output_type": "stream",
          "text": [
            "+-----+\n",
            "| foot|\n",
            "+-----+\n",
            "| left|\n",
            "| both|\n",
            "|right|\n",
            "| NULL|\n",
            "+-----+\n",
            "\n"
          ]
        }
      ],
      "source": [
        "# Ver todos los valores de la columna 'foot'\n",
        "df_players.select('foot').distinct().show()"
      ]
    },
    {
      "cell_type": "code",
      "execution_count": 87,
      "metadata": {
        "id": "pl4g-Xmi4_b1"
      },
      "outputs": [],
      "source": [
        "# Sustituir valores nulos de 'foot' por 'sin especificar'\n",
        "df_players = df_players.withColumn(\n",
        "    \"foot\",\n",
        "    when(col(\"foot\").isNull(), \"sin especificar\").otherwise(col(\"foot\"))\n",
        ")"
      ]
    },
    {
      "cell_type": "code",
      "execution_count": 88,
      "metadata": {
        "colab": {
          "base_uri": "https://localhost:8080/"
        },
        "id": "FeU8xVZe5bj6",
        "outputId": "650b64b0-d0c5-40ef-ddf4-e39d9498c72d"
      },
      "outputs": [
        {
          "name": "stdout",
          "output_type": "stream",
          "text": [
            "+---------+----------+----------+------------------+-----------+---------------+------------------+----------------+--------------------+----------------------+-------------------+------------------+----------+---------------+------------+--------------------+--------------------+------------------------------------+--------------------+-------------------+---------------------------+\n",
            "|player_id|first_name| last_name|              name|last_season|current_club_id|       player_code|country_of_birth|       city_of_birth|country_of_citizenship|      date_of_birth|      sub_position|  position|           foot|height_in_cm|           image_url|                 url|current_club_domestic_competition_id|   current_club_name|market_value_in_eur|highest_market_value_in_eur|\n",
            "+---------+----------+----------+------------------+-----------+---------------+------------------+----------------+--------------------+----------------------+-------------------+------------------+----------+---------------+------------+--------------------+--------------------+------------------------------------+--------------------+-------------------+---------------------------+\n",
            "|    15817|   Patrick|     Deman|     Patrick Deman|       2014|            601|     patrick-deman|         Belgium|               Marke|               Belgium|1968-07-31 00:00:00|        Goalkeeper|Goalkeeper|sin especificar|         184|https://img.a.tra...|https://www.trans...|                                 BE1|Koninklijke Voetb...|               NULL|                       NULL|\n",
            "|    85316|    Kilian|    Falcón|     Kilian Falcón|       2012|            142|     kilian-falcon|           Spain|Las Palmas de Gra...|                 Spain|1992-09-28 00:00:00|        Goalkeeper|Goalkeeper|sin especificar|         184|https://img.a.tra...|https://www.trans...|                                 ES1|       Real Zaragoza|               NULL|                       NULL|\n",
            "|    85326|     Yeray|     Gómez|       Yeray Gómez|       2014|           3302|       yeray-gomez|           Spain|               Selva|                 Spain|1992-06-10 00:00:00|        Goalkeeper|Goalkeeper|sin especificar|         192|https://img.a.tra...|https://www.trans...|                                 ES1|          UD Almería|               NULL|                       NULL|\n",
            "|    90145|   Anthony|     Senni|     Anthony Senni|       2014|          29228|     anthony-senni|            NULL|                NULL|               Belgium|1987-11-26 00:00:00|     Left Midfield|  Midfield|sin especificar|         173|https://img.a.tra...|https://www.trans...|                                 BE1|Royal Excel Mousc...|               NULL|                       NULL|\n",
            "|    90587|    Jerome|   Leblois|    Jerome Leblois|       2014|          29228|    jerome-leblois|            NULL|                NULL|               Belgium|1974-12-09 00:00:00|              NULL|   Missing|sin especificar|        NULL|https://img.a.tra...|https://www.trans...|                                 BE1|Royal Excel Mousc...|               NULL|                       NULL|\n",
            "|    90591|   Vincent|    Martin|    Vincent Martin|       2014|          29228|    vincent-martin|            NULL|                NULL|               Belgium|1980-04-29 00:00:00|              NULL|   Missing|sin especificar|        NULL|https://img.a.tra...|https://www.trans...|                                 BE1|Royal Excel Mousc...|               NULL|                       NULL|\n",
            "|    90593|    Cedric|  Meurisse|   Cedric Meurisse|       2014|          29228|   cedric-meurisse|            NULL|                NULL|               Belgium|1984-01-25 00:00:00|              NULL|   Missing|sin especificar|        NULL|https://img.a.tra...|https://www.trans...|                                 BE1|Royal Excel Mousc...|               NULL|                       NULL|\n",
            "|    90596|     Heidi|    Oudina|      Heidi Oudina|       2014|          29228|      heidi-oudina|            NULL|                NULL|                France|1986-09-10 00:00:00|              NULL|   Missing|sin especificar|        NULL|https://img.a.tra...|https://www.trans...|                                 BE1|Royal Excel Mousc...|               NULL|                       NULL|\n",
            "|    90600|  Josselin|   Thibaut|  Josselin Thibaut|       2014|          29228|  josselin-thibaut|            NULL|                NULL|               Belgium|1985-05-26 00:00:00|              NULL|   Missing|sin especificar|        NULL|https://img.a.tra...|https://www.trans...|                                 BE1|Royal Excel Mousc...|               NULL|                       NULL|\n",
            "|    90602|   Saverio|   Vitelli|   Saverio Vitelli|       2014|          29228|   saverio-vitelli|            NULL|                NULL|               Belgium|1983-04-23 00:00:00|              NULL|   Missing|sin especificar|        NULL|https://img.a.tra...|https://www.trans...|                                 BE1|Royal Excel Mousc...|               NULL|                       NULL|\n",
            "|    98821|    Andriy| Savchenko|  Andriy Savchenko|       2013|           2477|  andriy-savchenko|         Ukraine|Drogobych, Lviv O...|               Ukraine|1994-09-29 00:00:00|        Right-Back|  Defender|sin especificar|         174|https://img.a.tra...|https://www.trans...|                                UKR1|Karpaty Lviv (-2021)|               NULL|                       NULL|\n",
            "|   104865|      Yuri|  Medvedev|     Yuri Medvedev|       2014|           3729|     yuri-medvedev|            NULL|                NULL|                Russia|1990-01-03 00:00:00|       Centre-Back|  Defender|          right|         190|https://img.a.tra...|https://www.trans...|                                 RU1|        Arsenal Tula|               NULL|                       NULL|\n",
            "|   108544|       Lee|  Ashcroft|      Lee Ashcroft|       2013|           2553|      lee-ashcroft|         England|             Preston|               England|1972-09-07 00:00:00|      Right Winger|    Attack|          right|         178|https://img.a.tra...|https://www.trans...|                                 SC1|Kilmarnock Footba...|               NULL|                       NULL|\n",
            "|   114299|    Morten| Rasmussen|  Morten Rasmussen|       2014|            865|  morten-rasmussen|            NULL|                NULL|               Denmark|1980-06-11 00:00:00|         Left-Back|  Defender|sin especificar|        NULL|https://img.a.tra...|https://www.trans...|                                 DK1|Fodbold Club Midt...|               NULL|                       NULL|\n",
            "|   121232|    Callum|    Driver|     Callum Driver|       2013|            379|     callum-driver|         England|              London|               England|1992-10-23 00:00:00|        Right-Back|  Defender|          right|         173|https://img.a.tra...|https://www.trans...|                                 GB1|West Ham United F...|               NULL|                       NULL|\n",
            "|   125059|     Chris|     Tobin|       Chris Tobin|       2012|           2578|       chris-tobin|        Scotland|           Edinburgh|              Scotland|1993-10-18 00:00:00|  Central Midfield|  Midfield|sin especificar|        NULL|https://img.a.tra...|https://www.trans...|                                 SC1|Saint Johnstone F...|               NULL|                       NULL|\n",
            "|   126555|    Victor|     Fuchs|      Victor Fuchs|       2012|            681|      victor-fuchs|          France|            Arcachon|                France|1992-07-10 00:00:00|Defensive Midfield|  Midfield|          right|         174|https://img.a.tra...|https://www.trans...|                                 ES1|Real Sociedad de ...|               NULL|                       NULL|\n",
            "|   127185|     Kévin|    Crépel|      Kévin Crépel|       2012|           1159|      kevin-crepel|          France|         Armentières|                France|1993-04-16 00:00:00|        Goalkeeper|Goalkeeper|          right|         195|https://img.a.tra...|https://www.trans...|                                 FR1|   AS Nancy-Lorraine|               NULL|                       NULL|\n",
            "|   129584|   Yannick|Haesevoets|Yannick Haesevoets|       2012|            354|yannick-haesevoets|            NULL|                NULL|               Belgium|1994-06-21 00:00:00|         Left-Back|  Defender|           left|         182|https://img.a.tra...|https://www.trans...|                                 BE1|Yellow-Red Konink...|               NULL|                       NULL|\n",
            "|   140507|     Rikki|  McIntosh|    Rikki McIntosh|       2012|           2578|    rikki-mcintosh|        Scotland|             Glasgow|              Scotland|1993-02-26 00:00:00|    Right Midfield|  Midfield|sin especificar|         173|https://img.a.tra...|https://www.trans...|                                 SC1|Saint Johnstone F...|               NULL|                       NULL|\n",
            "+---------+----------+----------+------------------+-----------+---------------+------------------+----------------+--------------------+----------------------+-------------------+------------------+----------+---------------+------------+--------------------+--------------------+------------------------------------+--------------------+-------------------+---------------------------+\n",
            "only showing top 20 rows\n"
          ]
        }
      ],
      "source": [
        "# Ver valores nulos de la columna 'market_value_in_eur'\n",
        "df_players.filter(col('market_value_in_eur').isNull()).show()"
      ]
    },
    {
      "cell_type": "code",
      "execution_count": 89,
      "metadata": {
        "colab": {
          "base_uri": "https://localhost:8080/"
        },
        "id": "MdpCvPSeJ49e",
        "outputId": "1118ce0c-342e-4555-e838-47723a33f879"
      },
      "outputs": [
        {
          "name": "stdout",
          "output_type": "stream",
          "text": [
            "Mediana del valor de mercado (excluyendo valores 0): 250000.0\n",
            "+---------+----------+---------+----+-----------+---------------+-----------+----------------+-------------+----------------------+-------------+------------+--------+----+------------+---------+---+------------------------------------+-----------------+-------------------+---------------------------+\n",
            "|player_id|first_name|last_name|name|last_season|current_club_id|player_code|country_of_birth|city_of_birth|country_of_citizenship|date_of_birth|sub_position|position|foot|height_in_cm|image_url|url|current_club_domestic_competition_id|current_club_name|market_value_in_eur|highest_market_value_in_eur|\n",
            "+---------+----------+---------+----+-----------+---------------+-----------+----------------+-------------+----------------------+-------------+------------+--------+----+------------+---------+---+------------------------------------+-----------------+-------------------+---------------------------+\n",
            "|        0|      2062|        0|   0|          0|              0|          0|            2799|         2455|                   383|           47|         180|       0|   0|        2256|        0|  0|                                   0|                0|                  0|                       1523|\n",
            "+---------+----------+---------+----+-----------+---------------+-----------+----------------+-------------+----------------------+-------------+------------+--------+----+------------+---------+---+------------------------------------+-----------------+-------------------+---------------------------+\n",
            "\n",
            "+-------+-------------------+\n",
            "|summary|market_value_in_eur|\n",
            "+-------+-------------------+\n",
            "|    min|            10000.0|\n",
            "+-------+-------------------+\n",
            "\n"
          ]
        }
      ],
      "source": [
        "# Calcular la mediana del valor de mercado (excluyendo nulos y ceros)\n",
        "mediana_market_value = df_players.filter(\n",
        "    col(\"market_value_in_eur\").isNotNull() & (col(\"market_value_in_eur\") > 0)\n",
        ").approxQuantile(\"market_value_in_eur\", [0.5], 0.01)[0]  # 0.01 es la precisión\n",
        "\n",
        "print(f\"Mediana del valor de mercado (excluyendo valores 0): {mediana_market_value}\")\n",
        "\n",
        "# Sustituir nulos y ceros por 'mediana_market_value'\n",
        "df_players = df_players.withColumn(\n",
        "    \"market_value_in_eur\",\n",
        "    when(col(\"market_value_in_eur\").isNull() | (col(\"market_value_in_eur\") == 0), mediana_market_value)\n",
        "    .otherwise(col(\"market_value_in_eur\"))\n",
        ")\n",
        "\n",
        "# Comprobar de nuevo los nulos y valores minimos despues de la sustitucion\n",
        "contar_nulos_por_columna(df_players).show()\n",
        "df_players.select('market_value_in_eur').summary('min').show()"
      ]
    },
    {
      "cell_type": "code",
      "execution_count": 90,
      "metadata": {
        "colab": {
          "base_uri": "https://localhost:8080/"
        },
        "id": "_XDN_PFWdtUD",
        "outputId": "63262258-b971-4775-db1f-2a21ac94e897"
      },
      "outputs": [
        {
          "name": "stdout",
          "output_type": "stream",
          "text": [
            "Mediana del valor máximo de mercado (excluyendo valores 0): 800000.0\n",
            "+---------+----------+---------+----+-----------+---------------+-----------+----------------+-------------+----------------------+-------------+------------+--------+----+------------+---------+---+------------------------------------+-----------------+-------------------+---------------------------+\n",
            "|player_id|first_name|last_name|name|last_season|current_club_id|player_code|country_of_birth|city_of_birth|country_of_citizenship|date_of_birth|sub_position|position|foot|height_in_cm|image_url|url|current_club_domestic_competition_id|current_club_name|market_value_in_eur|highest_market_value_in_eur|\n",
            "+---------+----------+---------+----+-----------+---------------+-----------+----------------+-------------+----------------------+-------------+------------+--------+----+------------+---------+---+------------------------------------+-----------------+-------------------+---------------------------+\n",
            "|        0|      2062|        0|   0|          0|              0|          0|            2799|         2455|                   383|           47|         180|       0|   0|        2256|        0|  0|                                   0|                0|                  0|                          0|\n",
            "+---------+----------+---------+----+-----------+---------------+-----------+----------------+-------------+----------------------+-------------+------------+--------+----+------------+---------+---+------------------------------------+-----------------+-------------------+---------------------------+\n",
            "\n",
            "+-------+---------------------------+\n",
            "|summary|highest_market_value_in_eur|\n",
            "+-------+---------------------------+\n",
            "|    min|                    10000.0|\n",
            "+-------+---------------------------+\n",
            "\n"
          ]
        }
      ],
      "source": [
        "# Repetimos el proceso para la columna 'highest_market_value_in_eur'\n",
        "\n",
        "# Calcular la mediana del valor de mercado (excluyendo nulos y ceros)\n",
        "mediana_market_value = df_players.filter(\n",
        "    col(\"highest_market_value_in_eur\").isNotNull() & (col(\"highest_market_value_in_eur\") > 0)\n",
        ").approxQuantile(\"highest_market_value_in_eur\", [0.5], 0.01)[0]  # 0.01 es la precisión\n",
        "\n",
        "print(f\"Mediana del valor máximo de mercado (excluyendo valores 0): {mediana_market_value}\")\n",
        "\n",
        "# Sustituir nulos y ceros por 'mediana_market_value'\n",
        "df_players = df_players.withColumn(\n",
        "    \"highest_market_value_in_eur\",\n",
        "    when(col(\"highest_market_value_in_eur\").isNull() | (col(\"highest_market_value_in_eur\") == 0), mediana_market_value)\n",
        "    .otherwise(col(\"highest_market_value_in_eur\"))\n",
        ")\n",
        "\n",
        "# Comprobar de nuevo los nulos y valores minimos despues de la sustitucion\n",
        "contar_nulos_por_columna(df_players).show()\n",
        "df_players.select('highest_market_value_in_eur').summary('min').show()"
      ]
    },
    {
      "cell_type": "code",
      "execution_count": 91,
      "metadata": {
        "colab": {
          "base_uri": "https://localhost:8080/"
        },
        "id": "vPvz3Ry7exdW",
        "outputId": "c44df33a-376f-450e-b780-57c063e60236"
      },
      "outputs": [
        {
          "name": "stdout",
          "output_type": "stream",
          "text": [
            "+---------+----------+----------+-------------------+-----------+---------------+-------------------+------------------+-----------------+----------------------+-------------------+------------------+----------+---------------+------------+--------------------+--------------------+------------------------------------+--------------------+-------------------+---------------------------+\n",
            "|player_id|first_name| last_name|               name|last_season|current_club_id|        player_code|  country_of_birth|    city_of_birth|country_of_citizenship|      date_of_birth|      sub_position|  position|           foot|height_in_cm|           image_url|                 url|current_club_domestic_competition_id|   current_club_name|market_value_in_eur|highest_market_value_in_eur|\n",
            "+---------+----------+----------+-------------------+-----------+---------------+-------------------+------------------+-----------------+----------------------+-------------------+------------------+----------+---------------+------------+--------------------+--------------------+------------------------------------+--------------------+-------------------+---------------------------+\n",
            "|       65|   Dimitar|  Berbatov|   Dimitar Berbatov|       2015|           1091|   dimitar-berbatov|          Bulgaria|      Blagoevgrad|              Bulgaria|1981-01-30 00:00:00|    Centre-Forward|    Attack|sin especificar|        NULL|https://img.a.tra...|https://www.trans...|                                 GR1|Panthessalonikios...|          1000000.0|                     3.45E7|\n",
            "|       77|      NULL|     Lúcio|              Lúcio|       2012|            506|              lucio|            Brazil|         Brasília|                Brazil|1978-05-08 00:00:00|       Centre-Back|  Defender|sin especificar|        NULL|https://img.a.tra...|https://www.trans...|                                 IT1|Juventus Football...|           200000.0|                     2.45E7|\n",
            "|      109|      NULL|      Dedê|               Dedê|       2013|            825|               dede|            Brazil|   Belo Horizonte|                Brazil|1978-04-18 00:00:00|         Left-Back|  Defender|sin especificar|        NULL|https://img.a.tra...|https://www.trans...|                                 TR1|       Eskisehirspor|           400000.0|                  9500000.0|\n",
            "|      123| Christoph| Metzelder|Christoph Metzelder|       2012|             33|christoph-metzelder|           Germany|          Haltern|               Germany|1980-11-05 00:00:00|       Centre-Back|  Defender|sin especificar|        NULL|https://img.a.tra...|https://www.trans...|                                  L1|       FC Schalke 04|          1500000.0|                  9500000.0|\n",
            "|      276|    Sladan|     Peric|       Sladan Peric|       2013|          20100|       sladan-peric|              NULL|             NULL|               Denmark|1982-04-15 00:00:00|       Centre-Back|  Defender|sin especificar|        NULL|https://img.a.tra...|https://www.trans...|                                 DK1|    FC Vestsjaelland|           200000.0|                   500000.0|\n",
            "|      325|     Tomas|  Ujfalusi|     Tomas Ujfalusi|       2012|            141|     tomas-ujfalusi|              CSSR|          Rýmařov|        Czech Republic|1978-03-24 00:00:00|       Centre-Back|  Defender|sin especificar|        NULL|https://img.a.tra...|https://www.trans...|                                 TR1|Galatasaray Spor ...|           300000.0|                      1.2E7|\n",
            "|      332|  Benjamin|    Köhler|    Benjamin Köhler|       2012|             24|    benjamin-kohler|           Germany|           Berlin|               Germany|1980-08-04 00:00:00|     Left Midfield|  Midfield|sin especificar|        NULL|https://img.a.tra...|https://www.trans...|                                  L1|Eintracht Frankfu...|           150000.0|                  2500000.0|\n",
            "|      488|   Gerhard|   Tremmel|    Gerhard Tremmel|       2016|           2288|    gerhard-tremmel|           Germany|          München|               Germany|1978-11-16 00:00:00|        Goalkeeper|Goalkeeper|sin especificar|        NULL|https://img.a.tra...|https://www.trans...|                                 GB1|        Swansea City|           250000.0|                  2200000.0|\n",
            "|      568|    Martin|   Stranzl|     Martin Stranzl|       2015|             18|     martin-stranzl|           Austria|          Güssing|               Austria|1980-06-16 00:00:00|       Centre-Back|  Defender|sin especificar|        NULL|https://img.a.tra...|https://www.trans...|                                  L1|Borussia Verein f...|          1000000.0|                  4500000.0|\n",
            "|      597| Aleksandr|      Hleb|     Aleksandr Hleb|       2016|           2696|     aleksandr-hleb|             UdSSR|            Minsk|               Belarus|1981-05-01 00:00:00|Attacking Midfield|  Midfield|sin especificar|        NULL|https://img.a.tra...|https://www.trans...|                                 RU1|PFK Krylya Soveto...|           150000.0|                      1.9E7|\n",
            "|      598|      Timo|Hildebrand|    Timo Hildebrand|       2014|             24|    timo-hildebrand|           Germany|            Worms|               Germany|1979-04-05 00:00:00|        Goalkeeper|Goalkeeper|sin especificar|        NULL|https://img.a.tra...|https://www.trans...|                                  L1|Eintracht Frankfu...|           750000.0|                      1.0E7|\n",
            "|      670|    Martin|    Petrov|      Martin Petrov|       2012|            714|      martin-petrov|          Bulgaria|           Vratsa|              Bulgaria|1979-01-15 00:00:00|       Left Winger|    Attack|sin especificar|        NULL|https://img.a.tra...|https://www.trans...|                                 ES1|Reial Club Deport...|           400000.0|                      1.2E7|\n",
            "|      690|      Ivan|   Klasnic|       Ivan Klasnic|       2012|             39|       ivan-klasnic|           Germany|          Hamburg|               Croatia|1980-01-29 00:00:00|    Centre-Forward|    Attack|sin especificar|        NULL|https://img.a.tra...|https://www.trans...|                                  L1|1. Fußball- und S...|           500000.0|                      1.2E7|\n",
            "|      755|     Deniz|     Baris|        Deniz Baris|       2013|            589|        deniz-baris|            Turkey|         Erzincan|                Turkey|1977-07-02 00:00:00|       Centre-Back|  Defender|sin especificar|        NULL|https://img.a.tra...|https://www.trans...|                                 TR1|         Antalyaspor|           300000.0|                  2000000.0|\n",
            "|      892|     Heinz|    Müller|       Heinz Müller|       2013|             39|       heinz-muller|           Germany|Frankfurt am Main|               Germany|1978-05-30 00:00:00|        Goalkeeper|Goalkeeper|sin especificar|        NULL|https://img.a.tra...|https://www.trans...|                                  L1|1. Fußball- und S...|           200000.0|                  2250000.0|\n",
            "|     1073|    Manuel| Friedrich|   Manuel Friedrich|       2013|             16|   manuel-friedrich|           Germany|    Bad Kreuznach|               Germany|1979-09-13 00:00:00|       Centre-Back|  Defender|sin especificar|        NULL|https://img.a.tra...|https://www.trans...|                                  L1|   Borussia Dortmund|           500000.0|                  5500000.0|\n",
            "|     1075|    Andriy|   Voronin|     Andriy Voronin|       2013|            121|     andriy-voronin|             UdSSR|           Odessa|               Ukraine|1979-07-21 00:00:00|    Second Striker|    Attack|sin especificar|        NULL|https://img.a.tra...|https://www.trans...|                                 RU1|    FK Dinamo Moskva|           500000.0|                  8000000.0|\n",
            "|     1083|    Julian| de Guzmán|   Julian de Guzmán|       2013|            128|   julian-de-guzman|            Canada| Toronto, Ontario|                Canada|1981-03-25 00:00:00|Defensive Midfield|  Midfield|sin especificar|        NULL|https://img.a.tra...|https://www.trans...|                                 GR1|           AO Xanthi|           250000.0|                  5000000.0|\n",
            "|     1095|      Peer|     Kluge|         Peer Kluge|       2013|             44|         peer-kluge|East Germany (GDR)|      Frankenberg|               Germany|1980-11-22 00:00:00|Defensive Midfield|  Midfield|sin especificar|        NULL|https://img.a.tra...|https://www.trans...|                                  L1|          Hertha BSC|           125000.0|                  4000000.0|\n",
            "|     1122|      Sven|   Neuhaus|       Sven Neuhaus|       2013|             41|       sven-neuhaus|           Germany|            Essen|               Germany|1978-04-04 00:00:00|        Goalkeeper|Goalkeeper|sin especificar|        NULL|https://img.a.tra...|https://www.trans...|                                  L1|        Hamburger SV|           200000.0|                   900000.0|\n",
            "+---------+----------+----------+-------------------+-----------+---------------+-------------------+------------------+-----------------+----------------------+-------------------+------------------+----------+---------------+------------+--------------------+--------------------+------------------------------------+--------------------+-------------------+---------------------------+\n",
            "only showing top 20 rows\n"
          ]
        }
      ],
      "source": [
        "# Ver nulos en la columna 'height_in_cm'\n",
        "df_players.filter(col('height_in_cm').isNull()).show()"
      ]
    },
    {
      "cell_type": "code",
      "execution_count": 92,
      "metadata": {
        "colab": {
          "base_uri": "https://localhost:8080/"
        },
        "id": "_V1koblTfQDR",
        "outputId": "1330a1b2-c231-4100-fe98-bd90f7312d21"
      },
      "outputs": [
        {
          "name": "stdout",
          "output_type": "stream",
          "text": [
            "+-------+------------+\n",
            "|summary|height_in_cm|\n",
            "+-------+------------+\n",
            "|    min|          17|\n",
            "+-------+------------+\n",
            "\n"
          ]
        }
      ],
      "source": [
        "# Ver el valor minimo de la columna 'height_in_cm'\n",
        "df_players.select('height_in_cm').summary('min').show()"
      ]
    },
    {
      "cell_type": "code",
      "execution_count": 93,
      "metadata": {
        "colab": {
          "base_uri": "https://localhost:8080/"
        },
        "id": "kdDwFcTAfX5D",
        "outputId": "78631e0c-d8af-4058-881c-788e083e510f"
      },
      "outputs": [
        {
          "name": "stdout",
          "output_type": "stream",
          "text": [
            "Media de la altura (excluyendo valores <= 100): 182.31905075807515\n",
            "+---------+----------+---------+----+-----------+---------------+-----------+----------------+-------------+----------------------+-------------+------------+--------+----+------------+---------+---+------------------------------------+-----------------+-------------------+---------------------------+\n",
            "|player_id|first_name|last_name|name|last_season|current_club_id|player_code|country_of_birth|city_of_birth|country_of_citizenship|date_of_birth|sub_position|position|foot|height_in_cm|image_url|url|current_club_domestic_competition_id|current_club_name|market_value_in_eur|highest_market_value_in_eur|\n",
            "+---------+----------+---------+----+-----------+---------------+-----------+----------------+-------------+----------------------+-------------+------------+--------+----+------------+---------+---+------------------------------------+-----------------+-------------------+---------------------------+\n",
            "|        0|      2062|        0|   0|          0|              0|          0|            2799|         2455|                   383|           47|         180|       0|   0|           0|        0|  0|                                   0|                0|                  0|                          0|\n",
            "+---------+----------+---------+----+-----------+---------------+-----------+----------------+-------------+----------------------+-------------+------------+--------+----+------------+---------+---+------------------------------------+-----------------+-------------------+---------------------------+\n",
            "\n",
            "+-------+------------+\n",
            "|summary|height_in_cm|\n",
            "+-------+------------+\n",
            "|    min|       159.0|\n",
            "+-------+------------+\n",
            "\n"
          ]
        }
      ],
      "source": [
        "# El valor minimo de altura es 17cm, lo cual es imposible\n",
        "# Sustituimos los valores nulos y minimos por la media de altura\n",
        "\n",
        "# Calcular la media de altura (excluyendo nulos y valores <= 100)\n",
        "avg_height = df_players.filter(col(\"height_in_cm\").isNotNull()).filter(col(\"height_in_cm\") > 100).agg(avg(\"height_in_cm\")).collect()[0][0]\n",
        "print(f\"Media de la altura (excluyendo valores <= 100): {avg_height}\")\n",
        "\n",
        "# Sustituimos los valores nulos y minimos por 'avg_height'\n",
        "df_players = df_players.withColumn(\n",
        "    \"height_in_cm\",\n",
        "    when(col(\"height_in_cm\").isNull() | (col(\"height_in_cm\") <= 100), avg_height).otherwise(col(\"height_in_cm\"))\n",
        ")\n",
        "\n",
        "# Comprobar de nuevo los nulos y valores minimos despues de la sustitucion\n",
        "contar_nulos_por_columna(df_players).show()\n",
        "df_players.select('height_in_cm').summary('min').show()"
      ]
    },
    {
      "cell_type": "code",
      "execution_count": null,
      "metadata": {},
      "outputs": [],
      "source": [
        "# Ver si hay caracteres especiales en la columna 'name'\n",
        "df_players.filter(col('name').rlike('[^\\\\p{L} ]')).show()"
      ]
    },
    {
      "cell_type": "code",
      "execution_count": 94,
      "metadata": {
        "colab": {
          "base_uri": "https://localhost:8080/"
        },
        "id": "M2WuaED9gv5z",
        "outputId": "27ba5bb5-50e4-401b-9d60-b5d219b80505"
      },
      "outputs": [
        {
          "name": "stdout",
          "output_type": "stream",
          "text": [
            "+---------+----------+------------+------------+-----------+---------------+------------+----------------+--------------------+----------------------+-------------------+------------------+----------+---------------+------------------+--------------------+--------------------+------------------------------------+--------------------+-------------------+---------------------------+\n",
            "|player_id|first_name|   last_name|        name|last_season|current_club_id| player_code|country_of_birth|       city_of_birth|country_of_citizenship|      date_of_birth|      sub_position|  position|           foot|      height_in_cm|           image_url|                 url|current_club_domestic_competition_id|   current_club_name|market_value_in_eur|highest_market_value_in_eur|\n",
            "+---------+----------+------------+------------+-----------+---------------+------------+----------------+--------------------+----------------------+-------------------+------------------+----------+---------------+------------------+--------------------+--------------------+------------------------------------+--------------------+-------------------+---------------------------+\n",
            "|       77|      NULL|       Lúcio|       Lúcio|       2012|            506|       lucio|          Brazil|            Brasília|                Brazil|1978-05-08 00:00:00|       Centre-Back|  Defender|sin especificar|182.31905075807515|https://img.a.tra...|https://www.trans...|                                 IT1|Juventus Football...|           200000.0|                     2.45E7|\n",
            "|      109|      NULL|        Dedê|        Dedê|       2013|            825|        dede|          Brazil|      Belo Horizonte|                Brazil|1978-04-18 00:00:00|         Left-Back|  Defender|sin especificar|182.31905075807515|https://img.a.tra...|https://www.trans...|                                 TR1|       Eskisehirspor|           400000.0|                  9500000.0|\n",
            "|     1426|      NULL|       Cacau|       Cacau|       2013|             79|       cacau|          Brazil|         Santo André|               Germany|1981-03-27 00:00:00|    Centre-Forward|    Attack|          right|             179.0|https://img.a.tra...|https://www.trans...|                                  L1|Verein für Bewegu...|           350000.0|                  8000000.0|\n",
            "|     1613|      NULL|      Vivian|      Vivian|       2013|            855|      vivian|          Brazil|     Caçapava do Sul|                Brazil|1982-04-05 00:00:00|       Centre-Back|  Defender|sin especificar|182.31905075807515|https://img.a.tra...|https://www.trans...|                                 FR1|         EA Guingamp|           100000.0|                  1500000.0|\n",
            "|     3165|      NULL|        Cris|        Cris|       2012|            141|        cris|          Brazil|           Guarulhos|                Brazil|1977-06-03 00:00:00|       Centre-Back|  Defender|          right|             183.0|https://img.a.tra...|https://www.trans...|                                 TR1|Galatasaray Spor ...|           250000.0|                      1.5E7|\n",
            "|     3233|      NULL|       Chris|       Chris|       2012|            533|       chris|          Brazil|            Blumenau|                Brazil|1978-08-25 00:00:00|       Centre-Back|  Defender|sin especificar|182.31905075807515|https://img.a.tra...|https://www.trans...|                                  L1|Turn- und Sportge...|           300000.0|                  3500000.0|\n",
            "|     3366|      NULL|        Kaká|        Kaká|       2013|              5|        kaka|          Brazil|                Gama|                Brazil|1982-04-22 00:00:00|Attacking Midfield|  Midfield|           both|             186.0|https://img.a.tra...|https://www.trans...|                                 IT1|Associazione Calc...|          1000000.0|                      7.0E7|\n",
            "|     3535|      NULL|     Ricardo|     Ricardo|       2012|            331|     ricardo|           Spain|              Madrid|                 Spain|1971-12-30 00:00:00|        Goalkeeper|Goalkeeper|           left|             187.0|https://img.a.tra...|https://www.trans...|                                 ES1|Club Atlético Osa...|           100000.0|                  4400000.0|\n",
            "|     3890|      NULL|     Eduardo|     Eduardo|       2013|           1147|     eduardo|          Brazil|   São João do Piauí|                Brazil|1980-08-05 00:00:00|    Centre-Forward|    Attack|          right|             178.0|https://img.a.tra...|https://www.trans...|                                 FR1|          AC Ajaccio|           500000.0|                  2500000.0|\n",
            "|     4248|      NULL|       Diego|       Diego|       2015|             36|       diego|          Brazil|      Ribeirão Preto|                Brazil|1985-02-28 00:00:00|Attacking Midfield|  Midfield|          right|             173.0|https://img.a.tra...|https://www.trans...|                                 TR1|Fenerbahçe Spor K...|           300000.0|                      2.9E7|\n",
            "|     4317|      NULL|     Maxwell|     Maxwell|       2016|            583|     maxwell|          Brazil|Cachoeiro de Itap...|                Brazil|1981-08-27 00:00:00|         Left-Back|  Defender|           left|             176.0|https://img.a.tra...|https://www.trans...|                                 FR1|Paris Saint-Germa...|          1000000.0|                     1.35E7|\n",
            "|     4811|      NULL|      Hilton|      Hilton|       2020|            969|      hilton|          Brazil|            Brasília|                Brazil|1977-09-13 00:00:00|       Centre-Back|  Defender|          right|             180.0|https://img.a.tra...|https://www.trans...|                                 FR1|Montpellier Hérau...|           150000.0|                  6000000.0|\n",
            "|     5974|      NULL|   Matuzalém|   Matuzalém|       2015|            276|   matuzalem|          Brazil|               Natal|                Brazil|1980-06-10 00:00:00|Defensive Midfield|  Midfield|           left|             178.0|https://img.a.tra...|https://www.trans...|                                 IT1|Verona Hellas Foo...|            25000.0|                      1.6E7|\n",
            "|     6233|      NULL|     Luciano|     Luciano|       2012|            862|     luciano|          Brazil|      Rio de Janeiro|                Brazil|1975-12-03 00:00:00|    Right Midfield|  Midfield|          right|             180.0|https://img.a.tra...|https://www.trans...|                                 IT1|       Chievo Verona|           200000.0|                  7000000.0|\n",
            "|     6234|      NULL|      Amauri|      Amauri|       2015|            416|      amauri|          Brazil|         Carapicuíba|                 Italy|1980-06-03 00:00:00|    Centre-Forward|    Attack|          right|             188.0|https://img.a.tra...|https://www.trans...|                                 IT1|       Torino Calcio|           100000.0|                      2.0E7|\n",
            "|     6251|      NULL|Dennis Souza|Dennis Souza|       2013|            441|dennis-souza|          Brazil|           São Paulo|                Brazil|1980-01-09 00:00:00|       Centre-Back|  Defender|           left|             191.0|https://img.a.tra...|https://www.trans...|                                 GR1|     Apollon Smyrnis|            75000.0|                   750000.0|\n",
            "|     7492|      NULL|Manuel Pablo|Manuel Pablo|       2015|            897|manuel-pablo|           Spain|              Arucas|                 Spain|1976-01-25 00:00:00|        Right-Back|  Defender|          right|             177.0|https://img.a.tra...|https://www.trans...|                                 ES1|Deportivo de La C...|           100000.0|                  7000000.0|\n",
            "|     7528|      NULL|       Valdo|       Valdo|       2013|           6676|       valdo|           Spain|          Villablino|            Cape Verde|1981-04-23 00:00:00|      Right Winger|    Attack|          right|             184.0|https://img.a.tra...|https://www.trans...|                                 GR1|A.G.S Asteras Tri...|            50000.0|                  5000000.0|\n",
            "|     7542|      NULL|    Juanfran|    Juanfran|       2015|           3368|    juanfran|           Spain|            Valencia|                 Spain|1976-07-15 00:00:00|         Left-Back|  Defender|           left|             182.0|https://img.a.tra...|https://www.trans...|                                 ES1|          Levante UD|           100000.0|                  7500000.0|\n",
            "|     7607|      NULL|        Xavi|        Xavi|       2014|            131|        xavi|           Spain|            Terrassa|                 Spain|1980-01-25 00:00:00|  Central Midfield|  Midfield|          right|             169.0|https://img.a.tra...|https://www.trans...|                                 ES1|Futbol Club Barce...|          2000000.0|                      6.5E7|\n",
            "+---------+----------+------------+------------+-----------+---------------+------------+----------------+--------------------+----------------------+-------------------+------------------+----------+---------------+------------------+--------------------+--------------------+------------------------------------+--------------------+-------------------+---------------------------+\n",
            "only showing top 20 rows\n"
          ]
        }
      ],
      "source": [
        "# Ver nulos en la columna 'first_name'\n",
        "df_players.filter(col('first_name').isNull()).show()"
      ]
    },
    {
      "cell_type": "code",
      "execution_count": 95,
      "metadata": {
        "colab": {
          "base_uri": "https://localhost:8080/"
        },
        "id": "JAtbrA27gkq3",
        "outputId": "f5547b7e-f8f9-428e-c601-80df01eb6eb6"
      },
      "outputs": [
        {
          "name": "stdout",
          "output_type": "stream",
          "text": [
            "+---------+----------+---------+----+-----------+---------------+-----------+----------------+-------------+----------------------+-------------+------------+--------+----+------------+---------+---+------------------------------------+-----------------+-------------------+---------------------------+\n",
            "|player_id|first_name|last_name|name|last_season|current_club_id|player_code|country_of_birth|city_of_birth|country_of_citizenship|date_of_birth|sub_position|position|foot|height_in_cm|image_url|url|current_club_domestic_competition_id|current_club_name|market_value_in_eur|highest_market_value_in_eur|\n",
            "+---------+----------+---------+----+-----------+---------------+-----------+----------------+-------------+----------------------+-------------+------------+--------+----+------------+---------+---+------------------------------------+-----------------+-------------------+---------------------------+\n",
            "|        0|         0|        0|   0|          0|              0|          0|            2799|         2455|                   383|           47|         180|       0|   0|           0|        0|  0|                                   0|                0|                  0|                          0|\n",
            "+---------+----------+---------+----+-----------+---------------+-----------+----------------+-------------+----------------------+-------------+------------+--------+----+------------+---------+---+------------------------------------+-----------------+-------------------+---------------------------+\n",
            "\n"
          ]
        }
      ],
      "source": [
        "# Parece que los nulos de la columna 'first_name' se deben a que el jugador aparece con su apodo\n",
        "# Sustituir los first_name nulos por 'Desconocido'\n",
        "\n",
        "df_players = df_players.withColumn(\n",
        "    \"first_name\",\n",
        "    when(col(\"first_name\").isNull(), \"desconocido\").otherwise(col(\"first_name\"))\n",
        ")\n",
        "# Ver nulos de nuevo\n",
        "contar_nulos_por_columna(df_players).show()"
      ]
    },
    {
      "cell_type": "code",
      "execution_count": 96,
      "metadata": {
        "colab": {
          "base_uri": "https://localhost:8080/"
        },
        "id": "ZIPjZ7JoilYu",
        "outputId": "8c0e47d8-756e-4c8d-b609-dc11c690d0c2"
      },
      "outputs": [
        {
          "name": "stdout",
          "output_type": "stream",
          "text": [
            "+---------+----------+------------+-------------------+-----------+---------------+-------------------+----------------+--------------------+----------------------+-------------+------------------+----------+-----+------------+--------------------+--------------------+------------------------------------+--------------------+-------------------+---------------------------+\n",
            "|player_id|first_name|   last_name|               name|last_season|current_club_id|        player_code|country_of_birth|       city_of_birth|country_of_citizenship|date_of_birth|      sub_position|  position| foot|height_in_cm|           image_url|                 url|current_club_domestic_competition_id|   current_club_name|market_value_in_eur|highest_market_value_in_eur|\n",
            "+---------+----------+------------+-------------------+-----------+---------------+-------------------+----------------+--------------------+----------------------+-------------+------------------+----------+-----+------------+--------------------+--------------------+------------------------------------+--------------------+-------------------+---------------------------+\n",
            "|      299|    Fabian|       Ernst|       Fabian Ernst|       2012|          10484|       fabian-ernst|         Germany|            Hannover|               Germany|         NULL|Defensive Midfield|  Midfield|right|       183.0|https://img.a.tra...|https://www.trans...|                                 TR1|Kasımpaşa Spor Ku...|          1500000.0|                  9000000.0|\n",
            "|      837|   Thorben|        Marx|       Thorben Marx|       2014|             18|       thorben-marx|         Germany|              Berlin|               Germany|         NULL|Defensive Midfield|  Midfield|right|       184.0|https://img.a.tra...|https://www.trans...|                                  L1|Borussia Verein f...|           300000.0|                  2500000.0|\n",
            "|     1587|     Mario|    Eggimann|     Mario Eggimann|       2012|             42|     mario-eggimann|     Switzerland|               Brugg|           Switzerland|         NULL|       Centre-Back|  Defender|right|       190.0|https://img.a.tra...|https://www.trans...|                                  L1|         Hannover 96|           400000.0|                  3000000.0|\n",
            "|     1944|     Deniz|       Dogan|        Deniz Dogan|       2013|             23|        deniz-dogan|         Germany|              Lübeck|                Turkey|         NULL|       Centre-Back|  Defender| left|       181.0|https://img.a.tra...|https://www.trans...|                                  L1|Eintracht Braunsc...|            75000.0|                   400000.0|\n",
            "|     2950|    Robert|       Almer|       Robert Almer|       2014|             42|       robert-almer|         Austria|           Bruck/Mur|               Austria|         NULL|        Goalkeeper|Goalkeeper| left|       194.0|https://img.a.tra...|https://www.trans...|                                  L1|         Hannover 96|           250000.0|                  1000000.0|\n",
            "|     3942|    Martin|       Lanig|       Martin Lanig|       2014|             24|       martin-lanig|         Germany|     Bad Mergentheim|               Germany|         NULL|Defensive Midfield|  Midfield|right|       190.0|https://img.a.tra...|https://www.trans...|                                  L1|Eintracht Frankfu...|           600000.0|                  3500000.0|\n",
            "|     6322|   Patrick|      Helmes|     Patrick Helmes|       2014|              3|     patrick-helmes|         Germany|                Köln|               Germany|         NULL|    Centre-Forward|    Attack| both|       182.0|https://img.a.tra...|https://www.trans...|                                  L1|           1.FC Köln|          1000000.0|                      1.0E7|\n",
            "|    16565|    Daniel|      Halfar|      Daniel Halfar|       2014|              3|      daniel-halfar|         Germany|            Mannheim|               Germany|         NULL|Attacking Midfield|  Midfield| left|       173.0|https://img.a.tra...|https://www.trans...|                                  L1|           1.FC Köln|           400000.0|                  1750000.0|\n",
            "|    20444|    Tobias|        Weis|        Tobias Weis|       2013|             24|        tobias-weis|         Germany|     Schwäbisch Hall|               Germany|         NULL|  Central Midfield|  Midfield| both|       170.0|https://img.a.tra...|https://www.trans...|                                  L1|Eintracht Frankfu...|           300000.0|                  3500000.0|\n",
            "|    32611|     Sezer|       Badur|        Sezer Badur|       2015|            589|        sezer-badur|         Germany|              Berlin|                Turkey|         NULL|  Central Midfield|  Midfield|right|       181.0|https://img.a.tra...|https://www.trans...|                                 TR1|         Antalyaspor|            25000.0|                  2200000.0|\n",
            "|    36189| Christian|       Dorda|    Christian Dorda|       2014|            968|    christian-dorda|         Germany|     Mönchengladbach|               Germany|         NULL|         Left-Back|  Defender| left|       182.0|https://img.a.tra...|https://www.trans...|                                 BE1|Koninklijke Voetb...|           175000.0|                   550000.0|\n",
            "|    42463|      Timo|     Gebhart|       Timo Gebhart|       2013|              4|       timo-gebhart|         Germany|           Memmingen|               Germany|         NULL|Attacking Midfield|  Midfield|right|       183.0|https://img.a.tra...|https://www.trans...|                                  L1|      1.FC Nuremberg|           100000.0|                  5000000.0|\n",
            "|    49681|     Aykut|      Öztürk|       Aykut Öztürk|       2013|           2381|       aykut-ozturk|         Germany|        Ehringhausen|                Turkey|         NULL|    Centre-Forward|    Attack|right|       182.0|https://img.a.tra...|https://www.trans...|                                 TR1|    Sivasspor Kulübü|            10000.0|                   375000.0|\n",
            "|    50765|    Mahmut|       Temür|       Mahmut Temür|       2014|           3216|       mahmut-temur|         Germany|               Düren|               Germany|         NULL|    Centre-Forward|    Attack| both|       178.0|https://img.a.tra...|https://www.trans...|                                 TR1|Mersin Talimyurdu SK|            50000.0|                   350000.0|\n",
            "|    51190|      Marc|   Vucinovic|     Marc Vucinovic|       2014|            127|     marc-vucinovic|         Germany|            Hannover|               Germany|         NULL|              NULL|   Missing|right|       178.0|https://img.a.tra...|https://www.trans...|                                  L1|     SC Paderborn 07|           150000.0|                   450000.0|\n",
            "|    58124|    Julian|    Schieber|    Julian Schieber|       2020|            167|    julian-schieber|         Germany|            Backnang|               Germany|         NULL|    Centre-Forward|    Attack| left|       186.0|https://img.a.tra...|https://www.trans...|                                  L1|Fußball-Club Augs...|           400000.0|                  8000000.0|\n",
            "|    58379|Maximilian|     Beister| Maximilian Beister|       2015|             39| maximilian-beister|         Germany|           Göttingen|               Germany|         NULL|      Right Winger|    Attack| left|       180.0|https://img.a.tra...|https://www.trans...|                                  L1|1. Fußball- und S...|           100000.0|                  3000000.0|\n",
            "|    79642|    Shinji|     Okazaki|     Shinji Okazaki|       2023|            475|     shinji-okazaki|           Japan|   Takarazuka, Hyogo|                 Japan|         NULL|    Centre-Forward|    Attack|right|       175.0|https://img.a.tra...|https://www.trans...|                                 BE1|Koninklijke Sint-...|           150000.0|                      1.0E7|\n",
            "|    83188|      Marc|        Lais|          Marc Lais|       2012|             60|          marc-lais|         Germany|Freiburg im Breisgau|               Germany|         NULL|Defensive Midfield|  Midfield| both|       184.0|https://img.a.tra...|https://www.trans...|                                  L1| Sport-Club Freiburg|           150000.0|                   700000.0|\n",
            "|    94598|    Stefan|Wannenwetsch|Stefan Wannenwetsch|       2015|           4795|stefan-wannenwetsch|         Germany|            Langenau|               Germany|         NULL|Defensive Midfield|  Midfield|right|       177.0|https://img.a.tra...|https://www.trans...|                                  L1|    FC Ingolstadt 04|           200000.0|                   400000.0|\n",
            "+---------+----------+------------+-------------------+-----------+---------------+-------------------+----------------+--------------------+----------------------+-------------+------------------+----------+-----+------------+--------------------+--------------------+------------------------------------+--------------------+-------------------+---------------------------+\n",
            "only showing top 20 rows\n"
          ]
        }
      ],
      "source": [
        "# Ver nulos de la columna 'date_of_birth'\n",
        "df_players.filter(col('date_of_birth').isNull()).show()"
      ]
    },
    {
      "cell_type": "code",
      "execution_count": 97,
      "metadata": {
        "colab": {
          "base_uri": "https://localhost:8080/"
        },
        "id": "u4tkclUcja1r",
        "outputId": "4c2065c5-e9f0-41ee-c570-8daf453e3b2a"
      },
      "outputs": [
        {
          "name": "stdout",
          "output_type": "stream",
          "text": [
            "+---------+----------+---------+----+-----------+---------------+-----------+----------------+-------------+----------------------+-------------+------------+--------+----+------------+---------+---+------------------------------------+-----------------+-------------------+---------------------------+\n",
            "|player_id|first_name|last_name|name|last_season|current_club_id|player_code|country_of_birth|city_of_birth|country_of_citizenship|date_of_birth|sub_position|position|foot|height_in_cm|image_url|url|current_club_domestic_competition_id|current_club_name|market_value_in_eur|highest_market_value_in_eur|\n",
            "+---------+----------+---------+----+-----------+---------------+-----------+----------------+-------------+----------------------+-------------+------------+--------+----+------------+---------+---+------------------------------------+-----------------+-------------------+---------------------------+\n",
            "|        0|         0|        0|   0|          0|              0|          0|            2799|         2455|                   383|            0|         180|       0|   0|           0|        0|  0|                                   0|                0|                  0|                          0|\n",
            "+---------+----------+---------+----+-----------+---------------+-----------+----------------+-------------+----------------------+-------------+------------+--------+----+------------+---------+---+------------------------------------+-----------------+-------------------+---------------------------+\n",
            "\n"
          ]
        }
      ],
      "source": [
        "# Sustituimos las fechas de nacimiento nulas por un valor por defecto\n",
        "# para indicar que la fecha es desconocida (no deberia ser una fecha que pueda aparecer en otros registros)\n",
        "default_timestamp = to_timestamp(lit('1900-01-01 00:00:00'))\n",
        "\n",
        "df_players = df_players.withColumn(\n",
        "    \"date_of_birth\",\n",
        "    when(col(\"date_of_birth\").isNull(), default_timestamp).otherwise(col(\"date_of_birth\"))\n",
        ")\n",
        "# Ver nulos de nuevo\n",
        "contar_nulos_por_columna(df_players).show()"
      ]
    },
    {
      "cell_type": "code",
      "execution_count": 98,
      "metadata": {
        "colab": {
          "base_uri": "https://localhost:8080/"
        },
        "id": "rxINFuuGkQwl",
        "outputId": "dc2a0a5c-0ce4-41c3-f1fc-4d072894dfa0"
      },
      "outputs": [
        {
          "name": "stdout",
          "output_type": "stream",
          "text": [
            "+---------+-----------+-----------+--------------------+-----------+---------------+--------------------+--------------------+-------------+----------------------+-------------------+------------+--------+---------------+------------------+--------------------+--------------------+------------------------------------+--------------------+-------------------+---------------------------+\n",
            "|player_id| first_name|  last_name|                name|last_season|current_club_id|         player_code|    country_of_birth|city_of_birth|country_of_citizenship|      date_of_birth|sub_position|position|           foot|      height_in_cm|           image_url|                 url|current_club_domestic_competition_id|   current_club_name|market_value_in_eur|highest_market_value_in_eur|\n",
            "+---------+-----------+-----------+--------------------+-----------+---------------+--------------------+--------------------+-------------+----------------------+-------------------+------------+--------+---------------+------------------+--------------------+--------------------+------------------------------------+--------------------+-------------------+---------------------------+\n",
            "|     1532|     Wesley|      Sonck|        Wesley Sonck|       2012|          28643|        wesley-sonck|             Belgium|       Ninove|               Belgium|1978-08-09 00:00:00|        NULL| Missing|          right|             174.0|https://img.a.tra...|https://www.trans...|                                 BE1|          SK Beveren|           200000.0|                  8000000.0|\n",
            "|     4429|    Matthew|      Amoah|       Matthew Amoah|       2013|           1304|       matthew-amoah|               Ghana|         Tema|                 Ghana|1980-10-24 00:00:00|        NULL| Missing|sin especificar|182.31905075807515|https://img.a.tra...|https://www.trans...|                                 NL1|     Heracles Almelo|           400000.0|                  2500000.0|\n",
            "|    13723|    Emmerik|  De Vriese|   Emmerik De Vriese|       2012|           2727|   emmerik-de-vriese|             Belgium|       Knokke|               Belgium|1985-02-14 00:00:00|        NULL| Missing|           left|             181.0|https://img.a.tra...|https://www.trans...|                                 BE1| Oud-Heverlee Leuven|           150000.0|                   400000.0|\n",
            "|    14821|      David| van Zanten|    David van Zanten|       2013|            465|    david-van-zanten|             Ireland|       Dublin|               Ireland|1982-05-08 00:00:00|        NULL| Missing|          right|             178.0|https://img.a.tra...|https://www.trans...|                                 SC1|Saint Mirren Foot...|           300000.0|                   600000.0|\n",
            "|    20351|   Sanharib|      Malki|      Sanharib Malki|       2015|          10484|      sanharib-malki|               Syria|    Qamischli|                 Syria|1984-03-01 00:00:00|        NULL| Missing|          right|             179.0|https://img.a.tra...|https://www.trans...|                                 TR1|Kasımpaşa Spor Ku...|           100000.0|                  3200000.0|\n",
            "|    22395|       Adil|    Hermach|        Adil Hermach|       2012|            415|        adil-hermach|              France|        Nîmes|               Morocco|1986-06-27 00:00:00|        NULL| Missing|          right|             177.0|https://img.a.tra...|https://www.trans...|                                 FR1|Toulouse Football...|           350000.0|                  3200000.0|\n",
            "|    26199|desconocido|      Verza|               Verza|       2017|           3368|               verza|               Spain|     Orihuela|                 Spain|1986-09-29 00:00:00|        NULL| Missing|          right|             181.0|https://img.a.tra...|https://www.trans...|                                 ES1|          Levante UD|           100000.0|                  3500000.0|\n",
            "|    33100|   Suleiman|        Omo|        Suleiman Omo|       2018|           2672|        suleiman-omo|             Nigeria|        Kwara|               Nigeria|1985-12-15 00:00:00|        NULL| Missing|          right|             185.0|https://img.a.tra...|https://www.trans...|                                 GR1|APO Levadiakos Fo...|           150000.0|                   800000.0|\n",
            "|    34060|  Nejmeddin|   Daghfous|  Nejmeddin Daghfous|       2012|             39|  nejmeddin-daghfous|             Germany|       Kassel|               Tunisia|1986-10-01 00:00:00|        NULL| Missing|           both|             178.0|https://img.a.tra...|https://www.trans...|                                  L1|1. Fußball- und S...|            50000.0|                   600000.0|\n",
            "|    41080|        Rok|     Straus|          Rok Straus|       2014|           5220|          rok-straus|   Jugoslawien (SFR)|      Maribor|              Slovenia|1987-03-03 00:00:00|        NULL| Missing|          right|             174.0|https://img.a.tra...|https://www.trans...|                                 GR1|        GS Ergotelis|            50000.0|                   350000.0|\n",
            "|    41261|      Habib|    Habibou|       Habib Habibou|       2016|            273|       habib-habibou|Central African R...|         Bria|  Central African R...|1987-04-16 00:00:00|        NULL| Missing|          right|             192.0|https://img.a.tra...|https://www.trans...|                                 FR1|Stade Rennais Foo...|           150000.0|                  2000000.0|\n",
            "|    45611|      Leigh|  Griffiths|     Leigh Griffiths|       2021|            511|     leigh-griffiths|            Scotland|    Edinburgh|              Scotland|1990-08-20 00:00:00|        NULL| Missing|           left|             180.0|https://img.a.tra...|https://www.trans...|                                 SC1|Dundee Football Club|           600000.0|                  3000000.0|\n",
            "|    49474|     Shamil| Lakhiyalov|   Shamil Lakhiyalov|       2012|           2696|   shamil-lakhiyalov|               UdSSR|  Makhachkala|                Russia|1979-10-28 00:00:00|        NULL| Missing|           both|             174.0|https://img.a.tra...|https://www.trans...|                                 RU1|PFK Krylya Soveto...|           400000.0|                  1200000.0|\n",
            "|    51190|       Marc|  Vucinovic|      Marc Vucinovic|       2014|            127|      marc-vucinovic|             Germany|     Hannover|               Germany|1900-01-01 00:00:00|        NULL| Missing|          right|             178.0|https://img.a.tra...|https://www.trans...|                                  L1|     SC Paderborn 07|           150000.0|                   450000.0|\n",
            "|    52045| Athanasios|Panteliadis|Athanasios Pantel...|       2018|           2672|athanasios-pantel...|              Greece|     Katerini|                Greece|1987-09-06 00:00:00|        NULL| Missing|           left|             186.0|https://img.a.tra...|https://www.trans...|                                 GR1|APO Levadiakos Fo...|           150000.0|                   700000.0|\n",
            "|    54679|      Burim|    Hashani|       Burim Hashani|       2018|            126|       burim-hashani|                NULL|         NULL|                Kosovo|1981-12-23 00:00:00|        NULL| Missing|sin especificar|182.31905075807515|https://img.a.tra...|https://www.trans...|                                 TR1|Çaykur Rizespor K...|           200000.0|                   650000.0|\n",
            "|    56607|       Anco|     Jansen|         Anco Jansen|       2020|           1283|         anco-jansen|         Netherlands|       Zwolle|           Netherlands|1989-03-09 00:00:00|        NULL| Missing|          right|             186.0|https://img.a.tra...|https://www.trans...|                                 NL1|            FC Emmen|           250000.0|                   700000.0|\n",
            "|    57333|      Jergé|  Hoefdraad|     Jergé Hoefdraad|       2015|            133|     jerge-hoefdraad|                NULL|         NULL|           Netherlands|1986-07-17 00:00:00|        NULL| Missing|           left|             170.0|https://img.a.tra...|https://www.trans...|                                 NL1|SC Cambuur Leeuwa...|           100000.0|                   350000.0|\n",
            "|    64385|José Manuel|     Catalá|  José Manuel Catalá|       2014|           2079|  jose-manuel-catala|               Spain|  Villajoyosa|                 Spain|1985-01-01 00:00:00|        NULL| Missing|           left|             182.0|https://img.a.tra...|https://www.trans...|                                 GR1|           Veria NPS|           100000.0|                  3000000.0|\n",
            "|    66112|       Keko|     Gontán|         Keko Gontán|       2018|            366|         keko-gontan|               Spain|       Madrid|                 Spain|1991-12-27 00:00:00|        NULL| Missing|          right|             174.0|https://img.a.tra...|https://www.trans...|                                 ES1|Real Valladolid C...|           200000.0|                  4000000.0|\n",
            "+---------+-----------+-----------+--------------------+-----------+---------------+--------------------+--------------------+-------------+----------------------+-------------------+------------+--------+---------------+------------------+--------------------+--------------------+------------------------------------+--------------------+-------------------+---------------------------+\n",
            "only showing top 20 rows\n"
          ]
        }
      ],
      "source": [
        "# Ver nulos de la columna 'sub_position'\n",
        "df_players.filter(col('sub_position').isNull()).show()"
      ]
    },
    {
      "cell_type": "code",
      "execution_count": 99,
      "metadata": {
        "colab": {
          "base_uri": "https://localhost:8080/"
        },
        "id": "tL2ZajhVkcd7",
        "outputId": "e9b99e2b-382e-4a2a-a677-099b2774212a"
      },
      "outputs": [
        {
          "name": "stdout",
          "output_type": "stream",
          "text": [
            "+---------+----------+---------+----+-----------+---------------+-----------+----------------+-------------+----------------------+-------------+------------+--------+----+------------+---------+---+------------------------------------+-----------------+-------------------+---------------------------+\n",
            "|player_id|first_name|last_name|name|last_season|current_club_id|player_code|country_of_birth|city_of_birth|country_of_citizenship|date_of_birth|sub_position|position|foot|height_in_cm|image_url|url|current_club_domestic_competition_id|current_club_name|market_value_in_eur|highest_market_value_in_eur|\n",
            "+---------+----------+---------+----+-----------+---------------+-----------+----------------+-------------+----------------------+-------------+------------+--------+----+------------+---------+---+------------------------------------+-----------------+-------------------+---------------------------+\n",
            "|        0|         0|        0|   0|          0|              0|          0|            2799|         2455|                   383|            0|           0|       0|   0|           0|        0|  0|                                   0|                0|                  0|                          0|\n",
            "+---------+----------+---------+----+-----------+---------------+-----------+----------------+-------------+----------------------+-------------+------------+--------+----+------------+---------+---+------------------------------------+-----------------+-------------------+---------------------------+\n",
            "\n"
          ]
        }
      ],
      "source": [
        "# En la columna 'position' ya existe un valor 'Missing' que podemos usar para corregir los nulos\n",
        "df_players = df_players.withColumn(\n",
        "    \"sub_position\",\n",
        "    when(col(\"sub_position\").isNull(), \"Missing\").otherwise(col(\"sub_position\"))\n",
        ")\n",
        "# Ver nulos de nuevo\n",
        "contar_nulos_por_columna(df_players).show()"
      ]
    },
    {
      "cell_type": "code",
      "execution_count": 100,
      "metadata": {
        "colab": {
          "base_uri": "https://localhost:8080/"
        },
        "id": "R8zApfu8Zajv",
        "outputId": "17f4f717-471a-43a3-fcd6-365f572e95fb"
      },
      "outputs": [
        {
          "name": "stdout",
          "output_type": "stream",
          "text": [
            "+---------+----------+------------------+--------------------+-----------+---------------+--------------------+----------------+--------------------+----------------------+-------------------+------------------+----------+---------------+------------------+--------------------+--------------------+------------------------------------+--------------------+-------------------+---------------------------+\n",
            "|player_id|first_name|         last_name|                name|last_season|current_club_id|         player_code|country_of_birth|       city_of_birth|country_of_citizenship|      date_of_birth|      sub_position|  position|           foot|      height_in_cm|           image_url|                 url|current_club_domestic_competition_id|   current_club_name|market_value_in_eur|highest_market_value_in_eur|\n",
            "+---------+----------+------------------+--------------------+-----------+---------------+--------------------+----------------+--------------------+----------------------+-------------------+------------------+----------+---------------+------------------+--------------------+--------------------+------------------------------------+--------------------+-------------------+---------------------------+\n",
            "|      276|    Sladan|             Peric|        Sladan Peric|       2013|          20100|        sladan-peric|            NULL|                NULL|               Denmark|1982-04-15 00:00:00|       Centre-Back|  Defender|sin especificar|182.31905075807515|https://img.a.tra...|https://www.trans...|                                 DK1|    FC Vestsjaelland|           200000.0|                   500000.0|\n",
            "|     4311|   Maarten|      Stekelenburg|Maarten Stekelenburg|       2022|            610|maarten-stekelenburg|            NULL|             Haarlem|                  NULL|1982-09-22 00:00:00|        Goalkeeper|Goalkeeper|          right|             197.0|https://img.a.tra...|https://www.trans...|                                 NL1|  AFC Ajax Amsterdam|            75000.0|                      1.1E7|\n",
            "|     4742|Christophe|           Lepoint|  Christophe Lepoint|       2022|           2715|  christophe-lepoint|            NULL|             Brussel|                  NULL|1984-10-24 00:00:00|  Central Midfield|  Midfield|          right|             189.0|https://img.a.tra...|https://www.trans...|                                 BE1|         RFC Seraing|            50000.0|                  1700000.0|\n",
            "|    14949|       Rio|            Mavuba|          Rio Mavuba|       2016|           1082|          rio-mavuba|            NULL|                NULL|                France|1984-03-08 00:00:00|Defensive Midfield|  Midfield|          right|             172.0|https://img.a.tra...|https://www.trans...|                                 FR1|Lille Olympique S...|           750000.0|                      1.0E7|\n",
            "|    14962|    Jesper|              Bech|         Jesper Bech|       2014|           1177|         jesper-bech|            NULL|                NULL|               Denmark|1982-05-25 00:00:00|  Central Midfield|  Midfield|           left|             177.0|https://img.a.tra...|https://www.trans...|                                 DK1|Silkeborg Idrætsf...|           100000.0|                  1250000.0|\n",
            "|    15047|    Ronnie|          Bendtsen|     Ronnie Bendtsen|       2013|          20100|     ronnie-bendtsen|            NULL|                NULL|               Denmark|1984-05-23 00:00:00|         Left-Back|  Defender|           left|             174.0|https://img.a.tra...|https://www.trans...|                                 DK1|    FC Vestsjaelland|            50000.0|                   250000.0|\n",
            "|    15049|    Thomas|            Hansen|       Thomas Hansen|       2015|           5818|       thomas-hansen|            NULL|                NULL|               Denmark|1983-01-18 00:00:00|       Centre-Back|  Defender|          right|             189.0|https://img.a.tra...|https://www.trans...|                                 DK1|            Hobro IK|           200000.0|                   500000.0|\n",
            "|    16101|     Atiba|        Hutchinson|    Atiba Hutchinson|       2022|            114|    atiba-hutchinson|            NULL|   Brampton, Ontario|                  NULL|1983-02-08 00:00:00|Defensive Midfield|  Midfield|          right|             187.0|https://img.a.tra...|https://www.trans...|                                 TR1|Beşiktaş Jimnasti...|           100000.0|                  3500000.0|\n",
            "|    20843|     Frank|            Hansen|        Frank Hansen|       2016|           1177|        frank-hansen|            NULL|                NULL|               Denmark|1983-02-23 00:00:00|Defensive Midfield|  Midfield|          right|             175.0|https://img.a.tra...|https://www.trans...|                                 DK1|Silkeborg Idrætsf...|           100000.0|                   750000.0|\n",
            "|    20844|    Henrik|            Hansen|       Henrik Hansen|       2014|           5817|       henrik-hansen|            NULL|                NULL|               Denmark|1979-07-28 00:00:00|  Central Midfield|  Midfield|          right|             178.0|https://img.a.tra...|https://www.trans...|                                 DK1| Sønderjyske Fodbold|           250000.0|                  2150000.0|\n",
            "|    20850|     Jonas|            Jensen|        Jonas Jensen|       2018|           3426|        jonas-jensen|            NULL|                NULL|               Denmark|1985-10-25 00:00:00|        Goalkeeper|Goalkeeper|sin especificar|             188.0|https://img.a.tra...|https://www.trans...|                                 DK1|          Esbjerg fB|           100000.0|                   150000.0|\n",
            "|    20857|    Anders|Möller Christensen|Anders Möller Chr...|       2013|            173|anders-moller-chr...|            NULL|                NULL|               Denmark|1977-07-26 00:00:00|       Centre-Back|  Defender|          right|             185.0|https://img.a.tra...|https://www.trans...|                                 DK1|     Odense Boldklub|            50000.0|                  1500000.0|\n",
            "|    22328|     Fabio|      Quagliarella|  Fabio Quagliarella|       2022|           1038|  fabio-quagliarella|            NULL|Castellammare di ...|                  NULL|1983-01-31 00:00:00|    Centre-Forward|    Attack|          right|             180.0|https://img.a.tra...|https://www.trans...|                                 IT1|        UC Sampdoria|           500000.0|                     1.75E7|\n",
            "|    22479|     Jonas|           Borring|       Jonas Borring|       2019|           2414|       jonas-borring|            NULL|                NULL|               Denmark|1985-01-04 00:00:00|     Left Midfield|  Midfield|           left|             193.0|https://img.a.tra...|https://www.trans...|                                 DK1|          AC Horsens|           250000.0|                  2500000.0|\n",
            "|    22484|     Lasse|            Heinze|        Lasse Heinze|       2015|            865|        lasse-heinze|            NULL|                NULL|               Denmark|1986-04-03 00:00:00|        Goalkeeper|Goalkeeper|          right|             184.0|https://img.a.tra...|https://www.trans...|                                 DK1|Fodbold Club Midt...|           250000.0|                   750000.0|\n",
            "|    22490|   Michael|       Christensen| Michael Christensen|       2015|           5818| michael-christensen|            NULL|                NULL|               Denmark|1983-02-06 00:00:00|       Centre-Back|  Defender|          right|             185.0|https://img.a.tra...|https://www.trans...|                                 DK1|            Hobro IK|           200000.0|                   500000.0|\n",
            "|    22495|    Jesper|         Mikkelsen|    Jesper Mikkelsen|       2014|           1177|    jesper-mikkelsen|            NULL|                NULL|               Denmark|1980-06-26 00:00:00|       Centre-Back|  Defender|           left|             181.0|https://img.a.tra...|https://www.trans...|                                 DK1|Silkeborg Idrætsf...|           150000.0|                   400000.0|\n",
            "|    22898|    Henrik|            Madsen|       Henrik Madsen|       2014|          20100|       henrik-madsen|            NULL|                NULL|               Denmark|1983-02-25 00:00:00|  Central Midfield|  Midfield|          right|             187.0|https://img.a.tra...|https://www.trans...|                                 DK1|    FC Vestsjaelland|           100000.0|                   500000.0|\n",
            "|    22902|    Martin|         Mikkelsen|    Martin Mikkelsen|       2018|           5818|    martin-mikkelsen|            NULL|                NULL|               Denmark|1986-04-29 00:00:00|    Right Midfield|  Midfield|           left|             182.0|https://img.a.tra...|https://www.trans...|                                 DK1|            Hobro IK|            50000.0|                   250000.0|\n",
            "|    22995|     Danny|             Olsen|         Danny Olsen|       2018|           5818|         danny-olsen|            NULL|                NULL|               Denmark|1985-06-11 00:00:00|  Central Midfield|  Midfield|          right|             186.0|https://img.a.tra...|https://www.trans...|                                 DK1|            Hobro IK|           200000.0|                  1500000.0|\n",
            "+---------+----------+------------------+--------------------+-----------+---------------+--------------------+----------------+--------------------+----------------------+-------------------+------------------+----------+---------------+------------------+--------------------+--------------------+------------------------------------+--------------------+-------------------+---------------------------+\n",
            "only showing top 20 rows\n",
            "+---------+----------+------------------+--------------------+-----------+---------------+--------------------+----------------+-------------+----------------------+-------------------+------------------+----------+---------------+------------------+--------------------+--------------------+------------------------------------+--------------------+-------------------+---------------------------+\n",
            "|player_id|first_name|         last_name|                name|last_season|current_club_id|         player_code|country_of_birth|city_of_birth|country_of_citizenship|      date_of_birth|      sub_position|  position|           foot|      height_in_cm|           image_url|                 url|current_club_domestic_competition_id|   current_club_name|market_value_in_eur|highest_market_value_in_eur|\n",
            "+---------+----------+------------------+--------------------+-----------+---------------+--------------------+----------------+-------------+----------------------+-------------------+------------------+----------+---------------+------------------+--------------------+--------------------+------------------------------------+--------------------+-------------------+---------------------------+\n",
            "|      276|    Sladan|             Peric|        Sladan Peric|       2013|          20100|        sladan-peric|            NULL|         NULL|               Denmark|1982-04-15 00:00:00|       Centre-Back|  Defender|sin especificar|182.31905075807515|https://img.a.tra...|https://www.trans...|                                 DK1|    FC Vestsjaelland|           200000.0|                   500000.0|\n",
            "|    14949|       Rio|            Mavuba|          Rio Mavuba|       2016|           1082|          rio-mavuba|            NULL|         NULL|                France|1984-03-08 00:00:00|Defensive Midfield|  Midfield|          right|             172.0|https://img.a.tra...|https://www.trans...|                                 FR1|Lille Olympique S...|           750000.0|                      1.0E7|\n",
            "|    14962|    Jesper|              Bech|         Jesper Bech|       2014|           1177|         jesper-bech|            NULL|         NULL|               Denmark|1982-05-25 00:00:00|  Central Midfield|  Midfield|           left|             177.0|https://img.a.tra...|https://www.trans...|                                 DK1|Silkeborg Idrætsf...|           100000.0|                  1250000.0|\n",
            "|    15047|    Ronnie|          Bendtsen|     Ronnie Bendtsen|       2013|          20100|     ronnie-bendtsen|            NULL|         NULL|               Denmark|1984-05-23 00:00:00|         Left-Back|  Defender|           left|             174.0|https://img.a.tra...|https://www.trans...|                                 DK1|    FC Vestsjaelland|            50000.0|                   250000.0|\n",
            "|    15049|    Thomas|            Hansen|       Thomas Hansen|       2015|           5818|       thomas-hansen|            NULL|         NULL|               Denmark|1983-01-18 00:00:00|       Centre-Back|  Defender|          right|             189.0|https://img.a.tra...|https://www.trans...|                                 DK1|            Hobro IK|           200000.0|                   500000.0|\n",
            "|    20843|     Frank|            Hansen|        Frank Hansen|       2016|           1177|        frank-hansen|            NULL|         NULL|               Denmark|1983-02-23 00:00:00|Defensive Midfield|  Midfield|          right|             175.0|https://img.a.tra...|https://www.trans...|                                 DK1|Silkeborg Idrætsf...|           100000.0|                   750000.0|\n",
            "|    20844|    Henrik|            Hansen|       Henrik Hansen|       2014|           5817|       henrik-hansen|            NULL|         NULL|               Denmark|1979-07-28 00:00:00|  Central Midfield|  Midfield|          right|             178.0|https://img.a.tra...|https://www.trans...|                                 DK1| Sønderjyske Fodbold|           250000.0|                  2150000.0|\n",
            "|    20850|     Jonas|            Jensen|        Jonas Jensen|       2018|           3426|        jonas-jensen|            NULL|         NULL|               Denmark|1985-10-25 00:00:00|        Goalkeeper|Goalkeeper|sin especificar|             188.0|https://img.a.tra...|https://www.trans...|                                 DK1|          Esbjerg fB|           100000.0|                   150000.0|\n",
            "|    20857|    Anders|Möller Christensen|Anders Möller Chr...|       2013|            173|anders-moller-chr...|            NULL|         NULL|               Denmark|1977-07-26 00:00:00|       Centre-Back|  Defender|          right|             185.0|https://img.a.tra...|https://www.trans...|                                 DK1|     Odense Boldklub|            50000.0|                  1500000.0|\n",
            "|    22479|     Jonas|           Borring|       Jonas Borring|       2019|           2414|       jonas-borring|            NULL|         NULL|               Denmark|1985-01-04 00:00:00|     Left Midfield|  Midfield|           left|             193.0|https://img.a.tra...|https://www.trans...|                                 DK1|          AC Horsens|           250000.0|                  2500000.0|\n",
            "|    22484|     Lasse|            Heinze|        Lasse Heinze|       2015|            865|        lasse-heinze|            NULL|         NULL|               Denmark|1986-04-03 00:00:00|        Goalkeeper|Goalkeeper|          right|             184.0|https://img.a.tra...|https://www.trans...|                                 DK1|Fodbold Club Midt...|           250000.0|                   750000.0|\n",
            "|    22490|   Michael|       Christensen| Michael Christensen|       2015|           5818| michael-christensen|            NULL|         NULL|               Denmark|1983-02-06 00:00:00|       Centre-Back|  Defender|          right|             185.0|https://img.a.tra...|https://www.trans...|                                 DK1|            Hobro IK|           200000.0|                   500000.0|\n",
            "|    22495|    Jesper|         Mikkelsen|    Jesper Mikkelsen|       2014|           1177|    jesper-mikkelsen|            NULL|         NULL|               Denmark|1980-06-26 00:00:00|       Centre-Back|  Defender|           left|             181.0|https://img.a.tra...|https://www.trans...|                                 DK1|Silkeborg Idrætsf...|           150000.0|                   400000.0|\n",
            "|    22898|    Henrik|            Madsen|       Henrik Madsen|       2014|          20100|       henrik-madsen|            NULL|         NULL|               Denmark|1983-02-25 00:00:00|  Central Midfield|  Midfield|          right|             187.0|https://img.a.tra...|https://www.trans...|                                 DK1|    FC Vestsjaelland|           100000.0|                   500000.0|\n",
            "|    22902|    Martin|         Mikkelsen|    Martin Mikkelsen|       2018|           5818|    martin-mikkelsen|            NULL|         NULL|               Denmark|1986-04-29 00:00:00|    Right Midfield|  Midfield|           left|             182.0|https://img.a.tra...|https://www.trans...|                                 DK1|            Hobro IK|            50000.0|                   250000.0|\n",
            "|    22995|     Danny|             Olsen|         Danny Olsen|       2018|           5818|         danny-olsen|            NULL|         NULL|               Denmark|1985-06-11 00:00:00|  Central Midfield|  Midfield|          right|             186.0|https://img.a.tra...|https://www.trans...|                                 DK1|            Hobro IK|           200000.0|                  1500000.0|\n",
            "|    23201|    Anders|               Due|          Anders Due|       2014|          20100|          anders-due|            NULL|         NULL|               Denmark|1982-03-17 00:00:00|     Left Midfield|  Midfield|           left|             177.0|https://img.a.tra...|https://www.trans...|                                 DK1|    FC Vestsjaelland|            50000.0|                  1500000.0|\n",
            "|    23403|    Henrik|            Bödker|       Henrik Bödker|       2012|           5817|       henrik-bodker|            NULL|         NULL|               Denmark|1983-06-06 00:00:00|Defensive Midfield|  Midfield|          right|             180.0|https://img.a.tra...|https://www.trans...|                                 DK1| Sønderjyske Fodbold|            50000.0|                   400000.0|\n",
            "|    23579|    Thomas|          Sörensen|     Thomas Sörensen|       2017|            369|     thomas-sorensen|            NULL|         NULL|               Denmark|1984-08-01 00:00:00|       Centre-Back|  Defender|          right|             186.0|https://img.a.tra...|https://www.trans...|                                 DK1|Lyngby Boldklubbe...|           200000.0|                   350000.0|\n",
            "|    26774| Atle Roar|            Haland|    Atle Roar Haland|       2012|            678|    atle-roar-haland|            NULL|         NULL|                Norway|1977-07-26 00:00:00|       Centre-Back|  Defender|          right|             187.0|https://img.a.tra...|https://www.trans...|                                 DK1|Aarhus Gymnastik ...|           100000.0|                  1000000.0|\n",
            "+---------+----------+------------------+--------------------+-----------+---------------+--------------------+----------------+-------------+----------------------+-------------------+------------------+----------+---------------+------------------+--------------------+--------------------+------------------------------------+--------------------+-------------------+---------------------------+\n",
            "only showing top 20 rows\n"
          ]
        }
      ],
      "source": [
        "# Ver nulos de las columnas 'country_of_birth' y 'city_of_birth'\n",
        "df_players.filter(col('country_of_birth').isNull()).show()\n",
        "df_players.filter(col('city_of_birth').isNull()).show()"
      ]
    },
    {
      "cell_type": "markdown",
      "metadata": {
        "id": "MsIpoToSk3aY"
      },
      "source": [
        "En las columnas 'country_of_birth' y 'city_of_birth' hay varios casos donde no hay valor para el país pero si para la ciudad. Para recuperar esos datos perdidos, definimos una función que mapea ciudad a país usando `geopy`"
      ]
    },
    {
      "cell_type": "code",
      "execution_count": null,
      "metadata": {
        "colab": {
          "base_uri": "https://localhost:8080/"
        },
        "id": "pZh5b862ZSXS",
        "outputId": "84aab476-a294-45cb-e193-6e0db64ca97b"
      },
      "outputs": [
        {
          "name": "stdout",
          "output_type": "stream",
          "text": [
            "Mapped Thessaloniki to Greece\n",
            "Mapped Kirovograd to Ukraine\n",
            "Mapped Bryansk to Russia\n",
            "Mapped Konin to Poland\n",
            "Mapped Salzburg to Austria\n",
            "Mapped St.-Katelijne-Waver to Belgium\n",
            "Mapped Tarnów to Poland\n",
            "Mapped Castellammare di Stabia to Italy\n",
            "Mapped Mytilini to Greece\n",
            "Mapped Tamworth to Australia\n",
            "Mapped Almaty to Kazakhstan\n",
            "Mapped Paysandú to Uruguay\n",
            "Mapped Pforzheim to Germany\n",
            "Mapped Rogatica to Bosnia and Herzegovina\n",
            "Mapped Marseille to France\n",
            "Mapped Pontedeume to Spain\n",
            "Mapped Brugg to Switzerland\n",
            "Mapped Bilbao to Spain\n",
            "Mapped Rotterdam to Netherlands\n",
            "Could not map Bratsk, Irkutsk Region\n",
            "Mapped London to United Kingdom\n",
            "Mapped Brampton, Ontario to Canada\n",
            "Mapped Oldham to United States\n",
            "Mapped Kavala to Greece\n",
            "Mapped Dresden to Germany\n",
            "Mapped Düsseldorf to Germany\n",
            "Mapped Hoorn to Netherlands\n",
            "Mapped Korçë to Albania\n",
            "Mapped Sundby to Denmark\n",
            "Mapped Osasco to Brazil\n",
            "Mapped Ivry-sur-Seine to France\n",
            "Mapped Naberezhnye Chelny to Russia\n",
            "Mapped Prilep to North Macedonia\n",
            "Mapped Blagoevgrad to Bulgaria\n",
            "Mapped Ibadan to Nigeria\n",
            "Mapped Balikesir to Turkey\n",
            "Mapped Breda to Netherlands\n",
            "Mapped Ljubljana to Slovenia\n",
            "Mapped Koper to Slovenia\n",
            "Mapped Antalya to Turkey\n",
            "Mapped Frederikssund to Denmark\n",
            "Mapped Gent to Belgium\n",
            "Mapped Filderstadt to Germany\n",
            "Mapped Almelo to Netherlands\n",
            "Mapped Makiivka, Donetsk Oblast to Ukraine\n",
            "Mapped Santiago de Chile to Chile\n",
            "Mapped Las Palmas de Gran Canaria to Spain\n",
            "Mapped Amsterdam to Netherlands\n",
            "Mapped Sursee to Switzerland\n",
            "Mapped Venlo to Netherlands\n",
            "Mapped Annonay to France\n",
            "Mapped Selfoss to Iceland\n",
            "Mapped Fiesole to Italy\n",
            "Mapped Kupyansk, Kharkiv Oblast to Ukraine\n",
            "Mapped Buenos Aires to Argentina\n",
            "Mapped Vushtrri to Kosovo\n",
            "Mapped Liège to Belgium\n",
            "Mapped São Paulo to Brazil\n",
            "Mapped Beauvais to France\n",
            "Mapped Bellshill to United Kingdom\n",
            "Mapped Donetsk to Ukraine\n",
            "Mapped Antwerpen to Belgium\n",
            "Mapped Oran to Algeria\n",
            "Mapped Millerovo, Rostov Oblast to Russia\n",
            "Mapped Sarcelles to France\n",
            "Mapped Lebrija to Spain\n",
            "Mapped Odessa to Ukraine\n",
            "Mapped Brussel to Belgium\n",
            "Mapped Haarlem to Netherlands\n",
            "Mapped Accra to Ghana\n",
            "Mapped Basel to Switzerland\n",
            "Mapped Torino to Italy\n",
            "Mapped Cúcuta to Colombia\n",
            "Mapped Saint-Thégonnec to France\n",
            "Mapped Livingston to United States\n",
            "Mapped Meaux to France\n",
            "Mapped Piraeus to Greece\n",
            "Mapped Malmedy to Belgium\n",
            "Mapped Le Mans to France\n",
            "Mapped Izmir to Turkey\n",
            "Mapped Puente Alto to Chile\n",
            "Mapped Fukuoka, Fukuoka to Japan\n",
            "Mapped Mont de Marsan to France\n",
            "Mapped Saint-Dié to France\n",
            "Mapped Voorburg to Netherlands\n",
            "Mapped Bissau to Guinea-Bissau\n",
            "Mapped Podgorica to Montenegro\n",
            "Mapped Den Helder to Netherlands\n",
            "Mapped Manchester to United Kingdom\n",
            "Mapped Braga to Portugal\n",
            "Mapped Šibenik to Croatia\n",
            "Mapped Santo Domingo de Guzmán to Dominican Republic\n",
            "Mapped Hagen to Germany\n",
            "Mapped Køge to Denmark\n",
            "Mapped Glasgow to United Kingdom\n",
            "Mapped Chiclayo to Peru\n",
            "Mapped Versailles to France\n",
            "Mapped Kragujevac to Serbia\n",
            "Mapped Lille to France\n",
            "Mapped Rochdale to United Kingdom\n",
            "Mapped Maroua to Cameroon\n",
            "Mapped Odesa to Ukraine\n",
            "Mapped Stavropol to Russia\n",
            "Mapped Owerri to Nigeria\n",
            "Mapped Bülach to Switzerland\n",
            "Mapped Mar de Plata to Peru\n",
            "Mapped Bamako to Mali\n",
            "Mapped Camden, New Jersey to United States\n",
            "Mapped Bourg-de-Péage to France\n",
            "Mapped Celle to Germany\n",
            "Mapped San Pedro Sula to Honduras\n",
            "Mapped Asker to Norway\n",
            "Mapped Samara to Russia\n",
            "Mapped Bolgatanga to Ghana\n",
            "Mapped Gondomar to Portugal\n",
            "Mapped Rethymno to Greece\n",
            "Could not map Novotroitsk, Orenburg Region\n",
            "Mapped Charleroi to Belgium\n",
            "Mapped Praha to Czechia\n",
            "Mapped Kingston to Jamaica\n",
            "Mapped Los Angeles, California to United States\n",
            "Mapped Oktyabrskoe, Alania Republic to Russia\n",
            "Mapped Luruaco to Colombia\n",
            "Mapped Paris to France\n",
            "Mapped Brazzaville to Congo-Brazzaville\n",
            "Mapped Rotherham to United Kingdom\n",
            "Mapped Athens to Greece\n",
            "Mapped Roma to Italy\n",
            "Mapped Mafamude to Portugal\n",
            "Mapped Pula to Croatia\n",
            "Mapped Istanbul to Turkey\n",
            "Mapped Heraklion to Greece\n",
            "Mapped Annaba to Algeria\n",
            "Mapped Belo Horizonte to Brazil\n",
            "Mapped Panningen to Netherlands\n",
            "Mapped Volos to Greece\n",
            "Mapped Asmara to Eritrea\n",
            "Mapped Split to Croatia\n",
            "Mapped Coldingham to United Kingdom\n",
            "Mapped Abidjan to Côte d'Ivoire\n",
            "Mapped Ljungbyholm to Sweden\n",
            "Mapped Bistrița to Romania\n",
            "Mapped Southwark to United Kingdom\n",
            "Mapped Três Lagoas to Brazil\n",
            "Mapped Peshkopi to Albania\n",
            "Mapped Seraing to Belgium\n",
            "Mapped Amstelveen to Netherlands\n",
            "Mapped New York City, New York to United States\n",
            "Mapped Chernivtsi to Ukraine\n",
            "Mapped Sint-Niklaas to Belgium\n",
            "Mapped Lublin to Poland\n",
            "Mapped Tripoli to Libya\n",
            "Mapped Chojnice to Poland\n",
            "Mapped Kyiv to Ukraine\n",
            "Mapped Nîmes to France\n",
            "Mapped Montmorency to France\n",
            "Mapped Caxias do Sul to Brazil\n",
            "Mapped Conakry to Guinea\n",
            "Mapped Argos to Greece\n",
            "Mapped Itararé to Brazil\n",
            "Mapped Korinos to Greece\n",
            "Mapped Cascavel to Brazil\n",
            "Mapped Friedberg to Germany\n",
            "Mapped Eskisehir to Turkey\n",
            "Mapped Rouen to France\n",
            "Mapped Medellín to Colombia\n",
            "Mapped Sogndal to Norway\n",
            "Mapped St. Petersburg to Russia\n",
            "Mapped Istres to France\n",
            "Mapped Tauranga to New Zealand\n",
            "Mapped Rio de Janeiro to Brazil\n",
            "Mapped Astana to Kazakhstan\n",
            "Mapped Nairobi to Kenya\n",
            "Mapped Lleida to Spain\n",
            "Mapped Lutsk to Ukraine\n",
            "Mapped Warri to Nigeria\n",
            "Mapped Barcelos to Portugal\n",
            "Mapped Thiès to Senegal\n",
            "Mapped Novosibirsk to Russia\n",
            "Mapped Sofia to Bulgaria\n",
            "Mapped Innsbruck to Austria\n",
            "Mapped Hirtshals to Denmark\n",
            "Mapped Sahuayo de Morelos to Mexico\n",
            "Mapped Navoiy to Uzbekistan\n",
            "Mapped Zaanstad to Netherlands\n",
            "Mapped Arcozelo to Portugal\n",
            "Mapped Mirandela to Portugal\n",
            "Mapped Grevenbroich to Germany\n",
            "Mapped Doetinchem to Netherlands\n",
            "Mapped Pordenone to Italy\n",
            "Mapped Montevideo to Uruguay\n",
            "Could not map Krasnopillya, Sumy Oblast\n",
            "Mapped Kalmar to Sweden\n",
            "Mapped Sátão to Portugal\n",
            "Mapped Turčianske Teplice to Slovakia\n",
            "Mapped Caspe to Spain\n",
            "Mapped Malmö to Sweden\n",
            "Mapped Dortmund to Germany\n",
            "Mapped Benin City to Nigeria\n",
            "Could not map Stepnogirsk, Zaporizhya Oblast\n",
            "Mapped Alcalá de Henares to Spain\n",
            "Mapped Gütersloh to Germany\n",
            "Mapped Málaga to Spain\n",
            "Mapped Mallén to Spain\n",
            "Mapped Madrid to Spain\n",
            "Mapped Maassluis to Netherlands\n",
            "Mapped Jaciara to Brazil\n",
            "Mapped Vechta to Germany\n",
            "Mapped Venda Nova do Imigrante to Brazil\n",
            "Mapped Kozani to Greece\n",
            "Mapped Mariupol, Donetsk Oblast to Ukraine\n",
            "Mapped Boulogne-sur-Mer to France\n",
            "Mapped Morón to Argentina\n",
            "Mapped Trani to Italy\n",
            "Mapped Lomé to Togo\n",
            "Mapped Berlin to Germany\n",
            "Mapped Cortona to Italy\n",
            "Mapped Krasnodar to Russia\n",
            "Mapped Ankara to Turkey\n",
            "Mapped Vodskov to Denmark\n",
            "Mapped Hjørring to Denmark\n",
            "Mapped Saint-Pierre to France\n",
            "Mapped Leicester to United Kingdom\n",
            "Mapped Maribor to Slovenia\n",
            "Mapped Caen to France\n",
            "Could not map Zarvanytsya, Lviv Oblast\n",
            "Mapped Konya to Turkey\n",
            "Mapped Desio to Italy\n",
            "Mapped Kayseri to Turkey\n",
            "Mapped Medjana to Algeria\n",
            "Mapped Guayaquil to Ecuador\n",
            "Mapped Lyon to France\n",
            "Mapped Moskau to Russia\n",
            "Mapped La Spezia to Italy\n",
            "Mapped Viborg to Russia\n",
            "Mapped Crema to Italy\n",
            "Mapped Castellón de la Plana to Spain\n",
            "Mapped Vladikavkaz to Russia\n",
            "Mapped Barcelona to Spain\n",
            "Mapped München to Germany\n",
            "Mapped Dorchester to United Kingdom\n",
            "Mapped Mantes-la-Jolie to France\n",
            "Mapped Lyubertsy, Moskau Oblast to Russia\n",
            "Mapped Rosário to Argentina\n",
            "Mapped Maidstone to United Kingdom\n",
            "Mapped Thisted to Denmark\n",
            "Mapped Chertsey to United Kingdom\n",
            "Mapped Præstø to Denmark\n",
            "Mapped Vitória da Conquista to Brazil\n",
            "Mapped Rota to Spain\n",
            "Mapped Saint-Etienne to France\n",
            "Mapped Dakar to Senegal\n",
            "Mapped Murska Sobota to Slovenia\n",
            "Mapped Toulouse to France\n",
            "Mapped Stuttgart to Germany\n",
            "Mapped Perevalne, AR Krym to Ukraine\n",
            "Mapped Patras to Greece\n",
            "Mapped Rosario to Argentina\n",
            "Mapped Baryshivka, Kyiv Oblast to Ukraine\n",
            "Mapped Lisboa to Portugal\n",
            "Mapped Vigo to Spain\n",
            "Mapped Le Blanc-Mesnil to France\n",
            "Mapped Malabo to Equatorial Guinea\n",
            "Mapped Cajazeiras to Brazil\n",
            "Mapped Rostov-na-Donu to Russia\n",
            "Mapped Itapitanga to Brazil\n",
            "Mapped Magenta to France\n",
            "Mapped Funchal to Portugal\n",
            "Mapped Diyarbakir to Turkey\n",
            "Mapped Nagano, Nagano to Japan\n",
            "Mapped Tehran to Iran\n",
            "Mapped Budapest to Hungary\n",
            "Mapped Villeneuve-d'Ascq to France\n",
            "Mapped Leeds to United Kingdom\n",
            "Mapped San Jose, California to United States\n",
            "Mapped Seixal to Portugal\n",
            "Mapped Jerez de la Frontera to Spain\n",
            "Mapped Trabzon to Turkey\n",
            "Mapped Valladolid to Spain\n"
          ]
        }
      ],
      "source": [
        "from geopy.geocoders import Nominatim\n",
        "from geopy.exc import GeocoderTimedOut, GeocoderServiceError\n",
        "import time\n",
        "\n",
        "# Instanciamos el geolocalizador\n",
        "geolocator = Nominatim(user_agent=\"city_to_country_mapper\")\n",
        "\n",
        "# Funcion para mapear ciudad a pais\n",
        "def get_country(city):\n",
        "    \"\"\"\n",
        "    Mapea el nombre de una ciudad a su pais utilizando geolocalizacion.\n",
        "    Explicacion:\n",
        "      - Intenta obtener la informacion de geolocalizacion para la ciudad proporcionada.\n",
        "      - Si la geolocalizacion es exitosa y se obtiene una direccion, parsea\n",
        "        la direccion para extraer el nombre del pais.\n",
        "      - Maneja posibles errores de tiempo de espera o del servicio del geolocalizador.\n",
        "\n",
        "    Args:\n",
        "        city (str): El nombre de la ciudad a mapear.\n",
        "\n",
        "    Returns:\n",
        "        part: El nombre del pais si se puede mapear la ciudad, de lo contrario, None.\n",
        "    \"\"\"\n",
        "    try:\n",
        "        location = geolocator.geocode(city, language=\"en\", timeout=10)\n",
        "        if location and location.address:\n",
        "            address_parts = location.address.split(\", \")\n",
        "            for part in reversed(address_parts):\n",
        "                if len(part) > 2 and not any(char.isdigit() for char in part):\n",
        "                    return part\n",
        "        return None\n",
        "    except (GeocoderTimedOut, GeocoderServiceError) as e:\n",
        "        print(f\"Error geocoding {city}: {e}\")\n",
        "        return None\n",
        "    except Exception as e:\n",
        "        print(f\"Unexpected error for {city}: {e}\")\n",
        "        return None\n",
        "\n",
        "# Crea una UDF para usar en Spark\n",
        "get_country_udf = udf(get_country, StringType())\n",
        "\n",
        "# Filtra las ciudades donde no hay pais pero hay ciudad\n",
        "cities_df = df_players.filter(col(\"country_of_birth\").isNull() & col(\"city_of_birth\").isNotNull()) \\\n",
        "                   .select(\"city_of_birth\").distinct()\n",
        "\n",
        "# Collect para traerlas al driver (Cuidado si hay muchas)\n",
        "cities = [row['city_of_birth'] for row in cities_df.collect() if row['city_of_birth'] is not None]\n",
        "\n",
        "# Diccionario ciudad-pais\n",
        "city_country_map = {}\n",
        "\n",
        "for city in cities:\n",
        "    country = get_country(city)\n",
        "    if country:\n",
        "        city_country_map[city] = country\n",
        "        print(f\"Mapped {city} to {country}\")\n",
        "    else:\n",
        "        city_country_map[city] = None\n",
        "        print(f\"Could not map {city}\")\n",
        "    time.sleep(1)  # No bombardees el server como un cavernicola\n",
        "\n",
        "# Transforma el diccionario a un DataFrame para hacer join\n",
        "mapping_rows = [(k, v) for k, v in city_country_map.items()]\n",
        "mapping_df = spark.createDataFrame(mapping_rows, [\"city_of_birth\", \"mapped_country\"])\n",
        "\n",
        "# Une el mapping con el DataFrame original\n",
        "df_players_mapped = df_players.join(mapping_df, on=\"city_of_birth\", how=\"left\")\n",
        "\n",
        "# Actualiza la columna 'country_of_birth' donde sea NULL\n",
        "df_players_mapped = df_players_mapped.withColumn(\"country_of_birth\",\n",
        "    when(col(\"country_of_birth\").isNull() & col(\"mapped_country\").isNotNull(), col(\"mapped_country\"))\n",
        "    .otherwise(col(\"country_of_birth\"))\n",
        ")\n",
        "\n",
        "# Quita la columna de mapeo\n",
        "df_players_mapped = df_players_mapped.drop(\"mapped_country\")"
      ]
    },
    {
      "cell_type": "code",
      "execution_count": 102,
      "metadata": {
        "colab": {
          "base_uri": "https://localhost:8080/"
        },
        "id": "igk0851wcRy-",
        "outputId": "e685a76a-7bd8-4e44-9cf9-5937a27dea0d"
      },
      "outputs": [
        {
          "name": "stdout",
          "output_type": "stream",
          "text": [
            "Valores nulos en 'country_of_birth' antes del mapeo: 2799\n",
            "Valores nulos en 'country_of_birth' despues del mapeo: 2460\n"
          ]
        },
        {
          "name": "stderr",
          "output_type": "stream",
          "text": [
            "                                                                                \r"
          ]
        }
      ],
      "source": [
        "# Comprobar si el mapeo se ha realizado correctamente\n",
        "print(f\"Valores nulos en 'country_of_birth' antes del mapeo:\", df_players.filter(col('country_of_birth').isNull()).count())\n",
        "print(f\"Valores nulos en 'country_of_birth' despues del mapeo:\", df_players_mapped.filter(col('country_of_birth').isNull()).count())"
      ]
    },
    {
      "cell_type": "code",
      "execution_count": 103,
      "metadata": {
        "colab": {
          "base_uri": "https://localhost:8080/"
        },
        "id": "lIEV91VihZri",
        "outputId": "6b68ac13-fe77-4501-d54a-256a7931f51e"
      },
      "outputs": [
        {
          "name": "stdout",
          "output_type": "stream",
          "text": [
            "+-------------+---------+----------+---------+----+-----------+---------------+-----------+----------------+----------------------+-------------+------------+--------+----+------------+---------+---+------------------------------------+-----------------+-------------------+---------------------------+\n",
            "|city_of_birth|player_id|first_name|last_name|name|last_season|current_club_id|player_code|country_of_birth|country_of_citizenship|date_of_birth|sub_position|position|foot|height_in_cm|image_url|url|current_club_domestic_competition_id|current_club_name|market_value_in_eur|highest_market_value_in_eur|\n",
            "+-------------+---------+----------+---------+----+-----------+---------------+-----------+----------------+----------------------+-------------+------------+--------+----+------------+---------+---+------------------------------------+-----------------+-------------------+---------------------------+\n",
            "|            0|        0|         0|        0|   0|          0|              0|          0|               0|                   383|            0|           0|       0|   0|           0|        0|  0|                                   0|                0|                  0|                          0|\n",
            "+-------------+---------+----------+---------+----+-----------+---------------+-----------+----------------+----------------------+-------------+------------+--------+----+------------+---------+---+------------------------------------+-----------------+-------------------+---------------------------+\n",
            "\n"
          ]
        }
      ],
      "source": [
        "# El resto de valores nulos son de filas donde no hay ni pais ni ciudad\n",
        "# Sustituimos esos valores por un valor 'Desconocido'\n",
        "df_players_mapped = df_players_mapped.withColumn(\n",
        "    \"country_of_birth\",\n",
        "    when(col(\"country_of_birth\").isNull(), \"Desconocido\").otherwise(col(\"country_of_birth\"))\n",
        ")\n",
        "df_players_mapped = df_players_mapped.withColumn(\n",
        "    \"city_of_birth\",\n",
        "    when(col(\"city_of_birth\").isNull(), \"Desconocida\").otherwise(col(\"city_of_birth\"))\n",
        ")\n",
        "# Ver nulos de nuevo\n",
        "contar_nulos_por_columna(df_players_mapped).show()"
      ]
    },
    {
      "cell_type": "code",
      "execution_count": 104,
      "metadata": {
        "colab": {
          "base_uri": "https://localhost:8080/"
        },
        "id": "iVu42QgpktU0",
        "outputId": "eb314e32-80e8-49a0-eadd-3da646a8aa99"
      },
      "outputs": [
        {
          "name": "stdout",
          "output_type": "stream",
          "text": [
            "+-------------+---------+----------+------------------+--------------------+-----------+---------------+--------------------+----------------+-------------------+------------------+----------+---------------+------------------+------------------------------------+--------------------+-------------------+---------------------------+\n",
            "|city_of_birth|player_id|first_name|         last_name|                name|last_season|current_club_id|         player_code|country_of_birth|      date_of_birth|      sub_position|  position|           foot|      height_in_cm|current_club_domestic_competition_id|   current_club_name|market_value_in_eur|highest_market_value_in_eur|\n",
            "+-------------+---------+----------+------------------+--------------------+-----------+---------------+--------------------+----------------+-------------------+------------------+----------+---------------+------------------+------------------------------------+--------------------+-------------------+---------------------------+\n",
            "|      Codogno|     6012|   Stefano|          Lucchini|    Stefano Lucchini|       2014|           1429|    stefano-lucchini|           Italy|1980-10-02 00:00:00|       Centre-Back|  Defender|          right|             186.0|                                 IT1|           Cesena FC|            75000.0|                  4300000.0|\n",
            "|      Palermo|     6157|   Gaetano|        D'Agostino|  Gaetano D'Agostino|       2012|           2921|   gaetano-dagostino|           Italy|1982-06-03 00:00:00|  Central Midfield|  Midfield|           left|             180.0|                                 IT1|Delfino Pescara 1936|            75000.0|                      1.4E7|\n",
            "| Thessaloniki|     7214|   Giannis|           Takidis|     Giannis Takidis|       2013|           6418|     giannis-takidis|          Greece|1981-04-17 00:00:00|        Goalkeeper|Goalkeeper|          right|             186.0|                                 GR1| Panetolikos Agrinio|           200000.0|                   250000.0|\n",
            "|      Trutnov|     9524|      Rudi|            Skacel|         Rudi Skacel|       2012|           1519|         rudi-skacel|            CSSR|1979-07-17 00:00:00|     Left Midfield|  Midfield|sin especificar|182.31905075807515|                                 SC1|Dundee United Foo...|           100000.0|                  2500000.0|\n",
            "| Thessaloniki|     9684|  Pantelis|             Kafes|      Pantelis Kafes|       2012|           2079|      pantelis-kafes|          Greece|1978-06-24 00:00:00|  Central Midfield|  Midfield|          right|             180.0|                                 GR1|           Veria NPS|           300000.0|                  4000000.0|\n",
            "| Thessaloniki|    12895|  Nikolaos|    Anastasopoulos|Nikolaos Anastaso...|       2014|            128|nikolaos-anastaso...|          Greece|1979-08-05 00:00:00|        Goalkeeper|Goalkeeper|          right|             190.0|                                 GR1|           AO Xanthi|           150000.0|                   600000.0|\n",
            "| Thessaloniki|    12953|  Georgios|            Kousas|     Georgios Kousas|       2017|           4603|     georgios-kousas|          Greece|1982-08-12 00:00:00|       Centre-Back|  Defender|          right|             186.0|                                 GR1|           AE Larisa|            50000.0|                   550000.0|\n",
            "|      Rødovre|    14963|    Martin|          Bergvold|     Martin Bergvold|       2014|           3426|     martin-bergvold|         Denmark|1984-02-20 00:00:00|Defensive Midfield|  Midfield|           left|             184.0|                                 DK1|          Esbjerg fB|            75000.0|                  1600000.0|\n",
            "|      Rødovre|    15055|    Martin|             Retov|        Martin Retov|       2012|           2414|        martin-retov|         Denmark|1980-05-05 00:00:00|  Central Midfield|  Midfield|          right|             178.0|                                 DK1|          AC Horsens|           100000.0|                  2000000.0|\n",
            "| Thessaloniki|    15153| Dimitrios|       Salpingidis|Dimitrios Salping...|       2015|           1091|dimitrios-salping...|          Greece|1981-08-18 00:00:00|      Right Winger|    Attack|          right|             171.0|                                 GR1|Panthessalonikios...|           300000.0|                  6500000.0|\n",
            "| Thessaloniki|    16597|  Christos|         Karypidis|  Christos Karypidis|       2018|           3999|  christos-karypidis|          Greece|1982-12-02 00:00:00|       Centre-Back|  Defender|          right|             183.0|                                 GR1|      PAS Lamia 1964|           100000.0|                  2000000.0|\n",
            "| Thessaloniki|    17228|Panagiotis|             Lagos|    Panagiotis Lagos|       2013|           2740|    panagiotis-lagos|          Greece|1985-07-18 00:00:00|     Left Midfield|  Midfield|           left|             182.0|                                UKR1|     Vorskla Poltava|           500000.0|                  2000000.0|\n",
            "| Thessaloniki|    18929|   Stelios|           Iliadis|     Stelios Iliadis|       2016|           2079|     stelios-iliadis|          Greece|1986-06-03 00:00:00|Defensive Midfield|  Midfield|          right|             180.0|                                 GR1|           Veria NPS|           250000.0|                  2000000.0|\n",
            "|      Palermo|    19182| Salvatore|           Aronica|   Salvatore Aronica|       2012|           6195|   salvatore-aronica|           Italy|1978-01-20 00:00:00|       Centre-Back|  Defender|           left|             181.0|                                 IT1|Società Sportiva ...|            25000.0|                  2000000.0|\n",
            "|      Palermo|    21988|   Leandro|           Rinaudo|     Leandro Rinaudo|       2013|           1210|     leandro-rinaudo|           Italy|1983-05-09 00:00:00|       Centre-Back|  Defender|          right|             191.0|                                 IT1|     US Livorno 1915|           100000.0|                  3000000.0|\n",
            "|      Palermo|    22268|  Emanuele|            Calaiò|     Emanuele Calaiò|       2018|            130|     emanuele-calaio|           Italy|1982-01-08 00:00:00|    Centre-Forward|    Attack|           left|             179.0|                                 IT1|   Parma Calcio 1913|           200000.0|                  4000000.0|\n",
            "| Thessaloniki|    22810|  Vangelis|            Nastos|     Vangelis Nastos|       2015|           2079|     vangelis-nastos|          Greece|1980-09-13 00:00:00|        Right-Back|  Defender|          right|             187.0|                                 GR1|           Veria NPS|           200000.0|                  1000000.0|\n",
            "| Thessaloniki|    24975|Athanasios|           Prittas|  Athanasios Prittas|       2012|           7185|  athanasios-prittas|          Greece|1979-01-09 00:00:00|  Central Midfield|  Midfield|          right|             183.0|                                 GR1|Panthrakikos Komo...|           250000.0|                  1000000.0|\n",
            "| Thessaloniki|    29896|     Fotis|          Kipouros|      Fotis Kipouros|       2012|          21957|      fotis-kipouros|          Greece|1975-08-09 00:00:00|        Goalkeeper|Goalkeeper|          right|             180.0|                                 GR1|        AO Platanias|           150000.0|                   500000.0|\n",
            "| Thessaloniki|    34283|   Lazaros|Christodoulopoulos|Lazaros Christodo...|       2023|            605|lazaros-christodo...|          Greece|1986-12-19 00:00:00|Attacking Midfield|  Midfield|          right|             183.0|                                 GR1|  Aris Thessalonikis|           150000.0|                  3500000.0|\n",
            "+-------------+---------+----------+------------------+--------------------+-----------+---------------+--------------------+----------------+-------------------+------------------+----------+---------------+------------------+------------------------------------+--------------------+-------------------+---------------------------+\n",
            "only showing top 20 rows\n"
          ]
        }
      ],
      "source": [
        "# Eliminamos las columnas 'country_of_citizenship', 'image_url' y 'url' porque no son utiles para nuestro analisis\n",
        "df_players_mapped = df_players_mapped.drop(\"country_of_citizenship\",\"image_url\", \"url\")\n",
        "df_players_mapped.show()"
      ]
    },
    {
      "cell_type": "markdown",
      "metadata": {
        "id": "yNumnjKePq0W"
      },
      "source": [
        "# Archivo \"transfers.csv\""
      ]
    },
    {
      "cell_type": "code",
      "execution_count": 105,
      "metadata": {
        "id": "krM5AILEPuoN"
      },
      "outputs": [
        {
          "name": "stdout",
          "output_type": "stream",
          "text": [
            "+---------+-------------+---------------+------------+----------+--------------+---------------+------------+-------------------+----------------+\n",
            "|player_id|transfer_date|transfer_season|from_club_id|to_club_id|from_club_name|   to_club_name|transfer_fee|market_value_in_eur|     player_name|\n",
            "+---------+-------------+---------------+------------+----------+--------------+---------------+------------+-------------------+----------------+\n",
            "|    16136|   2026-07-01|          26/27|         417|       123|      OGC Nice|        Retired|        NULL|           500000.0|           Dante|\n",
            "|  1138758|   2026-07-01|          26/27|         336|       631|   Sporting CP|        Chelsea|     5.214E7|              4.5E7|  Geovany Quenda|\n",
            "|   195778|   2026-06-30|          25/26|          79|        27| VfB Stuttgart|  Bayern Munich|         0.0|              1.2E7| Alexander Nübel|\n",
            "|   569033|   2026-06-30|          25/26|          39|        27|1.FSV Mainz 05|  Bayern Munich|         0.0|          4000000.0|    Armindo Sieb|\n",
            "|   626913|   2026-06-30|          25/26|         398|       380|         Lazio|    Salernitana|         0.0|              1.5E7|     Boulaye Dia|\n",
            "|   743395|   2026-06-30|          25/26|        9010|        15| FCV Dender EH|  B. Leverkusen|         0.0|          1500000.0|     Noah Mbamba|\n",
            "|   887834|   2026-06-30|          25/26|         979|      1023|   Moreirense |      Palmeiras|         0.0|          1000000.0|          Michel|\n",
            "|  1047109|   2026-06-30|          25/26|        2672|       265|APO Levadiakos|  Panathinaikos|         0.0|           300000.0| Georgios Katris|\n",
            "|   128223|   2026-01-20|          25/26|         141|         5|   Galatasaray|       AC Milan|         0.0|              1.3E7|   Álvaro Morata|\n",
            "|   955213|   2026-01-01|          25/26|       10690|     36949| Zorya Lugansk|Dynamo Kyiv U19|         0.0|            50000.0|Andriy Matkevych|\n",
            "+---------+-------------+---------------+------------+----------+--------------+---------------+------------+-------------------+----------------+\n",
            "only showing top 10 rows\n",
            "root\n",
            " |-- player_id: integer (nullable = true)\n",
            " |-- transfer_date: date (nullable = true)\n",
            " |-- transfer_season: string (nullable = true)\n",
            " |-- from_club_id: integer (nullable = true)\n",
            " |-- to_club_id: integer (nullable = true)\n",
            " |-- from_club_name: string (nullable = true)\n",
            " |-- to_club_name: string (nullable = true)\n",
            " |-- transfer_fee: double (nullable = true)\n",
            " |-- market_value_in_eur: double (nullable = true)\n",
            " |-- player_name: string (nullable = true)\n",
            "\n"
          ]
        },
        {
          "data": {
            "text/plain": [
              "['player_id',\n",
              " 'transfer_date',\n",
              " 'transfer_season',\n",
              " 'from_club_id',\n",
              " 'to_club_id',\n",
              " 'from_club_name',\n",
              " 'to_club_name',\n",
              " 'transfer_fee',\n",
              " 'market_value_in_eur',\n",
              " 'player_name']"
            ]
          },
          "execution_count": 105,
          "metadata": {},
          "output_type": "execute_result"
        }
      ],
      "source": [
        "# Cargar el csv\n",
        "df_transfers = spark.read.csv(path + \"/transfers.csv\", header=True, inferSchema=True)\n",
        "\n",
        "# Ver las primeras filas\n",
        "df_transfers.show(10)\n",
        "df_transfers.printSchema()\n",
        "df_transfers.columns"
      ]
    },
    {
      "cell_type": "code",
      "execution_count": 106,
      "metadata": {
        "id": "8Sff4L1gPz8y"
      },
      "outputs": [
        {
          "name": "stderr",
          "output_type": "stream",
          "text": [
            "[Stage 348:============================>                            (1 + 1) / 2]\r"
          ]
        },
        {
          "name": "stdout",
          "output_type": "stream",
          "text": [
            "+-------+------------------+---------------+------------------+------------------+--------------+--------------+-----------------+-------------------+------------------+\n",
            "|summary|         player_id|transfer_season|      from_club_id|        to_club_id|from_club_name|  to_club_name|     transfer_fee|market_value_in_eur|       player_name|\n",
            "+-------+------------------+---------------+------------------+------------------+--------------+--------------+-----------------+-------------------+------------------+\n",
            "|  count|             79646|          79646|             79646|             79646|         79646|         79646|            51931|              49330|             79646|\n",
            "|   mean|423242.62649725034|           NULL| 17158.68822037516|12902.337556186123|          NULL|          NULL|1115650.110184668|  2488055.483478613|              NULL|\n",
            "| stddev|269454.25715372444|           NULL|23567.526887485714| 20482.85586144404|          NULL|          NULL|5258424.365466746|  5901402.705113297|              NULL|\n",
            "|    min|              3333|          00/01|                 1|                 1|        AS U15| DYuSSh Zvezda|              0.0|            10000.0|Aaron Appindangoyé|\n",
            "|    25%|            207302|           NULL|               853|               589|          NULL|          NULL|              0.0|           225000.0|              NULL|\n",
            "|    50%|            371149|           NULL|              6646|              2974|          NULL|          NULL|              0.0|           600000.0|              NULL|\n",
            "|    75%|            597153|           NULL|             24226|             14681|          NULL|          NULL|              0.0|          2000000.0|              NULL|\n",
            "|    max|           1391239|          99/00|            129264|            128258|Жемчужина-Сочи|Жемчужина-Сочи|            1.8E8|              1.8E8|    Ștefan Vlădoiu|\n",
            "+-------+------------------+---------------+------------------+------------------+--------------+--------------+-----------------+-------------------+------------------+\n",
            "\n"
          ]
        },
        {
          "name": "stderr",
          "output_type": "stream",
          "text": [
            "                                                                                \r"
          ]
        }
      ],
      "source": [
        "mostrar_sumario(df_transfers).show()"
      ]
    },
    {
      "cell_type": "code",
      "execution_count": 107,
      "metadata": {
        "id": "uIQ-de4wP2R2"
      },
      "outputs": [
        {
          "name": "stdout",
          "output_type": "stream",
          "text": [
            "+---------+-------------+---------------+------------+----------+--------------+------------+------------+-------------------+-----------+\n",
            "|player_id|transfer_date|transfer_season|from_club_id|to_club_id|from_club_name|to_club_name|transfer_fee|market_value_in_eur|player_name|\n",
            "+---------+-------------+---------------+------------+----------+--------------+------------+------------+-------------------+-----------+\n",
            "|        0|            0|              0|           0|         0|             0|           0|       27715|              30316|          0|\n",
            "+---------+-------------+---------------+------------+----------+--------------+------------+------------+-------------------+-----------+\n",
            "\n"
          ]
        }
      ],
      "source": [
        "contar_nulos_por_columna(df_transfers).show()"
      ]
    },
    {
      "cell_type": "code",
      "execution_count": 108,
      "metadata": {
        "id": "SjSVo062P3UL"
      },
      "outputs": [
        {
          "name": "stdout",
          "output_type": "stream",
          "text": [
            "+---------+-----+\n",
            "|player_id|count|\n",
            "+---------+-----+\n",
            "|481688   |7    |\n",
            "|724035   |5    |\n",
            "|655838   |5    |\n",
            "|1007972  |2    |\n",
            "|926952   |5    |\n",
            "|359796   |11   |\n",
            "|647534   |8    |\n",
            "|396561   |6    |\n",
            "|904712   |7    |\n",
            "|100986   |7    |\n",
            "|566723   |6    |\n",
            "|222556   |17   |\n",
            "|156941   |17   |\n",
            "|259849   |11   |\n",
            "|262389   |14   |\n",
            "|320408   |13   |\n",
            "|455661   |7    |\n",
            "|474838   |5    |\n",
            "|575716   |7    |\n",
            "|607226   |6    |\n",
            "+---------+-----+\n",
            "only showing top 20 rows\n"
          ]
        }
      ],
      "source": [
        "duplicados_por_columna(df_transfers, \"player_id\")"
      ]
    },
    {
      "cell_type": "markdown",
      "metadata": {},
      "source": [
        "En esta tabla la clave primaria es formada por las columnas 'player_id' y 'transfer_date', por lo que no es problema que aparezca un jugador varias veces."
      ]
    },
    {
      "cell_type": "code",
      "execution_count": 109,
      "metadata": {
        "id": "r7c8M8Dqbis5"
      },
      "outputs": [
        {
          "name": "stdout",
          "output_type": "stream",
          "text": [
            "+---------+-------------+---------------+------------+----------+--------------+------------+------------+-------------------+-----------+\n",
            "|player_id|transfer_date|transfer_season|from_club_id|to_club_id|from_club_name|to_club_name|transfer_fee|market_value_in_eur|player_name|\n",
            "+---------+-------------+---------------+------------+----------+--------------+------------+------------+-------------------+-----------+\n",
            "|        0|            0|              0|           0|         0|             0|           0|           0|              30316|          0|\n",
            "+---------+-------------+---------------+------------+----------+--------------+------------+------------+-------------------+-----------+\n",
            "\n"
          ]
        }
      ],
      "source": [
        "# Sustituir los nulos de la columna transfer_fee por 0\n",
        "\n",
        "df_transfers = df_transfers.withColumn(\n",
        "    \"transfer_fee\",\n",
        "    when(col(\"transfer_fee\").isNull(), 0).otherwise(col(\"transfer_fee\"))\n",
        ")\n",
        "\n",
        "# Comprobar de nuevo los nulos despues de la sustitucion\n",
        "contar_nulos_por_columna(df_transfers).show()\n"
      ]
    },
    {
      "cell_type": "code",
      "execution_count": 110,
      "metadata": {
        "id": "VQpEblsXbvMb"
      },
      "outputs": [
        {
          "name": "stdout",
          "output_type": "stream",
          "text": [
            "+---------+-------------+---------------+------------+----------+--------------+------------+------------+-------------------+-----------+\n",
            "|player_id|transfer_date|transfer_season|from_club_id|to_club_id|from_club_name|to_club_name|transfer_fee|market_value_in_eur|player_name|\n",
            "+---------+-------------+---------------+------------+----------+--------------+------------+------------+-------------------+-----------+\n",
            "|        0|            0|              0|           0|         0|             0|           0|           0|               4394|          0|\n",
            "+---------+-------------+---------------+------------+----------+--------------+------------+------------+-------------------+-----------+\n",
            "\n",
            "+---------+-------------------+------------+\n",
            "|player_id|market_value_in_eur|transfer_fee|\n",
            "+---------+-------------------+------------+\n",
            "|    16136|           500000.0|         0.0|\n",
            "|  1138758|              4.5E7|     5.214E7|\n",
            "|   195778|              1.2E7|         0.0|\n",
            "|   569033|          4000000.0|         0.0|\n",
            "|   626913|              1.5E7|         0.0|\n",
            "|   743395|          1500000.0|         0.0|\n",
            "|   887834|          1000000.0|         0.0|\n",
            "|  1047109|           300000.0|         0.0|\n",
            "|   128223|              1.3E7|         0.0|\n",
            "|   955213|            50000.0|         0.0|\n",
            "|   360791|          1200000.0|         0.0|\n",
            "|   582513|           300000.0|         0.0|\n",
            "|   589527|           800000.0|         0.0|\n",
            "|   624920|           800000.0|         0.0|\n",
            "|   773961|           800000.0|         0.0|\n",
            "|   905184|           350000.0|         0.0|\n",
            "|   936825|          3000000.0|         0.0|\n",
            "|  1029207|           400000.0|         0.0|\n",
            "|  1105073|           100000.0|         0.0|\n",
            "|  1126427|            50000.0|         0.0|\n",
            "+---------+-------------------+------------+\n",
            "only showing top 20 rows\n"
          ]
        }
      ],
      "source": [
        "# Sustituir los nulos de market_value_in_eur por la mediana del equipo que procede\n",
        "\n",
        "# Calcular la mediana del valor de mercado por jugador (excluyendo nulos y ceros)\n",
        "mediana_market_value_por_jugador = df_transfers.filter(\n",
        "    col(\"market_value_in_eur\").isNotNull() & (col(\"market_value_in_eur\") > 0)\n",
        ").groupBy(\"player_id\").agg(\n",
        "    approx_percentile(\"market_value_in_eur\", 0.5).alias(\"mediana_mv_por_jugador\")\n",
        ")\n",
        "\n",
        "# Unir la mediana por club al DataFrame original\n",
        "df_transfers = df_transfers.join(mediana_market_value_por_jugador, on=\"player_id\", how=\"left_outer\")\n",
        "\n",
        "# Sustituir nulos en 'market_value_in_eur' por la mediana del jugador\n",
        "df_transfers = df_transfers.withColumn(\n",
        "    \"market_value_in_eur\",\n",
        "    when(col(\"market_value_in_eur\").isNull(), col(\"mediana_mv_por_jugador\")).otherwise(col(\"market_value_in_eur\"))\n",
        ")\n",
        "\n",
        "# Eliminar la columna temporal de la mediana por club\n",
        "df_transfers = df_transfers.drop(\"mediana_mv_por_jugador\")\n",
        "\n",
        "# Comprobar de nuevo los nulos despues de la sustitucion\n",
        "contar_nulos_por_columna(df_transfers).show()\n",
        "df_transfers.select(\"player_id\", \"market_value_in_eur\", \"transfer_fee\").show(20)"
      ]
    },
    {
      "cell_type": "code",
      "execution_count": 111,
      "metadata": {},
      "outputs": [
        {
          "name": "stdout",
          "output_type": "stream",
          "text": [
            "+---------+-------------+---------------+------------+----------+--------------+------------+------------+-------------------+-----------+\n",
            "|player_id|transfer_date|transfer_season|from_club_id|to_club_id|from_club_name|to_club_name|transfer_fee|market_value_in_eur|player_name|\n",
            "+---------+-------------+---------------+------------+----------+--------------+------------+------------+-------------------+-----------+\n",
            "|        0|            0|              0|           0|         0|             0|           0|           0|                  0|          0|\n",
            "+---------+-------------+---------------+------------+----------+--------------+------------+------------+-------------------+-----------+\n",
            "\n",
            "+---------+-------------------+------------+\n",
            "|player_id|market_value_in_eur|transfer_fee|\n",
            "+---------+-------------------+------------+\n",
            "|    16136|           500000.0|         0.0|\n",
            "|  1138758|              4.5E7|     5.214E7|\n",
            "|   195778|              1.2E7|         0.0|\n",
            "|   569033|          4000000.0|         0.0|\n",
            "|   626913|              1.5E7|         0.0|\n",
            "|   743395|          1500000.0|         0.0|\n",
            "|   887834|          1000000.0|         0.0|\n",
            "|  1047109|           300000.0|         0.0|\n",
            "|   128223|              1.3E7|         0.0|\n",
            "|   955213|            50000.0|         0.0|\n",
            "|   360791|          1200000.0|         0.0|\n",
            "|   582513|           300000.0|         0.0|\n",
            "|   589527|           800000.0|         0.0|\n",
            "|   624920|           800000.0|         0.0|\n",
            "|   773961|           800000.0|         0.0|\n",
            "|   905184|           350000.0|         0.0|\n",
            "|   936825|          3000000.0|         0.0|\n",
            "|  1029207|           400000.0|         0.0|\n",
            "|  1105073|           100000.0|         0.0|\n",
            "|  1126427|            50000.0|         0.0|\n",
            "+---------+-------------------+------------+\n",
            "only showing top 20 rows\n"
          ]
        }
      ],
      "source": [
        "# Aun quedan nulos en 'market_value_in_eur', estos son de jugadores que no estaban en 'df_players' o no tenían market_value > 0\n",
        "# Podemos rellenarlos con la mediana general\n",
        "mediana_market_value = df_transfers.filter(\n",
        "    col(\"market_value_in_eur\").isNotNull()\n",
        ").agg(approx_percentile(\"market_value_in_eur\", 0.5)).collect()[0][0]\n",
        "\n",
        "df_transfers = df_transfers.withColumn(\n",
        "    \"market_value_in_eur\",\n",
        "    when(col(\"market_value_in_eur\").isNull(), mediana_market_value).otherwise(col(\"market_value_in_eur\"))\n",
        ")\n",
        "# Comprobar de nuevo los nulos despues de la sustitucion\n",
        "contar_nulos_por_columna(df_transfers).show()\n",
        "df_transfers.select(\"player_id\", \"market_value_in_eur\", \"transfer_fee\").show(20)"
      ]
    },
    {
      "cell_type": "markdown",
      "metadata": {
        "id": "GDYAe_Lu4pna"
      },
      "source": [
        "# Guardar las tablas limpias"
      ]
    },
    {
      "cell_type": "code",
      "execution_count": 112,
      "metadata": {},
      "outputs": [
        {
          "name": "stderr",
          "output_type": "stream",
          "text": [
            "                                                                                \r"
          ]
        }
      ],
      "source": [
        "import shutil\n",
        "from pathlib import Path\n",
        "\n",
        "# Ruta donde guardar el archivo CSV\n",
        "output_path = \"../Data\"\n",
        "\n",
        "# Diccionario con los DataFrames y los nombres deseados\n",
        "dataframes = {\n",
        "    \"clubs\": df_clubs,\n",
        "    \"competitions\": df_competitions,\n",
        "    \"game_events\": df_game_events,\n",
        "    \"game_lineups\": df_game_lineups_cleaned,\n",
        "    \"appearances\": df_appearances,\n",
        "    \"player_valuations\": df_player_valuations,\n",
        "    \"games\": df_games,\n",
        "    \"players\": df_players_mapped,\n",
        "    \"transfers\": df_transfers,\n",
        "}\n",
        "\n",
        "# Carpeta de salida general\n",
        "output = Path(output_path)\n",
        "\n",
        "for name, df in dataframes.items():\n",
        "    # Ruta temporal y final\n",
        "    temp_dir = output / f\"{name}_temp\"\n",
        "    final_file = output / f\"{name}.csv\"\n",
        "\n",
        "    # 1. Guardar en carpeta temporal\n",
        "    df.repartition(1).write.csv(str(temp_dir), header=True, mode=\"overwrite\")\n",
        "\n",
        "    # 2. Buscar archivo part-*.csv\n",
        "    part_file = next(temp_dir.glob(\"part-*.csv\"))\n",
        "\n",
        "    # 3. Mover y renombrar\n",
        "    shutil.move(str(part_file), str(final_file))\n",
        "\n",
        "    # 4. Eliminar carpeta temporal\n",
        "    shutil.rmtree(temp_dir)"
      ]
    },
    {
      "cell_type": "code",
      "execution_count": 113,
      "metadata": {
        "id": "a8TjweTTYv2W"
      },
      "outputs": [],
      "source": [
        "# Importante cerrar la sesion de spark\n",
        "spark.stop()"
      ]
    }
  ],
  "metadata": {
    "colab": {
      "provenance": [],
      "toc_visible": true
    },
    "kernelspec": {
      "display_name": ".venv",
      "language": "python",
      "name": "python3"
    },
    "language_info": {
      "codemirror_mode": {
        "name": "ipython",
        "version": 3
      },
      "file_extension": ".py",
      "mimetype": "text/x-python",
      "name": "python",
      "nbconvert_exporter": "python",
      "pygments_lexer": "ipython3",
      "version": "3.12.3"
    }
  },
  "nbformat": 4,
  "nbformat_minor": 0
}
